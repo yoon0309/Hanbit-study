{
  "nbformat": 4,
  "nbformat_minor": 0,
  "metadata": {
    "colab": {
      "name": "혼공학습단 2주차.ipynb",
      "provenance": []
    },
    "kernelspec": {
      "name": "python3",
      "display_name": "Python 3"
    },
    "language_info": {
      "name": "python"
    }
  },
  "cells": [
    {
      "cell_type": "code",
      "execution_count": null,
      "metadata": {
        "id": "79l1l9ZUIWYY"
      },
      "outputs": [],
      "source": [
        "#필요한 라이브러리를 모두 불러보자\n",
        "import numpy as np\n",
        "import matplotlib.pyplot as plt\n",
        "from sklearn.model_selection import train_test_split\n",
        "from sklearn.neighbors import KNeighborsRegressor\n",
        "from sklearn.metrics import mean_absolute_error"
      ]
    },
    {
      "cell_type": "code",
      "source": [
        "perch_length = np.array([8.4, 13.7, 15.0, 16.2, 17.4, 18.0, 18.7, 19.0, 19.6, 20.0, 21.0,\n",
        "       21.0, 21.0, 21.3, 22.0, 22.0, 22.0, 22.0, 22.0, 22.5, 22.5, 22.7,\n",
        "       23.0, 23.5, 24.0, 24.0, 24.6, 25.0, 25.6, 26.5, 27.3, 27.5, 27.5,\n",
        "       27.5, 28.0, 28.7, 30.0, 32.8, 34.5, 35.0, 36.5, 36.0, 37.0, 37.0,\n",
        "       39.0, 39.0, 39.0, 40.0, 40.0, 40.0, 40.0, 42.0, 43.0, 43.0, 43.5,\n",
        "       44.0])\n",
        "perch_weight = np.array([5.9, 32.0, 40.0, 51.5, 70.0, 100.0, 78.0, 80.0, 85.0, 85.0, 110.0,\n",
        "       115.0, 125.0, 130.0, 120.0, 120.0, 130.0, 135.0, 110.0, 130.0,\n",
        "       150.0, 145.0, 150.0, 170.0, 225.0, 145.0, 188.0, 180.0, 197.0,\n",
        "       218.0, 300.0, 260.0, 265.0, 250.0, 250.0, 300.0, 320.0, 514.0,\n",
        "       556.0, 840.0, 685.0, 700.0, 700.0, 690.0, 900.0, 650.0, 820.0,\n",
        "       850.0, 900.0, 1015.0, 820.0, 1100.0, 1000.0, 1100.0, 1000.0,\n",
        "       1000.0])"
      ],
      "metadata": {
        "id": "XHy4n-hZIdzH"
      },
      "execution_count": null,
      "outputs": []
    },
    {
      "cell_type": "code",
      "source": [
        "#데이터의 특성을 알아보기 위해서 scatter plot으로 확인해보기\n",
        "\n",
        "plt.scatter(perch_length, perch_weight)\n",
        "plt.xlabel('length')\n",
        "plt.ylabel('weight')\n",
        "plt.show()"
      ],
      "metadata": {
        "id": "wXsBG60XJIFv",
        "colab": {
          "base_uri": "https://localhost:8080/",
          "height": 279
        },
        "outputId": "cc8686eb-e1f0-4128-cf5c-f7123d7c8422"
      },
      "execution_count": null,
      "outputs": [
        {
          "output_type": "display_data",
          "data": {
            "text/plain": [
              "<Figure size 432x288 with 1 Axes>"
            ],
            "image/png": "[encoded data removed]"
          },
          "metadata": {
            "needs_background": "light"
          }
        }
      ]
    },
    {
      "cell_type": "markdown",
      "source": [
        "=> 농어의 길이가 커짐에 따라 무게가 늘어남을 확인할 수 있었습니다. "
      ],
      "metadata": {
        "id": "sWjkP2O6Kjef"
      }
    },
    {
      "cell_type": "code",
      "source": [
        "#훈련세트와 테스트 세트로 나눠보자 \n",
        "train_input, test_input, train_target, test_target =  train_test_split(\n",
        "    perch_length, perch_weight, random_state=42\n",
        ")"
      ],
      "metadata": {
        "id": "QdZAuVPPKGZ5"
      },
      "execution_count": null,
      "outputs": []
    },
    {
      "cell_type": "code",
      "source": [
        "#특성 1개 사용하므로 수동으로 2차원 배열을 만들어 주어야 함 \n",
        "test_array= np.array([1,2,3,4])\n",
        "print(test_array.shape)"
      ],
      "metadata": {
        "id": "ZxM-myNtLFjd",
        "colab": {
          "base_uri": "https://localhost:8080/"
        },
        "outputId": "b0c23443-8772-4133-a7e6-66ca6f4469ef"
      },
      "execution_count": null,
      "outputs": [
        {
          "output_type": "stream",
          "name": "stdout",
          "text": [
            "(4,)\n"
          ]
        }
      ]
    },
    {
      "cell_type": "code",
      "source": [
        "#test_array는 (4,)배열임을 확인, (2,2)크기로 바꿔보기 \n",
        "test_array= test_array.reshape(2,2)\n",
        "print(test_array.shape)"
      ],
      "metadata": {
        "id": "TR5fs4TDLfaq",
        "colab": {
          "base_uri": "https://localhost:8080/"
        },
        "outputId": "484faa43-1198-40d3-c56f-3c0d667b53d9"
      },
      "execution_count": null,
      "outputs": [
        {
          "output_type": "stream",
          "name": "stdout",
          "text": [
            "(2, 2)\n"
          ]
        }
      ]
    },
    {
      "cell_type": "code",
      "source": [
        "#reshape() 배열을 통해 train_input, test_input을 2차원 배열로 바꿔보기 \n",
        "train_input= train_input.reshape(-1,1)\n",
        "test_input=test_input.reshape(-1,1)\n",
        "print(train_input.shape, test_input.shape)"
      ],
      "metadata": {
        "id": "gjvmtGA2LuOA",
        "colab": {
          "base_uri": "https://localhost:8080/"
        },
        "outputId": "d12b1642-7163-467d-eeee-6e3e9a62ce3f"
      },
      "execution_count": null,
      "outputs": [
        {
          "output_type": "stream",
          "name": "stdout",
          "text": [
            "(42, 1) (14, 1)\n"
          ]
        }
      ]
    },
    {
      "cell_type": "code",
      "source": [
        "knr= KNeighborsRegressor()\n",
        "#K-최근접 이웃 회귀 모델을 훈련 \n",
        "knr.fit(train_input, train_target)"
      ],
      "metadata": {
        "id": "e4ATW42LMOQz",
        "colab": {
          "base_uri": "https://localhost:8080/"
        },
        "outputId": "d9dd30c8-784c-4ed6-8cc2-b8f9df4918fd"
      },
      "execution_count": null,
      "outputs": [
        {
          "output_type": "execute_result",
          "data": {
            "text/plain": [
              "KNeighborsRegressor()"
            ]
          },
          "metadata": {},
          "execution_count": 8
        }
      ]
    },
    {
      "cell_type": "code",
      "source": [
        "#테스트 세트의 점수를 확인 \n",
        "print(knr.score(test_input, test_target))"
      ],
      "metadata": {
        "id": "Ohg6LQpqMp4B",
        "colab": {
          "base_uri": "https://localhost:8080/"
        },
        "outputId": "514df2d8-07b8-4c2e-ed20-fe6f59af8bc3"
      },
      "execution_count": null,
      "outputs": [
        {
          "output_type": "stream",
          "name": "stdout",
          "text": [
            "0.992809406101064\n"
          ]
        }
      ]
    },
    {
      "cell_type": "code",
      "source": [
        "#테스트 세트에 대한 예측 \n",
        "test_prediction = knr.predict(test_input)\n",
        "\n",
        "#테스트 세트에 대한 평균 절댓값 오차를 계산 \n",
        "mae = mean_absolute_error(test_target, test_prediction)\n",
        "print(mae)"
      ],
      "metadata": {
        "id": "aMjJYIDLMxNM",
        "colab": {
          "base_uri": "https://localhost:8080/"
        },
        "outputId": "7618cb58-52b7-41c4-ce68-1a848c430df2"
      },
      "execution_count": null,
      "outputs": [
        {
          "output_type": "stream",
          "name": "stdout",
          "text": [
            "19.157142857142862\n"
          ]
        }
      ]
    },
    {
      "cell_type": "code",
      "source": [
        "#앞에서 훈련한 모델을 사용해서 훈련세트의 결정계수를 구해보기 \n",
        "print(knr.score(train_input, train_target))"
      ],
      "metadata": {
        "id": "ci7MXmuWN0c3",
        "colab": {
          "base_uri": "https://localhost:8080/"
        },
        "outputId": "63a42f9b-b463-4971-cf70-fcd8f4f70cd3"
      },
      "execution_count": null,
      "outputs": [
        {
          "output_type": "stream",
          "name": "stdout",
          "text": [
            "0.9698823289099254\n"
          ]
        }
      ]
    },
    {
      "cell_type": "markdown",
      "source": [
        "앞서 진행한 test_input, test_target의 결정계수 값이 0.99, 훈련한 모델 train_input, train_target이 0.96으로 과소적합되었음을 알 수 있다. 이 문제를 해결하기 위해서는 모델을 조금 복잡하게 만든다 \n",
        "\n",
        "지금 현재 쓰고 있는 것은 k-최근접 이웃 알고리즘이기 때문에 이웃의 갯수를 줄이는 것이다 "
      ],
      "metadata": {
        "id": "aFAqJuQZOhZe"
      }
    },
    {
      "cell_type": "code",
      "source": [
        "#보통 이웃의 개수가 5이므로 3으로 줄여보자 \n",
        "knr.n_neighbors= 3\n",
        "#모델을 다시 훈련하기 \n",
        "knr.fit(train_input, train_target)\n",
        "print(knr.score(train_input, train_target))"
      ],
      "metadata": {
        "id": "ASXMTJNsODhG",
        "colab": {
          "base_uri": "https://localhost:8080/"
        },
        "outputId": "7579a144-ea13-4b5f-b9fa-07e266b07018"
      },
      "execution_count": null,
      "outputs": [
        {
          "output_type": "stream",
          "name": "stdout",
          "text": [
            "0.9804899950518966\n"
          ]
        }
      ]
    },
    {
      "cell_type": "code",
      "source": [
        "#테스트 점수를 확인해보자 \n",
        "print(knr.score(test_input, test_target))"
      ],
      "metadata": {
        "id": "ArEdoZhZP5Ha",
        "colab": {
          "base_uri": "https://localhost:8080/"
        },
        "outputId": "c6ce1633-c464-4698-cbf3-a7dbb59379c4"
      },
      "execution_count": null,
      "outputs": [
        {
          "output_type": "stream",
          "name": "stdout",
          "text": [
            "0.9746459963987609\n"
          ]
        }
      ]
    },
    {
      "cell_type": "markdown",
      "source": [
        "테스트 점수는 훈련 세트보다 낮아졌으므로 과소적합 문제를 해결함. 따라서 성공적으로 회귀 모델을 훈련했음 "
      ],
      "metadata": {
        "id": "5Z0Y4vCnQCy1"
      }
    },
    {
      "cell_type": "markdown",
      "source": [
        "--------------------------\n",
        "\n",
        "03-2 선형 회귀"
      ],
      "metadata": {
        "id": "UTxnpESsNQqw"
      }
    },
    {
      "cell_type": "code",
      "source": [
        "#필요한 라이브러리를 불러온다\n",
        "import numpy as np"
      ],
      "metadata": {
        "id": "5b4kkw7iNpld"
      },
      "execution_count": null,
      "outputs": []
    },
    {
      "cell_type": "code",
      "source": [
        "perch_length = np.array([8.4, 13.7, 15.0, 16.2, 17.4, 18.0, 18.7, 19.0, 19.6, 20.0, 21.0,\n",
        "       21.0, 21.0, 21.3, 22.0, 22.0, 22.0, 22.0, 22.0, 22.5, 22.5, 22.7,\n",
        "       23.0, 23.5, 24.0, 24.0, 24.6, 25.0, 25.6, 26.5, 27.3, 27.5, 27.5,\n",
        "       27.5, 28.0, 28.7, 30.0, 32.8, 34.5, 35.0, 36.5, 36.0, 37.0, 37.0,\n",
        "       39.0, 39.0, 39.0, 40.0, 40.0, 40.0, 40.0, 42.0, 43.0, 43.0, 43.5,\n",
        "       44.0])\n",
        "perch_weight = np.array([5.9, 32.0, 40.0, 51.5, 70.0, 100.0, 78.0, 80.0, 85.0, 85.0, 110.0,\n",
        "       115.0, 125.0, 130.0, 120.0, 120.0, 130.0, 135.0, 110.0, 130.0,\n",
        "       150.0, 145.0, 150.0, 170.0, 225.0, 145.0, 188.0, 180.0, 197.0,\n",
        "       218.0, 300.0, 260.0, 265.0, 250.0, 250.0, 300.0, 320.0, 514.0,\n",
        "       556.0, 840.0, 685.0, 700.0, 700.0, 690.0, 900.0, 650.0, 820.0,\n",
        "       850.0, 900.0, 1015.0, 820.0, 1100.0, 1000.0, 1100.0, 1000.0,\n",
        "       1000.0])"
      ],
      "metadata": {
        "id": "rMRgtkx_NPQs"
      },
      "execution_count": null,
      "outputs": []
    },
    {
      "cell_type": "code",
      "source": [
        "from sklearn.model_selection import train_test_split \n",
        "\n",
        "#훈련 세트와 테스트 세트로 나눔 \n",
        "train_input, test_input, train_target, test_target = train_test_split(\n",
        "    perch_length, perch_weight, random_state=42\n",
        ")"
      ],
      "metadata": {
        "id": "egQFhvsQODcz"
      },
      "execution_count": null,
      "outputs": []
    },
    {
      "cell_type": "code",
      "source": [
        "#훈련 세트와 테스트 세트를 2차원 배열로 바꾼다 \n",
        "train_input = train_input.reshape(-1, 1)\n",
        "test_input = test_input.reshape(-1,1)"
      ],
      "metadata": {
        "id": "vMfS7WpQOhUk"
      },
      "execution_count": null,
      "outputs": []
    },
    {
      "cell_type": "code",
      "source": [
        "from sklearn.neighbors import KNeighborsRegressor\n",
        "\n",
        "knr = KNeighborsRegressor(n_neighbors=3)\n",
        "\n",
        "#K-최근접 이웃 회귀 모델을 훈련함 \n",
        "knr.fit(train_input, train_target)"
      ],
      "metadata": {
        "id": "sfM0E03uPVWx",
        "colab": {
          "base_uri": "https://localhost:8080/"
        },
        "outputId": "9886b8c9-cc0c-4988-bc87-bf54f18e3bb2"
      },
      "execution_count": null,
      "outputs": [
        {
          "output_type": "execute_result",
          "data": {
            "text/plain": [
              "KNeighborsRegressor(n_neighbors=3)"
            ]
          },
          "metadata": {},
          "execution_count": 18
        }
      ]
    },
    {
      "cell_type": "code",
      "source": [
        "#길이가 50cm인 농어의 무게를 예측 \n",
        "print(knr.predict([[50]]))"
      ],
      "metadata": {
        "id": "37fWAv-tRNzX",
        "colab": {
          "base_uri": "https://localhost:8080/"
        },
        "outputId": "b3a81282-3dbc-4b80-ba86-0143345c9650"
      },
      "execution_count": null,
      "outputs": [
        {
          "output_type": "stream",
          "name": "stdout",
          "text": [
            "[1033.33333333]\n"
          ]
        }
      ]
    },
    {
      "cell_type": "markdown",
      "source": [
        "=> 농어의 무게가 실제보다 더 훨씬 많이 나감"
      ],
      "metadata": {
        "id": "5vKWHyefgbYe"
      }
    },
    {
      "cell_type": "code",
      "source": [
        "import matplotlib.pyplot as plt \n",
        "\n",
        "#50cm  농어의 이웃을 구함\n",
        "distances, indexes = knr.kneighbors([[50]])\n",
        "\n",
        "#훈련 세트의 산점도를 그림 \n",
        "plt.scatter(train_input, train_target) "
      ],
      "metadata": {
        "id": "QI_MlVtWggI3",
        "colab": {
          "base_uri": "https://localhost:8080/",
          "height": 283
        },
        "outputId": "0f9ba656-cdbd-4ce2-a1e3-d8640ae79137"
      },
      "execution_count": null,
      "outputs": [
        {
          "output_type": "execute_result",
          "data": {
            "text/plain": [
              "<matplotlib.collections.PathCollection at 0x7fd7cb701a90>"
            ]
          },
          "metadata": {},
          "execution_count": 20
        },
        {
          "output_type": "display_data",
          "data": {
            "text/plain": [
              "<Figure size 432x288 with 1 Axes>"
            ],
            "image/png": "[encoded data removed]"
          },
          "metadata": {
            "needs_background": "light"
          }
        }
      ]
    },
    {
      "cell_type": "code",
      "source": [
        "print(knr.predict([[100]]))"
      ],
      "metadata": {
        "id": "ZHeRZ7QAg11C",
        "colab": {
          "base_uri": "https://localhost:8080/"
        },
        "outputId": "10eed391-3236-4339-f5db-dd3b54643af0"
      },
      "execution_count": null,
      "outputs": [
        {
          "output_type": "stream",
          "name": "stdout",
          "text": [
            "[1033.33333333]\n"
          ]
        }
      ]
    },
    {
      "cell_type": "code",
      "source": [
        "# 한번 더 그래프를 그려볼까 \n",
        "\n",
        "#100cm 농어의 이웃을 구함 \n",
        "distances, indexes = knr.kneighbors([[100]])\n",
        "\n",
        "#훈련 세트의 산점도를 그림 \n",
        "plt.scatter(train_input, train_target)\n",
        "\n",
        "#훈련 세트 중에서 이웃 샘플만 다시 그림 \n",
        "plt.scatter(train_input[indexes], train_target[indexes], marker='D')\n",
        "\n",
        "#100cm 농어 데이터 \n",
        "plt.scatter(100, 1033, marker='^')\n",
        "plt.xlabel('length')\n",
        "plt.ylabel('weight')\n",
        "plt.show()"
      ],
      "metadata": {
        "id": "_QCAMRPWg_d5",
        "colab": {
          "base_uri": "https://localhost:8080/",
          "height": 279
        },
        "outputId": "df89f66f-0fd8-4d4b-db83-de3876e9b18b"
      },
      "execution_count": null,
      "outputs": [
        {
          "output_type": "display_data",
          "data": {
            "text/plain": [
              "<Figure size 432x288 with 1 Axes>"
            ],
            "image/png": "[encoded data removed]"
          },
          "metadata": {
            "needs_background": "light"
          }
        }
      ]
    },
    {
      "cell_type": "code",
      "source": [
        "from sklearn.linear_model import LinearRegression\n",
        "lr=  LinearRegression()\n",
        "\n",
        "#선형 회귀 모델을 훈련 \n",
        "lr. fit(train_input, train_target)\n",
        "\n",
        "#50cm 농어에 대해 예측\n",
        "print(lr.predict([[50]]))"
      ],
      "metadata": {
        "id": "r86mvxoGhfoM",
        "colab": {
          "base_uri": "https://localhost:8080/"
        },
        "outputId": "cf075837-52d9-4b08-d36a-bcb9a17a5ba4"
      },
      "execution_count": null,
      "outputs": [
        {
          "output_type": "stream",
          "name": "stdout",
          "text": [
            "[1241.83860323]\n"
          ]
        }
      ]
    },
    {
      "cell_type": "markdown",
      "source": [
        "k-최근접 이웃 회귀를 사용했을 때와 달리 선형회귀는 50cm 농어의 무게를 높게 예측하였음 \n",
        "\n",
        "하나의 직선을 그리려면 기울기와 절편이 있어야함 \n",
        "y= ax+b \n",
        "\n",
        "x를 농어의 길이, y를 농어의 무게"
      ],
      "metadata": {
        "id": "o3xIQ8IVlR_d"
      }
    },
    {
      "cell_type": "code",
      "source": [
        "#LinearRegression 클래스가 이 데이터에 잘 맞는 a,b를 찾았을까?\n",
        "print(lr.coef_, lr.intercept_)"
      ],
      "metadata": {
        "id": "_iNhWVBjkleu",
        "colab": {
          "base_uri": "https://localhost:8080/"
        },
        "outputId": "b5389f18-e890-49e9-83b9-048a5637fe9e"
      },
      "execution_count": null,
      "outputs": [
        {
          "output_type": "stream",
          "name": "stdout",
          "text": [
            "[39.01714496] -709.0186449535477\n"
          ]
        }
      ]
    },
    {
      "cell_type": "markdown",
      "source": [
        "농어의 길이 15에서 50까지 직선으로 그린다. \n",
        "직선을 그리려면 (15, 15x39-709)와 (50, 50x39-709) 두 점을 이으면 됨 "
      ],
      "metadata": {
        "id": "THT0gmZwmuS_"
      }
    },
    {
      "cell_type": "code",
      "source": [
        "#훈련 세트의 산점도를 그린다 \n",
        "plt.scatter(train_input, train_target)\n",
        "\n",
        "#15에서 50까지 1차 방정식 그래프를 그린다 \n",
        "plt.plot([15,50], [15*lr.coef_+lr.intercept_,50*lr.coef_+lr.intercept_])\n",
        "\n",
        "#50cm 농어 데이터\n",
        "plt.scatter(50, 1241.8, marker='^')\n",
        "plt.xlabel('length')\n",
        "plt.ylabel('weight')\n",
        "plt.show()"
      ],
      "metadata": {
        "id": "-g5i0uTjmrR_",
        "colab": {
          "base_uri": "https://localhost:8080/",
          "height": 279
        },
        "outputId": "bb7b77a1-caae-437e-c78c-cbcc61157143"
      },
      "execution_count": null,
      "outputs": [
        {
          "output_type": "display_data",
          "data": {
            "text/plain": [
              "<Figure size 432x288 with 1 Axes>"
            ],
            "image/png": "[encoded data removed]"
          },
          "metadata": {
            "needs_background": "light"
          }
        }
      ]
    },
    {
      "cell_type": "markdown",
      "source": [
        "직선이 선형 회귀 알고리즘이 이 데이터 셋에서 찾은 최적의 직선이다."
      ],
      "metadata": {
        "id": "Ng5f5N_KohRP"
      }
    },
    {
      "cell_type": "code",
      "source": [
        "#훈련 세트 \n",
        "print(lr.score(train_input, train_target))\n",
        "#테스트 세트\n",
        "print(lr.score(test_input, test_target))"
      ],
      "metadata": {
        "id": "Rvd8Zd_3oU4D",
        "colab": {
          "base_uri": "https://localhost:8080/"
        },
        "outputId": "4209ab1c-0f65-4369-dca5-9d1ba4aec3cd"
      },
      "execution_count": null,
      "outputs": [
        {
          "output_type": "stream",
          "name": "stdout",
          "text": [
            "0.939846333997604\n",
            "0.8247503123313558\n"
          ]
        }
      ]
    },
    {
      "cell_type": "markdown",
      "source": [
        "훈련세트와 테스트 세트의 점수가 조금 차이가 난다. 이 모델은 훈련 세트의 점수가 그렇게 높지 않기 때문에 전체적으로 과소적합되어있음\n",
        "그리고 그래프가 0이하로 떨어지는 것이 그래프가 잘 못된 것임을 발견하였음\n",
        "\n",
        "따라서 1차가 아닌 2차그래프를 그렸어야 했음\n",
        "2차 방정식 그래프를 그리려면 길이를 제곱한 항이 훈련 세트에 추가되어야함 "
      ],
      "metadata": {
        "id": "e454VaP-oxvC"
      }
    },
    {
      "cell_type": "code",
      "source": [
        "train_poly = np.column_stack((train_input **2, train_input))\n",
        "test_poly = np.column_stack((test_input **2, test_input))"
      ],
      "metadata": {
        "id": "RNjl9as6ov35"
      },
      "execution_count": null,
      "outputs": []
    },
    {
      "cell_type": "code",
      "source": [
        "print(train_poly.shape, test_poly.shape) \n",
        "\n",
        "#열이 1개였다가 2개로 추가되었음을 확인할 수 있었음 "
      ],
      "metadata": {
        "id": "CxWwyry_powP",
        "colab": {
          "base_uri": "https://localhost:8080/"
        },
        "outputId": "a52328a6-7293-4948-ac36-e74296ecb036"
      },
      "execution_count": null,
      "outputs": [
        {
          "output_type": "stream",
          "name": "stdout",
          "text": [
            "(42, 2) (14, 2)\n"
          ]
        }
      ]
    },
    {
      "cell_type": "code",
      "source": [
        "#50cm짜리 농어에 대해 무게를 예측, 훈련세트에서 했던 것처럼 모델에 농어의 길이의 제곱과 원래 길이를 함께 넣어주어야함 \n",
        "lr = LinearRegression()\n",
        "lr.fit(train_poly, train_target)\n",
        "\n",
        "print(lr.predict([[50**2, 50]]))"
      ],
      "metadata": {
        "id": "GQYmNOUrpuF9",
        "colab": {
          "base_uri": "https://localhost:8080/"
        },
        "outputId": "fdebbdd7-9c9e-4804-dc66-9241741d5e30"
      },
      "execution_count": null,
      "outputs": [
        {
          "output_type": "stream",
          "name": "stdout",
          "text": [
            "[1573.98423528]\n"
          ]
        }
      ]
    },
    {
      "cell_type": "code",
      "source": [
        "#계수와 절편을 출력하기 \n",
        "\n",
        "print(lr.coef_, lr.intercept_)"
      ],
      "metadata": {
        "id": "NsywayHTqU-O",
        "colab": {
          "base_uri": "https://localhost:8080/"
        },
        "outputId": "298af494-f207-4446-a4d5-c79f1ba3fd36"
      },
      "execution_count": null,
      "outputs": [
        {
          "output_type": "stream",
          "name": "stdout",
          "text": [
            "[  1.01433211 -21.55792498] 116.0502107827827\n"
          ]
        }
      ]
    },
    {
      "cell_type": "markdown",
      "source": [
        "모델은 무게 = 1.01 x 길이^2 - 21.6 x 길이 +116.05 를 학습하였다 "
      ],
      "metadata": {
        "id": "Q3CqjP0hqcKk"
      }
    },
    {
      "cell_type": "code",
      "source": [
        "#구간별 직선을 그리기 위해 15에서 49까지 정수 배열을 만든다 \n",
        "point= np.arange(15, 50)\n",
        "\n",
        "#훈련 세트의 산점도를 그린다 \n",
        "plt.scatter(train_input, train_target)\n",
        "\n",
        "#15에서 49까지 2차 방정식 그래프를 그린다 \n",
        "plt.plot(point, 1.01*point**2 - 21.6*point + 116.05)"
      ],
      "metadata": {
        "id": "Va1TfSwAqjRo",
        "colab": {
          "base_uri": "https://localhost:8080/",
          "height": 283
        },
        "outputId": "7b0c5473-3944-4dab-d9b0-de976e6ccc49"
      },
      "execution_count": null,
      "outputs": [
        {
          "output_type": "execute_result",
          "data": {
            "text/plain": [
              "[<matplotlib.lines.Line2D at 0x7fd7cb024e50>]"
            ]
          },
          "metadata": {},
          "execution_count": 31
        },
        {
          "output_type": "display_data",
          "data": {
            "text/plain": [
              "<Figure size 432x288 with 1 Axes>"
            ],
            "image/png": "[encoded data removed]"
          },
          "metadata": {
            "needs_background": "light"
          }
        }
      ]
    },
    {
      "cell_type": "code",
      "source": [
        "#훈련 세트와 테스트 세트의 r2(결정계수)점수를 확인 \n",
        "\n",
        "print(lr.score(train_poly, train_target))\n",
        "print(lr.score(test_poly, test_target))"
      ],
      "metadata": {
        "id": "iYsCOxXqrXH5",
        "colab": {
          "base_uri": "https://localhost:8080/"
        },
        "outputId": "c54bed7f-02e1-499a-e943-42a60e544f80"
      },
      "execution_count": null,
      "outputs": [
        {
          "output_type": "stream",
          "name": "stdout",
          "text": [
            "0.9706807451768623\n",
            "0.9775935108325122\n"
          ]
        }
      ]
    },
    {
      "cell_type": "markdown",
      "source": [
        "=> 훈련세트와 테스트 세트에 대한 점수가 크게 높아졌음 but 여전히 테스트 세트의 점수가 조금 더 높은 것을 보아 과소적합이 아직 남아있음"
      ],
      "metadata": {
        "id": "kXLl4rxArniD"
      }
    },
    {
      "cell_type": "markdown",
      "source": [
        "03-3 특성공학과 규제"
      ],
      "metadata": {
        "id": "_fg4kum2v8y8"
      }
    },
    {
      "cell_type": "code",
      "source": [
        "import pandas as pd \n",
        "\n",
        "df = pd.read_csv('https://bit.ly/perch_csv_data')\n",
        "perch_full = df.to_numpy()\n",
        "print(perch_full)"
      ],
      "metadata": {
        "id": "COhbj97prlq0",
        "colab": {
          "base_uri": "https://localhost:8080/"
        },
        "outputId": "94276f2f-f1db-4a00-c700-46062ac949f8"
      },
      "execution_count": null,
      "outputs": [
        {
          "output_type": "stream",
          "name": "stdout",
          "text": [
            "[[ 8.4   2.11  1.41]\n",
            " [13.7   3.53  2.  ]\n",
            " [15.    3.82  2.43]\n",
            " [16.2   4.59  2.63]\n",
            " [17.4   4.59  2.94]\n",
            " [18.    5.22  3.32]\n",
            " [18.7   5.2   3.12]\n",
            " [19.    5.64  3.05]\n",
            " [19.6   5.14  3.04]\n",
            " [20.    5.08  2.77]\n",
            " [21.    5.69  3.56]\n",
            " [21.    5.92  3.31]\n",
            " [21.    5.69  3.67]\n",
            " [21.3   6.38  3.53]\n",
            " [22.    6.11  3.41]\n",
            " [22.    5.64  3.52]\n",
            " [22.    6.11  3.52]\n",
            " [22.    5.88  3.52]\n",
            " [22.    5.52  4.  ]\n",
            " [22.5   5.86  3.62]\n",
            " [22.5   6.79  3.62]\n",
            " [22.7   5.95  3.63]\n",
            " [23.    5.22  3.63]\n",
            " [23.5   6.28  3.72]\n",
            " [24.    7.29  3.72]\n",
            " [24.    6.38  3.82]\n",
            " [24.6   6.73  4.17]\n",
            " [25.    6.44  3.68]\n",
            " [25.6   6.56  4.24]\n",
            " [26.5   7.17  4.14]\n",
            " [27.3   8.32  5.14]\n",
            " [27.5   7.17  4.34]\n",
            " [27.5   7.05  4.34]\n",
            " [27.5   7.28  4.57]\n",
            " [28.    7.82  4.2 ]\n",
            " [28.7   7.59  4.64]\n",
            " [30.    7.62  4.77]\n",
            " [32.8  10.03  6.02]\n",
            " [34.5  10.26  6.39]\n",
            " [35.   11.49  7.8 ]\n",
            " [36.5  10.88  6.86]\n",
            " [36.   10.61  6.74]\n",
            " [37.   10.84  6.26]\n",
            " [37.   10.57  6.37]\n",
            " [39.   11.14  7.49]\n",
            " [39.   11.14  6.  ]\n",
            " [39.   12.43  7.35]\n",
            " [40.   11.93  7.11]\n",
            " [40.   11.73  7.22]\n",
            " [40.   12.38  7.46]\n",
            " [40.   11.14  6.63]\n",
            " [42.   12.8   6.87]\n",
            " [43.   11.93  7.28]\n",
            " [43.   12.51  7.42]\n",
            " [43.5  12.6   8.14]\n",
            " [44.   12.49  7.6 ]]\n"
          ]
        }
      ]
    },
    {
      "cell_type": "code",
      "source": [
        "import numpy as np \n",
        "perch_weight = np.array([5.9, 32.0, 40.0, 51.5, 70.0, 100.0, 78.0, 80.0, 85.0, 85.0, 110.0,\n",
        "       115.0, 125.0, 130.0, 120.0, 120.0, 130.0, 135.0, 110.0, 130.0,\n",
        "       150.0, 145.0, 150.0, 170.0, 225.0, 145.0, 188.0, 180.0, 197.0,\n",
        "       218.0, 300.0, 260.0, 265.0, 250.0, 250.0, 300.0, 320.0, 514.0,\n",
        "       556.0, 840.0, 685.0, 700.0, 700.0, 690.0, 900.0, 650.0, 820.0,\n",
        "       850.0, 900.0, 1015.0, 820.0, 1100.0, 1000.0, 1100.0, 1000.0,\n",
        "       1000.0])"
      ],
      "metadata": {
        "id": "fMmzKMFvwMsb"
      },
      "execution_count": null,
      "outputs": []
    },
    {
      "cell_type": "code",
      "source": [
        "#perch_full과 perch_weight를 훈련 세트와 테스트 세트로 나눔 \n",
        "from sklearn.model_selection import train_test_split\n",
        "train_input, test_input, train_target, test_target = train_test_split(\n",
        "    perch_full, perch_weight, random_state=42\n",
        ")"
      ],
      "metadata": {
        "id": "XBuZf0xVwbbd"
      },
      "execution_count": null,
      "outputs": []
    },
    {
      "cell_type": "code",
      "source": [
        "from sklearn.preprocessing import PolynomialFeatures\n",
        "\n",
        "poly= PolynomialFeatures()\n",
        "poly.fit([[2,3]])\n",
        "print(poly.transform([[2,3]]))"
      ],
      "metadata": {
        "id": "F_5Pzqwxwlpd",
        "colab": {
          "base_uri": "https://localhost:8080/"
        },
        "outputId": "54517eb4-ab35-4254-ebc7-32521940d30b"
      },
      "execution_count": null,
      "outputs": [
        {
          "output_type": "stream",
          "name": "stdout",
          "text": [
            "[[1. 2. 3. 4. 6. 9.]]\n"
          ]
        }
      ]
    },
    {
      "cell_type": "markdown",
      "source": [
        "PolynomialFeatures 클래스는 기본적으로 각 특성을 제곱한 항을 추가하고 특성끼리 서로 곱한 항을 추가하였음 \n",
        "\n",
        "무게 = a x 길이 + b x 높이 + c x 두께 + d x 1\n",
        "선형 방정식의 절편을 항상 값이 1인 특성과 곱해지는 계수, 특성은 (길이, 높이, 두께, 1)이 됨 "
      ],
      "metadata": {
        "id": "1vO0wsIMyGlU"
      }
    },
    {
      "cell_type": "code",
      "source": [
        "#사이킷런의 선형 모델은 자동으로 절편을 추가하므로 특성을 만들 필요 없음 \n",
        "#include_bias= False로 지정하여 다시 특성을 변환 \n",
        "\n",
        "poly= PolynomialFeatures(include_bias=False)\n",
        "poly.fit([[2,3]])\n",
        "print(poly.transform([[2,3]]))\n",
        "\n",
        "#절편을 위한 항이 제거되고 특성의 제곱과 특성끼리 곱한 항만 추가되었음 "
      ],
      "metadata": {
        "id": "aDRsEavvxh-H",
        "colab": {
          "base_uri": "https://localhost:8080/"
        },
        "outputId": "4e1174d3-73b6-4f45-c1a1-3e75e5e2593d"
      },
      "execution_count": null,
      "outputs": [
        {
          "output_type": "stream",
          "name": "stdout",
          "text": [
            "[[2. 3. 4. 6. 9.]]\n"
          ]
        }
      ]
    },
    {
      "cell_type": "code",
      "source": [
        "poly= PolynomialFeatures(include_bias=False)\n",
        "poly.fit(train_input)\n",
        "train_poly= poly.transform(train_input)\n",
        "print(train_poly.shape)"
      ],
      "metadata": {
        "id": "a21B9R6Lyv7j",
        "colab": {
          "base_uri": "https://localhost:8080/"
        },
        "outputId": "c831a655-6de4-4f24-805d-ca08cb8a8de3"
      },
      "execution_count": null,
      "outputs": [
        {
          "output_type": "stream",
          "name": "stdout",
          "text": [
            "(42, 9)\n"
          ]
        }
      ]
    },
    {
      "cell_type": "code",
      "source": [
        "#PolynomialFeatures 클래스는 9개의 특성이 어떻게 만들어졌는지 확인 \n",
        "#get_feature_names_out() 메서드를 호출하면 9개의 특성이 각각 어떤 입력의 조합으로 만들어졌는지 일려줌 \n",
        "\n",
        "poly.get_feature_names_out()\n"
      ],
      "metadata": {
        "id": "QLdCP1nm2uas",
        "colab": {
          "base_uri": "https://localhost:8080/"
        },
        "outputId": "15efb266-27ac-46d2-8b79-c71430e632aa"
      },
      "execution_count": null,
      "outputs": [
        {
          "output_type": "execute_result",
          "data": {
            "text/plain": [
              "array(['x0', 'x1', 'x2', 'x0^2', 'x0 x1', 'x0 x2', 'x1^2', 'x1 x2',\n",
              "       'x2^2'], dtype=object)"
            ]
          },
          "metadata": {},
          "execution_count": 39
        }
      ]
    },
    {
      "cell_type": "code",
      "source": [
        "test_poly= poly.transform(test_input)"
      ],
      "metadata": {
        "id": "t3qY_Pet3C8m"
      },
      "execution_count": null,
      "outputs": []
    },
    {
      "cell_type": "code",
      "source": [
        "## 다중 회귀모델 훈련하기\n",
        "\n",
        "from sklearn.linear_model import LinearRegression\n",
        "lr = LinearRegression()\n",
        "lr.fit(train_poly, train_target)"
      ],
      "metadata": {
        "id": "9nxUCCTV3G8E",
        "colab": {
          "base_uri": "https://localhost:8080/"
        },
        "outputId": "437f7c38-f996-48b5-b657-f2e5a7d3f2e8"
      },
      "execution_count": null,
      "outputs": [
        {
          "output_type": "execute_result",
          "data": {
            "text/plain": [
              "LinearRegression()"
            ]
          },
          "metadata": {},
          "execution_count": 41
        }
      ]
    },
    {
      "cell_type": "code",
      "source": [
        "print(lr.score(train_poly, train_target))"
      ],
      "metadata": {
        "id": "K--QK44P3Vff",
        "colab": {
          "base_uri": "https://localhost:8080/"
        },
        "outputId": "b7c4c73c-d039-4032-c57d-b06b698e5f1d"
      },
      "execution_count": null,
      "outputs": [
        {
          "output_type": "stream",
          "name": "stdout",
          "text": [
            "0.9903183436982124\n"
          ]
        }
      ]
    },
    {
      "cell_type": "markdown",
      "source": [
        "농어의 길이 뿐만 아니라 높이와 두께를 모두 사용하였고 각 특성을 제곱하거나 서로 곱해서 다항 특성을 더 추가하였음 \n",
        "\n",
        "특성이 늘어나면 선형회귀 능력은 매우 강하다"
      ],
      "metadata": {
        "id": "IFFNolJl3n72"
      }
    },
    {
      "cell_type": "code",
      "source": [
        "#테스트 세트에 대한 설명 \n",
        "print(lr.score(test_poly, test_target))"
      ],
      "metadata": {
        "id": "Y8w-OGN63g0I",
        "colab": {
          "base_uri": "https://localhost:8080/"
        },
        "outputId": "7607fd5d-f37f-4f6a-8b5c-97ce1f93c4b0"
      },
      "execution_count": null,
      "outputs": [
        {
          "output_type": "stream",
          "name": "stdout",
          "text": [
            "0.9714559911594134\n"
          ]
        }
      ]
    },
    {
      "cell_type": "markdown",
      "source": [
        "테스트 세트에 대한 점수는 높아지지 않았지만 농어의 길이만 사용했을 때, 과소적합 문제는 더이상 나타나지 않았음"
      ],
      "metadata": {
        "id": "0bLcTx5C36XQ"
      }
    },
    {
      "cell_type": "code",
      "source": [
        "#polynomialfeatures에 degree 매개변수를 사용하여 필요한 고차항의 최대 차수를 지정할 수 있음 \n",
        "#5제곱까지 특성을 만들어 출력 \n",
        "poly = PolynomialFeatures(degree=5, include_bias=False)\n",
        "poly.fit(train_input)\n",
        "train_poly= poly.transform(train_input)\n",
        "test_poly= poly.transform(test_input)\n",
        "print(train_poly.shape)"
      ],
      "metadata": {
        "id": "PiCKlR8o340S",
        "colab": {
          "base_uri": "https://localhost:8080/"
        },
        "outputId": "69d469dd-adbf-472f-fe0f-6a7f404c6eba"
      },
      "execution_count": null,
      "outputs": [
        {
          "output_type": "stream",
          "name": "stdout",
          "text": [
            "(42, 55)\n"
          ]
        }
      ]
    },
    {
      "cell_type": "markdown",
      "source": [
        "만들어진 특성의 개수가 55개, train_poly배열의 열의 수가 특성의 개수.\n",
        "이 데이터를 사용해 선형 회귀 모델을 다시 훈련함"
      ],
      "metadata": {
        "id": "sgTily9p4mZF"
      }
    },
    {
      "cell_type": "code",
      "source": [
        "lr.fit(train_poly, train_target)\n",
        "print(lr.score(train_poly, train_target))"
      ],
      "metadata": {
        "id": "p832zFYS4Uqf",
        "colab": {
          "base_uri": "https://localhost:8080/"
        },
        "outputId": "cdbd45cc-0146-44f9-ff34-55071e77a1b1"
      },
      "execution_count": null,
      "outputs": [
        {
          "output_type": "stream",
          "name": "stdout",
          "text": [
            "0.9999999999991097\n"
          ]
        }
      ]
    },
    {
      "cell_type": "code",
      "source": [
        "print(lr.score(test_poly, test_target))"
      ],
      "metadata": {
        "id": "d61Yn_a645bL",
        "colab": {
          "base_uri": "https://localhost:8080/"
        },
        "outputId": "842add4e-6fbd-4e9d-e485-c6ff6e0fb605"
      },
      "execution_count": null,
      "outputs": [
        {
          "output_type": "stream",
          "name": "stdout",
          "text": [
            "-144.40579242684848\n"
          ]
        }
      ]
    },
    {
      "cell_type": "markdown",
      "source": [
        "특성의 개수를 크게 늘리면 선형 모델은 아주 강력해짐, 훈련세트에 대해 거의 완벽하게 학습할 수 있지만 과대적합되므로 테스트 세트에서는 형편없는 점수를 만듦 "
      ],
      "metadata": {
        "id": "sjgkqOmp4-Z5"
      }
    },
    {
      "cell_type": "code",
      "source": [
        "from sklearn.preprocessing import StandardScaler \n",
        "#StandardScaler 클래스의 객체 ss를 초기화\n",
        "ss= StandardScaler()\n",
        "#PolynomialFeatures 클래스로 만든 train_poly를 사용하여 객체를 훈련\n",
        "ss.fit(train_poly)\n",
        "#표준 점수로 변환 \n",
        "train_scaled = ss.transform(train_poly)\n",
        "test_scaled = ss.transform(test_poly)"
      ],
      "metadata": {
        "id": "0mXklO6e488o"
      },
      "execution_count": null,
      "outputs": []
    },
    {
      "cell_type": "markdown",
      "source": [
        "릿지회귀"
      ],
      "metadata": {
        "id": "XNhT5i0XDlqO"
      }
    },
    {
      "cell_type": "code",
      "source": [
        "from sklearn.linear_model import Ridge \n",
        "ridge = Ridge()\n",
        "ridge.fit(train_scaled, train_target)\n",
        "print(ridge.score(train_scaled, train_target))"
      ],
      "metadata": {
        "id": "NBOUor8B6A3Y",
        "colab": {
          "base_uri": "https://localhost:8080/"
        },
        "outputId": "2484e074-9ae6-495f-ed64-91b89ab9e853"
      },
      "execution_count": null,
      "outputs": [
        {
          "output_type": "stream",
          "name": "stdout",
          "text": [
            "0.9896101671037343\n"
          ]
        }
      ]
    },
    {
      "cell_type": "code",
      "source": [
        "#테스트 세트에 대한 점수를 확인 \n",
        "print(ridge.score(test_scaled, test_target))"
      ],
      "metadata": {
        "id": "e6C9TBSuD1Yp",
        "colab": {
          "base_uri": "https://localhost:8080/"
        },
        "outputId": "256f2d43-90aa-4eda-ab06-adb83fd50064"
      },
      "execution_count": null,
      "outputs": [
        {
          "output_type": "stream",
          "name": "stdout",
          "text": [
            "0.9790693977615391\n"
          ]
        }
      ]
    },
    {
      "cell_type": "markdown",
      "source": [
        "테스트 점수가 많은 특성을 사용했음에도 불구하고 훈련 세트에 너무 과대적합되지 않아 테스트 세트에서도 좋은 성능을 내고 있음 "
      ],
      "metadata": {
        "id": "pyLr04LGD_vx"
      }
    },
    {
      "cell_type": "markdown",
      "source": [
        "릿지와 라쏘 모델을 사용할 때 규제의 양을 임의로 조절할 수 있음, 모델 객체를 만들 때 alpha 매개변수로 규제의 강도를 조절함. alpha 값이 크면 규제 강도가 세지므로 계수 값을 더 줄이고 조금 더 과소 적합되도록 유도, \n",
        "alpha 값이 작으면 계수를 줄이는 역할이 줄어들고 선형회귀 모델과 유사해지므로 과대적합이 될 가능성이 높음"
      ],
      "metadata": {
        "id": "qtosDqegELzV"
      }
    },
    {
      "cell_type": "code",
      "source": [
        "import matplotlib.pyplot as plt\n",
        "train_score= []\n",
        "test_score=[]"
      ],
      "metadata": {
        "id": "5yEesCvxELa7"
      },
      "execution_count": null,
      "outputs": []
    },
    {
      "cell_type": "code",
      "source": [
        "#alpha 값을 0.001에서 100까지 10배씩 늘려가면서 릿지회귀모델을 훈련\n",
        "#훈련세트와 테스트 세트의 점수를 파이썬 리스트에 저장 \n",
        "\n",
        "alhpa_list = [0.001, 0.01, 0.1, 1, 10, 100]\n",
        "for alpha in alhpa_list:\n",
        "  #릿지 모델을 만듦 \n",
        "  ridge = Ridge(alpha=alpha)\n",
        "  #릿지 모델을 훈련함 \n",
        "  ridge.fit(train_scaled, train_target)\n",
        "  #훈련 점수와 테스트 점수를 저장\n",
        "  train_score.append(ridge.score(train_scaled, train_target))\n",
        "  test_score.append(ridge.score(test_scaled, test_target))"
      ],
      "metadata": {
        "id": "d_lnnqabD9j0"
      },
      "execution_count": null,
      "outputs": []
    },
    {
      "cell_type": "code",
      "source": [
        "plt.plot(np.log10(alhpa_list), train_score)\n",
        "plt.plot(np.log10(alhpa_list), test_score)\n",
        "plt.xlabel('alpha')\n",
        "plt.ylabel('R^2')\n",
        "plt.show()"
      ],
      "metadata": {
        "id": "8Jd6h_xsLqtZ",
        "colab": {
          "base_uri": "https://localhost:8080/",
          "height": 279
        },
        "outputId": "8103f77c-158f-4578-f690-9a803d045b9d"
      },
      "execution_count": null,
      "outputs": [
        {
          "output_type": "display_data",
          "data": {
            "text/plain": [
              "<Figure size 432x288 with 1 Axes>"
            ],
            "image/png": "[encoded data removed]"
          },
          "metadata": {
            "needs_background": "light"
          }
        }
      ]
    },
    {
      "cell_type": "markdown",
      "source": [
        "파란색은 훈련세트 그래프, 주황색은 테스트 세트 그래프이다. 훈련세트에는 잘 맞고 테스트 세트에는 형편없는 과대적합의 전형적인 모습을 보임. 오른쪽 편은 훈련세트와 테스트세트의 점수가 모두 낮아지는 과소적합으로 가는 모습을 보임"
      ],
      "metadata": {
        "id": "aCpmfMgLRA8u"
      }
    },
    {
      "cell_type": "code",
      "source": [
        "ridge= Ridge(alpha=0.1)\n",
        "ridge.fit(train_scaled, train_target)\n",
        "print(ridge.score(train_scaled, train_target))\n",
        "print(ridge.score(test_scaled, test_target))"
      ],
      "metadata": {
        "id": "oG8ZUKWmVoDp",
        "colab": {
          "base_uri": "https://localhost:8080/"
        },
        "outputId": "4a05a040-9322-4a46-8300-124a97f9c163"
      },
      "execution_count": null,
      "outputs": [
        {
          "output_type": "stream",
          "name": "stdout",
          "text": [
            "0.9903815817570365\n",
            "0.9827976465386884\n"
          ]
        }
      ]
    },
    {
      "cell_type": "markdown",
      "source": [
        "훈련세트와 테스트세트의 점수가 비슷하게 모두 높고 과대적합과 과소적합 사이에서 균형을 맞추고 있다."
      ],
      "metadata": {
        "id": "P8LQyESPYMQP"
      }
    },
    {
      "cell_type": "markdown",
      "source": [
        "라쏘회귀 "
      ],
      "metadata": {
        "id": "lMIT5MLZatPq"
      }
    },
    {
      "cell_type": "code",
      "source": [
        "from sklearn.linear_model import Lasso\n",
        "lasso= Lasso()\n",
        "lasso.fit(train_scaled, train_target)\n",
        "print(lasso.score(train_scaled, train_target))"
      ],
      "metadata": {
        "id": "Hut6_VNHVoBX",
        "colab": {
          "base_uri": "https://localhost:8080/"
        },
        "outputId": "4b92b485-286d-4575-e8dd-aac6f9ab8ac1"
      },
      "execution_count": null,
      "outputs": [
        {
          "output_type": "stream",
          "name": "stdout",
          "text": [
            "0.989789897208096\n"
          ]
        }
      ]
    },
    {
      "cell_type": "code",
      "source": [
        "print(lasso.score(test_scaled, test_target))"
      ],
      "metadata": {
        "id": "v_qsQMoPbPyG",
        "colab": {
          "base_uri": "https://localhost:8080/"
        },
        "outputId": "551840b1-811e-423a-f2ea-7809a5ef3147"
      },
      "execution_count": null,
      "outputs": [
        {
          "output_type": "stream",
          "name": "stdout",
          "text": [
            "0.9800593698421883\n"
          ]
        }
      ]
    },
    {
      "cell_type": "markdown",
      "source": [
        "라쏘 모델도 alpha 매개변수로 규제의 강도를 조절할  수 있음 "
      ],
      "metadata": {
        "id": "QN9orvPEbkFJ"
      }
    },
    {
      "cell_type": "code",
      "source": [
        "train_score = []\n",
        "test_score = []\n",
        "\n",
        "alpha_list = [0.001, 0.01, 0.1, 1, 10, 100]\n",
        "for alpha in alpha_list:\n",
        "    # 라쏘 모델을 만듭니다\n",
        "    lasso = Lasso(alpha=alpha, max_iter=10000)\n",
        "    # 라쏘 모델을 훈련합니다\n",
        "    lasso.fit(train_scaled, train_target)\n",
        "    # 훈련 점수와 테스트 점수를 저장합니다\n",
        "    train_score.append(lasso.score(train_scaled, train_target))\n",
        "    test_score.append(lasso.score(test_scaled, test_target))"
      ],
      "metadata": {
        "id": "Cbbex7_qbVKJ",
        "colab": {
          "base_uri": "https://localhost:8080/"
        },
        "outputId": "6e547a70-f7fa-4230-a69d-2b9a8a11f9f5"
      },
      "execution_count": null,
      "outputs": [
        {
          "output_type": "stream",
          "name": "stderr",
          "text": [
            "/usr/local/lib/python3.7/dist-packages/sklearn/linear_model/_coordinate_descent.py:648: ConvergenceWarning: Objective did not converge. You might want to increase the number of iterations, check the scale of the features or consider increasing regularisation. Duality gap: 1.878e+04, tolerance: 5.183e+02\n",
            "  coef_, l1_reg, l2_reg, X, y, max_iter, tol, rng, random, positive\n",
            "/usr/local/lib/python3.7/dist-packages/sklearn/linear_model/_coordinate_descent.py:648: ConvergenceWarning: Objective did not converge. You might want to increase the number of iterations, check the scale of the features or consider increasing regularisation. Duality gap: 1.297e+04, tolerance: 5.183e+02\n",
            "  coef_, l1_reg, l2_reg, X, y, max_iter, tol, rng, random, positive\n"
          ]
        }
      ]
    },
    {
      "cell_type": "code",
      "source": [
        "plt.plot(np.log10(alpha_list), train_score)\n",
        "plt.plot(np.log10(alpha_list), test_score)\n",
        "plt.xlabel('alpha')\n",
        "plt.ylabel('R^2')\n",
        "plt.show()"
      ],
      "metadata": {
        "id": "azOGQh2-vd_Q",
        "colab": {
          "base_uri": "https://localhost:8080/",
          "height": 279
        },
        "outputId": "85e8d757-4b99-489c-f7cd-206c3212fc1d"
      },
      "execution_count": null,
      "outputs": [
        {
          "output_type": "display_data",
          "data": {
            "text/plain": [
              "<Figure size 432x288 with 1 Axes>"
            ],
            "image/png": "[encoded data removed]"
          },
          "metadata": {
            "needs_background": "light"
          }
        }
      ]
    },
    {
      "cell_type": "markdown",
      "source": [
        "주황색- 테스트 세트 그래프\n",
        "파란색- 훈련세트 그래프 \n",
        "\n",
        "왼쪽은 과대적합을 보여주고 있고, 오른쪽으로 갈수록 훈련 세트와 테스트 세트의 점수가 좁혀지고 있음, 가장 오른쪽은 아주 크게 점수가 떨어지는데 이 지점은 과소적합되는 모델\n",
        "\n",
        "라쏘모델에서 최적의 alpha 값은 1, 즉 10^1=10"
      ],
      "metadata": {
        "id": "Z91n_2dBDszL"
      }
    },
    {
      "cell_type": "code",
      "source": [
        "lasso = Lasso(alpha=10)\n",
        "lasso.fit(train_scaled, train_target)\n",
        "print(lasso.score(train_scaled, train_target))\n",
        "print(lasso.score(test_scaled, test_target))"
      ],
      "metadata": {
        "id": "KrPYatR-uQ2M",
        "colab": {
          "base_uri": "https://localhost:8080/"
        },
        "outputId": "9f77bdb2-f27c-4fa7-e160-49c424720959"
      },
      "execution_count": null,
      "outputs": [
        {
          "output_type": "stream",
          "name": "stdout",
          "text": [
            "0.9888067471131867\n",
            "0.9824470598706695\n"
          ]
        }
      ]
    },
    {
      "cell_type": "markdown",
      "source": [
        "모델이 잘 훈련되었음을 알 수 있음, 특성을 많이 사용했지만 릿지와 마찬가지로 라쏘 모델이 과대적합을 잘 억제하고 테스트 세트의 성능을 크게 높였음. \n",
        "\n",
        "라쏘모델은 계수 값을 아예 0으로 만들수 있음 \n",
        "라쏘모델의 계수 coef_ 속성에 저장되어 있음 "
      ],
      "metadata": {
        "id": "BUM-yAx6EdIu"
      }
    },
    {
      "cell_type": "code",
      "source": [
        "print(np.sum(lasso.coef_ ==0))"
      ],
      "metadata": {
        "id": "Hb03IYjREJ2M",
        "colab": {
          "base_uri": "https://localhost:8080/"
        },
        "outputId": "40160c66-993a-41b1-bea3-658ed9077d6f"
      },
      "execution_count": null,
      "outputs": [
        {
          "output_type": "stream",
          "name": "stdout",
          "text": [
            "40\n"
          ]
        }
      ]
    },
    {
      "cell_type": "markdown",
      "source": [
        "계수 0이 40개가 있음, 55개의 특성을 모델에 주입했었지만 라쏘 모델이 사용한 특성은 15개밖에 되지 않는다. 따라서 이런 특징 때문에 라쏘모델을 유용한 특성을 골라내는 용도로 사용할 수 있음"
      ],
      "metadata": {
        "id": "LqezERJRFKh8"
      }
    }
  ]
}