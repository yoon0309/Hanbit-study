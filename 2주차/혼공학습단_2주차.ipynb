{
  "nbformat": 4,
  "nbformat_minor": 0,
  "metadata": {
    "colab": {
      "name": "혼공학습단 2주차.ipynb",
      "provenance": []
    },
    "kernelspec": {
      "name": "python3",
      "display_name": "Python 3"
    },
    "language_info": {
      "name": "python"
    }
  },
  "cells": [
    {
      "cell_type": "code",
      "execution_count": 79,
      "metadata": {
        "id": "79l1l9ZUIWYY"
      },
      "outputs": [],
      "source": [
        "#필요한 라이브러리를 모두 불러보자\n",
        "import numpy as np\n",
        "import matplotlib.pyplot as plt\n",
        "from sklearn.model_selection import train_test_split\n",
        "from sklearn.neighbors import KNeighborsRegressor\n",
        "from sklearn.metrics import mean_absolute_error"
      ]
    },
    {
      "cell_type": "code",
      "source": [
        "perch_length = np.array([8.4, 13.7, 15.0, 16.2, 17.4, 18.0, 18.7, 19.0, 19.6, 20.0, 21.0,\n",
        "       21.0, 21.0, 21.3, 22.0, 22.0, 22.0, 22.0, 22.0, 22.5, 22.5, 22.7,\n",
        "       23.0, 23.5, 24.0, 24.0, 24.6, 25.0, 25.6, 26.5, 27.3, 27.5, 27.5,\n",
        "       27.5, 28.0, 28.7, 30.0, 32.8, 34.5, 35.0, 36.5, 36.0, 37.0, 37.0,\n",
        "       39.0, 39.0, 39.0, 40.0, 40.0, 40.0, 40.0, 42.0, 43.0, 43.0, 43.5,\n",
        "       44.0])\n",
        "perch_weight = np.array([5.9, 32.0, 40.0, 51.5, 70.0, 100.0, 78.0, 80.0, 85.0, 85.0, 110.0,\n",
        "       115.0, 125.0, 130.0, 120.0, 120.0, 130.0, 135.0, 110.0, 130.0,\n",
        "       150.0, 145.0, 150.0, 170.0, 225.0, 145.0, 188.0, 180.0, 197.0,\n",
        "       218.0, 300.0, 260.0, 265.0, 250.0, 250.0, 300.0, 320.0, 514.0,\n",
        "       556.0, 840.0, 685.0, 700.0, 700.0, 690.0, 900.0, 650.0, 820.0,\n",
        "       850.0, 900.0, 1015.0, 820.0, 1100.0, 1000.0, 1100.0, 1000.0,\n",
        "       1000.0])"
      ],
      "metadata": {
        "id": "XHy4n-hZIdzH"
      },
      "execution_count": 80,
      "outputs": []
    },
    {
      "cell_type": "code",
      "source": [
        "#데이터의 특성을 알아보기 위해서 scatter plot으로 확인해보기\n",
        "\n",
        "plt.scatter(perch_length, perch_weight)\n",
        "plt.xlabel('length')\n",
        "plt.ylabel('weight')\n",
        "plt.show()"
      ],
      "metadata": {
        "colab": {
          "base_uri": "https://localhost:8080/",
          "height": 279
        },
        "id": "wXsBG60XJIFv",
        "outputId": "431c27dc-ca8d-4368-cfb5-ea478407f93a"
      },
      "execution_count": 81,
      "outputs": [
        {
          "output_type": "display_data",
          "data": {
            "text/plain": [
              "<Figure size 432x288 with 1 Axes>"
            ],
            "image/png": "[encoded data removed]"
          },
          "metadata": {
            "needs_background": "light"
          }
        }
      ]
    },
    {
      "cell_type": "markdown",
      "source": [
        "=> 농어의 길이가 커짐에 따라 무게가 늘어남을 확인할 수 있었습니다. "
      ],
      "metadata": {
        "id": "sWjkP2O6Kjef"
      }
    },
    {
      "cell_type": "code",
      "source": [
        "#훈련세트와 테스트 세트로 나눠보자 \n",
        "train_input, test_input, train_target, test_target =  train_test_split(\n",
        "    perch_length, perch_weight, random_state=42\n",
        ")"
      ],
      "metadata": {
        "id": "QdZAuVPPKGZ5"
      },
      "execution_count": 82,
      "outputs": []
    },
    {
      "cell_type": "code",
      "source": [
        "#특성 1개 사용하므로 수동으로 2차원 배열을 만들어 주어야 함 \n",
        "test_array= np.array([1,2,3,4])\n",
        "print(test_array.shape)"
      ],
      "metadata": {
        "colab": {
          "base_uri": "https://localhost:8080/"
        },
        "id": "ZxM-myNtLFjd",
        "outputId": "4c1581c2-689b-4281-b04b-84e30632e5c3"
      },
      "execution_count": 83,
      "outputs": [
        {
          "output_type": "stream",
          "name": "stdout",
          "text": [
            "(4,)\n"
          ]
        }
      ]
    },
    {
      "cell_type": "code",
      "source": [
        "#test_array는 (4,)배열임을 확인, (2,2)크기로 바꿔보기 \n",
        "test_array= test_array.reshape(2,2)\n",
        "print(test_array.shape)"
      ],
      "metadata": {
        "colab": {
          "base_uri": "https://localhost:8080/"
        },
        "id": "TR5fs4TDLfaq",
        "outputId": "7a5da565-f34d-416c-fd4c-adf82365a163"
      },
      "execution_count": 84,
      "outputs": [
        {
          "output_type": "stream",
          "name": "stdout",
          "text": [
            "(2, 2)\n"
          ]
        }
      ]
    },
    {
      "cell_type": "code",
      "source": [
        "#reshape() 배열을 통해 train_input, test_input을 2차원 배열로 바꿔보기 \n",
        "train_input= train_input.reshape(-1,1)\n",
        "test_input=test_input.reshape(-1,1)\n",
        "print(train_input.shape, test_input.shape)"
      ],
      "metadata": {
        "colab": {
          "base_uri": "https://localhost:8080/"
        },
        "id": "gjvmtGA2LuOA",
        "outputId": "6c6de6c6-af8f-493f-8daa-06c795155334"
      },
      "execution_count": 85,
      "outputs": [
        {
          "output_type": "stream",
          "name": "stdout",
          "text": [
            "(42, 1) (14, 1)\n"
          ]
        }
      ]
    },
    {
      "cell_type": "code",
      "source": [
        "knr= KNeighborsRegressor()\n",
        "#K-최근접 이웃 회귀 모델을 훈련 \n",
        "knr.fit(train_input, train_target)"
      ],
      "metadata": {
        "colab": {
          "base_uri": "https://localhost:8080/"
        },
        "id": "e4ATW42LMOQz",
        "outputId": "b6b4af52-99fa-4327-e0d4-cf958953079d"
      },
      "execution_count": 86,
      "outputs": [
        {
          "output_type": "execute_result",
          "data": {
            "text/plain": [
              "KNeighborsRegressor()"
            ]
          },
          "metadata": {},
          "execution_count": 86
        }
      ]
    },
    {
      "cell_type": "code",
      "source": [
        "#테스트 세트의 점수를 확인 \n",
        "print(knr.score(test_input, test_target))"
      ],
      "metadata": {
        "colab": {
          "base_uri": "https://localhost:8080/"
        },
        "id": "Ohg6LQpqMp4B",
        "outputId": "78a73700-de6a-4886-8426-d2d9b335e2ef"
      },
      "execution_count": 87,
      "outputs": [
        {
          "output_type": "stream",
          "name": "stdout",
          "text": [
            "0.992809406101064\n"
          ]
        }
      ]
    },
    {
      "cell_type": "code",
      "source": [
        "#테스트 세트에 대한 예측 \n",
        "test_prediction = knr.predict(test_input)\n",
        "\n",
        "#테스트 세트에 대한 평균 절댓값 오차를 계산 \n",
        "mae = mean_absolute_error(test_target, test_prediction)\n",
        "print(mae)"
      ],
      "metadata": {
        "colab": {
          "base_uri": "https://localhost:8080/"
        },
        "id": "aMjJYIDLMxNM",
        "outputId": "c05a93bf-342f-44f7-86f8-a6fb97ffbfb5"
      },
      "execution_count": 88,
      "outputs": [
        {
          "output_type": "stream",
          "name": "stdout",
          "text": [
            "19.157142857142862\n"
          ]
        }
      ]
    },
    {
      "cell_type": "code",
      "source": [
        "#앞에서 훈련한 모델을 사용해서 훈련세트의 결정계수를 구해보기 \n",
        "print(knr.score(train_input, train_target))"
      ],
      "metadata": {
        "colab": {
          "base_uri": "https://localhost:8080/"
        },
        "id": "ci7MXmuWN0c3",
        "outputId": "d732c84b-eee8-4f2f-c7ab-bcc0c15204de"
      },
      "execution_count": 89,
      "outputs": [
        {
          "output_type": "stream",
          "name": "stdout",
          "text": [
            "0.9698823289099254\n"
          ]
        }
      ]
    },
    {
      "cell_type": "markdown",
      "source": [
        "앞서 진행한 test_input, test_target의 결정계수 값이 0.99, 훈련한 모델 train_input, train_target이 0.96으로 과소적합되었음을 알 수 있다. 이 문제를 해결하기 위해서는 모델을 조금 복잡하게 만든다 \n",
        "\n",
        "지금 현재 쓰고 있는 것은 k-최근접 이웃 알고리즘이기 때문에 이웃의 갯수를 줄이는 것이다 "
      ],
      "metadata": {
        "id": "aFAqJuQZOhZe"
      }
    },
    {
      "cell_type": "code",
      "source": [
        "#보통 이웃의 개수가 5이므로 3으로 줄여보자 \n",
        "knr.n_neighbors= 3\n",
        "#모델을 다시 훈련하기 \n",
        "knr.fit(train_input, train_target)\n",
        "print(knr.score(train_input, train_target))"
      ],
      "metadata": {
        "colab": {
          "base_uri": "https://localhost:8080/"
        },
        "id": "ASXMTJNsODhG",
        "outputId": "49ec9745-dbbd-4569-a15a-4e509c6364c6"
      },
      "execution_count": 90,
      "outputs": [
        {
          "output_type": "stream",
          "name": "stdout",
          "text": [
            "0.9804899950518966\n"
          ]
        }
      ]
    },
    {
      "cell_type": "code",
      "source": [
        "#테스트 점수를 확인해보자 \n",
        "print(knr.score(test_input, test_target))"
      ],
      "metadata": {
        "colab": {
          "base_uri": "https://localhost:8080/"
        },
        "id": "ArEdoZhZP5Ha",
        "outputId": "166599dc-b028-40c2-c5c8-12d09ab2bdbe"
      },
      "execution_count": 91,
      "outputs": [
        {
          "output_type": "stream",
          "name": "stdout",
          "text": [
            "0.9746459963987609\n"
          ]
        }
      ]
    },
    {
      "cell_type": "markdown",
      "source": [
        "테스트 점수는 훈련 세트보다 낮아졌으므로 과소적합 문제를 해결함. 따라서 성공적으로 회귀 모델을 훈련했음 "
      ],
      "metadata": {
        "id": "5Z0Y4vCnQCy1"
      }
    },
    {
      "cell_type": "markdown",
      "source": [
        "--------------------------\n",
        "\n",
        "03-2 선형 회귀"
      ],
      "metadata": {
        "id": "UTxnpESsNQqw"
      }
    },
    {
      "cell_type": "code",
      "source": [
        "#필요한 라이브러리를 불러온다\n",
        "import numpy as np"
      ],
      "metadata": {
        "id": "5b4kkw7iNpld"
      },
      "execution_count": 92,
      "outputs": []
    },
    {
      "cell_type": "code",
      "source": [
        "perch_length = np.array([8.4, 13.7, 15.0, 16.2, 17.4, 18.0, 18.7, 19.0, 19.6, 20.0, 21.0,\n",
        "       21.0, 21.0, 21.3, 22.0, 22.0, 22.0, 22.0, 22.0, 22.5, 22.5, 22.7,\n",
        "       23.0, 23.5, 24.0, 24.0, 24.6, 25.0, 25.6, 26.5, 27.3, 27.5, 27.5,\n",
        "       27.5, 28.0, 28.7, 30.0, 32.8, 34.5, 35.0, 36.5, 36.0, 37.0, 37.0,\n",
        "       39.0, 39.0, 39.0, 40.0, 40.0, 40.0, 40.0, 42.0, 43.0, 43.0, 43.5,\n",
        "       44.0])\n",
        "perch_weight = np.array([5.9, 32.0, 40.0, 51.5, 70.0, 100.0, 78.0, 80.0, 85.0, 85.0, 110.0,\n",
        "       115.0, 125.0, 130.0, 120.0, 120.0, 130.0, 135.0, 110.0, 130.0,\n",
        "       150.0, 145.0, 150.0, 170.0, 225.0, 145.0, 188.0, 180.0, 197.0,\n",
        "       218.0, 300.0, 260.0, 265.0, 250.0, 250.0, 300.0, 320.0, 514.0,\n",
        "       556.0, 840.0, 685.0, 700.0, 700.0, 690.0, 900.0, 650.0, 820.0,\n",
        "       850.0, 900.0, 1015.0, 820.0, 1100.0, 1000.0, 1100.0, 1000.0,\n",
        "       1000.0])"
      ],
      "metadata": {
        "id": "rMRgtkx_NPQs"
      },
      "execution_count": 93,
      "outputs": []
    },
    {
      "cell_type": "code",
      "source": [
        "from sklearn.model_selection import train_test_split \n",
        "\n",
        "#훈련 세트와 테스트 세트로 나눔 \n",
        "train_input, test_input, train_target, test_target = train_test_split(\n",
        "    perch_length, perch_weight, random_state=42\n",
        ")"
      ],
      "metadata": {
        "id": "egQFhvsQODcz"
      },
      "execution_count": 94,
      "outputs": []
    },
    {
      "cell_type": "code",
      "source": [
        "#훈련 세트와 테스트 세트를 2차원 배열로 바꾼다 \n",
        "train_input = train_input.reshape(-1, 1)\n",
        "test_input = test_input.reshape(-1,1)"
      ],
      "metadata": {
        "id": "vMfS7WpQOhUk"
      },
      "execution_count": 95,
      "outputs": []
    },
    {
      "cell_type": "code",
      "source": [
        "from sklearn.neighbors import KNeighborsRegressor\n",
        "\n",
        "knr = KNeighborsRegressor(n_neighbors=3)\n",
        "\n",
        "#K-최근접 이웃 회귀 모델을 훈련함 \n",
        "knr.fit(train_input, train_target)"
      ],
      "metadata": {
        "id": "sfM0E03uPVWx",
        "outputId": "207e2bd7-f09a-477f-a0da-2eff56afc6ce",
        "colab": {
          "base_uri": "https://localhost:8080/"
        }
      },
      "execution_count": 96,
      "outputs": [
        {
          "output_type": "execute_result",
          "data": {
            "text/plain": [
              "KNeighborsRegressor(n_neighbors=3)"
            ]
          },
          "metadata": {},
          "execution_count": 96
        }
      ]
    },
    {
      "cell_type": "code",
      "source": [
        "#길이가 50cm인 농어의 무게를 예측 \n",
        "print(knr.predict([[50]]))"
      ],
      "metadata": {
        "id": "37fWAv-tRNzX",
        "outputId": "9175c5f0-5982-45f8-cc53-ad58b6ecc6da",
        "colab": {
          "base_uri": "https://localhost:8080/"
        }
      },
      "execution_count": 97,
      "outputs": [
        {
          "output_type": "stream",
          "name": "stdout",
          "text": [
            "[1033.33333333]\n"
          ]
        }
      ]
    },
    {
      "cell_type": "markdown",
      "source": [
        "=> 농어의 무게가 실제보다 더 훨씬 많이 나감"
      ],
      "metadata": {
        "id": "5vKWHyefgbYe"
      }
    },
    {
      "cell_type": "code",
      "source": [
        "import matplotlib.pyplot as plt \n",
        "\n",
        "#50cm  농어의 이웃을 구함\n",
        "distances, indexes = knr.kneighbors([[50]])\n",
        "\n",
        "#훈련 세트의 산점도를 그림 \n",
        "plt.scatter(train_input, train_target) "
      ],
      "metadata": {
        "id": "QI_MlVtWggI3",
        "outputId": "cb02d81f-8534-4100-c842-ca5cb4fc6c70",
        "colab": {
          "base_uri": "https://localhost:8080/",
          "height": 283
        }
      },
      "execution_count": 98,
      "outputs": [
        {
          "output_type": "execute_result",
          "data": {
            "text/plain": [
              "<matplotlib.collections.PathCollection at 0x7fefa0f48410>"
            ]
          },
          "metadata": {},
          "execution_count": 98
        },
        {
          "output_type": "display_data",
          "data": {
            "text/plain": [
              "<Figure size 432x288 with 1 Axes>"
            ],
            "image/png": "[encoded data removed]"
          },
          "metadata": {
            "needs_background": "light"
          }
        }
      ]
    },
    {
      "cell_type": "code",
      "source": [
        "print(knr.predict([[100]]))"
      ],
      "metadata": {
        "id": "ZHeRZ7QAg11C",
        "outputId": "b1a2c904-bebc-471c-e4e7-712eb5afbfdd",
        "colab": {
          "base_uri": "https://localhost:8080/"
        }
      },
      "execution_count": 99,
      "outputs": [
        {
          "output_type": "stream",
          "name": "stdout",
          "text": [
            "[1033.33333333]\n"
          ]
        }
      ]
    },
    {
      "cell_type": "code",
      "source": [
        "# 한번 더 그래프를 그려볼까 \n",
        "\n",
        "#100cm 농어의 이웃을 구함 \n",
        "distances, indexes = knr.kneighbors([[100]])\n",
        "\n",
        "#훈련 세트의 산점도를 그림 \n",
        "plt.scatter(train_input, train_target)\n",
        "\n",
        "#훈련 세트 중에서 이웃 샘플만 다시 그림 \n",
        "plt.scatter(train_input[indexes], train_target[indexes], marker='D')\n",
        "\n",
        "#100cm 농어 데이터 \n",
        "plt.scatter(100, 1033, marker='^')\n",
        "plt.xlabel('length')\n",
        "plt.ylabel('weight')\n",
        "plt.show()"
      ],
      "metadata": {
        "id": "_QCAMRPWg_d5",
        "outputId": "4d534d13-bbe8-475f-d32e-f1cfb852fb00",
        "colab": {
          "base_uri": "https://localhost:8080/",
          "height": 279
        }
      },
      "execution_count": 100,
      "outputs": [
        {
          "output_type": "display_data",
          "data": {
            "text/plain": [
              "<Figure size 432x288 with 1 Axes>"
            ],
            "image/png": "[encoded data removed]"
          },
          "metadata": {
            "needs_background": "light"
          }
        }
      ]
    },
    {
      "cell_type": "code",
      "source": [
        "from sklearn.linear_model import LinearRegression\n",
        "lr=  LinearRegression()\n",
        "\n",
        "#선형 회귀 모델을 훈련 \n",
        "lr. fit(train_input, train_target)\n",
        "\n",
        "#50cm 농어에 대해 예측\n",
        "print(lr.predict([[50]]))"
      ],
      "metadata": {
        "id": "r86mvxoGhfoM",
        "outputId": "a2bc8dc6-7217-42f8-f345-7b44988d6915",
        "colab": {
          "base_uri": "https://localhost:8080/"
        }
      },
      "execution_count": 101,
      "outputs": [
        {
          "output_type": "stream",
          "name": "stdout",
          "text": [
            "[1241.83860323]\n"
          ]
        }
      ]
    },
    {
      "cell_type": "markdown",
      "source": [
        "k-최근접 이웃 회귀를 사용했을 때와 달리 선형회귀는 50cm 농어의 무게를 높게 예측하였음 \n",
        "\n",
        "하나의 직선을 그리려면 기울기와 절편이 있어야함 \n",
        "y= ax+b \n",
        "\n",
        "x를 농어의 길이, y를 농어의 무게"
      ],
      "metadata": {
        "id": "o3xIQ8IVlR_d"
      }
    },
    {
      "cell_type": "code",
      "source": [
        "#LinearRegression 클래스가 이 데이터에 잘 맞는 a,b를 찾았을까?\n",
        "print(lr.coef_, lr.intercept_)"
      ],
      "metadata": {
        "id": "_iNhWVBjkleu",
        "outputId": "99023ce6-17a7-43ad-ba9c-bbc932f1be02",
        "colab": {
          "base_uri": "https://localhost:8080/"
        }
      },
      "execution_count": 102,
      "outputs": [
        {
          "output_type": "stream",
          "name": "stdout",
          "text": [
            "[39.01714496] -709.0186449535477\n"
          ]
        }
      ]
    },
    {
      "cell_type": "markdown",
      "source": [
        "농어의 길이 15에서 50까지 직선으로 그린다. \n",
        "직선을 그리려면 (15, 15x39-709)와 (50, 50x39-709) 두 점을 이으면 됨 "
      ],
      "metadata": {
        "id": "THT0gmZwmuS_"
      }
    },
    {
      "cell_type": "code",
      "source": [
        "#훈련 세트의 산점도를 그린다 \n",
        "plt.scatter(train_input, train_target)\n",
        "\n",
        "#15에서 50까지 1차 방정식 그래프를 그린다 \n",
        "plt.plot([15,50], [15*lr.coef_+lr.intercept_,50*lr.coef_+lr.intercept_])\n",
        "\n",
        "#50cm 농어 데이터\n",
        "plt.scatter(50, 1241.8, marker='^')\n",
        "plt.xlabel('length')\n",
        "plt.ylabel('weight')\n",
        "plt.show()"
      ],
      "metadata": {
        "id": "-g5i0uTjmrR_",
        "outputId": "d6c2aab3-ccba-4467-eea3-15c193c188a3",
        "colab": {
          "base_uri": "https://localhost:8080/",
          "height": 279
        }
      },
      "execution_count": 104,
      "outputs": [
        {
          "output_type": "display_data",
          "data": {
            "text/plain": [
              "<Figure size 432x288 with 1 Axes>"
            ],
            "image/png": "[encoded data removed]"
          },
          "metadata": {
            "needs_background": "light"
          }
        }
      ]
    },
    {
      "cell_type": "markdown",
      "source": [
        "직선이 선형 회귀 알고리즘이 이 데이터 셋에서 찾은 최적의 직선이다."
      ],
      "metadata": {
        "id": "Ng5f5N_KohRP"
      }
    },
    {
      "cell_type": "code",
      "source": [
        "#훈련 세트 \n",
        "print(lr.score(train_input, train_target))\n",
        "#테스트 세트\n",
        "print(lr.score(test_input, test_target))"
      ],
      "metadata": {
        "id": "Rvd8Zd_3oU4D",
        "outputId": "ca750aac-e2aa-4539-ee06-94aeb8d97dad",
        "colab": {
          "base_uri": "https://localhost:8080/"
        }
      },
      "execution_count": 105,
      "outputs": [
        {
          "output_type": "stream",
          "name": "stdout",
          "text": [
            "0.939846333997604\n",
            "0.8247503123313558\n"
          ]
        }
      ]
    },
    {
      "cell_type": "markdown",
      "source": [
        "훈련세트와 테스트 세트의 점수가 조금 차이가 난다. 이 모델은 훈련 세트의 점수가 그렇게 높지 않기 때문에 전체적으로 과소적합되어있음\n",
        "그리고 그래프가 0이하로 떨어지는 것이 그래프가 잘 못된 것임을 발견하였음\n",
        "\n",
        "따라서 1차가 아닌 2차그래프를 그렸어야 했음\n",
        "2차 방정식 그래프를 그리려면 길이를 제곱한 항이 훈련 세트에 추가되어야함 "
      ],
      "metadata": {
        "id": "e454VaP-oxvC"
      }
    },
    {
      "cell_type": "code",
      "source": [
        "train_poly = np.column_stack((train_input **2, train_input))\n",
        "test_poly = np.column_stack((test_input **2, test_input))"
      ],
      "metadata": {
        "id": "RNjl9as6ov35"
      },
      "execution_count": 106,
      "outputs": []
    },
    {
      "cell_type": "code",
      "source": [
        "print(train_poly.shape, test_poly.shape) \n",
        "\n",
        "#열이 1개였다가 2개로 추가되었음을 확인할 수 있었음 "
      ],
      "metadata": {
        "id": "CxWwyry_powP",
        "outputId": "16f450fb-2fc8-4bc2-d2a1-48e55bddd802",
        "colab": {
          "base_uri": "https://localhost:8080/"
        }
      },
      "execution_count": 107,
      "outputs": [
        {
          "output_type": "stream",
          "name": "stdout",
          "text": [
            "(42, 2) (14, 2)\n"
          ]
        }
      ]
    },
    {
      "cell_type": "code",
      "source": [
        "#50cm짜리 농어에 대해 무게를 예측, 훈련세트에서 했던 것처럼 모델에 농어의 길이의 제곱과 원래 길이를 함께 넣어주어야함 \n",
        "lr = LinearRegression()\n",
        "lr.fit(train_poly, train_target)\n",
        "\n",
        "print(lr.predict([[50**2, 50]]))"
      ],
      "metadata": {
        "id": "GQYmNOUrpuF9",
        "outputId": "13c5d114-b94e-477f-f4b2-22afeb8c139d",
        "colab": {
          "base_uri": "https://localhost:8080/"
        }
      },
      "execution_count": 109,
      "outputs": [
        {
          "output_type": "stream",
          "name": "stdout",
          "text": [
            "[1573.98423528]\n"
          ]
        }
      ]
    },
    {
      "cell_type": "code",
      "source": [
        "#계수와 절편을 출력하기 \n",
        "\n",
        "print(lr.coef_, lr.intercept_)"
      ],
      "metadata": {
        "id": "NsywayHTqU-O",
        "outputId": "c3ffe8c7-083e-4cf3-bc26-d8763fad1280",
        "colab": {
          "base_uri": "https://localhost:8080/"
        }
      },
      "execution_count": 110,
      "outputs": [
        {
          "output_type": "stream",
          "name": "stdout",
          "text": [
            "[  1.01433211 -21.55792498] 116.0502107827827\n"
          ]
        }
      ]
    },
    {
      "cell_type": "markdown",
      "source": [
        "모델은 무게 = 1.01 x 길이^2 - 21.6 x 길이 +116.05 를 학습하였다 "
      ],
      "metadata": {
        "id": "Q3CqjP0hqcKk"
      }
    },
    {
      "cell_type": "code",
      "source": [
        "#구간별 직선을 그리기 위해 15에서 49까지 정수 배열을 만든다 \n",
        "point= np.arange(15, 50)\n",
        "\n",
        "#훈련 세트의 산점도를 그린다 \n",
        "plt.scatter(train_input, train_target)\n",
        "\n",
        "#15에서 49까지 2차 방정식 그래프를 그린다 \n",
        "plt.plot(point, 1.01*point**2 - 21.6*point + 116.05)"
      ],
      "metadata": {
        "id": "Va1TfSwAqjRo",
        "outputId": "7e274ef5-4e3d-42cc-c3b1-e81b72e61ac2",
        "colab": {
          "base_uri": "https://localhost:8080/",
          "height": 283
        }
      },
      "execution_count": 111,
      "outputs": [
        {
          "output_type": "execute_result",
          "data": {
            "text/plain": [
              "[<matplotlib.lines.Line2D at 0x7fefa0b2b410>]"
            ]
          },
          "metadata": {},
          "execution_count": 111
        },
        {
          "output_type": "display_data",
          "data": {
            "text/plain": [
              "<Figure size 432x288 with 1 Axes>"
            ],
            "image/png": "[encoded data removed]"
          },
          "metadata": {
            "needs_background": "light"
          }
        }
      ]
    },
    {
      "cell_type": "code",
      "source": [
        "#훈련 세트와 테스트 세트의 r2(결정계수)점수를 확인 \n",
        "\n",
        "print(lr.score(train_poly, train_target))\n",
        "print(lr.score(test_poly, test_target))"
      ],
      "metadata": {
        "id": "iYsCOxXqrXH5",
        "outputId": "6c11a969-ac08-4931-cc90-eb5116e5b236",
        "colab": {
          "base_uri": "https://localhost:8080/"
        }
      },
      "execution_count": 112,
      "outputs": [
        {
          "output_type": "stream",
          "name": "stdout",
          "text": [
            "0.9706807451768623\n",
            "0.9775935108325122\n"
          ]
        }
      ]
    },
    {
      "cell_type": "markdown",
      "source": [
        "=> 훈련세트와 테스트 세트에 대한 점수가 크게 높아졌음 but 여전히 테스트 세트의 점수가 조금 더 높은 것을 보아 과소적합이 아직 남아있음"
      ],
      "metadata": {
        "id": "kXLl4rxArniD"
      }
    },
    {
      "cell_type": "markdown",
      "source": [
        "03-3 특성공학과 규제"
      ],
      "metadata": {
        "id": "_fg4kum2v8y8"
      }
    },
    {
      "cell_type": "code",
      "source": [
        "import pandas as pd \n",
        "\n",
        "df = pd.read_csv('https://bit.ly/perch_csv_data')\n",
        "perch_full = df.to_numpy()\n",
        "print(perch_full)"
      ],
      "metadata": {
        "id": "COhbj97prlq0",
        "outputId": "4e3683ae-a4fe-42d3-ee96-dd395b9abf0d",
        "colab": {
          "base_uri": "https://localhost:8080/"
        }
      },
      "execution_count": 113,
      "outputs": [
        {
          "output_type": "stream",
          "name": "stdout",
          "text": [
            "[[ 8.4   2.11  1.41]\n",
            " [13.7   3.53  2.  ]\n",
            " [15.    3.82  2.43]\n",
            " [16.2   4.59  2.63]\n",
            " [17.4   4.59  2.94]\n",
            " [18.    5.22  3.32]\n",
            " [18.7   5.2   3.12]\n",
            " [19.    5.64  3.05]\n",
            " [19.6   5.14  3.04]\n",
            " [20.    5.08  2.77]\n",
            " [21.    5.69  3.56]\n",
            " [21.    5.92  3.31]\n",
            " [21.    5.69  3.67]\n",
            " [21.3   6.38  3.53]\n",
            " [22.    6.11  3.41]\n",
            " [22.    5.64  3.52]\n",
            " [22.    6.11  3.52]\n",
            " [22.    5.88  3.52]\n",
            " [22.    5.52  4.  ]\n",
            " [22.5   5.86  3.62]\n",
            " [22.5   6.79  3.62]\n",
            " [22.7   5.95  3.63]\n",
            " [23.    5.22  3.63]\n",
            " [23.5   6.28  3.72]\n",
            " [24.    7.29  3.72]\n",
            " [24.    6.38  3.82]\n",
            " [24.6   6.73  4.17]\n",
            " [25.    6.44  3.68]\n",
            " [25.6   6.56  4.24]\n",
            " [26.5   7.17  4.14]\n",
            " [27.3   8.32  5.14]\n",
            " [27.5   7.17  4.34]\n",
            " [27.5   7.05  4.34]\n",
            " [27.5   7.28  4.57]\n",
            " [28.    7.82  4.2 ]\n",
            " [28.7   7.59  4.64]\n",
            " [30.    7.62  4.77]\n",
            " [32.8  10.03  6.02]\n",
            " [34.5  10.26  6.39]\n",
            " [35.   11.49  7.8 ]\n",
            " [36.5  10.88  6.86]\n",
            " [36.   10.61  6.74]\n",
            " [37.   10.84  6.26]\n",
            " [37.   10.57  6.37]\n",
            " [39.   11.14  7.49]\n",
            " [39.   11.14  6.  ]\n",
            " [39.   12.43  7.35]\n",
            " [40.   11.93  7.11]\n",
            " [40.   11.73  7.22]\n",
            " [40.   12.38  7.46]\n",
            " [40.   11.14  6.63]\n",
            " [42.   12.8   6.87]\n",
            " [43.   11.93  7.28]\n",
            " [43.   12.51  7.42]\n",
            " [43.5  12.6   8.14]\n",
            " [44.   12.49  7.6 ]]\n"
          ]
        }
      ]
    },
    {
      "cell_type": "code",
      "source": [
        "import numpy as np \n",
        "perch_weight = np.array([5.9, 32.0, 40.0, 51.5, 70.0, 100.0, 78.0, 80.0, 85.0, 85.0, 110.0,\n",
        "       115.0, 125.0, 130.0, 120.0, 120.0, 130.0, 135.0, 110.0, 130.0,\n",
        "       150.0, 145.0, 150.0, 170.0, 225.0, 145.0, 188.0, 180.0, 197.0,\n",
        "       218.0, 300.0, 260.0, 265.0, 250.0, 250.0, 300.0, 320.0, 514.0,\n",
        "       556.0, 840.0, 685.0, 700.0, 700.0, 690.0, 900.0, 650.0, 820.0,\n",
        "       850.0, 900.0, 1015.0, 820.0, 1100.0, 1000.0, 1100.0, 1000.0,\n",
        "       1000.0])"
      ],
      "metadata": {
        "id": "fMmzKMFvwMsb"
      },
      "execution_count": 114,
      "outputs": []
    },
    {
      "cell_type": "code",
      "source": [
        "#perch_full과 perch_weight를 훈련 세트와 테스트 세트로 나눔 \n",
        "from sklearn.model_selection import train_test_split\n",
        "train_input, test_input, train_target, test_target = train_test_split(\n",
        "    perch_full, perch_weight, random_state=42\n",
        ")"
      ],
      "metadata": {
        "id": "XBuZf0xVwbbd"
      },
      "execution_count": 117,
      "outputs": []
    },
    {
      "cell_type": "code",
      "source": [
        "from sklearn.preprocessing import PolynomialFeatures\n",
        "\n",
        "poly= PolynomialFeatures()\n",
        "poly.fit([[2,3]])\n",
        "print(poly.transform([[2,3]]))"
      ],
      "metadata": {
        "id": "F_5Pzqwxwlpd",
        "outputId": "7868e4c0-4d78-4a6e-d5f2-cb9b1aa0ace6",
        "colab": {
          "base_uri": "https://localhost:8080/"
        }
      },
      "execution_count": 118,
      "outputs": [
        {
          "output_type": "stream",
          "name": "stdout",
          "text": [
            "[[1. 2. 3. 4. 6. 9.]]\n"
          ]
        }
      ]
    },
    {
      "cell_type": "markdown",
      "source": [
        "PolynomialFeatures 클래스는 기본적으로 각 특성을 제곱한 항을 추가하고 특성끼리 서로 곱한 항을 추가하였음 \n",
        "\n",
        "무게 = a x 길이 + b x 높이 + c x 두께 + d x 1\n",
        "선형 방정식의 절편을 항상 값이 1인 특성과 곱해지는 계수, 특성은 (길이, 높이, 두께, 1)이 됨 "
      ],
      "metadata": {
        "id": "1vO0wsIMyGlU"
      }
    },
    {
      "cell_type": "code",
      "source": [
        "#사이킷런의 선형 모델은 자동으로 절편을 추가하므로 특성을 만들 필요 없음 \n",
        "#include_bias= False로 지정하여 다시 특성을 변환 \n",
        "\n",
        "poly= PolynomialFeatures(include_bias=False)\n",
        "poly.fit([[2,3]])\n",
        "print(poly.transform([[2,3]]))\n",
        "\n",
        "#절편을 위한 항이 제거되고 특성의 제곱과 특성끼리 곱한 항만 추가되었음 "
      ],
      "metadata": {
        "id": "aDRsEavvxh-H",
        "outputId": "4910547f-feb5-4152-d012-17603a416d53",
        "colab": {
          "base_uri": "https://localhost:8080/"
        }
      },
      "execution_count": 119,
      "outputs": [
        {
          "output_type": "stream",
          "name": "stdout",
          "text": [
            "[[2. 3. 4. 6. 9.]]\n"
          ]
        }
      ]
    },
    {
      "cell_type": "code",
      "source": [
        "poly= PolynomialFeatures(include_bias=False)\n",
        "poly.fit(train_input)\n",
        "train_poly= poly.transform(train_input)\n",
        "print(train_poly.shape)"
      ],
      "metadata": {
        "id": "a21B9R6Lyv7j",
        "outputId": "c5530e82-7632-46f9-81a1-adbb88283a79",
        "colab": {
          "base_uri": "https://localhost:8080/"
        }
      },
      "execution_count": 120,
      "outputs": [
        {
          "output_type": "stream",
          "name": "stdout",
          "text": [
            "(42, 9)\n"
          ]
        }
      ]
    },
    {
      "cell_type": "code",
      "source": [
        "#PolynomialFeatures 클래스는 9개의 특성이 어떻게 만들어졌는지 확인 \n",
        "#get_feature_names_out() 메서드를 호출하면 9개의 특성이 각각 어떤 입력의 조합으로 만들어졌는지 일려줌 \n",
        "\n",
        "poly.get_feature_names_out()\n"
      ],
      "metadata": {
        "id": "QLdCP1nm2uas",
        "outputId": "ac553f9d-0802-4d3d-f22d-13fc043069af",
        "colab": {
          "base_uri": "https://localhost:8080/"
        }
      },
      "execution_count": 121,
      "outputs": [
        {
          "output_type": "execute_result",
          "data": {
            "text/plain": [
              "array(['x0', 'x1', 'x2', 'x0^2', 'x0 x1', 'x0 x2', 'x1^2', 'x1 x2',\n",
              "       'x2^2'], dtype=object)"
            ]
          },
          "metadata": {},
          "execution_count": 121
        }
      ]
    },
    {
      "cell_type": "code",
      "source": [
        "test_poly= poly.transform(test_input)"
      ],
      "metadata": {
        "id": "t3qY_Pet3C8m"
      },
      "execution_count": 122,
      "outputs": []
    },
    {
      "cell_type": "code",
      "source": [
        "## 다중 회귀모델 훈련하기\n",
        "\n",
        "from sklearn.linear_model import LinearRegression\n",
        "lr = LinearRegression()\n",
        "lr.fit(train_poly, train_target)"
      ],
      "metadata": {
        "id": "9nxUCCTV3G8E",
        "outputId": "f8161013-b773-4e83-b000-2842b974231d",
        "colab": {
          "base_uri": "https://localhost:8080/"
        }
      },
      "execution_count": 123,
      "outputs": [
        {
          "output_type": "execute_result",
          "data": {
            "text/plain": [
              "LinearRegression()"
            ]
          },
          "metadata": {},
          "execution_count": 123
        }
      ]
    },
    {
      "cell_type": "code",
      "source": [
        "print(lr.score(train_poly, train_target))"
      ],
      "metadata": {
        "id": "K--QK44P3Vff",
        "outputId": "0529c4fb-5f4e-4d2e-fcc2-fc3e6051a744",
        "colab": {
          "base_uri": "https://localhost:8080/"
        }
      },
      "execution_count": 124,
      "outputs": [
        {
          "output_type": "stream",
          "name": "stdout",
          "text": [
            "0.9903183436982124\n"
          ]
        }
      ]
    },
    {
      "cell_type": "markdown",
      "source": [
        "농어의 길이 뿐만 아니라 높이와 두께를 모두 사용하였고 각 특성을 제곱하거나 서로 곱해서 다항 특성을 더 추가하였음 \n",
        "\n",
        "특성이 늘어나면 선형회귀 능력은 매우 강하다"
      ],
      "metadata": {
        "id": "IFFNolJl3n72"
      }
    },
    {
      "cell_type": "code",
      "source": [
        "#테스트 세트에 대한 설명 \n",
        "print(lr.score(test_poly, test_target))"
      ],
      "metadata": {
        "id": "Y8w-OGN63g0I",
        "outputId": "a6692e11-91bf-4337-a135-4291f6fbbd34",
        "colab": {
          "base_uri": "https://localhost:8080/"
        }
      },
      "execution_count": 125,
      "outputs": [
        {
          "output_type": "stream",
          "name": "stdout",
          "text": [
            "0.9714559911594134\n"
          ]
        }
      ]
    },
    {
      "cell_type": "markdown",
      "source": [
        "테스트 세트에 대한 점수는 높아지지 않았지만 농어의 길이만 사용했을 때, 과소적합 문제는 더이상 나타나지 않았음"
      ],
      "metadata": {
        "id": "0bLcTx5C36XQ"
      }
    },
    {
      "cell_type": "code",
      "source": [
        "#polynomialfeatures에 degree 매개변수를 사용하여 필요한 고차항의 최대 차수를 지정할 수 있음 \n",
        "#5제곱까지 특성을 만들어 출력 \n",
        "poly = PolynomialFeatures(degree=5, include_bias=False)\n",
        "poly.fit(train_input)\n",
        "train_poly= poly.transform(train_input)\n",
        "test_poly= poly.transform(test_input)\n",
        "print(train_poly.shape)"
      ],
      "metadata": {
        "id": "PiCKlR8o340S",
        "outputId": "61c2d3bc-3167-4fa5-94ba-401c1ffdefd4",
        "colab": {
          "base_uri": "https://localhost:8080/"
        }
      },
      "execution_count": 126,
      "outputs": [
        {
          "output_type": "stream",
          "name": "stdout",
          "text": [
            "(42, 55)\n"
          ]
        }
      ]
    },
    {
      "cell_type": "markdown",
      "source": [
        "만들어진 특성의 개수가 55개, train_poly배열의 열의 수가 특성의 개수.\n",
        "이 데이터를 사용해 선형 회귀 모델을 다시 훈련함"
      ],
      "metadata": {
        "id": "sgTily9p4mZF"
      }
    },
    {
      "cell_type": "code",
      "source": [
        "lr.fit(train_poly, train_target)\n",
        "print(lr.score(train_poly, train_target))"
      ],
      "metadata": {
        "id": "p832zFYS4Uqf",
        "outputId": "d3f87a53-55c8-4348-ad0a-9d02bb4c01b5",
        "colab": {
          "base_uri": "https://localhost:8080/"
        }
      },
      "execution_count": 127,
      "outputs": [
        {
          "output_type": "stream",
          "name": "stdout",
          "text": [
            "0.9999999999991097\n"
          ]
        }
      ]
    },
    {
      "cell_type": "code",
      "source": [
        "print(lr.score(test_poly, test_target))"
      ],
      "metadata": {
        "id": "d61Yn_a645bL",
        "outputId": "20c16a04-7e61-4e2a-a788-cc02a2bea3b8",
        "colab": {
          "base_uri": "https://localhost:8080/"
        }
      },
      "execution_count": 128,
      "outputs": [
        {
          "output_type": "stream",
          "name": "stdout",
          "text": [
            "-144.40579242684848\n"
          ]
        }
      ]
    },
    {
      "cell_type": "markdown",
      "source": [
        "특성의 개수를 크게 늘리면 선형 모델은 아주 강력해짐, 훈련세트에 대해 거의 완벽하게 학습할 수 있지만 과대적합되므로 테스트 세트에서는 형편없는 점수를 만듦 "
      ],
      "metadata": {
        "id": "sjgkqOmp4-Z5"
      }
    },
    {
      "cell_type": "code",
      "source": [
        "from sklearn.preprocessing import StandardScaler \n",
        "#StandardScaler 클래스의 객체 ss를 초기화\n",
        "ss= StandardScaler()\n",
        "#PolynomialFeatures 클래스로 만든 train_poly를 사용하여 객체를 훈련\n",
        "ss.fit(train_poly)\n",
        "#표준 점수로 변환 \n",
        "train_scaled = ss.transform(train_poly)\n",
        "test_scaled = ss.transform(test_poly)"
      ],
      "metadata": {
        "id": "0mXklO6e488o"
      },
      "execution_count": 130,
      "outputs": []
    },
    {
      "cell_type": "markdown",
      "source": [
        "릿지회귀"
      ],
      "metadata": {
        "id": "XNhT5i0XDlqO"
      }
    },
    {
      "cell_type": "code",
      "source": [
        "from sklearn.linear_model import Ridge \n",
        "ridge = Ridge()\n",
        "ridge.fit(train_scaled, train_target)\n",
        "print(ridge.score(train_scaled, train_target))"
      ],
      "metadata": {
        "id": "NBOUor8B6A3Y",
        "outputId": "ea410171-33c4-4174-e0ff-fc86d30be203",
        "colab": {
          "base_uri": "https://localhost:8080/"
        }
      },
      "execution_count": 131,
      "outputs": [
        {
          "output_type": "stream",
          "name": "stdout",
          "text": [
            "0.9896101671037343\n"
          ]
        }
      ]
    },
    {
      "cell_type": "code",
      "source": [
        "#테스트 세트에 대한 점수를 확인 \n",
        "print(ridge.score(test_scaled, test_target))"
      ],
      "metadata": {
        "id": "e6C9TBSuD1Yp",
        "outputId": "70a48dc5-2c8d-4c2f-ca21-348d82c04b04",
        "colab": {
          "base_uri": "https://localhost:8080/"
        }
      },
      "execution_count": 132,
      "outputs": [
        {
          "output_type": "stream",
          "name": "stdout",
          "text": [
            "0.9790693977615391\n"
          ]
        }
      ]
    },
    {
      "cell_type": "markdown",
      "source": [
        "테스트 점수가 많은 특성을 사용했음에도 불구하고 훈련 세트에 너무 과대적합되지 않아 테스트 세트에서도 좋은 성능을 내고 있음 "
      ],
      "metadata": {
        "id": "pyLr04LGD_vx"
      }
    },
    {
      "cell_type": "markdown",
      "source": [
        "릿지와 라쏘 모델을 사용할 때 규제의 양을 임의로 조절할 수 있음, 모델 객체를 만들 때 alpha 매개변수로 규제의 강도를 조절함. alpha 값이 크면 규제 강도가 세지므로 계수 값을 더 줄이고 조금 더 과소 적합되도록 유도, \n",
        "alpha 값이 작으면 계수를 줄이는 역할이 줄어들고 선형회귀 모델과 유사해지므로 과대적합이 될 가능성이 높음"
      ],
      "metadata": {
        "id": "qtosDqegELzV"
      }
    },
    {
      "cell_type": "code",
      "source": [
        "import matplotlib.pyplot as plt\n",
        "train_score= []\n",
        "test_score=[]"
      ],
      "metadata": {
        "id": "5yEesCvxELa7"
      },
      "execution_count": 133,
      "outputs": []
    },
    {
      "cell_type": "code",
      "source": [
        "#alpha 값을 0.001에서 100까지 10배씩 늘려가면서 릿지회귀모델을 훈련\n",
        "#훈련세트와 테스트 세트의 점수를 파이썬 리스트에 저장 \n",
        "\n",
        "alhpa_list = [0.001, 0.01, 0.1, 1, 10, 100]\n",
        "for alpha in alhpa_list:\n",
        "  #릿지 모델을 만듦 \n",
        "  ridge = Ridge(alpha=alpha)\n",
        "  #릿지 모델을 훈련함 \n",
        "  ridge.fit(train_scaled, train_target)\n",
        "  #훈련 점수와 테스트 점수를 저장\n",
        "  train_score.append(ridge.score(train_scaled, train_target))\n",
        "  test_score.append(ridge.score(test_scaled, test_target))"
      ],
      "metadata": {
        "id": "d_lnnqabD9j0"
      },
      "execution_count": 134,
      "outputs": []
    },
    {
      "cell_type": "code",
      "source": [
        "plt.plot(np.log10(alhpa_list), train_score)\n",
        "plt.plot(np.log10(alhpa_list), test_score)\n",
        "plt.xlabel('alpha')\n",
        "plt.ylabel('R^2')\n",
        "plt.show()"
      ],
      "metadata": {
        "id": "8Jd6h_xsLqtZ",
        "outputId": "5ae8f9e7-e888-4dfe-d93c-d0bdef625d82",
        "colab": {
          "base_uri": "https://localhost:8080/",
          "height": 279
        }
      },
      "execution_count": 136,
      "outputs": [
        {
          "output_type": "display_data",
          "data": {
            "text/plain": [
              "<Figure size 432x288 with 1 Axes>"
            ],
            "image/png": "[encoded data removed]"
          },
          "metadata": {
            "needs_background": "light"
          }
        }
      ]
    },
    {
      "cell_type": "markdown",
      "source": [
        "파란색은 훈련세트 그래프, 주황색은 테스트 세트 그래프이다. 훈련세트에는 잘 맞고 테스트 세트에는 형편없는 과대적합의 전형적인 모습을 보임. 오른쪽 편은 훈련세트와 테스트세트의 점수가 모두 낮아지는 과소적합으로 가는 모습을 보임"
      ],
      "metadata": {
        "id": "aCpmfMgLRA8u"
      }
    },
    {
      "cell_type": "code",
      "source": [
        "ridge= Ridge(alpha=0.1)\n",
        "ridge.fit(train_scaled, train_target)\n",
        "print(ridge.score(train_scaled, train_target))\n",
        "print(ridge.score(test_scaled, test_target))"
      ],
      "metadata": {
        "id": "oG8ZUKWmVoDp",
        "outputId": "8dd3110f-c11f-410c-dc81-95c385e7218c",
        "colab": {
          "base_uri": "https://localhost:8080/"
        }
      },
      "execution_count": 139,
      "outputs": [
        {
          "output_type": "stream",
          "name": "stdout",
          "text": [
            "0.9903815817570365\n",
            "0.9827976465386884\n"
          ]
        }
      ]
    },
    {
      "cell_type": "markdown",
      "source": [
        "훈련세트와 테스트세트의 점수가 비슷하게 모두 높고 과대적합과 과소적합 사이에서 균형을 맞추고 있다."
      ],
      "metadata": {
        "id": "P8LQyESPYMQP"
      }
    },
    {
      "cell_type": "markdown",
      "source": [
        "라쏘회귀 "
      ],
      "metadata": {
        "id": "lMIT5MLZatPq"
      }
    },
    {
      "cell_type": "code",
      "source": [
        "from sklearn.linear_model import Lasso\n",
        "lasso= Lasso()\n",
        "lasso.fit(train_scaled, train_target)\n",
        "print(lasso.score(train_scaled, train_target))"
      ],
      "metadata": {
        "id": "Hut6_VNHVoBX",
        "outputId": "e3ac6a4d-04bb-4ef3-ae96-9cfb0c32d6c5",
        "colab": {
          "base_uri": "https://localhost:8080/"
        }
      },
      "execution_count": 140,
      "outputs": [
        {
          "output_type": "stream",
          "name": "stdout",
          "text": [
            "0.989789897208096\n"
          ]
        }
      ]
    },
    {
      "cell_type": "code",
      "source": [
        "print(lasso.score(test_scaled, test_target))"
      ],
      "metadata": {
        "id": "v_qsQMoPbPyG",
        "outputId": "477d0b90-327e-4ee9-8e83-494c842f2292",
        "colab": {
          "base_uri": "https://localhost:8080/"
        }
      },
      "execution_count": 141,
      "outputs": [
        {
          "output_type": "stream",
          "name": "stdout",
          "text": [
            "0.9800593698421883\n"
          ]
        }
      ]
    },
    {
      "cell_type": "markdown",
      "source": [
        "라쏘 모델도 alpha 매개변수로 규제의 강도를 조절할  수 있음 "
      ],
      "metadata": {
        "id": "QN9orvPEbkFJ"
      }
    },
    {
      "cell_type": "code",
      "source": [
        "train_score = []\n",
        "test_score = []\n",
        "alpha_list = [0.001, 0.01, 0,1, 1, 10, 100]\n",
        "for alhpa in alhpa_list:\n",
        "  #라쏘 모델을 만든다 \n",
        "  lasso = Lasso(alpha=alpha, max_iter = 10000)\n",
        "  #라쏘 모델을 훈련\n",
        "  lasso.fit(train_scaled, train_target)\n",
        "  #훈련 점수와 테스트 점수를 저장\n",
        "  train_score.append(lasso.score(train_scaled, train_target))\n",
        "  test_score.append(lasso.score(test_scaled, test_target))"
      ],
      "metadata": {
        "id": "Cbbex7_qbVKJ"
      },
      "execution_count": 145,
      "outputs": []
    },
    {
      "cell_type": "code",
      "source": [
        "#164p 해야함"
      ],
      "metadata": {
        "id": "9h82er7qdmEZ"
      },
      "execution_count": null,
      "outputs": []
    }
  ]
}