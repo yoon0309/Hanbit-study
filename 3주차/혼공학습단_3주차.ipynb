{
  "nbformat": 4,
  "nbformat_minor": 0,
  "metadata": {
    "colab": {
      "name": "혼공학습단 3주차.ipynb",
      "provenance": []
    },
    "kernelspec": {
      "name": "python3",
      "display_name": "Python 3"
    },
    "language_info": {
      "name": "python"
    },
    "gpuClass": "standard",
    "accelerator": "GPU"
  },
  "cells": [
    {
      "cell_type": "code",
      "execution_count": 1,
      "metadata": {
        "colab": {
          "base_uri": "https://localhost:8080/",
          "height": 206
        },
        "id": "93YpI2lYE_Ou",
        "outputId": "d910efff-ffc6-469f-ac20-e3163afdcabc"
      },
      "outputs": [
        {
          "output_type": "execute_result",
          "data": {
            "text/plain": [
              "  Species  Weight  Length  Diagonal   Height   Width\n",
              "0   Bream   242.0    25.4      30.0  11.5200  4.0200\n",
              "1   Bream   290.0    26.3      31.2  12.4800  4.3056\n",
              "2   Bream   340.0    26.5      31.1  12.3778  4.6961\n",
              "3   Bream   363.0    29.0      33.5  12.7300  4.4555\n",
              "4   Bream   430.0    29.0      34.0  12.4440  5.1340"
            ],
            "text/html": [
              "\n",
              "  <div id=\"df-500c8aa4-61a5-49fb-8041-22bfec0278c5\">\n",
              "    <div class=\"colab-df-container\">\n",
              "      <div>\n",
              "<style scoped>\n",
              "    .dataframe tbody tr th:only-of-type {\n",
              "        vertical-align: middle;\n",
              "    }\n",
              "\n",
              "    .dataframe tbody tr th {\n",
              "        vertical-align: top;\n",
              "    }\n",
              "\n",
              "    .dataframe thead th {\n",
              "        text-align: right;\n",
              "    }\n",
              "</style>\n",
              "<table border=\"1\" class=\"dataframe\">\n",
              "  <thead>\n",
              "    <tr style=\"text-align: right;\">\n",
              "      <th></th>\n",
              "      <th>Species</th>\n",
              "      <th>Weight</th>\n",
              "      <th>Length</th>\n",
              "      <th>Diagonal</th>\n",
              "      <th>Height</th>\n",
              "      <th>Width</th>\n",
              "    </tr>\n",
              "  </thead>\n",
              "  <tbody>\n",
              "    <tr>\n",
              "      <th>0</th>\n",
              "      <td>Bream</td>\n",
              "      <td>242.0</td>\n",
              "      <td>25.4</td>\n",
              "      <td>30.0</td>\n",
              "      <td>11.5200</td>\n",
              "      <td>4.0200</td>\n",
              "    </tr>\n",
              "    <tr>\n",
              "      <th>1</th>\n",
              "      <td>Bream</td>\n",
              "      <td>290.0</td>\n",
              "      <td>26.3</td>\n",
              "      <td>31.2</td>\n",
              "      <td>12.4800</td>\n",
              "      <td>4.3056</td>\n",
              "    </tr>\n",
              "    <tr>\n",
              "      <th>2</th>\n",
              "      <td>Bream</td>\n",
              "      <td>340.0</td>\n",
              "      <td>26.5</td>\n",
              "      <td>31.1</td>\n",
              "      <td>12.3778</td>\n",
              "      <td>4.6961</td>\n",
              "    </tr>\n",
              "    <tr>\n",
              "      <th>3</th>\n",
              "      <td>Bream</td>\n",
              "      <td>363.0</td>\n",
              "      <td>29.0</td>\n",
              "      <td>33.5</td>\n",
              "      <td>12.7300</td>\n",
              "      <td>4.4555</td>\n",
              "    </tr>\n",
              "    <tr>\n",
              "      <th>4</th>\n",
              "      <td>Bream</td>\n",
              "      <td>430.0</td>\n",
              "      <td>29.0</td>\n",
              "      <td>34.0</td>\n",
              "      <td>12.4440</td>\n",
              "      <td>5.1340</td>\n",
              "    </tr>\n",
              "  </tbody>\n",
              "</table>\n",
              "</div>\n",
              "      <button class=\"colab-df-convert\" onclick=\"convertToInteractive('df-500c8aa4-61a5-49fb-8041-22bfec0278c5')\"\n",
              "              title=\"Convert this dataframe to an interactive table.\"\n",
              "              style=\"display:none;\">\n",
              "        \n",
              "  <svg xmlns=\"http://www.w3.org/2000/svg\" height=\"24px\"viewBox=\"0 0 24 24\"\n",
              "       width=\"24px\">\n",
              "    <path d=\"M0 0h24v24H0V0z\" fill=\"none\"/>\n",
              "    <path d=\"M18.56 5.44l.94 2.06.94-2.06 2.06-.94-2.06-.94-.94-2.06-.94 2.06-2.06.94zm-11 1L8.5 8.5l.94-2.06 2.06-.94-2.06-.94L8.5 2.5l-.94 2.06-2.06.94zm10 10l.94 2.06.94-2.06 2.06-.94-2.06-.94-.94-2.06-.94 2.06-2.06.94z\"/><path d=\"M17.41 7.96l-1.37-1.37c-.4-.4-.92-.59-1.43-.59-.52 0-1.04.2-1.43.59L10.3 9.45l-7.72 7.72c-.78.78-.78 2.05 0 2.83L4 21.41c.39.39.9.59 1.41.59.51 0 1.02-.2 1.41-.59l7.78-7.78 2.81-2.81c.8-.78.8-2.07 0-2.86zM5.41 20L4 18.59l7.72-7.72 1.47 1.35L5.41 20z\"/>\n",
              "  </svg>\n",
              "      </button>\n",
              "      \n",
              "  <style>\n",
              "    .colab-df-container {\n",
              "      display:flex;\n",
              "      flex-wrap:wrap;\n",
              "      gap: 12px;\n",
              "    }\n",
              "\n",
              "    .colab-df-convert {\n",
              "      background-color: #E8F0FE;\n",
              "      border: none;\n",
              "      border-radius: 50%;\n",
              "      cursor: pointer;\n",
              "      display: none;\n",
              "      fill: #1967D2;\n",
              "      height: 32px;\n",
              "      padding: 0 0 0 0;\n",
              "      width: 32px;\n",
              "    }\n",
              "\n",
              "    .colab-df-convert:hover {\n",
              "      background-color: #E2EBFA;\n",
              "      box-shadow: 0px 1px 2px rgba(60, 64, 67, 0.3), 0px 1px 3px 1px rgba(60, 64, 67, 0.15);\n",
              "      fill: #174EA6;\n",
              "    }\n",
              "\n",
              "    [theme=dark] .colab-df-convert {\n",
              "      background-color: #3B4455;\n",
              "      fill: #D2E3FC;\n",
              "    }\n",
              "\n",
              "    [theme=dark] .colab-df-convert:hover {\n",
              "      background-color: #434B5C;\n",
              "      box-shadow: 0px 1px 3px 1px rgba(0, 0, 0, 0.15);\n",
              "      filter: drop-shadow(0px 1px 2px rgba(0, 0, 0, 0.3));\n",
              "      fill: #FFFFFF;\n",
              "    }\n",
              "  </style>\n",
              "\n",
              "      <script>\n",
              "        const buttonEl =\n",
              "          document.querySelector('#df-500c8aa4-61a5-49fb-8041-22bfec0278c5 button.colab-df-convert');\n",
              "        buttonEl.style.display =\n",
              "          google.colab.kernel.accessAllowed ? 'block' : 'none';\n",
              "\n",
              "        async function convertToInteractive(key) {\n",
              "          const element = document.querySelector('#df-500c8aa4-61a5-49fb-8041-22bfec0278c5');\n",
              "          const dataTable =\n",
              "            await google.colab.kernel.invokeFunction('convertToInteractive',\n",
              "                                                     [key], {});\n",
              "          if (!dataTable) return;\n",
              "\n",
              "          const docLinkHtml = 'Like what you see? Visit the ' +\n",
              "            '<a target=\"_blank\" href=https://colab.research.google.com/notebooks/data_table.ipynb>data table notebook</a>'\n",
              "            + ' to learn more about interactive tables.';\n",
              "          element.innerHTML = '';\n",
              "          dataTable['output_type'] = 'display_data';\n",
              "          await google.colab.output.renderOutput(dataTable, element);\n",
              "          const docLink = document.createElement('div');\n",
              "          docLink.innerHTML = docLinkHtml;\n",
              "          element.appendChild(docLink);\n",
              "        }\n",
              "      </script>\n",
              "    </div>\n",
              "  </div>\n",
              "  "
            ]
          },
          "metadata": {},
          "execution_count": 1
        }
      ],
      "source": [
        "import pandas as pd \n",
        "\n",
        "#데이터 불러오기\n",
        "fish= pd.read_csv('https://bit.ly/fish_csv_data')\n",
        "fish.head()"
      ]
    },
    {
      "cell_type": "code",
      "source": [
        "#어떤 종류의 생선이 있는지 Species의 고유값을 추출 \n",
        "print(pd.unique(fish['Species']))"
      ],
      "metadata": {
        "colab": {
          "base_uri": "https://localhost:8080/"
        },
        "id": "4pNe5HLyFOC3",
        "outputId": "a4b8ec99-e6cb-41a7-c37a-0e1e70633fc9"
      },
      "execution_count": 2,
      "outputs": [
        {
          "output_type": "stream",
          "name": "stdout",
          "text": [
            "['Bream' 'Roach' 'Whitefish' 'Parkki' 'Perch' 'Pike' 'Smelt']\n"
          ]
        }
      ]
    },
    {
      "cell_type": "code",
      "source": [
        "#fish의 컬럼 print\n",
        "fish.columns"
      ],
      "metadata": {
        "colab": {
          "base_uri": "https://localhost:8080/"
        },
        "id": "CQRWgD15H1MB",
        "outputId": "cc9e1ff7-2d80-4594-f758-f9c48988af49"
      },
      "execution_count": 3,
      "outputs": [
        {
          "output_type": "execute_result",
          "data": {
            "text/plain": [
              "Index(['Species', 'Weight', 'Length', 'Diagonal', 'Height', 'Width'], dtype='object')"
            ]
          },
          "metadata": {},
          "execution_count": 3
        }
      ]
    },
    {
      "cell_type": "markdown",
      "source": [
        "데이터 프레임에서 Species 열을 타깃으로 만들고 나머지 5개의 열은 입력 데이터로 사용하려함"
      ],
      "metadata": {
        "id": "vJYEw-wFIGuj"
      }
    },
    {
      "cell_type": "code",
      "source": [
        "#데이터프레임에서 원하는 열을 리스트로 나열\n",
        "fish_input = fish[['Weight', 'Length', 'Diagonal', 'Height', 'Width']].to_numpy()"
      ],
      "metadata": {
        "id": "whisLRFkFfKz"
      },
      "execution_count": 4,
      "outputs": []
    },
    {
      "cell_type": "code",
      "source": [
        "#fish_input에 5개의 특성이 잘 저장되었는지 처음 5개의 행을 출력해보기\n",
        "\n",
        "print(fish_input[:5])"
      ],
      "metadata": {
        "colab": {
          "base_uri": "https://localhost:8080/"
        },
        "id": "kF2jLVbjH-5c",
        "outputId": "027b9bdf-d502-4133-9335-d422f44ce68c"
      },
      "execution_count": 5,
      "outputs": [
        {
          "output_type": "stream",
          "name": "stdout",
          "text": [
            "[[242.      25.4     30.      11.52     4.02  ]\n",
            " [290.      26.3     31.2     12.48     4.3056]\n",
            " [340.      26.5     31.1     12.3778   4.6961]\n",
            " [363.      29.      33.5     12.73     4.4555]\n",
            " [430.      29.      34.      12.444    5.134 ]]\n"
          ]
        }
      ]
    },
    {
      "cell_type": "code",
      "source": [
        "fish"
      ],
      "metadata": {
        "colab": {
          "base_uri": "https://localhost:8080/",
          "height": 424
        },
        "id": "Zi2gfIBnJF7P",
        "outputId": "ef992d7c-e07a-4f2d-c73d-e474d34c5478"
      },
      "execution_count": 6,
      "outputs": [
        {
          "output_type": "execute_result",
          "data": {
            "text/plain": [
              "    Species  Weight  Length  Diagonal   Height   Width\n",
              "0     Bream   242.0    25.4      30.0  11.5200  4.0200\n",
              "1     Bream   290.0    26.3      31.2  12.4800  4.3056\n",
              "2     Bream   340.0    26.5      31.1  12.3778  4.6961\n",
              "3     Bream   363.0    29.0      33.5  12.7300  4.4555\n",
              "4     Bream   430.0    29.0      34.0  12.4440  5.1340\n",
              "..      ...     ...     ...       ...      ...     ...\n",
              "154   Smelt    12.2    12.2      13.4   2.0904  1.3936\n",
              "155   Smelt    13.4    12.4      13.5   2.4300  1.2690\n",
              "156   Smelt    12.2    13.0      13.8   2.2770  1.2558\n",
              "157   Smelt    19.7    14.3      15.2   2.8728  2.0672\n",
              "158   Smelt    19.9    15.0      16.2   2.9322  1.8792\n",
              "\n",
              "[159 rows x 6 columns]"
            ],
            "text/html": [
              "\n",
              "  <div id=\"df-094e2231-41fb-4d2f-8456-f77fbc9473b3\">\n",
              "    <div class=\"colab-df-container\">\n",
              "      <div>\n",
              "<style scoped>\n",
              "    .dataframe tbody tr th:only-of-type {\n",
              "        vertical-align: middle;\n",
              "    }\n",
              "\n",
              "    .dataframe tbody tr th {\n",
              "        vertical-align: top;\n",
              "    }\n",
              "\n",
              "    .dataframe thead th {\n",
              "        text-align: right;\n",
              "    }\n",
              "</style>\n",
              "<table border=\"1\" class=\"dataframe\">\n",
              "  <thead>\n",
              "    <tr style=\"text-align: right;\">\n",
              "      <th></th>\n",
              "      <th>Species</th>\n",
              "      <th>Weight</th>\n",
              "      <th>Length</th>\n",
              "      <th>Diagonal</th>\n",
              "      <th>Height</th>\n",
              "      <th>Width</th>\n",
              "    </tr>\n",
              "  </thead>\n",
              "  <tbody>\n",
              "    <tr>\n",
              "      <th>0</th>\n",
              "      <td>Bream</td>\n",
              "      <td>242.0</td>\n",
              "      <td>25.4</td>\n",
              "      <td>30.0</td>\n",
              "      <td>11.5200</td>\n",
              "      <td>4.0200</td>\n",
              "    </tr>\n",
              "    <tr>\n",
              "      <th>1</th>\n",
              "      <td>Bream</td>\n",
              "      <td>290.0</td>\n",
              "      <td>26.3</td>\n",
              "      <td>31.2</td>\n",
              "      <td>12.4800</td>\n",
              "      <td>4.3056</td>\n",
              "    </tr>\n",
              "    <tr>\n",
              "      <th>2</th>\n",
              "      <td>Bream</td>\n",
              "      <td>340.0</td>\n",
              "      <td>26.5</td>\n",
              "      <td>31.1</td>\n",
              "      <td>12.3778</td>\n",
              "      <td>4.6961</td>\n",
              "    </tr>\n",
              "    <tr>\n",
              "      <th>3</th>\n",
              "      <td>Bream</td>\n",
              "      <td>363.0</td>\n",
              "      <td>29.0</td>\n",
              "      <td>33.5</td>\n",
              "      <td>12.7300</td>\n",
              "      <td>4.4555</td>\n",
              "    </tr>\n",
              "    <tr>\n",
              "      <th>4</th>\n",
              "      <td>Bream</td>\n",
              "      <td>430.0</td>\n",
              "      <td>29.0</td>\n",
              "      <td>34.0</td>\n",
              "      <td>12.4440</td>\n",
              "      <td>5.1340</td>\n",
              "    </tr>\n",
              "    <tr>\n",
              "      <th>...</th>\n",
              "      <td>...</td>\n",
              "      <td>...</td>\n",
              "      <td>...</td>\n",
              "      <td>...</td>\n",
              "      <td>...</td>\n",
              "      <td>...</td>\n",
              "    </tr>\n",
              "    <tr>\n",
              "      <th>154</th>\n",
              "      <td>Smelt</td>\n",
              "      <td>12.2</td>\n",
              "      <td>12.2</td>\n",
              "      <td>13.4</td>\n",
              "      <td>2.0904</td>\n",
              "      <td>1.3936</td>\n",
              "    </tr>\n",
              "    <tr>\n",
              "      <th>155</th>\n",
              "      <td>Smelt</td>\n",
              "      <td>13.4</td>\n",
              "      <td>12.4</td>\n",
              "      <td>13.5</td>\n",
              "      <td>2.4300</td>\n",
              "      <td>1.2690</td>\n",
              "    </tr>\n",
              "    <tr>\n",
              "      <th>156</th>\n",
              "      <td>Smelt</td>\n",
              "      <td>12.2</td>\n",
              "      <td>13.0</td>\n",
              "      <td>13.8</td>\n",
              "      <td>2.2770</td>\n",
              "      <td>1.2558</td>\n",
              "    </tr>\n",
              "    <tr>\n",
              "      <th>157</th>\n",
              "      <td>Smelt</td>\n",
              "      <td>19.7</td>\n",
              "      <td>14.3</td>\n",
              "      <td>15.2</td>\n",
              "      <td>2.8728</td>\n",
              "      <td>2.0672</td>\n",
              "    </tr>\n",
              "    <tr>\n",
              "      <th>158</th>\n",
              "      <td>Smelt</td>\n",
              "      <td>19.9</td>\n",
              "      <td>15.0</td>\n",
              "      <td>16.2</td>\n",
              "      <td>2.9322</td>\n",
              "      <td>1.8792</td>\n",
              "    </tr>\n",
              "  </tbody>\n",
              "</table>\n",
              "<p>159 rows × 6 columns</p>\n",
              "</div>\n",
              "      <button class=\"colab-df-convert\" onclick=\"convertToInteractive('df-094e2231-41fb-4d2f-8456-f77fbc9473b3')\"\n",
              "              title=\"Convert this dataframe to an interactive table.\"\n",
              "              style=\"display:none;\">\n",
              "        \n",
              "  <svg xmlns=\"http://www.w3.org/2000/svg\" height=\"24px\"viewBox=\"0 0 24 24\"\n",
              "       width=\"24px\">\n",
              "    <path d=\"M0 0h24v24H0V0z\" fill=\"none\"/>\n",
              "    <path d=\"M18.56 5.44l.94 2.06.94-2.06 2.06-.94-2.06-.94-.94-2.06-.94 2.06-2.06.94zm-11 1L8.5 8.5l.94-2.06 2.06-.94-2.06-.94L8.5 2.5l-.94 2.06-2.06.94zm10 10l.94 2.06.94-2.06 2.06-.94-2.06-.94-.94-2.06-.94 2.06-2.06.94z\"/><path d=\"M17.41 7.96l-1.37-1.37c-.4-.4-.92-.59-1.43-.59-.52 0-1.04.2-1.43.59L10.3 9.45l-7.72 7.72c-.78.78-.78 2.05 0 2.83L4 21.41c.39.39.9.59 1.41.59.51 0 1.02-.2 1.41-.59l7.78-7.78 2.81-2.81c.8-.78.8-2.07 0-2.86zM5.41 20L4 18.59l7.72-7.72 1.47 1.35L5.41 20z\"/>\n",
              "  </svg>\n",
              "      </button>\n",
              "      \n",
              "  <style>\n",
              "    .colab-df-container {\n",
              "      display:flex;\n",
              "      flex-wrap:wrap;\n",
              "      gap: 12px;\n",
              "    }\n",
              "\n",
              "    .colab-df-convert {\n",
              "      background-color: #E8F0FE;\n",
              "      border: none;\n",
              "      border-radius: 50%;\n",
              "      cursor: pointer;\n",
              "      display: none;\n",
              "      fill: #1967D2;\n",
              "      height: 32px;\n",
              "      padding: 0 0 0 0;\n",
              "      width: 32px;\n",
              "    }\n",
              "\n",
              "    .colab-df-convert:hover {\n",
              "      background-color: #E2EBFA;\n",
              "      box-shadow: 0px 1px 2px rgba(60, 64, 67, 0.3), 0px 1px 3px 1px rgba(60, 64, 67, 0.15);\n",
              "      fill: #174EA6;\n",
              "    }\n",
              "\n",
              "    [theme=dark] .colab-df-convert {\n",
              "      background-color: #3B4455;\n",
              "      fill: #D2E3FC;\n",
              "    }\n",
              "\n",
              "    [theme=dark] .colab-df-convert:hover {\n",
              "      background-color: #434B5C;\n",
              "      box-shadow: 0px 1px 3px 1px rgba(0, 0, 0, 0.15);\n",
              "      filter: drop-shadow(0px 1px 2px rgba(0, 0, 0, 0.3));\n",
              "      fill: #FFFFFF;\n",
              "    }\n",
              "  </style>\n",
              "\n",
              "      <script>\n",
              "        const buttonEl =\n",
              "          document.querySelector('#df-094e2231-41fb-4d2f-8456-f77fbc9473b3 button.colab-df-convert');\n",
              "        buttonEl.style.display =\n",
              "          google.colab.kernel.accessAllowed ? 'block' : 'none';\n",
              "\n",
              "        async function convertToInteractive(key) {\n",
              "          const element = document.querySelector('#df-094e2231-41fb-4d2f-8456-f77fbc9473b3');\n",
              "          const dataTable =\n",
              "            await google.colab.kernel.invokeFunction('convertToInteractive',\n",
              "                                                     [key], {});\n",
              "          if (!dataTable) return;\n",
              "\n",
              "          const docLinkHtml = 'Like what you see? Visit the ' +\n",
              "            '<a target=\"_blank\" href=https://colab.research.google.com/notebooks/data_table.ipynb>data table notebook</a>'\n",
              "            + ' to learn more about interactive tables.';\n",
              "          element.innerHTML = '';\n",
              "          dataTable['output_type'] = 'display_data';\n",
              "          await google.colab.output.renderOutput(dataTable, element);\n",
              "          const docLink = document.createElement('div');\n",
              "          docLink.innerHTML = docLinkHtml;\n",
              "          element.appendChild(docLink);\n",
              "        }\n",
              "      </script>\n",
              "    </div>\n",
              "  </div>\n",
              "  "
            ]
          },
          "metadata": {},
          "execution_count": 6
        }
      ]
    },
    {
      "cell_type": "markdown",
      "source": [
        "fish 데이터 프레임을 출력한 값과 비교하였고, 입력데이터가 잘 준비되었는지 확인한 후 동일한 방식으로 타깃 데이터를 만들어보기 "
      ],
      "metadata": {
        "id": "EW2deMRzJCKX"
      }
    },
    {
      "cell_type": "code",
      "source": [
        "fish_target = fish['Species'].to_numpy()"
      ],
      "metadata": {
        "id": "6u5QGx0eIbYE"
      },
      "execution_count": 7,
      "outputs": []
    },
    {
      "cell_type": "code",
      "source": [
        "from sklearn.model_selection import train_test_split\n",
        "train_input, test_input, train_target, test_target = train_test_split(\n",
        "    fish_input, fish_target, random_state=42\n",
        ")"
      ],
      "metadata": {
        "id": "c9gvRqtfJZNr"
      },
      "execution_count": 8,
      "outputs": []
    },
    {
      "cell_type": "code",
      "source": [
        "#사이킷런 StandardScaler 클래스를 사용해 훈련세트와 테스트 세트를 표준화 전처리함 \n",
        "from sklearn.preprocessing import StandardScaler \n",
        "ss = StandardScaler()\n",
        "ss.fit(train_input)\n",
        "train_scaled = ss.transform(train_input)\n",
        "test_scaled = ss.transform(test_input)"
      ],
      "metadata": {
        "id": "dA_f6R8XPti2"
      },
      "execution_count": 9,
      "outputs": []
    },
    {
      "cell_type": "markdown",
      "source": [
        "#k-최근접 이웃 분류기의 확률 예측 "
      ],
      "metadata": {
        "id": "WOSwAE4GQfZB"
      }
    },
    {
      "cell_type": "code",
      "source": [
        "from sklearn.neighbors import KNeighborsClassifier\n",
        "#KNeighborsClassifier 클래스 객체를 만들고 최근접 이웃 개수인 k를 3으로 지정\n",
        "kn = KNeighborsClassifier(n_neighbors=3)\n",
        "#훈련세트로 모델을 훈련 \n",
        "kn.fit(train_scaled, train_target)\n",
        "#훈련세트와 테스트 세트의 점수를 확인\n",
        "print(kn.score(train_scaled, train_target))\n",
        "print(kn.score(test_scaled, test_target))"
      ],
      "metadata": {
        "colab": {
          "base_uri": "https://localhost:8080/"
        },
        "id": "yoTQz9fkQeIj",
        "outputId": "62ccc11d-3705-4886-ccfb-9472d17f641e"
      },
      "execution_count": 10,
      "outputs": [
        {
          "output_type": "stream",
          "name": "stdout",
          "text": [
            "0.8907563025210085\n",
            "0.85\n"
          ]
        }
      ]
    },
    {
      "cell_type": "markdown",
      "source": [
        "KNeighborsClassifier에서 정렬된 타깃값은 classes_속성에 저장되어 있음"
      ],
      "metadata": {
        "id": "tnl8bbvJXR8o"
      }
    },
    {
      "cell_type": "code",
      "source": [
        "print(kn.classes_)"
      ],
      "metadata": {
        "colab": {
          "base_uri": "https://localhost:8080/"
        },
        "id": "D5SLkmc9R_Cy",
        "outputId": "1317f31a-5eb0-4c1e-c4b9-4222fa7a5b85"
      },
      "execution_count": 11,
      "outputs": [
        {
          "output_type": "stream",
          "name": "stdout",
          "text": [
            "['Bream' 'Parkki' 'Perch' 'Pike' 'Roach' 'Smelt' 'Whitefish']\n"
          ]
        }
      ]
    },
    {
      "cell_type": "markdown",
      "source": [
        "'Bream'이 첫 번째 클래스, 'Parkki'가 두 번째 클래스가 되는 식으로 predict()메서드는 타깃값으로 예측을 출력함\n",
        "\n",
        "테스트 세트에 있는 처음 5개의 샘플의 타깃값을 예측해보자 "
      ],
      "metadata": {
        "id": "ZWNkbnEUYLeY"
      }
    },
    {
      "cell_type": "code",
      "source": [
        "print(kn.predict(test_scaled[:5]))"
      ],
      "metadata": {
        "colab": {
          "base_uri": "https://localhost:8080/"
        },
        "id": "Bki-8ugoW57_",
        "outputId": "45027839-9098-4313-8316-5ad8d2d99410"
      },
      "execution_count": 12,
      "outputs": [
        {
          "output_type": "stream",
          "name": "stdout",
          "text": [
            "['Perch' 'Smelt' 'Pike' 'Perch' 'Perch']\n"
          ]
        }
      ]
    },
    {
      "cell_type": "code",
      "source": [
        "import numpy as np\n",
        "proba = kn.predict_proba(test_scaled[:5])\n",
        "#decimals는 소수점 네 번째 자리까지 표기, 다섯 번째 자리에서 반올림한다 \n",
        "print(np.round(proba, decimals=4)) "
      ],
      "metadata": {
        "colab": {
          "base_uri": "https://localhost:8080/"
        },
        "id": "PStCBb-0YxiV",
        "outputId": "778134f7-e8aa-4409-e814-e1589ff82397"
      },
      "execution_count": 13,
      "outputs": [
        {
          "output_type": "stream",
          "name": "stdout",
          "text": [
            "[[0.     0.     1.     0.     0.     0.     0.    ]\n",
            " [0.     0.     0.     0.     0.     1.     0.    ]\n",
            " [0.     0.     0.     1.     0.     0.     0.    ]\n",
            " [0.     0.     0.6667 0.     0.3333 0.     0.    ]\n",
            " [0.     0.     0.6667 0.     0.3333 0.     0.    ]]\n"
          ]
        }
      ]
    },
    {
      "cell_type": "markdown",
      "source": [
        "[0. 0. 0.6667 0. 0.3333 0. 0. ] \n",
        "[]은 네번째 샘플이고, \n",
        "0. 은 첫 번째 클래스(Bream)에 대한 확률\n",
        "두번째 0. 은 두 번째 클래스(Parkki)에 대한 확률을 말한다 "
      ],
      "metadata": {
        "id": "t42VRzZyceN5"
      }
    },
    {
      "cell_type": "code",
      "source": [
        "#이 모델이 계산한 확률이 가장 가까운 이웃의 비율이 맞는지 확인 \n",
        "#네 번째 샘플의 최근접 이웃 클래스를 확인 \n",
        "\n",
        "distance, indexes = kn.kneighbors(test_scaled[3:4])\n",
        "print(train_target[indexes])"
      ],
      "metadata": {
        "colab": {
          "base_uri": "https://localhost:8080/"
        },
        "id": "51UkvejDaD2N",
        "outputId": "d4fec6fd-6e5e-48db-e7f5-5d2667b101ee"
      },
      "execution_count": 14,
      "outputs": [
        {
          "output_type": "stream",
          "name": "stdout",
          "text": [
            "[['Roach' 'Perch' 'Perch']]\n"
          ]
        }
      ]
    },
    {
      "cell_type": "markdown",
      "source": [
        "이 샘플의 이웃은 다섯 번째 클래스인 'Roach'가 1개 이고 세 번째 클래스인 'Perch'가 2개이므로 \n",
        "다섯 번째 클래스에 대한 확률은 1/3= 0.3333이고 세 번째 클래스에 대한 확률은 2/3= 0.6667이 되므로 앞서 출력한 네 번째 샘플의 클래스 확률과 같다 "
      ],
      "metadata": {
        "id": "nw6KhaZPdyZw"
      }
    },
    {
      "cell_type": "markdown",
      "source": [
        "###로지스틱 회귀"
      ],
      "metadata": {
        "id": "hhPDQmPzeJCB"
      }
    },
    {
      "cell_type": "code",
      "source": [
        "import numpy as np\n",
        "import matplotlib.pyplot as plt\n",
        "\n",
        "z = np.arange(-5, 5, 0.1)\n",
        "\n",
        "phi = 1 / (1 + np.exp(-z))\n",
        "\n",
        "plt.plot(z, phi)\n",
        "\n",
        "plt.xlabel('z')\n",
        "\n",
        "plt.ylabel('phi')\n",
        "\n",
        "plt.show()"
      ],
      "metadata": {
        "colab": {
          "base_uri": "https://localhost:8080/",
          "height": 0
        },
        "id": "n272UiYkdw7x",
        "outputId": "9b9f82ab-d0ee-4bea-a9f4-6e54efc430fb"
      },
      "execution_count": 15,
      "outputs": [
        {
          "output_type": "display_data",
          "data": {
            "text/plain": [
              "<Figure size 432x288 with 1 Axes>"
            ],
            "image/png": "[encoded data removed]"
          },
          "metadata": {
            "needs_background": "light"
          }
        }
      ]
    },
    {
      "cell_type": "markdown",
      "source": [
        "간단한 이진분류 문제 수행해보기 (도미와 빙어)\n",
        "\n",
        "시그모이드 함수의 출력이 0.5보다 크면 양성 클래스\n",
        "0.5보다 작으면 음성 클래스로 판단함 "
      ],
      "metadata": {
        "id": "7JanjZYxgOG4"
      }
    },
    {
      "cell_type": "code",
      "source": [
        "#불리언 인덱싱 \n",
        "\n",
        "char_arr = np.array(['A','B','C','D','E'])\n",
        "print(char_arr[[True, False, True, False, False]])"
      ],
      "metadata": {
        "colab": {
          "base_uri": "https://localhost:8080/"
        },
        "id": "0AM08nO4fkpT",
        "outputId": "5b18b343-9ac3-4091-a717-3db213f79ae2"
      },
      "execution_count": 16,
      "outputs": [
        {
          "output_type": "stream",
          "name": "stdout",
          "text": [
            "['A' 'C']\n"
          ]
        }
      ]
    },
    {
      "cell_type": "markdown",
      "source": [
        "훈련 세트에서 도미와 빙어의 행만 골라내기"
      ],
      "metadata": {
        "id": "J1K0C2cKhc5b"
      }
    },
    {
      "cell_type": "code",
      "source": [
        "bream_smelt_indexes = (train_target == 'Bream') | (train_target == 'Smelt')\n",
        "train_bream_smelt = train_scaled[bream_smelt_indexes]\n",
        "target_bream_smelt = train_target[bream_smelt_indexes]"
      ],
      "metadata": {
        "id": "Kzy1_Nm4gy9j"
      },
      "execution_count": 17,
      "outputs": []
    },
    {
      "cell_type": "markdown",
      "source": [
        "bream_smelt_indexes 배열은 도미와 빙어일 경우 True이고, 그 외는 모두 False 값이 들어가 있으므로 이 배열을 사용해 train_scaled와 train_target 배열에 불리언 인덱싱을 적용하면 손쉽게 도미와 빙어 데이터만 골라낼 수 있음 "
      ],
      "metadata": {
        "id": "AnmIrRrkiQcb"
      }
    },
    {
      "cell_type": "code",
      "source": [
        "#이 데이터로 로지스틱 회귀 모델을 훈련 \n",
        "#LogisticRegression 클래스는 선형 모델이므로 sklearn.linear_model 패키지에 있음 \n",
        "\n",
        "from sklearn.linear_model import LogisticRegression\n",
        "lr = LogisticRegression()\n",
        "lr.fit(train_bream_smelt, target_bream_smelt)"
      ],
      "metadata": {
        "colab": {
          "base_uri": "https://localhost:8080/"
        },
        "id": "gJrRPPhkh3mt",
        "outputId": "15c3c8bf-4838-4e76-c21d-cedd28ff43b4"
      },
      "execution_count": 18,
      "outputs": [
        {
          "output_type": "execute_result",
          "data": {
            "text/plain": [
              "LogisticRegression()"
            ]
          },
          "metadata": {},
          "execution_count": 18
        }
      ]
    },
    {
      "cell_type": "code",
      "source": [
        "#훈련한 모델을 사용해 train_bream_smelt에 있는 처음 5개 샘플을 예측해보아라 \n",
        "\n",
        "print(lr.predict(train_bream_smelt[:5]))"
      ],
      "metadata": {
        "colab": {
          "base_uri": "https://localhost:8080/"
        },
        "id": "SZ7Xv40Bi3HW",
        "outputId": "007c1df3-2d4f-46fa-cdbf-1472b477a1b5"
      },
      "execution_count": 19,
      "outputs": [
        {
          "output_type": "stream",
          "name": "stdout",
          "text": [
            "['Bream' 'Smelt' 'Bream' 'Bream' 'Bream']\n"
          ]
        }
      ]
    },
    {
      "cell_type": "markdown",
      "source": [
        "두 번째 샘플을 제외하고 모두 도미로 예측 \n",
        "KNeighborsClassifier와 마찬가지로 예측확률은 predict_proba()메서드를 제공, train_bream_smelt에서 처음 5개 샘플 예측 확률을 출력해보기 "
      ],
      "metadata": {
        "id": "HVHDeqjgjGaG"
      }
    },
    {
      "cell_type": "code",
      "source": [
        "print(lr.predict_proba(train_bream_smelt[:5]))"
      ],
      "metadata": {
        "colab": {
          "base_uri": "https://localhost:8080/"
        },
        "id": "wrDAZiAEjAlY",
        "outputId": "161c5d72-e290-41e2-9fff-c4f995b18315"
      },
      "execution_count": 20,
      "outputs": [
        {
          "output_type": "stream",
          "name": "stdout",
          "text": [
            "[[0.99759855 0.00240145]\n",
            " [0.02735183 0.97264817]\n",
            " [0.99486072 0.00513928]\n",
            " [0.98584202 0.01415798]\n",
            " [0.99767269 0.00232731]]\n"
          ]
        }
      ]
    },
    {
      "cell_type": "markdown",
      "source": [
        "샘플마다 2개의 확률이 출력됨, \n",
        "첫 번째 열이 음성클래스(0)에 대한 확률, 두 번째 열이 양성클래스(1)에 대한 확률이다. \n",
        "\n",
        "어떤 것이 양성 클래스냐면 사이킷런은 타깃값을 알파벳순으로 정렬하여 사용한다. \n"
      ],
      "metadata": {
        "id": "FSAymocfjZy7"
      }
    },
    {
      "cell_type": "code",
      "source": [
        "print(lr.classes_)"
      ],
      "metadata": {
        "colab": {
          "base_uri": "https://localhost:8080/"
        },
        "id": "hrUhksmJjYrG",
        "outputId": "892d5094-ac00-4afb-a953-b7e31e481257"
      },
      "execution_count": 21,
      "outputs": [
        {
          "output_type": "stream",
          "name": "stdout",
          "text": [
            "['Bream' 'Smelt']\n"
          ]
        }
      ]
    },
    {
      "cell_type": "markdown",
      "source": [
        "따라서, 빙어(Smelt)가 양성클래스이다, predict_proba() 메서드가 반환한 배열 값을 보면 두 번째 샘플만 양성 클래스인 빙어의 확률이 높으므로 나머지는 모두 빙어(Bream)으로 예측\n"
      ],
      "metadata": {
        "id": "B4Pa2y8hjz7h"
      }
    },
    {
      "cell_type": "code",
      "source": [
        "print(lr.coef_, lr.intercept_)"
      ],
      "metadata": {
        "colab": {
          "base_uri": "https://localhost:8080/"
        },
        "id": "GguCueXwjm4f",
        "outputId": "84e8aa34-9d18-4973-f03f-8bcc4755cd32"
      },
      "execution_count": 22,
      "outputs": [
        {
          "output_type": "stream",
          "name": "stdout",
          "text": [
            "[[-0.4037798  -0.57620209 -0.66280298 -1.01290277 -0.73168947]] [-2.16155132]\n"
          ]
        }
      ]
    },
    {
      "cell_type": "markdown",
      "source": [
        "이 로지스틱 회귀 방정식이 학습한 방정식? \n",
        "\n",
        "![로지스틱 회귀.gif](data:image/gif;base64,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)"
      ],
      "metadata": {
        "id": "R5_JE0AqkJrx"
      }
    },
    {
      "cell_type": "code",
      "source": [
        "decisions= lr.decision_function(train_bream_smelt[:5])\n",
        "print(decisions)"
      ],
      "metadata": {
        "id": "5jH9_y1UkIkS",
        "outputId": "299fe0ce-d329-403e-9e8e-aec244375df4",
        "colab": {
          "base_uri": "https://localhost:8080/"
        }
      },
      "execution_count": 23,
      "outputs": [
        {
          "output_type": "stream",
          "name": "stdout",
          "text": [
            "[-6.02927744  3.57123907 -5.26568906 -4.24321775 -6.0607117 ]\n"
          ]
        }
      ]
    },
    {
      "cell_type": "markdown",
      "source": [
        "z 값을 시그모이드 함수에 통과시키면 확률을 얻을 수 있음 \n",
        "파이썬의 사이파이 라이브러리에도 시그모이드 함수가 있고 \n",
        "바로 expit()이다. np.exp()함수를 사용해 분수 계산을 하는 것보다 훨씬 편리하고 안전하다."
      ],
      "metadata": {
        "id": "OtNk1JN0pbQZ"
      }
    },
    {
      "cell_type": "code",
      "source": [
        "#decision 배열을 확률로 표현하기\n",
        "\n",
        "from scipy.special import expit\n",
        "print(expit(decisions))"
      ],
      "metadata": {
        "id": "AgRQ_J2GpaGN",
        "outputId": "ae807095-b30f-419b-d759-0c9ac681db3c",
        "colab": {
          "base_uri": "https://localhost:8080/"
        }
      },
      "execution_count": 24,
      "outputs": [
        {
          "output_type": "stream",
          "name": "stdout",
          "text": [
            "[0.00240145 0.97264817 0.00513928 0.01415798 0.00232731]\n"
          ]
        }
      ]
    },
    {
      "cell_type": "markdown",
      "source": [
        "출력된 값을 보면 predict_proba()메서드 출력의 두 번째 열의 값과 동일합니다.\n",
        "즉, decision_function()메서드는 양성 클래스에 대한 z값을 반환함 \n",
        "\n",
        "결론: 이진 분류를 위해 2개의 생선 샘플을 골라냈고 로지스틱 회귀 모델을 훈련하였음 \n",
        "이진 분류일 경우 predict_proba()메서드는 음성 클래스와 양성 클래스에 대한 확률을 출력함 \n",
        "decision_function()메서드는 양성 클래스에 대한 z값을 계산함 \n",
        "coef_속성과 intercept_속성에는 로지스틱 모델이 학습한 선형 방정식의 계수가 들어있음 "
      ],
      "metadata": {
        "id": "PkDE9jWIpzP8"
      }
    },
    {
      "cell_type": "markdown",
      "source": [
        "##로지스틱 회귀로 다중 분류 수행하기 "
      ],
      "metadata": {
        "id": "XFZ0vDOuqoHd"
      }
    },
    {
      "cell_type": "code",
      "source": [
        "lr = LogisticRegression(C=20, max_iter=1000)\n",
        "lr.fit(train_scaled, train_target)\n",
        "print(lr.score(train_scaled, train_target))\n",
        "print(lr.score(test_scaled, test_target))"
      ],
      "metadata": {
        "id": "g25Sxto7pxY2",
        "outputId": "40e204df-6399-47d5-9901-6716f65ef488",
        "colab": {
          "base_uri": "https://localhost:8080/"
        }
      },
      "execution_count": 25,
      "outputs": [
        {
          "output_type": "stream",
          "name": "stdout",
          "text": [
            "0.9327731092436975\n",
            "0.925\n"
          ]
        }
      ]
    },
    {
      "cell_type": "markdown",
      "source": [
        "훈련 세트와 테스트 세트에 대한 점수가 높고 과대적합이나 과소적합으로 치우친 것 같지 않아보임"
      ],
      "metadata": {
        "id": "Z9U3zPzGq-ry"
      }
    },
    {
      "cell_type": "code",
      "source": [
        "print(lr.predict(test_scaled[:5]))"
      ],
      "metadata": {
        "id": "GN3W6jXVq9rY",
        "outputId": "942c53cc-5461-4f05-f748-8dc409b85020",
        "colab": {
          "base_uri": "https://localhost:8080/"
        }
      },
      "execution_count": 26,
      "outputs": [
        {
          "output_type": "stream",
          "name": "stdout",
          "text": [
            "['Perch' 'Smelt' 'Pike' 'Roach' 'Perch']\n"
          ]
        }
      ]
    },
    {
      "cell_type": "markdown",
      "source": [
        "테스트 세트의 처음 5개 샘플에 대한 예측 확률을 출력 "
      ],
      "metadata": {
        "id": "ohN6iiAZrJ7S"
      }
    },
    {
      "cell_type": "code",
      "source": [
        "proba = lr.predict_proba(test_scaled[:5])\n",
        "print(np.round(proba, decimals=3))"
      ],
      "metadata": {
        "id": "YQB21AberIs4",
        "outputId": "e7dd88b4-ec7f-4f36-c2a7-34be876662f4",
        "colab": {
          "base_uri": "https://localhost:8080/"
        }
      },
      "execution_count": 27,
      "outputs": [
        {
          "output_type": "stream",
          "name": "stdout",
          "text": [
            "[[0.    0.014 0.841 0.    0.136 0.007 0.003]\n",
            " [0.    0.003 0.044 0.    0.007 0.946 0.   ]\n",
            " [0.    0.    0.034 0.935 0.015 0.016 0.   ]\n",
            " [0.011 0.034 0.306 0.007 0.567 0.    0.076]\n",
            " [0.    0.    0.904 0.002 0.089 0.002 0.001]]\n"
          ]
        }
      ]
    },
    {
      "cell_type": "markdown",
      "source": [
        "=> 5개 샘플에 대한 예측이므로 5개의 행이 출력되었음 \n",
        "7개의 생선에 대한 확률을 계산했으므로 7개의 열이 출력됨 \n",
        "이진 분류일 경우 2개의 열만 있었을 것임\n",
        "\n",
        "첫 번째 샘플을 보면 세 번째 열의 확률이 가장 높음 \n",
        "84.1% \n",
        "세번째 열이 농어(Perch)에 대한 확률인지 classes_ 속성에서 클래스 정보를 확인할 수 있음 \n"
      ],
      "metadata": {
        "id": "GD2nzxhcrVJz"
      }
    },
    {
      "cell_type": "code",
      "source": [
        "print(lr.classes_)"
      ],
      "metadata": {
        "id": "PVl1DsHFrTzE",
        "outputId": "6e659499-0a7c-43d4-be0c-7f6fe01fa81d",
        "colab": {
          "base_uri": "https://localhost:8080/"
        }
      },
      "execution_count": 28,
      "outputs": [
        {
          "output_type": "stream",
          "name": "stdout",
          "text": [
            "['Bream' 'Parkki' 'Perch' 'Pike' 'Roach' 'Smelt' 'Whitefish']\n"
          ]
        }
      ]
    },
    {
      "cell_type": "markdown",
      "source": [
        "첫 번째 샘플은 Perch를 가장 높은 확률로 예측하였음 \n",
        "두 번째 샘플은 여섯 번째 열인 Smelt를 가장 높은 확률(94.6%)로 예측하였음 \n",
        "\n",
        "다중 분류는 샘플마다 클래스 개수만큼 확률을 출력, 이 중 가장 높은 확률이 예측 클래스가 된다 "
      ],
      "metadata": {
        "id": "VIcy6SJjrvp7"
      }
    },
    {
      "cell_type": "code",
      "source": [
        "#다중 분류일 경우 선형 방정식은 어떤 모습이 될까요?\n",
        "\n",
        "print(lr.coef_.shape, lr.intercept_.shape)"
      ],
      "metadata": {
        "id": "S1eJx_-5ruxd",
        "outputId": "7ba0351c-bf10-4f9c-8aac-0b6ace59914e",
        "colab": {
          "base_uri": "https://localhost:8080/"
        }
      },
      "execution_count": 29,
      "outputs": [
        {
          "output_type": "stream",
          "name": "stdout",
          "text": [
            "(7, 5) (7,)\n"
          ]
        }
      ]
    },
    {
      "cell_type": "markdown",
      "source": [
        "이 데이터는 5개의 특성을 사용하므로 coef_ 배열의 열은 5개이다.\n",
        "하지만 행이 7개, intercept_도 7개나 있음 \n",
        "-> 이진 분류에서 보았던 z를 7개나 계산 한다는 의미 \n",
        "\n",
        "다중 분류는 클래스 마다 z값을 하나씩 계산한다 \n",
        "\n",
        "가장 높은 z값을 출력하는 클래스가 예측 클래스가 된다\n",
        "\n",
        "확률은 이진분류에서는 시그모이드 함수를 사용해 z를 0과 1사이의 값으로 변환하였음 \n",
        "다중 분류는 이와 달리 소프트맥수를 사용하여 7개의 z 값을 확률로 변환하였음 \n"
      ],
      "metadata": {
        "id": "NC7L-N6NsKwk"
      }
    },
    {
      "cell_type": "code",
      "source": [
        "# 이진 분류에서 처럼 decision_function() 메서드로 z1~z7까지의 값을 구한 다음 소프트맥스 함수를 사용해 확률로 바꾸기 \n",
        "# 테스트 세트의 처음 5개 샘플에 대한 z1~z7의 값을 구해보기 \n",
        "\n",
        "\n",
        "decision = lr.decision_function(test_scaled[:5])\n",
        "print(np.round(decision, decimals=2))"
      ],
      "metadata": {
        "id": "NFpL8DWxsJOk",
        "outputId": "99a16d2a-3660-4797-e249-3c17d2b09397",
        "colab": {
          "base_uri": "https://localhost:8080/"
        }
      },
      "execution_count": 30,
      "outputs": [
        {
          "output_type": "stream",
          "name": "stdout",
          "text": [
            "[[ -6.5    1.03   5.16  -2.73   3.34   0.33  -0.63]\n",
            " [-10.86   1.93   4.77  -2.4    2.98   7.84  -4.26]\n",
            " [ -4.34  -6.23   3.17   6.49   2.36   2.42  -3.87]\n",
            " [ -0.68   0.45   2.65  -1.19   3.26  -5.75   1.26]\n",
            " [ -6.4   -1.99   5.82  -0.11   3.5   -0.11  -0.71]]\n"
          ]
        }
      ]
    },
    {
      "cell_type": "code",
      "source": [
        "#사이파이는 소프트맥스 함수도 제공하며 scipy.special 아래에 softmax()함수를 임포트해 사용\n",
        "\n",
        "from scipy.special import softmax \n",
        "proba= softmax(decision, axis=1)\n",
        "print(np. round(proba,decimals=3))"
      ],
      "metadata": {
        "id": "RRy8xLz5uQtG",
        "outputId": "b0553d97-dc4f-43c1-b5fe-7dd51a6f6646",
        "colab": {
          "base_uri": "https://localhost:8080/"
        }
      },
      "execution_count": 31,
      "outputs": [
        {
          "output_type": "stream",
          "name": "stdout",
          "text": [
            "[[0.    0.014 0.841 0.    0.136 0.007 0.003]\n",
            " [0.    0.003 0.044 0.    0.007 0.946 0.   ]\n",
            " [0.    0.    0.034 0.935 0.015 0.016 0.   ]\n",
            " [0.011 0.034 0.306 0.007 0.567 0.    0.076]\n",
            " [0.    0.    0.904 0.002 0.089 0.002 0.001]]\n"
          ]
        }
      ]
    },
    {
      "cell_type": "markdown",
      "source": [
        "앞서 구한 decision 배열을 softmax()함수에 전달함 \n",
        "softmax()의 axis 매개변수는 소프트맥스를 계산할 축을 지정 \n",
        "axis=1로 지정하여 각 행, 각 샘플에 대해 소프트맥스를 계산함 \n",
        "\n",
        "axis 매개변수를 지정하지 않으면 배열 전체에 대해 소프트맥스를 계산함 \n",
        "\n",
        "출력 결과를 앞서 구한 proba 배열과 비교하면 정확히 일치하기 떄문에 성공임을 알 수 있다. "
      ],
      "metadata": {
        "id": "5Ak4V3X6urQS"
      }
    },
    {
      "cell_type": "markdown",
      "source": [
        "----\n",
        "\n",
        "##확률적 경사하강법을 사용한 분류모델 \n",
        "##SGD Classifier \n",
        "\n"
      ],
      "metadata": {
        "id": "vx_hA8YNADs1"
      }
    },
    {
      "cell_type": "code",
      "source": [
        "import pandas as pd \n",
        "\n",
        "#fish_csv_data 파일에서 판다스 데이터프레임을 만들어보기 \n",
        "fish= pd.read_csv('https://bit.ly/fish_csv_data')"
      ],
      "metadata": {
        "id": "8K0SUFwoAK_m"
      },
      "execution_count": 32,
      "outputs": []
    },
    {
      "cell_type": "code",
      "source": [
        "fish.columns"
      ],
      "metadata": {
        "id": "pPFfccjbAjcu",
        "outputId": "c9cee6ab-db07-4227-f071-0511087ed459",
        "colab": {
          "base_uri": "https://localhost:8080/"
        }
      },
      "execution_count": 33,
      "outputs": [
        {
          "output_type": "execute_result",
          "data": {
            "text/plain": [
              "Index(['Species', 'Weight', 'Length', 'Diagonal', 'Height', 'Width'], dtype='object')"
            ]
          },
          "metadata": {},
          "execution_count": 33
        }
      ]
    },
    {
      "cell_type": "code",
      "source": [
        "#Species 열을 제외한 나머지 5개는 입력 데이터로 사용함 \n",
        "#Specoes 열은 타깃 데이터이다 \n",
        "\n",
        "fish_input = fish[['Weight','Length','Diagonal','Height','Width']].to_numpy()\n",
        "fish_target = fish['Species'].to_numpy()"
      ],
      "metadata": {
        "id": "VfQHfZ86ATwq"
      },
      "execution_count": 34,
      "outputs": []
    },
    {
      "cell_type": "code",
      "source": [
        "#사이킷런의 train_test_split()함수를 사용해 이 데이터를 훈련세트와 테스트 세트로 나눔 \n",
        "\n",
        "from sklearn.model_selection import train_test_split\n",
        "\n",
        "train_input, test_input, train_target, test_target = train_test_split(\n",
        "    fish_input, fish_target, random_state=42)"
      ],
      "metadata": {
        "id": "-AUNSuWuA1jX"
      },
      "execution_count": 35,
      "outputs": []
    },
    {
      "cell_type": "code",
      "source": [
        "#훈련 세트와 테스트 세트의 특성을 표준화 전처리함\n",
        "#훈련세트에서 학습한 통계 값으로 테스트 세트도 변환해야함 \n",
        "\n",
        "from sklearn.preprocessing import StandardScaler\n",
        "ss = StandardScaler()\n",
        "ss.fit(train_input)\n",
        "train_scaled = ss.transform(train_input)\n",
        "test_scaled = ss.transform(test_input)"
      ],
      "metadata": {
        "id": "mHnVr1OPBIHr"
      },
      "execution_count": 36,
      "outputs": []
    },
    {
      "cell_type": "code",
      "source": [
        "#확률적 경사하강법을 제공하는 대표적인 분류용 클래스는 SGDClassifier \n",
        "\n",
        "from sklearn.linear_model import SGDClassifier\n",
        "\n",
        "sc= SGDClassifier(loss='log', max_iter=10, random_state=42)\n",
        "sc.fit(train_scaled, train_target)\n",
        "print(sc.score(train_scaled, train_target))\n",
        "print(sc.score(test_scaled, test_target))"
      ],
      "metadata": {
        "id": "ADIqcJzXCg47",
        "outputId": "e7ff5c1b-1ad1-4ea8-97ca-667c31ec2111",
        "colab": {
          "base_uri": "https://localhost:8080/"
        }
      },
      "execution_count": 37,
      "outputs": [
        {
          "output_type": "stream",
          "name": "stdout",
          "text": [
            "0.773109243697479\n",
            "0.775\n"
          ]
        },
        {
          "output_type": "stream",
          "name": "stderr",
          "text": [
            "/usr/local/lib/python3.7/dist-packages/sklearn/linear_model/_stochastic_gradient.py:700: ConvergenceWarning: Maximum number of iteration reached before convergence. Consider increasing max_iter to improve the fit.\n",
            "  ConvergenceWarning,\n"
          ]
        }
      ]
    },
    {
      "cell_type": "code",
      "source": [
        "#확률적 경사하강법은 점진적 학습이 가능 \n",
        "#모델 sc를 추가로 훈련이 가능하기에 모델을 이어서 훈련할 때는 partial_fit()을 사용 \n",
        "\n",
        "sc.partial_fit(train_scaled, train_target)\n",
        "print(sc.score(train_scaled, train_target))\n",
        "print(sc.score(test_scaled, test_target))"
      ],
      "metadata": {
        "id": "hWrb0PalDpZs",
        "outputId": "0052fd9f-46e0-4a4a-d932-6f13cda9c3eb",
        "colab": {
          "base_uri": "https://localhost:8080/"
        }
      },
      "execution_count": 38,
      "outputs": [
        {
          "output_type": "stream",
          "name": "stdout",
          "text": [
            "0.8151260504201681\n",
            "0.85\n"
          ]
        }
      ]
    },
    {
      "cell_type": "markdown",
      "source": [
        "=> 에포크를 한번 더 실행하여서 정확도가 향상됨을 확인할 수 있었음"
      ],
      "metadata": {
        "id": "toOPvtlFEHg3"
      }
    },
    {
      "cell_type": "code",
      "source": [
        "from pandas.core.common import random_state\n",
        "#partial_fit()메서드를 사용하여 훈련 세트에 있는 전체 클래스의 레이블을 partial_fit()메서드에 전달해줌 \n",
        "#이를 위햇 np.unique()함수로 train_target에 있는 7개의 생선의 목록을 만든다 \n",
        "#에포크 마다 훈련 세트와 테스트 세트에 대한 점수를 기록하기 위해 2개의 리스트를 준비함 \n",
        "\n",
        "import numpy as np \n",
        "sc= SGDClassifier(loss='log', random_state=42)\n",
        "train_score=[]\n",
        "test_score=[]\n",
        "classes = np.unique(train_target)"
      ],
      "metadata": {
        "id": "TZhQkCvcEGZg"
      },
      "execution_count": 39,
      "outputs": []
    },
    {
      "cell_type": "code",
      "source": [
        "#300번의 에포크 동안 훈련을 반복하여 진행\n",
        "#반복마다 훈련 세트와 테스트 세트의 점수를 계산하여 train_score, test_scroe 리스트에 추가함 \n",
        "\n",
        "for _ in range(0, 300):\n",
        "  sc.partial_fit(train_scaled, train_target, classes=classes)\n",
        "  train_score.append(sc.score(train_scaled, train_target))\n",
        "  test_score.append(sc.score(test_scaled, test_target))"
      ],
      "metadata": {
        "id": "LEVVlhYLHV_4"
      },
      "execution_count": 40,
      "outputs": []
    },
    {
      "cell_type": "code",
      "source": [
        "#300번의 에포크 동안 기록한 훈련 세트와 테스트 세트의 점수를 그래프로 그려보기\n",
        "import matplotlib.pyplot as plt \n",
        "plt.plot(train_score)\n",
        "plt.plot(test_score)\n",
        "plt.xlabel('epoch')\n",
        "plt.ylabel('accuracy')"
      ],
      "metadata": {
        "id": "0gTieqAqImK8",
        "outputId": "66eb5f09-9115-4136-d3d4-b0ce072e1f90",
        "colab": {
          "base_uri": "https://localhost:8080/",
          "height": 297
        }
      },
      "execution_count": 41,
      "outputs": [
        {
          "output_type": "execute_result",
          "data": {
            "text/plain": [
              "Text(0, 0.5, 'accuracy')"
            ]
          },
          "metadata": {},
          "execution_count": 41
        },
        {
          "output_type": "display_data",
          "data": {
            "text/plain": [
              "<Figure size 432x288 with 1 Axes>"
            ],
            "image/png": "[encoded data removed]"
          },
          "metadata": {
            "needs_background": "light"
          }
        }
      ]
    },
    {
      "cell_type": "markdown",
      "source": [
        "하늘색 - 훈련세트 그래프\n",
        "\n",
        "주황색 - 테스트 세트 그래프\n",
        "\n",
        "=> 에포크 초기에는 과소적합되어 훈련세트와 테스트 세트의 점수가 낮기에 이 경우 백 번째 에포크가 적절한 반복 횟수이다. "
      ],
      "metadata": {
        "id": "-ZaP-cjEJWU4"
      }
    },
    {
      "cell_type": "code",
      "source": [
        "#SGDClassifier의 반복 횟수를 100에 맞추고 모델을 다시 훈련 \n",
        "#최종적으로 훈련으로 훈련세트와 테스트 세트에서 점수를 출력 \n",
        "\n",
        "\n",
        "sc =SGDClassifier(loss='log', max_iter=100, tol=None, random_state=42)\n",
        "sc.fit(train_scaled, train_target)\n",
        "print(sc.score(train_scaled, train_target))\n",
        "print(sc.score(test_scaled, test_target))"
      ],
      "metadata": {
        "id": "eB4qnBkFJrW3",
        "outputId": "17c6a95e-5b59-4556-b5a2-4a07d9375149",
        "colab": {
          "base_uri": "https://localhost:8080/"
        }
      },
      "execution_count": 42,
      "outputs": [
        {
          "output_type": "stream",
          "name": "stdout",
          "text": [
            "0.957983193277311\n",
            "0.925\n"
          ]
        }
      ]
    },
    {
      "cell_type": "markdown",
      "source": [
        "훈련 세트와 테스트 세트에서의 정확도 점수가 비교적 높게 나왔음 \n",
        "확률적 경사 하강법을 사용한 생선 분류 문제도 성공적으로 수행 완료! "
      ],
      "metadata": {
        "id": "yGxmpOP6LDPD"
      }
    },
    {
      "cell_type": "code",
      "source": [
        "## 힌지 손실을 사용해 같은 횟수 동안 모델을 훈련 \n",
        "\n",
        "sc = SGDClassifier(loss='hinge', max_iter=100, tol= None, random_state=42)\n",
        "sc.fit(train_scaled, train_target)\n",
        "print(sc.score(train_scaled, train_target))\n",
        "print(sc.score(test_scaled, test_target))"
      ],
      "metadata": {
        "id": "BC6p8Ne8KFCv",
        "outputId": "e6631fba-1dd5-4020-fda2-2c5cd1b85332",
        "colab": {
          "base_uri": "https://localhost:8080/"
        }
      },
      "execution_count": 44,
      "outputs": [
        {
          "output_type": "stream",
          "name": "stdout",
          "text": [
            "0.9495798319327731\n",
            "0.925\n"
          ]
        }
      ]
    }
  ]
}