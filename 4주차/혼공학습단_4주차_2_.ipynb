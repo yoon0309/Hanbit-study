{
  "nbformat": 4,
  "nbformat_minor": 0,
  "metadata": {
    "colab": {
      "name": "혼공학습단 4주차-2 .ipynb",
      "provenance": [],
      "machine_shape": "hm"
    },
    "kernelspec": {
      "name": "python3",
      "display_name": "Python 3"
    },
    "language_info": {
      "name": "python"
    },
    "gpuClass": "standard"
  },
  "cells": [
    {
      "cell_type": "markdown",
      "source": [
        "05-2 교차 검증과 그리드 서치"
      ],
      "metadata": {
        "id": "XE4Y3vAUG0OI"
      }
    },
    {
      "cell_type": "code",
      "execution_count": 3,
      "metadata": {
        "id": "y3R-cZ9CGvOD"
      },
      "outputs": [],
      "source": [
        "#데이터를 불러옵니다\n",
        "import pandas as pd \n",
        "\n",
        "wine = pd.read_csv('https://bit.ly/wine_csv_data')"
      ]
    },
    {
      "cell_type": "code",
      "source": [
        "#class 열을 타깃으로 사용하고 나머지 열은 특성 배열에 저장 \n",
        "\n",
        "data = wine[['alcohol','sugar','pH']].to_numpy()\n",
        "target = wine['class'].to_numpy()"
      ],
      "metadata": {
        "id": "JJkIHOr4vTRk"
      },
      "execution_count": 5,
      "outputs": []
    },
    {
      "cell_type": "code",
      "source": [
        "#훈련 세트의 입력 데이터와 타깃 데이터를 train_input, train_target 배열에 저장 \n",
        "from sklearn.model_selection import train_test_split\n",
        "\n",
        "train_input, test_input, train_target, test_target = train_test_split(\n",
        "    data, target, test_size=0.2, random_state=42\n",
        ")"
      ],
      "metadata": {
        "id": "vyVO6QvxwuBU"
      },
      "execution_count": 7,
      "outputs": []
    },
    {
      "cell_type": "code",
      "source": [
        "#val 설정해주기 \n",
        "\n",
        "sub_input, val_input, sub_target, val_target= train_test_split(\n",
        "    train_input, train_target, test_size=0.2, random_state=42\n",
        ")"
      ],
      "metadata": {
        "id": "pMb9AroMxSZL"
      },
      "execution_count": 8,
      "outputs": []
    },
    {
      "cell_type": "code",
      "source": [
        "# 훈련 세트와 검증 세트의 크기를 확인 \n",
        "\n",
        "print(sub_input.shape, val_input.shape)"
      ],
      "metadata": {
        "id": "VG1peNlT7WYw",
        "outputId": "96a8a113-9cf3-44ec-c110-1b6452fe4921",
        "colab": {
          "base_uri": "https://localhost:8080/"
        }
      },
      "execution_count": 9,
      "outputs": [
        {
          "output_type": "stream",
          "name": "stdout",
          "text": [
            "(4157, 3) (1040, 3)\n"
          ]
        }
      ]
    },
    {
      "cell_type": "markdown",
      "source": [
        "원래 있던 훈련세트 5197개가 4157개로 줄고 \n",
        "검증세트는 1040개가 되었음 "
      ],
      "metadata": {
        "id": "Wv9KcV6T_NMR"
      }
    },
    {
      "cell_type": "code",
      "source": [
        "#모델을 만들고 평가 \n",
        "\n",
        "from sklearn.tree import DecisionTreeClassifier\n",
        "dt = DecisionTreeClassifier(random_state=42)\n",
        "dt.fit(sub_input, sub_target)\n",
        "print(dt.score(sub_input, sub_target))\n",
        "print(dt.score(val_input, val_target))"
      ],
      "metadata": {
        "id": "1YbKC20i_MAe",
        "outputId": "a560cdfa-5121-457a-c9e1-a6b799bc23a4",
        "colab": {
          "base_uri": "https://localhost:8080/"
        }
      },
      "execution_count": 10,
      "outputs": [
        {
          "output_type": "stream",
          "name": "stdout",
          "text": [
            "0.9971133028626413\n",
            "0.864423076923077\n"
          ]
        }
      ]
    },
    {
      "cell_type": "markdown",
      "source": [
        "이 모델은 훈련세트에 과대적합되었기에 매개변수를 바꾸어서 더 좋은 모델을 찾아야한다! "
      ],
      "metadata": {
        "id": "n6TNQzGlA6V2"
      }
    },
    {
      "cell_type": "code",
      "source": [
        ""
      ],
      "metadata": {
        "id": "c8aFimTHA4hG"
      },
      "execution_count": null,
      "outputs": []
    }
  ]
}