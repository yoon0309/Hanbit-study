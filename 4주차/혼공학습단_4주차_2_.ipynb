{
  "nbformat": 4,
  "nbformat_minor": 0,
  "metadata": {
    "colab": {
      "name": "혼공학습단 4주차-2 .ipynb",
      "provenance": [],
      "machine_shape": "hm"
    },
    "kernelspec": {
      "name": "python3",
      "display_name": "Python 3"
    },
    "language_info": {
      "name": "python"
    },
    "gpuClass": "standard",
    "accelerator": "GPU"
  },
  "cells": [
    {
      "cell_type": "markdown",
      "source": [
        "05-2 교차 검증과 그리드 서치"
      ],
      "metadata": {
        "id": "XE4Y3vAUG0OI"
      }
    },
    {
      "cell_type": "code",
      "execution_count": 34,
      "metadata": {
        "id": "y3R-cZ9CGvOD"
      },
      "outputs": [],
      "source": [
        "#데이터를 불러옵니다\n",
        "import pandas as pd \n",
        "\n",
        "wine = pd.read_csv('https://bit.ly/wine_csv_data')"
      ]
    },
    {
      "cell_type": "code",
      "source": [
        "#class 열을 타깃으로 사용하고 나머지 열은 특성 배열에 저장 \n",
        "\n",
        "data = wine[['alcohol','sugar','pH']].to_numpy()\n",
        "target = wine['class'].to_numpy()"
      ],
      "metadata": {
        "id": "JJkIHOr4vTRk"
      },
      "execution_count": 35,
      "outputs": []
    },
    {
      "cell_type": "code",
      "source": [
        "#훈련 세트의 입력 데이터와 타깃 데이터를 train_input, train_target 배열에 저장 \n",
        "from sklearn.model_selection import train_test_split\n",
        "\n",
        "train_input, test_input, train_target, test_target = train_test_split(\n",
        "    data, target, test_size=0.2, random_state=42\n",
        ")"
      ],
      "metadata": {
        "id": "vyVO6QvxwuBU"
      },
      "execution_count": 36,
      "outputs": []
    },
    {
      "cell_type": "code",
      "source": [
        "#val 설정해주기 \n",
        "\n",
        "sub_input, val_input, sub_target, val_target= train_test_split(\n",
        "    train_input, train_target, test_size=0.2, random_state=42\n",
        ")"
      ],
      "metadata": {
        "id": "pMb9AroMxSZL"
      },
      "execution_count": 37,
      "outputs": []
    },
    {
      "cell_type": "code",
      "source": [
        "# 훈련 세트와 검증 세트의 크기를 확인 \n",
        "\n",
        "print(sub_input.shape, val_input.shape)"
      ],
      "metadata": {
        "id": "VG1peNlT7WYw",
        "outputId": "968bd7c2-c1d2-4941-8c25-f6b43893d482",
        "colab": {
          "base_uri": "https://localhost:8080/"
        }
      },
      "execution_count": 38,
      "outputs": [
        {
          "output_type": "stream",
          "name": "stdout",
          "text": [
            "(4157, 3) (1040, 3)\n"
          ]
        }
      ]
    },
    {
      "cell_type": "markdown",
      "source": [
        "원래 있던 훈련세트 5197개가 4157개로 줄고 \n",
        "검증세트는 1040개가 되었음 "
      ],
      "metadata": {
        "id": "Wv9KcV6T_NMR"
      }
    },
    {
      "cell_type": "code",
      "source": [
        "#모델을 만들고 평가 \n",
        "\n",
        "from sklearn.tree import DecisionTreeClassifier\n",
        "dt = DecisionTreeClassifier(random_state=42)\n",
        "dt.fit(sub_input, sub_target)\n",
        "print(dt.score(sub_input, sub_target))\n",
        "print(dt.score(val_input, val_target))"
      ],
      "metadata": {
        "id": "1YbKC20i_MAe",
        "outputId": "fd4b83c7-2041-47c6-c0a4-6a694fbc2ba7",
        "colab": {
          "base_uri": "https://localhost:8080/"
        }
      },
      "execution_count": 39,
      "outputs": [
        {
          "output_type": "stream",
          "name": "stdout",
          "text": [
            "0.9971133028626413\n",
            "0.864423076923077\n"
          ]
        }
      ]
    },
    {
      "cell_type": "markdown",
      "source": [
        "이 모델은 훈련세트에 과대적합되었기에 매개변수를 바꾸어서 더 좋은 모델을 찾아야한다! "
      ],
      "metadata": {
        "id": "n6TNQzGlA6V2"
      }
    },
    {
      "cell_type": "code",
      "source": [
        "#교차검증 \n",
        "\n",
        "from sklearn.model_selection import cross_validate\n",
        "scores= cross_validate(dt, train_input, train_target)\n",
        "print(scores)"
      ],
      "metadata": {
        "id": "c8aFimTHA4hG",
        "outputId": "04f89597-23f0-4ae2-b0d2-4c00452ff5f5",
        "colab": {
          "base_uri": "https://localhost:8080/"
        }
      },
      "execution_count": 40,
      "outputs": [
        {
          "output_type": "stream",
          "name": "stdout",
          "text": [
            "{'fit_time': array([0.0066328 , 0.00592399, 0.00619078, 0.00614119, 0.00572181]), 'score_time': array([0.00062275, 0.00057697, 0.00050664, 0.00050163, 0.00053978]), 'test_score': array([0.86923077, 0.84615385, 0.87680462, 0.84889317, 0.83541867])}\n"
          ]
        }
      ]
    },
    {
      "cell_type": "markdown",
      "source": [
        "cross_validate()는 기본적으로 5-폴드 교차 검증을 수행함 \n",
        "cv 매개변수에서 폴드 수를 바꿀 수도 있음"
      ],
      "metadata": {
        "id": "AYSCxYH71Q7n"
      }
    },
    {
      "cell_type": "code",
      "source": [
        "import numpy as np\n",
        "#검증 폴드의 점수\n",
        "print(np.mean(scores['test_score']))"
      ],
      "metadata": {
        "id": "I5jz_nDR0zWP",
        "outputId": "b17b7b3c-a701-4f51-9c35-e1e0f21805b6",
        "colab": {
          "base_uri": "https://localhost:8080/"
        }
      },
      "execution_count": 41,
      "outputs": [
        {
          "output_type": "stream",
          "name": "stdout",
          "text": [
            "0.855300214703487\n"
          ]
        }
      ]
    },
    {
      "cell_type": "code",
      "source": [
        "# 회귀모델이면 KFold \n",
        "#근데 분류모델이기에 StratifiedKFold\n",
        "\n",
        "from sklearn.model_selection import StratifiedKFold\n",
        "scores = cross_validate(dt, train_input, train_target, cv=StratifiedKFold())\n",
        "print(np.mean(scores['test_score']))"
      ],
      "metadata": {
        "id": "BKy4mUYB1dda",
        "outputId": "f89762f1-355b-4496-9bbc-f315aacb026a",
        "colab": {
          "base_uri": "https://localhost:8080/"
        }
      },
      "execution_count": 42,
      "outputs": [
        {
          "output_type": "stream",
          "name": "stdout",
          "text": [
            "0.855300214703487\n"
          ]
        }
      ]
    },
    {
      "cell_type": "code",
      "source": [
        "#훈련 세트를 섞은 후 10-폴드 교차검증을 수행 \n",
        "\n",
        "splitter = StratifiedKFold(n_splits=10, shuffle=True, random_state=42)\n",
        "scores= cross_validate(dt, train_input, train_target, cv=splitter)\n",
        "print(np.mean(scores['test_score']))"
      ],
      "metadata": {
        "id": "UaULY7bp2EFV",
        "outputId": "99b3c7b5-0307-4772-b282-3b3bddc64fbb",
        "colab": {
          "base_uri": "https://localhost:8080/"
        }
      },
      "execution_count": 43,
      "outputs": [
        {
          "output_type": "stream",
          "name": "stdout",
          "text": [
            "0.8574181117533719\n"
          ]
        }
      ]
    },
    {
      "cell_type": "code",
      "source": [
        "from sklearn.model_selection import GridSearchCV\n",
        "params= {'min_impurity_decrease':[0.0001,0.0002,0.0003,0.0004,0.0005]}"
      ],
      "metadata": {
        "id": "yie1q9bM3GsL"
      },
      "execution_count": 44,
      "outputs": []
    },
    {
      "cell_type": "code",
      "source": [
        "#GridSearchCV 클래스에 탐색 대상 모델과 params 변수를 전달, 그리드객체 생성 \n",
        "\n",
        "gs = GridSearchCV(DecisionTreeClassifier(random_state=42),params, n_jobs=-1)\n",
        "\n",
        "#n_jobs은 병렬실행에 사용할 CPU 코어수를 지정 \n",
        "#-1, 시스템에 있는 모든 코어를 사용한다는 뜻"
      ],
      "metadata": {
        "id": "R3RUTHt84AE7"
      },
      "execution_count": 45,
      "outputs": []
    },
    {
      "cell_type": "code",
      "source": [
        "gs.fit(train_input, train_target)"
      ],
      "metadata": {
        "id": "Evp4o8FG4gLg",
        "outputId": "935b22c5-a365-4667-ff6e-a89b552e1f1e",
        "colab": {
          "base_uri": "https://localhost:8080/"
        }
      },
      "execution_count": 46,
      "outputs": [
        {
          "output_type": "execute_result",
          "data": {
            "text/plain": [
              "GridSearchCV(estimator=DecisionTreeClassifier(random_state=42), n_jobs=-1,\n",
              "             param_grid={'min_impurity_decrease': [0.0001, 0.0002, 0.0003,\n",
              "                                                   0.0004, 0.0005]})"
            ]
          },
          "metadata": {},
          "execution_count": 46
        }
      ]
    },
    {
      "cell_type": "code",
      "source": [
        "dt= gs.best_estimator_\n",
        "print(dt.score(train_input, train_target))"
      ],
      "metadata": {
        "id": "YFILE7Sq41Mi",
        "outputId": "fa83c5a5-b008-4a82-e48f-9409b7a02cf4",
        "colab": {
          "base_uri": "https://localhost:8080/"
        }
      },
      "execution_count": 47,
      "outputs": [
        {
          "output_type": "stream",
          "name": "stdout",
          "text": [
            "0.9615162593804117\n"
          ]
        }
      ]
    },
    {
      "cell_type": "code",
      "source": [
        "#베스트 params의 값 \n",
        "\n",
        "print(gs.best_params_)"
      ],
      "metadata": {
        "id": "ONf9giFS5B9C",
        "outputId": "2bed8765-4050-4ca0-a690-f16696124d9b",
        "colab": {
          "base_uri": "https://localhost:8080/"
        }
      },
      "execution_count": 48,
      "outputs": [
        {
          "output_type": "stream",
          "name": "stdout",
          "text": [
            "{'min_impurity_decrease': 0.0001}\n"
          ]
        }
      ]
    },
    {
      "cell_type": "code",
      "source": [
        "#5번의 교차검증으로 얻은 점수 출력 \n",
        "\n",
        "print(gs.cv_results_['mean_test_score'])"
      ],
      "metadata": {
        "id": "NKdEuszr5NTN",
        "outputId": "b58b262d-6e55-408a-8fcc-4e659f301e42",
        "colab": {
          "base_uri": "https://localhost:8080/"
        }
      },
      "execution_count": 49,
      "outputs": [
        {
          "output_type": "stream",
          "name": "stdout",
          "text": [
            "[0.86819297 0.86453617 0.86492226 0.86780891 0.86761605]\n"
          ]
        }
      ]
    },
    {
      "cell_type": "code",
      "source": [
        "best_index = np.argmax(gs.cv_results_['mean_test_score'])\n",
        "print(gs.cv_results_['params'][best_index])"
      ],
      "metadata": {
        "id": "aGXTHd_S5WfE",
        "outputId": "7a3eadc9-cb1a-49bf-d2aa-1456dd5bf815",
        "colab": {
          "base_uri": "https://localhost:8080/"
        }
      },
      "execution_count": 50,
      "outputs": [
        {
          "output_type": "stream",
          "name": "stdout",
          "text": [
            "{'min_impurity_decrease': 0.0001}\n"
          ]
        }
      ]
    },
    {
      "cell_type": "markdown",
      "source": [
        "1. 탐색할 매개변수를 지정 \n",
        "2. 훈련세트에서 그리드 서치를 수행 -> 최상의 평균 검증 점수가 나오는 매개변수 조합을 찾고 그리드 서치 객체에 저장 \n",
        "3. 그리드 서치는 최상의 매개변수에서 전체 훈련 세트를 사용해 최종 모델을 훈련-> 그리드 서치 객체에 저장"
      ],
      "metadata": {
        "id": "y7N9vn0u6ZA7"
      }
    },
    {
      "cell_type": "code",
      "source": [
        "#조금 더 복잡하게 \n",
        "\n",
        "# 0.0001에서 0.001에 도달할때 까지 0.0001씩 더한 배열\n",
        "#두번째 매개변수 미포함으로 배열의 원소 9개 \n",
        "params = {'min_impurity_decrease': np.arange(0.0001, 0.001, 0.0001),          \n",
        "#5에서 20까지 1씩 증가하면서 15개의 값을 만듦 \n",
        "          'max_depth':range(5, 20 ,1),\n",
        "#2부터 100까지 10씩 증가하면서 10개의 값을 만듦\n",
        "          'min_samples_split': range(2,100,10)\n",
        "          }"
      ],
      "metadata": {
        "id": "6LurEB-z5pbj"
      },
      "execution_count": 51,
      "outputs": []
    },
    {
      "cell_type": "markdown",
      "source": [
        "이 매개변수로 수행할 교차 검증의 횟수는 9 x 15 x 10 = 1350개\n",
        "\n",
        "5-폴드 교차 검증 수행 하므로 만들어지는 모델 수 6750개 "
      ],
      "metadata": {
        "id": "iYxlyss98Uqe"
      }
    },
    {
      "cell_type": "code",
      "source": [
        "gs = GridSearchCV(DecisionTreeClassifier(random_state=42), params, n_jobs=-1)\n",
        "gs.fit(train_input, train_target)"
      ],
      "metadata": {
        "id": "PtX1h7Pb7BFN",
        "outputId": "b55699c2-ac20-4400-e62e-eb3f828336fa",
        "colab": {
          "base_uri": "https://localhost:8080/"
        }
      },
      "execution_count": 52,
      "outputs": [
        {
          "output_type": "execute_result",
          "data": {
            "text/plain": [
              "GridSearchCV(estimator=DecisionTreeClassifier(random_state=42), n_jobs=-1,\n",
              "             param_grid={'max_depth': range(5, 20),\n",
              "                         'min_impurity_decrease': array([0.0001, 0.0002, 0.0003, 0.0004, 0.0005, 0.0006, 0.0007, 0.0008,\n",
              "       0.0009]),\n",
              "                         'min_samples_split': range(2, 100, 10)})"
            ]
          },
          "metadata": {},
          "execution_count": 52
        }
      ]
    },
    {
      "cell_type": "code",
      "source": [
        "#최상의 매개변수 조합확인 \n",
        "\n",
        "print(gs.best_params_)"
      ],
      "metadata": {
        "id": "F6x7qht580Hy",
        "outputId": "c85921da-1e66-438d-e641-b1c4a408807f",
        "colab": {
          "base_uri": "https://localhost:8080/"
        }
      },
      "execution_count": 53,
      "outputs": [
        {
          "output_type": "stream",
          "name": "stdout",
          "text": [
            "{'max_depth': 14, 'min_impurity_decrease': 0.0004, 'min_samples_split': 12}\n"
          ]
        }
      ]
    },
    {
      "cell_type": "code",
      "source": [
        "#교차점수의 점수 \n",
        "print(np.max(gs.cv_results_['mean_test_score']))"
      ],
      "metadata": {
        "id": "zkPk_kEK9JKH",
        "outputId": "838e504d-4862-4414-820d-4485ce9f520d",
        "colab": {
          "base_uri": "https://localhost:8080/"
        }
      },
      "execution_count": 54,
      "outputs": [
        {
          "output_type": "stream",
          "name": "stdout",
          "text": [
            "0.8683865773302731\n"
          ]
        }
      ]
    },
    {
      "cell_type": "code",
      "source": [
        "##랜덤서치 \n",
        "\n",
        "\n",
        "from scipy.stats import uniform, randint\n",
        "#uniform, randint은 주어진 범위에서 고르게 값을 뽑음 \n",
        "#균등분포에서 샘플링한다! \n",
        "#uniform - 정수값 , randint- 실수값 "
      ],
      "metadata": {
        "id": "HgDmEpKT-JQa"
      },
      "execution_count": 55,
      "outputs": []
    },
    {
      "cell_type": "code",
      "source": [
        "rgen = randint(0,10)\n",
        "rgen.rvs(10)"
      ],
      "metadata": {
        "id": "KncliU_G-N7S",
        "outputId": "1ff325e0-a547-44bb-a5e4-fe09c51c86dd",
        "colab": {
          "base_uri": "https://localhost:8080/"
        }
      },
      "execution_count": 56,
      "outputs": [
        {
          "output_type": "execute_result",
          "data": {
            "text/plain": [
              "array([2, 5, 5, 0, 0, 4, 1, 9, 9, 8])"
            ]
          },
          "metadata": {},
          "execution_count": 56
        }
      ]
    },
    {
      "cell_type": "code",
      "source": [
        "np.unique(rgen.rvs(1000), return_counts=True)"
      ],
      "metadata": {
        "id": "iiUS4a5l-iOo",
        "outputId": "1cfcdf69-9d49-46f4-b158-482c940e480a",
        "colab": {
          "base_uri": "https://localhost:8080/"
        }
      },
      "execution_count": 57,
      "outputs": [
        {
          "output_type": "execute_result",
          "data": {
            "text/plain": [
              "(array([0, 1, 2, 3, 4, 5, 6, 7, 8, 9]),\n",
              " array([107,  98, 100,  93, 107,  94,  97, 102, 104,  98]))"
            ]
          },
          "metadata": {},
          "execution_count": 57
        }
      ]
    },
    {
      "cell_type": "code",
      "source": [
        "ugen= uniform(0,1)\n",
        "ugen.rvs(10)"
      ],
      "metadata": {
        "id": "vLLlchtq-tYj",
        "outputId": "939d2f3e-c088-4e04-992b-37e57ae5a458",
        "colab": {
          "base_uri": "https://localhost:8080/"
        }
      },
      "execution_count": 58,
      "outputs": [
        {
          "output_type": "execute_result",
          "data": {
            "text/plain": [
              "array([0.62501854, 0.42956163, 0.81636074, 0.96931767, 0.62278377,\n",
              "       0.99422061, 0.7237511 , 0.37488438, 0.33841623, 0.70352065])"
            ]
          },
          "metadata": {},
          "execution_count": 58
        }
      ]
    },
    {
      "cell_type": "code",
      "source": [
        "params = {\n",
        "    #0.0001에서 0.001사이의 실숫값을 샘플링 \n",
        "    'min_impurity_decrease': uniform(0.0001, 0.001),\n",
        "    #20에서 50사이의 정수값을 샘플링 \n",
        "          'max_depth': randint(20,50),\n",
        "    #2에서 25사리의 정수값을 샘플링 \n",
        "          'min_samples_split': randint(2,25),\n",
        "    #1에서 25사이의 정수를 샘플링\n",
        "          'min_samples_leaf': randint(1,25)\n",
        "          }\n",
        "\n",
        "#샘플링 횟수는 RandomizedSearchCV의 n_iter 매개변수에 지정한다 "
      ],
      "metadata": {
        "id": "ibfdO3Se-xBd"
      },
      "execution_count": 59,
      "outputs": []
    },
    {
      "cell_type": "code",
      "source": [
        "from sklearn.model_selection import RandomizedSearchCV\n",
        "\n",
        "#params에서 정의된 매개변수 범위에서 총 100번(n_iter 매개변수)을 샘플링하여 \n",
        "#교차검증을 수행하고 최적의 매개변수 조합을 찾음 \n",
        "gs= RandomizedSearchCV(DecisionTreeClassifier(random_state=42),\n",
        "                       params, n_iter=100, n_jobs=-1, random_state=42)\n",
        "gs.fit(train_input, train_target)\n",
        "\n"
      ],
      "metadata": {
        "id": "ffgdd4pL_mR2",
        "outputId": "c10002e2-f2bd-4058-d9d2-09887e95945f",
        "colab": {
          "base_uri": "https://localhost:8080/"
        }
      },
      "execution_count": 60,
      "outputs": [
        {
          "output_type": "execute_result",
          "data": {
            "text/plain": [
              "RandomizedSearchCV(estimator=DecisionTreeClassifier(random_state=42),\n",
              "                   n_iter=100, n_jobs=-1,\n",
              "                   param_distributions={'max_depth': <scipy.stats._distn_infrastructure.rv_frozen object at 0x7fa47e050a90>,\n",
              "                                        'min_impurity_decrease': <scipy.stats._distn_infrastructure.rv_frozen object at 0x7fa47e050e50>,\n",
              "                                        'min_samples_leaf': <scipy.stats._distn_infrastructure.rv_frozen object at 0x7fa47fe4ab10>,\n",
              "                                        'min_samples_split': <scipy.stats._distn_infrastructure.rv_frozen object at 0x7fa47e050710>},\n",
              "                   random_state=42)"
            ]
          },
          "metadata": {},
          "execution_count": 60
        }
      ]
    },
    {
      "cell_type": "code",
      "source": [
        "#최적의 매개변수 조합을 출력\n",
        "print(gs.best_params_)"
      ],
      "metadata": {
        "id": "4m0DWblsASaz",
        "outputId": "84e63580-45e4-4d5d-b21c-b5f0f58587d2",
        "colab": {
          "base_uri": "https://localhost:8080/"
        }
      },
      "execution_count": 61,
      "outputs": [
        {
          "output_type": "stream",
          "name": "stdout",
          "text": [
            "{'max_depth': 39, 'min_impurity_decrease': 0.00034102546602601173, 'min_samples_leaf': 7, 'min_samples_split': 13}\n"
          ]
        }
      ]
    },
    {
      "cell_type": "code",
      "source": [
        "#최고의 교차 검증 점수 확인\n",
        "print(np.max(gs.cv_results_['mean_test_score']))"
      ],
      "metadata": {
        "id": "tQyKea8DA1It",
        "outputId": "09499a45-ccc9-46a7-85bc-6a98a7147887",
        "colab": {
          "base_uri": "https://localhost:8080/"
        }
      },
      "execution_count": 62,
      "outputs": [
        {
          "output_type": "stream",
          "name": "stdout",
          "text": [
            "0.8695428296438884\n"
          ]
        }
      ]
    },
    {
      "cell_type": "code",
      "source": [
        "#이 모델 최종모델로 선정 후 테스트 성능확인 \n",
        "\n",
        "dt = gs.best_estimator_\n",
        "print(dt.score(test_input, test_target))"
      ],
      "metadata": {
        "id": "BTJVlPgwBBmF",
        "outputId": "92dc4ebd-2094-408b-8fe2-95d1ec68a5f9",
        "colab": {
          "base_uri": "https://localhost:8080/"
        }
      },
      "execution_count": 63,
      "outputs": [
        {
          "output_type": "stream",
          "name": "stdout",
          "text": [
            "0.86\n"
          ]
        }
      ]
    },
    {
      "cell_type": "markdown",
      "source": [
        "확인문제 03 "
      ],
      "metadata": {
        "id": "aKMmckkDB0qL"
      }
    },
    {
      "cell_type": "code",
      "source": [
        "gs= RandomizedSearchCV(DecisionTreeClassifier(splitter= 'random',\n",
        "                       random_state=42), params, n_iter=100,\n",
        "                       n_jobs=-1, random_state= 42)\n",
        "gs.fit(train_input, train_target)\n",
        "print(gs.best_params_)\n",
        "print(np.max(gs.cv_results_['mean_test_score']))\n",
        "dt= gs.best_estimator_\n",
        "print(dt.score(test_input, test_target))"
      ],
      "metadata": {
        "id": "GB-Mu28IBRIF",
        "outputId": "96f73624-2835-4763-97cd-9eb93058c870",
        "colab": {
          "base_uri": "https://localhost:8080/"
        }
      },
      "execution_count": 64,
      "outputs": [
        {
          "output_type": "stream",
          "name": "stdout",
          "text": [
            "{'max_depth': 43, 'min_impurity_decrease': 0.00011407982271508446, 'min_samples_leaf': 19, 'min_samples_split': 18}\n",
            "0.8458726956392981\n",
            "0.786923076923077\n"
          ]
        }
      ]
    }
  ]
}