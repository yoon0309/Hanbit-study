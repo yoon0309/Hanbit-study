{
  "nbformat": 4,
  "nbformat_minor": 0,
  "metadata": {
    "colab": {
      "name": "혼공학습단 4주차-2 .ipynb",
      "provenance": []
    },
    "kernelspec": {
      "name": "python3",
      "display_name": "Python 3"
    },
    "language_info": {
      "name": "python"
    }
  },
  "cells": [
    {
      "cell_type": "markdown",
      "source": [
        "05-2 교차 검증과 그리드 서치"
      ],
      "metadata": {
        "id": "XE4Y3vAUG0OI"
      }
    },
    {
      "cell_type": "code",
      "execution_count": null,
      "metadata": {
        "id": "y3R-cZ9CGvOD"
      },
      "outputs": [],
      "source": [
        ""
      ]
    }
  ]
}