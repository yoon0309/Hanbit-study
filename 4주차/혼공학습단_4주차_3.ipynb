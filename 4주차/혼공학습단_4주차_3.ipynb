{
  "nbformat": 4,
  "nbformat_minor": 0,
  "metadata": {
    "colab": {
      "name": "혼공학습단_4주차_3.ipynb",
      "provenance": []
    },
    "kernelspec": {
      "name": "python3",
      "display_name": "Python 3"
    },
    "language_info": {
      "name": "python"
    }
  },
  "cells": [
    {
      "cell_type": "markdown",
      "source": [
        "랜덤포레스트로 화이트 와인을 분류하는 문제 수행해보기"
      ],
      "metadata": {
        "id": "LKXPVYMMGNNF"
      }
    },
    {
      "cell_type": "code",
      "execution_count": 11,
      "metadata": {
        "id": "nyV6IFJ3GMwd"
      },
      "outputs": [],
      "source": [
        "import numpy as np\n",
        "import pandas as pd \n",
        "from sklearn.model_selection import train_test_split\n",
        "wine = pd.read_csv('https://bit.ly/wine_csv_data')\n",
        "data= wine[['alcohol','sugar','pH']].to_numpy()\n",
        "target=wine['class'].to_numpy()\n",
        "train_input, test_input, train_target, test_target = train_test_split(\n",
        "    data, target, test_size=0.2, random_state=42\n",
        ")"
      ]
    },
    {
      "cell_type": "code",
      "source": [
        "#교차검증 수행 \n",
        "\n",
        "from sklearn.model_selection import cross_validate\n",
        "from sklearn.ensemble import RandomForestClassifier\n",
        "rf= RandomForestClassifier(n_jobs=-1, random_state=42)"
      ],
      "metadata": {
        "id": "mCM2tKLEG1ge"
      },
      "execution_count": 12,
      "outputs": []
    },
    {
      "cell_type": "code",
      "source": [
        "scores = cross_validate(rf, train_input, train_target, return_train_score=True,\n",
        "                       n_jobs=-1)\n",
        "print(np.mean(scores['train_score']), np.mean(scores['test_score']))"
      ],
      "metadata": {
        "colab": {
          "base_uri": "https://localhost:8080/"
        },
        "id": "XP3I7DtwHH_P",
        "outputId": "e05d3c7d-fef0-4dbd-f6e3-e66adcdb46eb"
      },
      "execution_count": 13,
      "outputs": [
        {
          "output_type": "stream",
          "name": "stdout",
          "text": [
            "0.9973541965122431 0.8905151032797809\n"
          ]
        }
      ]
    },
    {
      "cell_type": "markdown",
      "source": [
        "=> 훈련세트에 과대적합되었음을 알 수 있음"
      ],
      "metadata": {
        "id": "EmqrPA2bHg5N"
      }
    },
    {
      "cell_type": "code",
      "source": [
        "rf.fit(train_input, train_target)\n",
        "print(rf.feature_importances_)"
      ],
      "metadata": {
        "colab": {
          "base_uri": "https://localhost:8080/"
        },
        "id": "T604gnn6HbxT",
        "outputId": "58d79417-8ebb-4e0c-ea35-f92312dada82"
      },
      "execution_count": 14,
      "outputs": [
        {
          "output_type": "stream",
          "name": "stdout",
          "text": [
            "[0.23167441 0.50039841 0.26792718]\n"
          ]
        }
      ]
    },
    {
      "cell_type": "markdown",
      "source": [
        "앞서 진행했던 순열중요도와 비교했을 때, 당도의 중요도가 감소했고 알콜 도수와 pH의 특성 중요도가 조금 상승하였음 \n",
        "\n",
        "=> 랜덤 포레스트가 특성의 일부를 랜덤하게 선택하여 결정트리를 훈련하기에 하나의 특성에 과도하게 집중되지 않아서 과대적합을 줄이고 일반화 성능을 높이는데 도움 "
      ],
      "metadata": {
        "id": "JJHfrdbfH2PC"
      }
    },
    {
      "cell_type": "code",
      "source": [
        "rf = RandomForestClassifier(oob_score=True, n_jobs=-1, random_state=42)\n",
        "rf.fit(train_input, train_target)\n",
        "print(rf.oob_score_)"
      ],
      "metadata": {
        "colab": {
          "base_uri": "https://localhost:8080/"
        },
        "id": "Vin9B0KsHqmc",
        "outputId": "2ee409f9-e1c4-412d-e5ab-9f919d11099a"
      },
      "execution_count": 15,
      "outputs": [
        {
          "output_type": "stream",
          "name": "stdout",
          "text": [
            "0.8934000384837406\n"
          ]
        }
      ]
    },
    {
      "cell_type": "markdown",
      "source": [
        "교차 검증에서 얻은 점수와 매우 비슷한 결과를 얻었음 \n",
        "\n",
        "OOB점수를 사용, 교차검증을 대신할 수 있음 "
      ],
      "metadata": {
        "id": "QHv0mf7PIweV"
      }
    },
    {
      "cell_type": "code",
      "source": [
        "##엑스트라 트리 \n",
        "\n",
        "from sklearn.ensemble import ExtraTreesClassifier\n",
        "et= ExtraTreesClassifier(n_jobs=-1, random_state=42)\n",
        "scores= cross_validate(et, train_input, train_target, \n",
        "                       return_train_score= True, n_jobs=-1)\n",
        "print(np.mean(scores['train_score']), np.mean(scores['test_score']))"
      ],
      "metadata": {
        "colab": {
          "base_uri": "https://localhost:8080/"
        },
        "id": "rAWp5hwsItTh",
        "outputId": "27246ba0-54e2-407b-d786-c1ea816e1d0b"
      },
      "execution_count": 17,
      "outputs": [
        {
          "output_type": "stream",
          "name": "stdout",
          "text": [
            "0.9974503966084433 0.8887848893166506\n"
          ]
        }
      ]
    },
    {
      "cell_type": "code",
      "source": [
        "# 특성중요도 계산 \n",
        "\n",
        "et.fit(train_input, train_target)\n",
        "print(et.feature_importances_)"
      ],
      "metadata": {
        "colab": {
          "base_uri": "https://localhost:8080/"
        },
        "id": "gITwoVlRPV8y",
        "outputId": "c54e133a-1c77-425b-8904-7724fe609290"
      },
      "execution_count": 18,
      "outputs": [
        {
          "output_type": "stream",
          "name": "stdout",
          "text": [
            "[0.20183568 0.52242907 0.27573525]\n"
          ]
        }
      ]
    },
    {
      "cell_type": "code",
      "source": [
        "##그레디언트 부스팅을 이용해서 와인 데이터셋의 교차 검증 점수 확인\n",
        "\n",
        "from sklearn.ensemble import GradientBoostingClassifier\n",
        "gb= GradientBoostingClassifier(random_state=42)\n",
        "scores = cross_validate(gb, train_input, train_target,\n",
        "                        return_train_score=True, n_jobs= -1)\n",
        "print(np.mean(scores['train_score']), np.mean(scores['test_score']))"
      ],
      "metadata": {
        "colab": {
          "base_uri": "https://localhost:8080/"
        },
        "id": "vUyhaILqSB64",
        "outputId": "c2ca77d6-d459-4478-c3d8-a8a8efea09a9"
      },
      "execution_count": 19,
      "outputs": [
        {
          "output_type": "stream",
          "name": "stdout",
          "text": [
            "0.8881086892152563 0.8720430147331015\n"
          ]
        }
      ]
    },
    {
      "cell_type": "markdown",
      "source": [
        "=> 과대적합이 되지 않았음 \n",
        "\n",
        "결정트리의 개수를 늘려도 과대적합에 매우 강함, 학습률을 증가시키고 트리의 개수를 늘리면 조금 더 성능이 향상될 수 있음 "
      ],
      "metadata": {
        "id": "SitWYZLQUnr0"
      }
    },
    {
      "cell_type": "code",
      "source": [
        "gb = GradientBoostingClassifier(n_estimators=500, learning_rate=0.2,\n",
        "                                random_state=42)\n",
        "scores= cross_validate(gb, train_input, train_target,\n",
        "                       return_train_score=True, n_jobs=-1)\n",
        "print(np.mean(scores['train_score']), np.mean(scores['test_score']))"
      ],
      "metadata": {
        "colab": {
          "base_uri": "https://localhost:8080/"
        },
        "id": "VfcEClAKUmBj",
        "outputId": "c27c7951-969c-4c75-e1ab-0fa6d343ee84"
      },
      "execution_count": 20,
      "outputs": [
        {
          "output_type": "stream",
          "name": "stdout",
          "text": [
            "0.9464595437171814 0.8780082549788999\n"
          ]
        }
      ]
    },
    {
      "cell_type": "markdown",
      "source": [
        "결정 트리 개수를 5배나 늘렸지만 과대적합을 잘 억제함 \n",
        "\n"
      ],
      "metadata": {
        "id": "bsX9kBvZVcnO"
      }
    },
    {
      "cell_type": "code",
      "source": [
        "gb.fit(train_input, train_target)\n",
        "print(gb.feature_importances_)"
      ],
      "metadata": {
        "colab": {
          "base_uri": "https://localhost:8080/"
        },
        "id": "OTUGXKT8VJxF",
        "outputId": "444d7479-ddf8-4410-ac38-7469dc3fc633"
      },
      "execution_count": 21,
      "outputs": [
        {
          "output_type": "stream",
          "name": "stdout",
          "text": [
            "[0.15872278 0.68010884 0.16116839]\n"
          ]
        }
      ]
    },
    {
      "cell_type": "markdown",
      "source": [
        "랜덤포레스트보다 일부 특성인 당도에 더 집중되어있음 "
      ],
      "metadata": {
        "id": "5nZz-DjVVogw"
      }
    },
    {
      "cell_type": "code",
      "source": [
        "##그레디언트 부스팅 \n",
        "\n",
        "from sklearn.experimental import enable_hist_gradient_boosting\n",
        "from sklearn.ensemble import HistGradientBoostingClassifier\n",
        "hgb= HistGradientBoostingClassifier(random_state=42)\n",
        "scores = cross_validate(hgb, train_input, train_target,\n",
        "                        return_train_score=True)\n",
        "print(np.mean(scores['train_score']), np.mean(scores['test_score']))"
      ],
      "metadata": {
        "colab": {
          "base_uri": "https://localhost:8080/"
        },
        "id": "BQ0-wPhRVnrR",
        "outputId": "1effef58-6b1b-4dc8-a502-5be00f2cd27b"
      },
      "execution_count": 22,
      "outputs": [
        {
          "output_type": "stream",
          "name": "stderr",
          "text": [
            "/usr/local/lib/python3.7/dist-packages/sklearn/experimental/enable_hist_gradient_boosting.py:17: UserWarning: Since version 1.0, it is not needed to import enable_hist_gradient_boosting anymore. HistGradientBoostingClassifier and HistGradientBoostingRegressor are now stable and can be normally imported from sklearn.ensemble.\n",
            "  \"Since version 1.0, \"\n"
          ]
        },
        {
          "output_type": "stream",
          "name": "stdout",
          "text": [
            "0.9321723946453317 0.8801241948619236\n"
          ]
        }
      ]
    },
    {
      "cell_type": "markdown",
      "source": [
        "과대적합을 잘 억제하면서 그레디언트 부스팅보다 조금 더 높은 성능을 제공함 "
      ],
      "metadata": {
        "id": "dKHFrqQAW1LG"
      }
    },
    {
      "cell_type": "code",
      "source": [
        "#특성 중요도 확인 \n",
        "\n",
        "from sklearn.inspection import permutation_importance\n",
        "\n",
        "hgb.fit(train_input, train_target)\n",
        "result = permutation_importance(hgb, train_input, train_target,\n",
        "                                n_repeats=10, random_state=42, n_jobs=-1)\n",
        "#n_repeats는 매개변수를 랜덤하게 섞을 횟수  \n",
        "\n",
        "print(result.importances_mean)"
      ],
      "metadata": {
        "colab": {
          "base_uri": "https://localhost:8080/"
        },
        "id": "MUIwVbdPW0IP",
        "outputId": "3d0508a2-65fe-4462-a6ce-5dfa48a70fbf"
      },
      "execution_count": 23,
      "outputs": [
        {
          "output_type": "stream",
          "name": "stdout",
          "text": [
            "[0.08876275 0.23438522 0.08027708]\n"
          ]
        }
      ]
    },
    {
      "cell_type": "markdown",
      "source": [
        "permutation_importance() 함수가 반환하는 객체는 반복하여 얻은 특성 중요도, 평균, 표준편차를 담고 있음 \n",
        "\n",
        "평균을 출력해 보면 랜덤 포레스트와 비슷한 비율임을 알 수 있음"
      ],
      "metadata": {
        "id": "WajgwIfCXwo6"
      }
    },
    {
      "cell_type": "code",
      "source": [
        "result= permutation_importance(hgb, test_input, test_target,\n",
        "                               n_repeats= 10, random_state= 42, n_jobs=-1)\n",
        "print(result.importances_mean)"
      ],
      "metadata": {
        "colab": {
          "base_uri": "https://localhost:8080/"
        },
        "id": "8vTaTTItXZI_",
        "outputId": "516425c4-266e-462e-9fe0-42d920eff6ca"
      },
      "execution_count": 24,
      "outputs": [
        {
          "output_type": "stream",
          "name": "stdout",
          "text": [
            "[0.05969231 0.20238462 0.049     ]\n"
          ]
        }
      ]
    },
    {
      "cell_type": "markdown",
      "source": [
        "그레디언트 부스팅과 비슷하게 조금 더 당도에 집중하고 있음을 알 수 있음"
      ],
      "metadata": {
        "id": "-rVM_GxvYcdA"
      }
    },
    {
      "cell_type": "code",
      "source": [
        "#테스트 세트에서의 성능을 최종적으로 확인 \n",
        "\n",
        "hgb.score(test_input, test_target)"
      ],
      "metadata": {
        "colab": {
          "base_uri": "https://localhost:8080/"
        },
        "id": "hsQPU4bJYbT5",
        "outputId": "e931266b-8f4f-4fb7-a834-9b84fa06de34"
      },
      "execution_count": 25,
      "outputs": [
        {
          "output_type": "execute_result",
          "data": {
            "text/plain": [
              "0.8723076923076923"
            ]
          },
          "metadata": {},
          "execution_count": 25
        }
      ]
    },
    {
      "cell_type": "markdown",
      "source": [
        "약 87%의 정확도를 얻음"
      ],
      "metadata": {
        "id": "43yF7q8sYsv8"
      }
    },
    {
      "cell_type": "code",
      "source": [
        "##XGBoost를 사용해 와인 데이터의 교차 검증 점수 확인\n",
        "\n",
        "from xgboost import XGBClassifier\n",
        "xgb= XGBClassifier(tree_method='hist', random_state=42)\n",
        "scores= cross_validate(xgb, train_input, train_target,\n",
        "                       return_train_score=True)\n",
        "print(np.mean(scores['train_score']), np.mean(scores['test_score']))"
      ],
      "metadata": {
        "colab": {
          "base_uri": "https://localhost:8080/"
        },
        "id": "m0FL0gnYYpiT",
        "outputId": "13e70c36-15ff-4dc2-d74f-081db108a5fb"
      },
      "execution_count": 27,
      "outputs": [
        {
          "output_type": "stream",
          "name": "stdout",
          "text": [
            "0.8824322471423747 0.8726214185237284\n"
          ]
        }
      ]
    },
    {
      "cell_type": "code",
      "source": [
        "##LightGBM을 통해 와인 데이터의 교차 검증 점수 확인\n",
        "\n",
        "from lightgbm import LGBMClassifier\n",
        "lgb= LGBMClassifier(random_state=42)\n",
        "scores = cross_validate(lgb, train_input, train_target,\n",
        "                        return_train_score=True, n_jobs=-1)\n",
        "print(np.mean(scores['train_score']), np.mean(scores['test_score']))"
      ],
      "metadata": {
        "colab": {
          "base_uri": "https://localhost:8080/"
        },
        "id": "YfD0oPmgYnOL",
        "outputId": "0bae9913-6a26-4d77-ab51-607fb28e0023"
      },
      "execution_count": 28,
      "outputs": [
        {
          "output_type": "stream",
          "name": "stdout",
          "text": [
            "0.9338079582727165 0.8789710890649293\n"
          ]
        }
      ]
    }
  ]
}