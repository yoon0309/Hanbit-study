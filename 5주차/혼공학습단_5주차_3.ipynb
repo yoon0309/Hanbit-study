{
  "nbformat": 4,
  "nbformat_minor": 0,
  "metadata": {
    "colab": {
      "name": "혼공학습단 5주차 -3.ipynb",
      "provenance": []
    },
    "kernelspec": {
      "name": "python3",
      "display_name": "Python 3"
    },
    "language_info": {
      "name": "python"
    }
  },
  "cells": [
    {
      "cell_type": "markdown",
      "source": [
        "PCA 클래스 "
      ],
      "metadata": {
        "id": "2Tq9etBp8sGI"
      }
    },
    {
      "cell_type": "code",
      "execution_count": 2,
      "metadata": {
        "colab": {
          "base_uri": "https://localhost:8080/"
        },
        "id": "Ia7ogauxriG5",
        "outputId": "a1f1a1ec-10c2-4410-c376-80f45fe37426"
      },
      "outputs": [
        {
          "output_type": "stream",
          "name": "stdout",
          "text": [
            "--2022-08-11 17:30:05--  https://bit.ly/fruits_300_data\n",
            "Resolving bit.ly (bit.ly)... 67.199.248.11, 67.199.248.10\n",
            "Connecting to bit.ly (bit.ly)|67.199.248.11|:443... connected.\n",
            "HTTP request sent, awaiting response... 301 Moved Permanently\n",
            "Location: https://github.com/rickiepark/hg-mldl/raw/master/fruits_300.npy [following]\n",
            "--2022-08-11 17:30:05--  https://github.com/rickiepark/hg-mldl/raw/master/fruits_300.npy\n",
            "Resolving github.com (github.com)... 140.82.113.3\n",
            "Connecting to github.com (github.com)|140.82.113.3|:443... connected.\n",
            "HTTP request sent, awaiting response... 302 Found\n",
            "Location: https://raw.githubusercontent.com/rickiepark/hg-mldl/master/fruits_300.npy [following]\n",
            "--2022-08-11 17:30:05--  https://raw.githubusercontent.com/rickiepark/hg-mldl/master/fruits_300.npy\n",
            "Resolving raw.githubusercontent.com (raw.githubusercontent.com)... 185.199.108.133, 185.199.110.133, 185.199.109.133, ...\n",
            "Connecting to raw.githubusercontent.com (raw.githubusercontent.com)|185.199.108.133|:443... connected.\n",
            "HTTP request sent, awaiting response... 200 OK\n",
            "Length: 3000128 (2.9M) [application/octet-stream]\n",
            "Saving to: ‘fruits_300.npy’\n",
            "\n",
            "fruits_300.npy      100%[===================>]   2.86M  --.-KB/s    in 0.01s   \n",
            "\n",
            "2022-08-11 17:30:05 (261 MB/s) - ‘fruits_300.npy’ saved [3000128/3000128]\n",
            "\n"
          ]
        }
      ],
      "source": [
        "#과일 데이터를 다운, 넘파이 배열로 적재 \n",
        "!wget https://bit.ly/fruits_300_data -O fruits_300.npy\n",
        "\n",
        "import numpy as np\n",
        "fruits= np.load('fruits_300.npy')\n",
        "fruits_2d= fruits.reshape(-1, 100*100)"
      ]
    },
    {
      "cell_type": "code",
      "source": [
        "#PCA 클래스로 주성분 분석 알고리즘을 제공 \n",
        "\n",
        "from sklearn.decomposition import PCA\n",
        "#n_componets 매개변수에 주성분 개수를 지정 \n",
        "pca = PCA(n_components=50)\n",
        "#비지도 학습이기에 fit()메서드에 타깃값을 제공하지 않는다 \n",
        "pca.fit(fruits_2d)"
      ],
      "metadata": {
        "colab": {
          "base_uri": "https://localhost:8080/"
        },
        "id": "UIWd7ndS81yh",
        "outputId": "8f791912-a127-4f4e-98cd-07e2ae10f207"
      },
      "execution_count": 4,
      "outputs": [
        {
          "output_type": "execute_result",
          "data": {
            "text/plain": [
              "PCA(n_components=50)"
            ]
          },
          "metadata": {},
          "execution_count": 4
        }
      ]
    },
    {
      "cell_type": "code",
      "source": [
        "#PCA 클래스가 찾은 주성분은 compoents_속성에 저장\n",
        "#배열의 크기를 확인하기\n",
        "print(pca.components_.shape)"
      ],
      "metadata": {
        "colab": {
          "base_uri": "https://localhost:8080/"
        },
        "id": "WW_HW23X9Z--",
        "outputId": "86765351-32d3-4b65-dbca-54128adfaa98"
      },
      "execution_count": 5,
      "outputs": [
        {
          "output_type": "stream",
          "name": "stdout",
          "text": [
            "(50, 10000)\n"
          ]
        }
      ]
    },
    {
      "cell_type": "code",
      "source": [
        ""
      ],
      "metadata": {
        "id": "YJ9N03Qh96Cv"
      },
      "execution_count": null,
      "outputs": []
    }
  ]
}