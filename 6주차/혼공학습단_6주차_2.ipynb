{
  "nbformat": 4,
  "nbformat_minor": 0,
  "metadata": {
    "colab": {
      "name": "혼공학습단 6주차 -2",
      "provenance": []
    },
    "kernelspec": {
      "name": "python3",
      "display_name": "Python 3"
    },
    "language_info": {
      "name": "python"
    }
  },
  "cells": [
    {
      "cell_type": "markdown",
      "source": [
        "#심층 신경망 \n",
        "\n",
        "패션 MNIST 데이터 셋을 분류하면서 케라스로 심층 신경망을 만드는 방법을 배워보기 "
      ],
      "metadata": {
        "id": "_QAR9NLo-Pag"
      }
    },
    {
      "cell_type": "code",
      "execution_count": 2,
      "metadata": {
        "id": "kN0ZaIMX8J5D",
        "outputId": "1c5623c2-5168-4e1b-ff9e-a56f8e5dfa25",
        "colab": {
          "base_uri": "https://localhost:8080/"
        }
      },
      "outputs": [
        {
          "output_type": "stream",
          "name": "stdout",
          "text": [
            "Downloading data from https://storage.googleapis.com/tensorflow/tf-keras-datasets/train-labels-idx1-ubyte.gz\n",
            "32768/29515 [=================================] - 0s 0us/step\n",
            "40960/29515 [=========================================] - 0s 0us/step\n",
            "Downloading data from https://storage.googleapis.com/tensorflow/tf-keras-datasets/train-images-idx3-ubyte.gz\n",
            "26427392/26421880 [==============================] - 0s 0us/step\n",
            "26435584/26421880 [==============================] - 0s 0us/step\n",
            "Downloading data from https://storage.googleapis.com/tensorflow/tf-keras-datasets/t10k-labels-idx1-ubyte.gz\n",
            "16384/5148 [===============================================================================================] - 0s 0us/step\n",
            "Downloading data from https://storage.googleapis.com/tensorflow/tf-keras-datasets/t10k-images-idx3-ubyte.gz\n",
            "4423680/4422102 [==============================] - 0s 0us/step\n",
            "4431872/4422102 [==============================] - 0s 0us/step\n"
          ]
        }
      ],
      "source": [
        "#패션 MNIST 데이터셋을 불러오기 \n",
        "\n",
        "from tensorflow import keras \n",
        "(train_input, train_target), (test_input, test_target) = keras.datasets.fashion_mnist.load_data()"
      ]
    },
    {
      "cell_type": "code",
      "source": [
        "#이미지 픽셀값 0~255 범위에서 0~1사이로 변환 \n",
        "#2차원배열을 1차원 배열로 펼침\n",
        "#train_test_split()함수로 훈련세트, 검증세트로 나눔 \n",
        "\n",
        "from sklearn.model_selection import train_test_split\n",
        "train_scaled = train_input/ 255.0\n",
        "train_scaled = train_scaled.reshape(-1, 28*28)\n",
        "train_scaled, val_scaled, train_target, val_target = train_test_split(\n",
        "    train_scaled, train_target, test_size =0.2, random_state = 42 \n",
        ")"
      ],
      "metadata": {
        "id": "gP7BVc7y-slh"
      },
      "execution_count": 3,
      "outputs": []
    },
    {
      "cell_type": "code",
      "source": [
        "#은닉층, 출력층을 케라스의 Dense 클래스로 만들기 \n",
        "\n",
        "#dense1은 은닉층 100개의 뉴런을 가지고 활성화함수 sigmoid, input_shape의 매개변수에서 입력의 크기 (784,)로 지정 \n",
        "dense1 = keras.layers.Dense(100, activation='sigmoid', input_shape=(784,))\n",
        "dense2 = keras.layers.Dense(10, activation='softmax')"
      ],
      "metadata": {
        "id": "Es3Ujx75_gQh"
      },
      "execution_count": 4,
      "outputs": []
    },
    {
      "cell_type": "code",
      "source": [
        "#심층 신경망 만들기 \n",
        "\n",
        "model= keras.Sequential([dense1, dense2])"
      ],
      "metadata": {
        "id": "NLU9GTPVAQWc"
      },
      "execution_count": 5,
      "outputs": []
    },
    {
      "cell_type": "code",
      "source": [
        "#층에 대한 유용한 정보를 얻을 수 있음 \n",
        "model.summary()"
      ],
      "metadata": {
        "colab": {
          "base_uri": "https://localhost:8080/"
        },
        "id": "tgGvDY0_AuDE",
        "outputId": "8a2dffb5-9164-49e1-fbfa-7f24d2112de9"
      },
      "execution_count": 6,
      "outputs": [
        {
          "output_type": "stream",
          "name": "stdout",
          "text": [
            "Model: \"sequential\"\n",
            "_________________________________________________________________\n",
            " Layer (type)                Output Shape              Param #   \n",
            "=================================================================\n",
            " dense (Dense)               (None, 100)               78500     \n",
            "                                                                 \n",
            " dense_1 (Dense)             (None, 10)                1010      \n",
            "                                                                 \n",
            "=================================================================\n",
            "Total params: 79,510\n",
            "Trainable params: 79,510\n",
            "Non-trainable params: 0\n",
            "_________________________________________________________________\n"
          ]
        }
      ]
    },
    {
      "cell_type": "markdown",
      "source": [
        "출력크기가 (None, 100), 첫 번째 차원은 샘플의 개수를 나타냄 \n",
        "\n",
        "샘플의 수가 아직 정의되어 있지 않기 때문에 None이다.-> 케라스 모델의 fit()메서드에 훈련 데이터를 주입하면 이 데이터를 한 번에 모두 사용하지 않고 잘게 나누어 여러번에 걸쳐 경사하강법 단계를 수행하는 미니배치 경사 하강법을 사용한다 \n",
        "\n",
        "따라서 샘플의 개수를 고정하지 않고 어떤 배치 크기에도 유연하게 대응할 수 있도록 None으로 설정하였음, 이렇게 신경망 층에 입력되거나 출력되는 배열의 첫 번째 차원을 배치 차원이라고 부름\n",
        "\n",
        "\n",
        "모델 파라미터는 \n",
        "\n",
        "784 x 100 + 100 =78,500,  \n",
        "\n",
        "100 x 10 + 10 = 1,010 "
      ],
      "metadata": {
        "id": "m7Sv8fhFD8Wz"
      }
    },
    {
      "cell_type": "code",
      "source": [
        "#층을 추가하는 다른 방법 \n",
        "\n",
        "\n",
        "model = keras.Sequential([\n",
        "    keras.layers.Dense(100, activation='sigmoid', input_shape=(784,), name='hidden'),\n",
        "    keras.layers.Dense(10, activation='softmax', name='output')\n",
        "], name='패션 MNIST 모델')"
      ],
      "metadata": {
        "id": "qdUuiCaxFJUb"
      },
      "execution_count": 7,
      "outputs": []
    },
    {
      "cell_type": "code",
      "source": [
        "model.summary()"
      ],
      "metadata": {
        "id": "nXxZD0dxFhuC",
        "outputId": "69142f2d-bf54-4842-cc86-c1ee0ea15f88",
        "colab": {
          "base_uri": "https://localhost:8080/"
        }
      },
      "execution_count": 8,
      "outputs": [
        {
          "output_type": "stream",
          "name": "stdout",
          "text": [
            "Model: \"패션 MNIST 모델\"\n",
            "_________________________________________________________________\n",
            " Layer (type)                Output Shape              Param #   \n",
            "=================================================================\n",
            " hidden (Dense)              (None, 100)               78500     \n",
            "                                                                 \n",
            " output (Dense)              (None, 10)                1010      \n",
            "                                                                 \n",
            "=================================================================\n",
            "Total params: 79,510\n",
            "Trainable params: 79,510\n",
            "Non-trainable params: 0\n",
            "_________________________________________________________________\n"
          ]
        }
      ]
    },
    {
      "cell_type": "code",
      "source": [
        "#Sequential 클래스의 객체를 만들고 이 객체의 add()메서드 호출\n",
        "#층을 추가 \n",
        "\n",
        "model = keras.Sequential()\n",
        "model.add(keras.layers.Dense(100, activation='sigmoid', input_shape=(784,)))\n",
        "model.add(keras.layers.Dense(10, activation='softmax'))"
      ],
      "metadata": {
        "id": "h262vDEBFmXA"
      },
      "execution_count": 9,
      "outputs": []
    },
    {
      "cell_type": "code",
      "source": [
        "model.summary()"
      ],
      "metadata": {
        "id": "tKPAPt06GF8w",
        "outputId": "95bc8b60-7bf2-4c63-d053-be5491580237",
        "colab": {
          "base_uri": "https://localhost:8080/"
        }
      },
      "execution_count": 10,
      "outputs": [
        {
          "output_type": "stream",
          "name": "stdout",
          "text": [
            "Model: \"sequential_1\"\n",
            "_________________________________________________________________\n",
            " Layer (type)                Output Shape              Param #   \n",
            "=================================================================\n",
            " dense_2 (Dense)             (None, 100)               78500     \n",
            "                                                                 \n",
            " dense_3 (Dense)             (None, 10)                1010      \n",
            "                                                                 \n",
            "=================================================================\n",
            "Total params: 79,510\n",
            "Trainable params: 79,510\n",
            "Non-trainable params: 0\n",
            "_________________________________________________________________\n"
          ]
        }
      ]
    },
    {
      "cell_type": "code",
      "source": [
        "#모델을 훈련하기 \n",
        "\n",
        "model.compile(loss='sparse_categorical_crossentropy', metrics='accuracy')\n",
        "model.fit(train_scaled, train_target, epochs=5)"
      ],
      "metadata": {
        "id": "T_VLfzD6GH_h",
        "outputId": "3b730873-96c9-4898-aa50-c23a115fa146",
        "colab": {
          "base_uri": "https://localhost:8080/"
        }
      },
      "execution_count": 11,
      "outputs": [
        {
          "output_type": "stream",
          "name": "stdout",
          "text": [
            "Epoch 1/5\n",
            "1500/1500 [==============================] - 8s 5ms/step - loss: 0.5624 - accuracy: 0.8088\n",
            "Epoch 2/5\n",
            "1500/1500 [==============================] - 5s 3ms/step - loss: 0.4082 - accuracy: 0.8514\n",
            "Epoch 3/5\n",
            "1500/1500 [==============================] - 4s 3ms/step - loss: 0.3733 - accuracy: 0.8657\n",
            "Epoch 4/5\n",
            "1500/1500 [==============================] - 4s 3ms/step - loss: 0.3506 - accuracy: 0.8733\n",
            "Epoch 5/5\n",
            "1500/1500 [==============================] - 4s 3ms/step - loss: 0.3346 - accuracy: 0.8785\n"
          ]
        },
        {
          "output_type": "execute_result",
          "data": {
            "text/plain": [
              "<keras.callbacks.History at 0x7f63656af5d0>"
            ]
          },
          "metadata": {},
          "execution_count": 11
        }
      ]
    },
    {
      "cell_type": "markdown",
      "source": [
        "훈련세트에 대한 성능을 보면 추가된 층이 성능을 향상시켰다는 것을 잘 알 수 있음 \n",
        "인공 신경망에 몇 개의 층을 추가하더라도 complie()메서드와 fit()메서드의 사용법은 동일함 "
      ],
      "metadata": {
        "id": "5udoX_B9GcnV"
      }
    },
    {
      "cell_type": "code",
      "source": [
        "#Flatten 클래스 \n",
        "\n",
        "model = keras.Sequential()\n",
        "model.add(keras.layers.Flatten(input_shape=(28,28)))\n",
        "model.add(keras.layers.Dense(100, activation ='relu'))\n",
        "model.add(keras.layers.Dense(10, activation='softmax'))"
      ],
      "metadata": {
        "id": "7RqNyB06GXUn"
      },
      "execution_count": 12,
      "outputs": []
    },
    {
      "cell_type": "code",
      "source": [
        "model.summary()"
      ],
      "metadata": {
        "id": "DPdghPGsJG3W",
        "outputId": "14188a56-dd35-4033-e8e4-808849671e29",
        "colab": {
          "base_uri": "https://localhost:8080/"
        }
      },
      "execution_count": 13,
      "outputs": [
        {
          "output_type": "stream",
          "name": "stdout",
          "text": [
            "Model: \"sequential_2\"\n",
            "_________________________________________________________________\n",
            " Layer (type)                Output Shape              Param #   \n",
            "=================================================================\n",
            " flatten (Flatten)           (None, 784)               0         \n",
            "                                                                 \n",
            " dense_4 (Dense)             (None, 100)               78500     \n",
            "                                                                 \n",
            " dense_5 (Dense)             (None, 10)                1010      \n",
            "                                                                 \n",
            "=================================================================\n",
            "Total params: 79,510\n",
            "Trainable params: 79,510\n",
            "Non-trainable params: 0\n",
            "_________________________________________________________________\n"
          ]
        }
      ]
    },
    {
      "cell_type": "markdown",
      "source": [
        "Flatten 클래스는 배치 차원을 제외하고 나머지 입력 차원을 일렬로 펼치는 역할만 함\n",
        "\n",
        "케라스의 Flatten 층을 신경망 모델에 추가하면 입력값의 차원을 짐작가능 "
      ],
      "metadata": {
        "id": "PZ2lmPFKJMow"
      }
    },
    {
      "cell_type": "code",
      "source": [
        "(train_input, train_target), (test_input, test_target) = keras.datasets.fashion_mnist.load_data()\n",
        "\n",
        "train_scaled = train_input /255.0\n",
        "train_scaled, val_scaled, train_target, val_target = train_test_split(\n",
        "    train_scaled, train_target, test_size = 0.2, random_state =42\n",
        ")"
      ],
      "metadata": {
        "id": "ZE_V33iAJIX5"
      },
      "execution_count": 14,
      "outputs": []
    },
    {
      "cell_type": "code",
      "source": [
        "model. compile(loss='sparse_categorical_crossentropy', metrics='accuracy')\n",
        "model.fit(train_scaled, train_target, epochs=5)"
      ],
      "metadata": {
        "id": "_Mn-BlhtJ8iY",
        "outputId": "94d61382-70bf-44e3-c1b7-f16007500408",
        "colab": {
          "base_uri": "https://localhost:8080/"
        }
      },
      "execution_count": 15,
      "outputs": [
        {
          "output_type": "stream",
          "name": "stdout",
          "text": [
            "Epoch 1/5\n",
            "1500/1500 [==============================] - 5s 3ms/step - loss: 0.5287 - accuracy: 0.8138\n",
            "Epoch 2/5\n",
            "1500/1500 [==============================] - 4s 3ms/step - loss: 0.3913 - accuracy: 0.8589\n",
            "Epoch 3/5\n",
            "1500/1500 [==============================] - 4s 3ms/step - loss: 0.3510 - accuracy: 0.8749\n",
            "Epoch 4/5\n",
            "1500/1500 [==============================] - 5s 3ms/step - loss: 0.3332 - accuracy: 0.8816\n",
            "Epoch 5/5\n",
            "1500/1500 [==============================] - 4s 3ms/step - loss: 0.3203 - accuracy: 0.8857\n"
          ]
        },
        {
          "output_type": "execute_result",
          "data": {
            "text/plain": [
              "<keras.callbacks.History at 0x7f6365539b90>"
            ]
          },
          "metadata": {},
          "execution_count": 15
        }
      ]
    },
    {
      "cell_type": "markdown",
      "source": [
        "시그모이드 함수와 비교하면 성능이 조금 향상됨을 알 수 있었음"
      ],
      "metadata": {
        "id": "iiWO4_weKLbv"
      }
    },
    {
      "cell_type": "code",
      "source": [
        "#검증 세트에서의 성능 확인 \n",
        "\n",
        "model.evaluate(val_scaled, val_target)"
      ],
      "metadata": {
        "id": "Ho4LrDpcKHcU",
        "outputId": "db4271ed-32ae-4f5c-ad02-7b1ad354d12d",
        "colab": {
          "base_uri": "https://localhost:8080/"
        }
      },
      "execution_count": 16,
      "outputs": [
        {
          "output_type": "stream",
          "name": "stdout",
          "text": [
            "375/375 [==============================] - 1s 3ms/step - loss: 0.3609 - accuracy: 0.8777\n"
          ]
        },
        {
          "output_type": "execute_result",
          "data": {
            "text/plain": [
              "[0.3609309494495392, 0.8777499794960022]"
            ]
          },
          "metadata": {},
          "execution_count": 16
        }
      ]
    },
    {
      "cell_type": "code",
      "source": [
        "#ADAM \n",
        "\n",
        "model = keras.Sequential()\n",
        "model.add(keras.layers.Flatten(input_shape=(28,28)))\n",
        "model.add(keras.layers.Dense(100, activation='relu'))\n",
        "model.add(keras.layers.Dense(10, activation='softmax'))"
      ],
      "metadata": {
        "id": "UItf9mG2KtyB"
      },
      "execution_count": 17,
      "outputs": []
    },
    {
      "cell_type": "code",
      "source": [
        " model.compile(optimizer='adam', loss='sparse_categorical_crossentropy',\n",
        "               metrics='accuracy')\n",
        " model.fit(train_scaled, train_target, epochs=5)"
      ],
      "metadata": {
        "id": "aLX6kCWwOFzl",
        "outputId": "ecd69387-219b-49c3-a64b-aedea97618b2",
        "colab": {
          "base_uri": "https://localhost:8080/"
        }
      },
      "execution_count": 18,
      "outputs": [
        {
          "output_type": "stream",
          "name": "stdout",
          "text": [
            "Epoch 1/5\n",
            "1500/1500 [==============================] - 7s 4ms/step - loss: 0.5297 - accuracy: 0.8150\n",
            "Epoch 2/5\n",
            "1500/1500 [==============================] - 4s 2ms/step - loss: 0.3942 - accuracy: 0.8588\n",
            "Epoch 3/5\n",
            "1500/1500 [==============================] - 6s 4ms/step - loss: 0.3507 - accuracy: 0.8724\n",
            "Epoch 4/5\n",
            "1500/1500 [==============================] - 6s 4ms/step - loss: 0.3259 - accuracy: 0.8809\n",
            "Epoch 5/5\n",
            "1500/1500 [==============================] - 6s 4ms/step - loss: 0.3076 - accuracy: 0.8851\n"
          ]
        },
        {
          "output_type": "execute_result",
          "data": {
            "text/plain": [
              "<keras.callbacks.History at 0x7f63653aa390>"
            ]
          },
          "metadata": {},
          "execution_count": 18
        }
      ]
    },
    {
      "cell_type": "code",
      "source": [
        "model.evaluate(val_scaled, val_target)"
      ],
      "metadata": {
        "id": "suMPAsmcOX0O",
        "outputId": "7928f81c-ef21-434e-d381-e161839273c0",
        "colab": {
          "base_uri": "https://localhost:8080/"
        }
      },
      "execution_count": 19,
      "outputs": [
        {
          "output_type": "stream",
          "name": "stdout",
          "text": [
            "375/375 [==============================] - 1s 2ms/step - loss: 0.3401 - accuracy: 0.8746\n"
          ]
        },
        {
          "output_type": "execute_result",
          "data": {
            "text/plain": [
              "[0.34012889862060547, 0.8745833039283752]"
            ]
          },
          "metadata": {},
          "execution_count": 19
        }
      ]
    },
    {
      "cell_type": "markdown",
      "source": [
        "Adam이 기본 RMSprop보다 조금 나은 성능을 보인다. "
      ],
      "metadata": {
        "id": "0nml1ewyOeuZ"
      }
    }
  ]
}