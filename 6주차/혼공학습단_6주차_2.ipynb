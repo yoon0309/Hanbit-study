{
  "nbformat": 4,
  "nbformat_minor": 0,
  "metadata": {
    "colab": {
      "name": "혼공학습단 6주차 -2",
      "provenance": []
    },
    "kernelspec": {
      "name": "python3",
      "display_name": "Python 3"
    },
    "language_info": {
      "name": "python"
    }
  },
  "cells": [
    {
      "cell_type": "markdown",
      "source": [
        "#심층 신경망 \n",
        "\n",
        "패션 MNIST 데이터 셋을 분류하면서 케라스로 심층 신경망을 만드는 방법을 배워보기 "
      ],
      "metadata": {
        "id": "_QAR9NLo-Pag"
      }
    },
    {
      "cell_type": "code",
      "execution_count": 5,
      "metadata": {
        "id": "kN0ZaIMX8J5D"
      },
      "outputs": [],
      "source": [
        "#패션 MNIST 데이터셋을 불러오기 \n",
        "\n",
        "from tensorflow import keras \n",
        "(train_input, train_target), (test_input, test_target) = keras.datasets.fashion_mnist.load_data()"
      ]
    },
    {
      "cell_type": "code",
      "source": [
        "#이미지 픽셀값 0~255 범위에서 0~1사이로 변환 \n",
        "#2차원배열을 1차원 배열로 펼침\n",
        "#train_test_split()함수로 훈련세트, 검증세트로 나눔 \n",
        "\n",
        "from sklearn.model_selection import train_test_split\n",
        "train_scaled = train_input/ 255.0\n",
        "train_scaled = train_scaled.reshape(-1, 28*28)\n",
        "train_scaled, val_scaled, train_target, val_target = train_test_split(\n",
        "    train_scaled, train_target, test_size =0.2, random_state = 42 \n",
        ")"
      ],
      "metadata": {
        "id": "gP7BVc7y-slh"
      },
      "execution_count": 6,
      "outputs": []
    },
    {
      "cell_type": "code",
      "source": [
        "#은닉층, 출력층을 케라스의 Dense 클래스로 만들기 \n",
        "\n",
        "#dense1은 은닉층 100개의 뉴런을 가지고 활성화함수 sigmoid, input_shape의 매개변수에서 입력의 크기 (784,)로 지정 \n",
        "dense1 = keras.layers.Dense(100, activation='sigmoid', input_shape=(784,))\n",
        "dense2 = keras.layers.Dense(10, activation='softmax')"
      ],
      "metadata": {
        "id": "Es3Ujx75_gQh"
      },
      "execution_count": 8,
      "outputs": []
    },
    {
      "cell_type": "code",
      "source": [
        "#심층 신경망 만들기 \n",
        "\n",
        "model= keras.Sequential([dense1, dense2])"
      ],
      "metadata": {
        "id": "NLU9GTPVAQWc"
      },
      "execution_count": 9,
      "outputs": []
    },
    {
      "cell_type": "code",
      "source": [
        "#층에 대한 유용한 정보를 얻을 수 있음 \n",
        "model.summary()"
      ],
      "metadata": {
        "colab": {
          "base_uri": "https://localhost:8080/"
        },
        "id": "tgGvDY0_AuDE",
        "outputId": "796c4d24-37c6-46cc-8353-f8b29fb189df"
      },
      "execution_count": 10,
      "outputs": [
        {
          "output_type": "stream",
          "name": "stdout",
          "text": [
            "Model: \"sequential\"\n",
            "_________________________________________________________________\n",
            " Layer (type)                Output Shape              Param #   \n",
            "=================================================================\n",
            " dense_2 (Dense)             (None, 100)               78500     \n",
            "                                                                 \n",
            " dense_3 (Dense)             (None, 10)                1010      \n",
            "                                                                 \n",
            "=================================================================\n",
            "Total params: 79,510\n",
            "Trainable params: 79,510\n",
            "Non-trainable params: 0\n",
            "_________________________________________________________________\n"
          ]
        }
      ]
    }
  ]
}