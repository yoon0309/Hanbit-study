{
  "nbformat": 4,
  "nbformat_minor": 0,
  "metadata": {
    "colab": {
      "name": "혼공학습단 6주차_3.ipynb",
      "provenance": [],
      "machine_shape": "hm"
    },
    "kernelspec": {
      "name": "python3",
      "display_name": "Python 3"
    },
    "language_info": {
      "name": "python"
    },
    "accelerator": "GPU",
    "gpuClass": "standard"
  },
  "cells": [
    {
      "cell_type": "markdown",
      "source": [
        "#신경망 모델 훈련 \n",
        "\n",
        "1. 손실곡선 "
      ],
      "metadata": {
        "id": "oBX6VWkoS-Oz"
      }
    },
    {
      "cell_type": "code",
      "source": [
        "# 실행마다 동일한 결과를 얻기 위해 케라스에 랜덤 시드를 사용하고 텐서플로 연산을 결정적으로 만듭니다. \n",
        "import tensorflow as tf\n",
        "\n",
        "tf.keras.utils.set_random_seed(42)\n",
        "tf.config.experimental.enable_op_determinism()"
      ],
      "metadata": {
        "id": "Sw5s3_rfplBm"
      },
      "execution_count": 23,
      "outputs": []
    },
    {
      "cell_type": "code",
      "execution_count": 24,
      "metadata": {
        "id": "Z3eJpJRKS6NI"
      },
      "outputs": [],
      "source": [
        "from tensorflow import keras \n",
        "from sklearn.model_selection import train_test_split\n",
        "(train_input, train_target), (test_input, test_target) = keras.datasets.fashion_mnist.load_data()\n",
        "train_scaled = train_input/255.0\n",
        "train_scaled, val_scaled, train_target, val_target = train_test_split(\n",
        "    train_scaled, train_target, test_size =0.2, random_state = 42\n",
        ")"
      ]
    },
    {
      "cell_type": "code",
      "source": [
        "def model_fn(a_layer = None):\n",
        "  model= keras.Sequential()\n",
        "  model.add(keras.layers.Flatten(input_shape=(28,28)))\n",
        "  model.add(keras.layers.Dense(100, activation='relu'))\n",
        "  if a_layer:\n",
        "    model.add(a_layer)\n",
        "  model.add(keras.layers.Dense(10, activation='softmax'))\n",
        "  return model "
      ],
      "metadata": {
        "id": "YLM98PG-T5eL"
      },
      "execution_count": 25,
      "outputs": []
    },
    {
      "cell_type": "markdown",
      "source": [
        "if 구문의 역할은 model_fn()함수에 (a_layer 매개변수로) 케라스 층을 추가하면 은닉층 뒤에 또 하나의 층을 추가하는 것임"
      ],
      "metadata": {
        "id": "zuRqNjInUYjp"
      }
    },
    {
      "cell_type": "code",
      "source": [
        "# model_fn()함수를 호출 \n",
        "\n",
        "model= model_fn()\n",
        "model.summary()"
      ],
      "metadata": {
        "colab": {
          "base_uri": "https://localhost:8080/"
        },
        "id": "hrBFmBiCUVfB",
        "outputId": "c8130807-f36c-41f8-c1d8-383bc1323d13"
      },
      "execution_count": 26,
      "outputs": [
        {
          "output_type": "stream",
          "name": "stdout",
          "text": [
            "Model: \"sequential_6\"\n",
            "_________________________________________________________________\n",
            " Layer (type)                Output Shape              Param #   \n",
            "=================================================================\n",
            " flatten_6 (Flatten)         (None, 784)               0         \n",
            "                                                                 \n",
            " dense_12 (Dense)            (None, 100)               78500     \n",
            "                                                                 \n",
            " dense_13 (Dense)            (None, 10)                1010      \n",
            "                                                                 \n",
            "=================================================================\n",
            "Total params: 79,510\n",
            "Trainable params: 79,510\n",
            "Non-trainable params: 0\n",
            "_________________________________________________________________\n"
          ]
        }
      ]
    },
    {
      "cell_type": "code",
      "source": [
        "#fit() 메서드의 결과를 history 변수에 담기 \n",
        "\n",
        "model.compile(loss='sparse_categorical_crossentropy', metrics='accuracy')\n",
        "history = model.fit(train_scaled, train_target, epochs=5, verbose=0)"
      ],
      "metadata": {
        "id": "nTz0NzhNUsIY"
      },
      "execution_count": 27,
      "outputs": []
    },
    {
      "cell_type": "code",
      "source": [
        "#history에 어떤 값이 들어있는지 확인 \n",
        "\n",
        "print(history.history.keys())"
      ],
      "metadata": {
        "colab": {
          "base_uri": "https://localhost:8080/"
        },
        "id": "J_DaC2igXvhR",
        "outputId": "442134fa-1fa7-487f-d3e9-f44a4a2da6dd"
      },
      "execution_count": 28,
      "outputs": [
        {
          "output_type": "stream",
          "name": "stdout",
          "text": [
            "dict_keys(['loss', 'accuracy'])\n"
          ]
        }
      ]
    },
    {
      "cell_type": "code",
      "source": [
        "#그래프로 표현 \n",
        "\n",
        "import matplotlib.pyplot as plt \n",
        "plt.plot(history.history['loss'])\n",
        "plt.xlabel('epoch')\n",
        "plt.ylabel('loss')\n",
        "plt.show()"
      ],
      "metadata": {
        "colab": {
          "base_uri": "https://localhost:8080/",
          "height": 279
        },
        "id": "mm2mP0jBX3AE",
        "outputId": "752ca897-893b-449f-d695-fe63315aaae0"
      },
      "execution_count": 29,
      "outputs": [
        {
          "output_type": "display_data",
          "data": {
            "text/plain": [
              "<Figure size 432x288 with 1 Axes>"
            ],
            "image/png": "[encoded data removed]"
          },
          "metadata": {
            "needs_background": "light"
          }
        }
      ]
    },
    {
      "cell_type": "markdown",
      "source": [
        "파이썬 리스트의 인덱스는 0부터 시작하므로 5개의 에포크가 0에서부터 4까지 x축에 표현됨\n",
        "\n",
        "y축은 계산된 손실 값을 말한다"
      ],
      "metadata": {
        "id": "xRywJZT5YJzT"
      }
    },
    {
      "cell_type": "code",
      "source": [
        "#정확도를 출력 \n",
        "\n",
        "\n",
        "plt.plot(history.history['accuracy'])\n",
        "plt.xlabel('epoch')\n",
        "plt.ylabel('accuracy')\n",
        "plt.show()"
      ],
      "metadata": {
        "colab": {
          "base_uri": "https://localhost:8080/",
          "height": 279
        },
        "id": "2xdUMjwYYIJc",
        "outputId": "8c47854b-83ff-45e5-f243-9f51f46f5e45"
      },
      "execution_count": 30,
      "outputs": [
        {
          "output_type": "display_data",
          "data": {
            "text/plain": [
              "<Figure size 432x288 with 1 Axes>"
            ],
            "image/png": "[encoded data removed]"
          },
          "metadata": {
            "needs_background": "light"
          }
        }
      ]
    },
    {
      "cell_type": "markdown",
      "source": [
        "에포크 마다 손실이 감소하고 정확도가 향상한다"
      ],
      "metadata": {
        "id": "OlRoe4J9YhBm"
      }
    },
    {
      "cell_type": "code",
      "source": [
        "#에포크 횟수를 20으로 늘려서 모델을 훈련, 손실 그래프를 그려보기 \n",
        "model = model_fn()\n",
        "model.compile(loss='sparse_categorical_crossentropy', metrics='accuracy')\n",
        "\n",
        "history = model.fit(train_scaled, train_target, epochs=20, verbose=0)\n",
        "\n",
        "plt.plot(history.history['loss'])\n",
        "plt.xlabel('epoch')\n",
        "plt.ylabel('loss')\n",
        "plt.show()"
      ],
      "metadata": {
        "colab": {
          "base_uri": "https://localhost:8080/",
          "height": 279
        },
        "id": "aZnjm-iLbLqp",
        "outputId": "a39f7672-8b93-4f42-b0dd-5b358e4388c7"
      },
      "execution_count": 31,
      "outputs": [
        {
          "output_type": "display_data",
          "data": {
            "text/plain": [
              "<Figure size 432x288 with 1 Axes>"
            ],
            "image/png": "[encoded data removed]"
          },
          "metadata": {
            "needs_background": "light"
          }
        }
      ]
    },
    {
      "cell_type": "markdown",
      "source": [
        "예상대로 손실이 잘 감소한다는 것을 알 수 있었음 "
      ],
      "metadata": {
        "id": "Pk0QMQfHbUyC"
      }
    },
    {
      "cell_type": "markdown",
      "source": [
        "2. 검증손실"
      ],
      "metadata": {
        "id": "hHIu9J6ybY2o"
      }
    },
    {
      "cell_type": "code",
      "source": [
        "\n",
        "model = model_fn()\n",
        "model.compile(loss='sparse_categorical_crossentropy', metrics='accuracy')\n",
        "\n",
        "history = model.fit(train_scaled, train_target, epochs=20, verbose=0, \n",
        "                    validation_data=(val_scaled, val_target))"
      ],
      "metadata": {
        "id": "v-wYnqElYbdE"
      },
      "execution_count": 32,
      "outputs": []
    },
    {
      "cell_type": "code",
      "source": [
        "print(history.history.keys())"
      ],
      "metadata": {
        "colab": {
          "base_uri": "https://localhost:8080/"
        },
        "id": "ChCXUyMWdUDc",
        "outputId": "129a2e4b-b699-43ff-8020-6f574f1bba38"
      },
      "execution_count": 33,
      "outputs": [
        {
          "output_type": "stream",
          "name": "stdout",
          "text": [
            "dict_keys(['loss', 'accuracy', 'val_loss', 'val_accuracy'])\n"
          ]
        }
      ]
    },
    {
      "cell_type": "code",
      "source": [
        "plt.plot(history.history['loss'])\n",
        "plt.plot(history.history['val_loss'])\n",
        "plt.xlabel('epoch')\n",
        "plt.ylabel('loss')\n",
        "plt.legend(['train', 'val'])\n",
        "plt.show()"
      ],
      "metadata": {
        "colab": {
          "base_uri": "https://localhost:8080/",
          "height": 279
        },
        "id": "0jFoxriiY-6V",
        "outputId": "001c7d90-a235-432e-caa3-c182f1aa3d7a"
      },
      "execution_count": 34,
      "outputs": [
        {
          "output_type": "display_data",
          "data": {
            "text/plain": [
              "<Figure size 432x288 with 1 Axes>"
            ],
            "image/png": "[encoded data removed]"
          },
          "metadata": {
            "needs_background": "light"
          }
        }
      ]
    },
    {
      "cell_type": "markdown",
      "source": [
        "훈련손실은 꾸준히 감소하므로 전형적인 과대적합 모델이 만들어진다. \n",
        "\n",
        "검증 손실이 상승하는 시점을 가능한 뒤로 늦추면 검증 세트에 대한 손실이 줄어들 뿐만 아니라 검증 세트에 대한 정확도도 증가할 것이다."
      ],
      "metadata": {
        "id": "wDq5ZfARecoP"
      }
    },
    {
      "cell_type": "code",
      "source": [
        "model = model_fn()\n",
        "model.compile(optimizer='adam', loss='sparse_categorical_crossentropy', \n",
        "              metrics='accuracy')\n",
        "\n",
        "history = model.fit(train_scaled, train_target, epochs=20, verbose=0, \n",
        "                    validation_data=(val_scaled, val_target))\n",
        "\n",
        "\n",
        "plt.plot(history.history['loss'])\n",
        "plt.plot(history.history['val_loss'])\n",
        "plt.xlabel('epoch')\n",
        "plt.ylabel('loss')\n",
        "plt.legend(['train', 'val'])\n",
        "plt.show()"
      ],
      "metadata": {
        "colab": {
          "base_uri": "https://localhost:8080/",
          "height": 279
        },
        "id": "tSCQFqnretXw",
        "outputId": "a113ef1f-9116-45c1-93c9-60ad20154e4e"
      },
      "execution_count": 35,
      "outputs": [
        {
          "output_type": "display_data",
          "data": {
            "text/plain": [
              "<Figure size 432x288 with 1 Axes>"
            ],
            "image/png": "[encoded data removed]"
          },
          "metadata": {
            "needs_background": "light"
          }
        }
      ]
    },
    {
      "cell_type": "markdown",
      "source": [
        "과대 적합이 훨씬 줄었다는 것을 확인할 수 있음 \n",
        "\n"
      ],
      "metadata": {
        "id": "rAeep4Qxe3wY"
      }
    },
    {
      "cell_type": "markdown",
      "source": [
        "3. 드롭아웃 \n",
        "\n",
        "model_fn()함수에 드롭아웃 객체를 전달하여 층을 추가하는데 30%정도를 드롭아웃한다."
      ],
      "metadata": {
        "id": "djLHzQIsf33W"
      }
    },
    {
      "cell_type": "code",
      "source": [
        "model = model_fn(keras.layers.Dropout(0.3))\n",
        "\n",
        "model.summary()"
      ],
      "metadata": {
        "colab": {
          "base_uri": "https://localhost:8080/"
        },
        "id": "zvnaSkx8e3NX",
        "outputId": "a990cd91-ef10-410d-a260-00760a401624"
      },
      "execution_count": 40,
      "outputs": [
        {
          "output_type": "stream",
          "name": "stdout",
          "text": [
            "Model: \"sequential_12\"\n",
            "_________________________________________________________________\n",
            " Layer (type)                Output Shape              Param #   \n",
            "=================================================================\n",
            " flatten_12 (Flatten)        (None, 784)               0         \n",
            "                                                                 \n",
            " dense_24 (Dense)            (None, 100)               78500     \n",
            "                                                                 \n",
            " dropout_4 (Dropout)         (None, 100)               0         \n",
            "                                                                 \n",
            " dense_25 (Dense)            (None, 10)                1010      \n",
            "                                                                 \n",
            "=================================================================\n",
            "Total params: 79,510\n",
            "Trainable params: 79,510\n",
            "Non-trainable params: 0\n",
            "_________________________________________________________________\n"
          ]
        }
      ]
    },
    {
      "cell_type": "code",
      "source": [
        "model.compile(optimizer='adam', loss='sparse_categorical_crossentropy', \n",
        "              metrics='accuracy')\n",
        "\n",
        "history = model.fit(train_scaled, train_target, epochs=20, verbose=0, \n",
        "                    validation_data=(val_scaled, val_target))"
      ],
      "metadata": {
        "id": "DyIC2mAooFGB"
      },
      "execution_count": 41,
      "outputs": []
    },
    {
      "cell_type": "code",
      "source": [
        "#모델을 평가와 예측할 때는 자동으로 드롭아웃을 적용하지 않는다 \n",
        "\n",
        "#훈련손실과 검증손실의 그래프를 그려서 비교해보기 \n",
        "\n",
        "plt.plot(history.history['loss'])\n",
        "plt.plot(history.history['val_loss'])\n",
        "plt.xlabel('epoch')\n",
        "plt.ylabel('loss')\n",
        "plt.legend(['train', 'val'])\n",
        "plt.show()"
      ],
      "metadata": {
        "id": "sQTqkxIIgMyn",
        "outputId": "fdb2c828-5785-4bc2-d9b6-48a5314c8c65",
        "colab": {
          "base_uri": "https://localhost:8080/",
          "height": 279
        }
      },
      "execution_count": 42,
      "outputs": [
        {
          "output_type": "display_data",
          "data": {
            "text/plain": [
              "<Figure size 432x288 with 1 Axes>"
            ],
            "image/png": "[encoded data removed]"
          },
          "metadata": {
            "needs_background": "light"
          }
        }
      ]
    },
    {
      "cell_type": "markdown",
      "source": [
        "4. 모델 저장과 복원 "
      ],
      "metadata": {
        "id": "XKqsARPNrtD_"
      }
    },
    {
      "cell_type": "markdown",
      "source": [
        "모델 에포크 횟수를 10으로 다시 지정하고 모델을 훈련 "
      ],
      "metadata": {
        "id": "2bNNbDFNsB7f"
      }
    },
    {
      "cell_type": "code",
      "source": [
        "model = model_fn(keras.layers.Dropout(0.3))\n",
        "model.compile(optimizer='adam', loss='sparse_categorical_crossentropy', \n",
        "              metrics='accuracy')\n",
        "history = model.fit(train_scaled, train_target, epochs=10, verbose=0, \n",
        "                    validation_data=(val_scaled, val_target))"
      ],
      "metadata": {
        "id": "DkotcrlHrKKZ"
      },
      "execution_count": 43,
      "outputs": []
    },
    {
      "cell_type": "markdown",
      "source": [
        "모델을 저장하기 "
      ],
      "metadata": {
        "id": "rgFOdnvGsFkt"
      }
    },
    {
      "cell_type": "code",
      "source": [
        "#1 \n",
        "\n",
        "model.save_weights('model-weights.h5')"
      ],
      "metadata": {
        "id": "7_7oY1sHt5qa"
      },
      "execution_count": 44,
      "outputs": []
    },
    {
      "cell_type": "code",
      "source": [
        "#2 \n",
        "\n",
        "model.save('model-whole.h5')"
      ],
      "metadata": {
        "id": "GagpdTDruBmn"
      },
      "execution_count": 45,
      "outputs": []
    },
    {
      "cell_type": "code",
      "source": [
        "#두 파일이 잘 만들어졌는지 확인 \n",
        "\n",
        "!ls -al *.h5"
      ],
      "metadata": {
        "id": "XwKakVuWuqyO",
        "outputId": "e26efa82-2ee2-458d-a480-e75deadf270d",
        "colab": {
          "base_uri": "https://localhost:8080/"
        }
      },
      "execution_count": 47,
      "outputs": [
        {
          "output_type": "stream",
          "name": "stdout",
          "text": [
            "-rw-r--r-- 1 root root 333448 Aug 17 16:52 model-weights.h5\n",
            "-rw-r--r-- 1 root root 982664 Aug 17 16:54 model-whole.h5\n"
          ]
        }
      ]
    },
    {
      "cell_type": "markdown",
      "source": [
        "훈련하지 않은 새로운 모델을 만들고 model-weight.h5 파일에서 훈련된 모델 파라미터를 읽어서 사용"
      ],
      "metadata": {
        "id": "H4CyGAxQvsUe"
      }
    },
    {
      "cell_type": "code",
      "source": [
        "model= model_fn(keras.layers.Dropout(0.3))\n",
        "model.load_weights('model-weights.h5')"
      ],
      "metadata": {
        "id": "YOa1JP5ruv7P"
      },
      "execution_count": 48,
      "outputs": []
    },
    {
      "cell_type": "markdown",
      "source": [
        "model-whole.h5 파일에서 새로운 모델을 만들어 바로 사용함"
      ],
      "metadata": {
        "id": "pFTdrHUDwYrF"
      }
    },
    {
      "cell_type": "code",
      "source": [
        "#모델의 검증 정확도 확인하기 \n",
        "\n",
        "import numpy as np\n",
        "val_labels = np.argmax(model.predict(val_scaled), axis=-1)\n",
        "print(np.mean(val_labels== val_target))"
      ],
      "metadata": {
        "id": "cLNraSrLw0Lg",
        "outputId": "140a31f8-4acf-41ff-946b-5f9e76914a94",
        "colab": {
          "base_uri": "https://localhost:8080/"
        }
      },
      "execution_count": 49,
      "outputs": [
        {
          "output_type": "stream",
          "name": "stdout",
          "text": [
            "0.8803333333333333\n"
          ]
        }
      ]
    },
    {
      "cell_type": "markdown",
      "source": [
        "모델의 predict() 메서드 결과 큰 값을 고르기 위해 argmax()함수를 사용하였음 \n",
        "\n",
        "argmax()함수의 axis=-1은 배열의 마지막 차원을 따라 최댓값을 고름 \n",
        "\n",
        "그 다음 라인은 argmax()로 고른 인덱스(val_labels)와 타깃(val_target)을 비교한다 \n",
        "\n",
        "두 배열에서 각 위치의 값이 같으면 1, 다르면 0이 되는데 이를 평균하면 정확도가 됨"
      ],
      "metadata": {
        "id": "e38XVEAFylDH"
      }
    },
    {
      "cell_type": "code",
      "source": [
        "#모델 전체를 파일에서 읽은 다음 검증 세트의 정확도를 출력 \n",
        "\n",
        "\n",
        "model = keras.models.load_model('model-whole.h5')\n",
        "model.evaluate(val_scaled, val_target)"
      ],
      "metadata": {
        "id": "jWeeyuC0yjZr",
        "outputId": "caf0da77-6d35-4642-cd3b-2951f139559f",
        "colab": {
          "base_uri": "https://localhost:8080/"
        }
      },
      "execution_count": 50,
      "outputs": [
        {
          "output_type": "stream",
          "name": "stdout",
          "text": [
            "375/375 [==============================] - 1s 2ms/step - loss: 0.3271 - accuracy: 0.8803\n"
          ]
        },
        {
          "output_type": "execute_result",
          "data": {
            "text/plain": [
              "[0.3271023631095886, 0.8803333044052124]"
            ]
          },
          "metadata": {},
          "execution_count": 50
        }
      ]
    },
    {
      "cell_type": "markdown",
      "source": [
        "5. 콜백 "
      ],
      "metadata": {
        "id": "YMLqGVRbzk5H"
      }
    },
    {
      "cell_type": "markdown",
      "source": [
        "modelcheckpoint 콜백은 기본적으로 에포크마다 모델을 저장한다. save_best_only=True 매개변수를 지정하여 가장 낮은 검증 점수를 만드는 모델을 저장할 수 있음 \n",
        "\n",
        "\n",
        "'best-model.h5'로 지정하여 콜백을 적용 "
      ],
      "metadata": {
        "id": "NH2R8Ykv0jM2"
      }
    },
    {
      "cell_type": "code",
      "source": [
        "model = model_fn(keras.layers.Dropout(0.3))\n",
        "model.compile(optimizer='adam', loss='sparse_categorical_crossentropy', \n",
        "              metrics='accuracy')\n",
        "\n",
        "checkpoint_cb = keras.callbacks.ModelCheckpoint('best-model.h5', \n",
        "                                                save_best_only=True)\n",
        "\n",
        "model.fit(train_scaled, train_target, epochs=20, verbose=0, \n",
        "          validation_data=(val_scaled, val_target),\n",
        "          callbacks=[checkpoint_cb])"
      ],
      "metadata": {
        "id": "YexS7fBKzx1s",
        "outputId": "eb2d4022-0c00-4d74-882a-b102b3830797",
        "colab": {
          "base_uri": "https://localhost:8080/"
        }
      },
      "execution_count": 52,
      "outputs": [
        {
          "output_type": "execute_result",
          "data": {
            "text/plain": [
              "<keras.callbacks.History at 0x7feba018bf50>"
            ]
          },
          "metadata": {},
          "execution_count": 52
        }
      ]
    },
    {
      "cell_type": "markdown",
      "source": [
        "model_fn()함수로 모델을 만들고 compile() 메서드를 호출하는 것은 이전과 동일.\n",
        "\n",
        "ModelCheckpoint 클래스의 객체 checkpoint_cb를 만든 후 fit()메서드의 callbacks 매개변수에 리스트로 감싸서 전달한다 \n",
        "\n"
      ],
      "metadata": {
        "id": "7RfnmwTn027p"
      }
    },
    {
      "cell_type": "code",
      "source": [
        "model = keras.models.load_model('best-model.h5')\n",
        "\n",
        "model.evaluate(val_scaled, val_target)"
      ],
      "metadata": {
        "id": "Kwjb3qSa0YkT",
        "outputId": "b09fb126-f258-4c01-a096-47e3f319ba23",
        "colab": {
          "base_uri": "https://localhost:8080/"
        }
      },
      "execution_count": 53,
      "outputs": [
        {
          "output_type": "stream",
          "name": "stdout",
          "text": [
            "375/375 [==============================] - 1s 2ms/step - loss: 0.3153 - accuracy: 0.8863\n"
          ]
        },
        {
          "output_type": "execute_result",
          "data": {
            "text/plain": [
              "[0.3152652084827423, 0.8863333463668823]"
            ]
          },
          "metadata": {},
          "execution_count": 53
        }
      ]
    },
    {
      "cell_type": "markdown",
      "source": [
        "6. 조기종료 "
      ],
      "metadata": {
        "id": "20kiFkQH1T-4"
      }
    },
    {
      "cell_type": "markdown",
      "source": [
        "EarlyStopping 콜백을 ModelCheckpoint 콜백과 함께 사용하면 가장 낮은 검증 손실의 모델을 파일에 저장하고 검증 손실이 다시 상승할 때 훈련을 중지할 수 있고 또한 훈련을 중지한 다음 현재 모델의 파라미터를 최상의 파라미터로 되돌린다 "
      ],
      "metadata": {
        "id": "mdDNgoxv1rHp"
      }
    },
    {
      "cell_type": "code",
      "source": [
        "model = model_fn(keras.layers.Dropout(0.3))\n",
        "model.compile(optimizer='adam', loss='sparse_categorical_crossentropy', \n",
        "              metrics='accuracy')\n",
        "\n",
        "checkpoint_cb = keras.callbacks.ModelCheckpoint('best-model.h5', \n",
        "                                                save_best_only=True)\n",
        "early_stopping_cb = keras.callbacks.EarlyStopping(patience=2,\n",
        "                                                  restore_best_weights=True)\n",
        "\n",
        "history = model.fit(train_scaled, train_target, epochs=20, verbose=0, \n",
        "                    validation_data=(val_scaled, val_target),\n",
        "                    callbacks=[checkpoint_cb, early_stopping_cb])"
      ],
      "metadata": {
        "id": "_XzqhIus1SSs"
      },
      "execution_count": 54,
      "outputs": []
    },
    {
      "cell_type": "code",
      "source": [
        "print(early_stopping_cb.stopped_epoch)"
      ],
      "metadata": {
        "id": "xePrivGm1dDv",
        "outputId": "3654db92-c996-458e-8a57-01e874c5a167",
        "colab": {
          "base_uri": "https://localhost:8080/"
        }
      },
      "execution_count": 55,
      "outputs": [
        {
          "output_type": "stream",
          "name": "stdout",
          "text": [
            "9\n"
          ]
        }
      ]
    },
    {
      "cell_type": "markdown",
      "source": [
        "10번째 에포크에서 훈련이 중지되었다는 것을 알 수 있고 최상의 모델은 8번째 에포크이다. "
      ],
      "metadata": {
        "id": "hE4slnlv2IPe"
      }
    },
    {
      "cell_type": "code",
      "source": [
        "plt.plot(history.history['loss'])\n",
        "plt.plot(history.history['val_loss'])\n",
        "plt.xlabel('epoch')\n",
        "plt.ylabel('loss')\n",
        "plt.legend(['train', 'val'])\n",
        "plt.show()"
      ],
      "metadata": {
        "id": "lFIGReIW1e5w",
        "outputId": "6c667bb9-7bc9-48df-c2b4-1795ad04cf4b",
        "colab": {
          "base_uri": "https://localhost:8080/",
          "height": 280
        }
      },
      "execution_count": 56,
      "outputs": [
        {
          "output_type": "display_data",
          "data": {
            "text/plain": [
              "<Figure size 432x288 with 1 Axes>"
            ],
            "image/png": "[encoded data removed]"
          },
          "metadata": {
            "needs_background": "light"
          }
        }
      ]
    },
    {
      "cell_type": "markdown",
      "source": [
        "조기 종료로 얻은 모델을 사용해 검증 세트에 대한 성능을 확인해보기 "
      ],
      "metadata": {
        "id": "4pUnRN4r2YmW"
      }
    },
    {
      "cell_type": "code",
      "source": [
        "model.evaluate(val_scaled, val_target)"
      ],
      "metadata": {
        "id": "r5FSJ4Lg1gUO",
        "outputId": "46a2da14-1c04-4852-f390-426947ce669b",
        "colab": {
          "base_uri": "https://localhost:8080/"
        }
      },
      "execution_count": 57,
      "outputs": [
        {
          "output_type": "stream",
          "name": "stdout",
          "text": [
            "375/375 [==============================] - 1s 3ms/step - loss: 0.3298 - accuracy: 0.8809\n"
          ]
        },
        {
          "output_type": "execute_result",
          "data": {
            "text/plain": [
              "[0.3297530710697174, 0.8809166550636292]"
            ]
          },
          "metadata": {},
          "execution_count": 57
        }
      ]
    }
  ]
}