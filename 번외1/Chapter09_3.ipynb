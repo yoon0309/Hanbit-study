{
  "nbformat": 4,
  "nbformat_minor": 0,
  "metadata": {
    "colab": {
      "name": " Chapter09 -3.ipynb",
      "provenance": [],
      "collapsed_sections": []
    },
    "kernelspec": {
      "name": "python3",
      "display_name": "Python 3"
    },
    "language_info": {
      "name": "python"
    },
    "accelerator": "GPU",
    "gpuClass": "standard"
  },
  "cells": [
    {
      "cell_type": "markdown",
      "source": [
        "LSTM 신경망 훈련하기 "
      ],
      "metadata": {
        "id": "FHSrsiqD02f9"
      }
    },
    {
      "cell_type": "code",
      "execution_count": 21,
      "metadata": {
        "id": "zxvKLLNv0tas"
      },
      "outputs": [],
      "source": [
        "from tensorflow.keras.datasets import imdb\n",
        "from sklearn.model_selection import train_test_split\n",
        "(train_input, train_target),(test_input, test_target) = imdb.load_data(num_words=500)\n",
        "train_input, val_input, train_target, val_target = train_test_split(\n",
        "    train_input, train_target, test_size=0.2, random_state=42)"
      ]
    },
    {
      "cell_type": "code",
      "source": [
        "from tensorflow.keras.preprocessing.sequence import pad_sequences\n",
        "train_seq= pad_sequences(train_input, maxlen=100)\n",
        "val_seq= pad_sequences(val_input, maxlen=100)"
      ],
      "metadata": {
        "id": "q4pEuOKr1MII"
      },
      "execution_count": 22,
      "outputs": []
    },
    {
      "cell_type": "markdown",
      "source": [
        "LSTM 셀을 사용한 순환층을 만들기, \n",
        "SimpleRNN 클래스를 LSTM 클래스로 바꾸기 "
      ],
      "metadata": {
        "id": "0A5l2632NuA4"
      }
    },
    {
      "cell_type": "code",
      "source": [
        "from tensorflow import keras \n",
        "model2 = keras.Sequential()\n",
        "model2.add(keras.layers.Embedding(500, 16, input_length=100))\n",
        "model2.add(keras.layers.LSTM(8))\n",
        "model2.add(keras.layers.Dense(1, activation='sigmoid'))"
      ],
      "metadata": {
        "id": "Y2JegS4CNhW3"
      },
      "execution_count": 23,
      "outputs": []
    },
    {
      "cell_type": "markdown",
      "source": [
        "2절에서 임베딩을 사용했던 순환 신경망 모델과 완전히 동일합니다. 여기에서는 SimpleRNN 대신에 LSTM을 사용"
      ],
      "metadata": {
        "id": "IWDpAcqFRHZ5"
      }
    },
    {
      "cell_type": "code",
      "source": [
        "model.summary()"
      ],
      "metadata": {
        "colab": {
          "base_uri": "https://localhost:8080/"
        },
        "id": "KtkGzhgqRUKC",
        "outputId": "7082b1df-8b81-4b6c-f35c-ccabf83e1a34"
      },
      "execution_count": 24,
      "outputs": [
        {
          "output_type": "stream",
          "name": "stdout",
          "text": [
            "Model: \"sequential\"\n",
            "_________________________________________________________________\n",
            " Layer (type)                Output Shape              Param #   \n",
            "=================================================================\n",
            " embedding (Embedding)       (None, 100, 16)           8000      \n",
            "                                                                 \n",
            " lstm (LSTM)                 (None, 8)                 800       \n",
            "                                                                 \n",
            " dense (Dense)               (None, 1)                 9         \n",
            "                                                                 \n",
            "=================================================================\n",
            "Total params: 8,809\n",
            "Trainable params: 8,809\n",
            "Non-trainable params: 0\n",
            "_________________________________________________________________\n"
          ]
        }
      ]
    },
    {
      "cell_type": "markdown",
      "source": [
        "SImpleRNN 클래스의 모델 파라미터 개수는 200개였음, LSTM 셀에는 작은 셀이 4개 있으므로 정확히 4배가 늘어 모델 파라미터 개수는 800개가 됨 \n",
        "\n",
        "모델을 컴파일하고 훈련, 이전과 마찬가지로 배치크기는 64개, 에포크 횟수는 100으로 지정\n",
        "체크포인트와 조기종료를 위한 코드도 동일 "
      ],
      "metadata": {
        "id": "Y8o6qmbXRYvG"
      }
    },
    {
      "cell_type": "code",
      "source": [
        "rmsprop = keras.optimizers.RMSprop(learning_rate=1e-4)\n",
        "model2.compile(optimizer=rmsprop, loss='binary_crossentropy', \n",
        "               metrics=['accuracy'])\n",
        "\n",
        "checkpoint_cb = keras.callbacks.ModelCheckpoint('best-dropout-model.h5', \n",
        "                                                save_best_only=True)\n",
        "early_stopping_cb = keras.callbacks.EarlyStopping(patience=3,\n",
        "                                                  restore_best_weights=True)\n",
        "\n",
        "history = model2.fit(train_seq, train_target, epochs=100, batch_size=64,\n",
        "                     validation_data=(val_seq, val_target),\n",
        "                     callbacks=[checkpoint_cb, early_stopping_cb])"
      ],
      "metadata": {
        "colab": {
          "base_uri": "https://localhost:8080/"
        },
        "id": "eXHK21Y-RVxt",
        "outputId": "0bcd8bc6-b93a-40ac-c4e3-07207d741509"
      },
      "execution_count": 25,
      "outputs": [
        {
          "output_type": "stream",
          "name": "stdout",
          "text": [
            "Epoch 1/100\n",
            "313/313 [==============================] - 7s 16ms/step - loss: 0.6926 - accuracy: 0.5329 - val_loss: 0.6921 - val_accuracy: 0.5606\n",
            "Epoch 2/100\n",
            "313/313 [==============================] - 5s 16ms/step - loss: 0.6906 - accuracy: 0.6102 - val_loss: 0.6887 - val_accuracy: 0.6488\n",
            "Epoch 3/100\n",
            "313/313 [==============================] - 5s 16ms/step - loss: 0.6814 - accuracy: 0.6774 - val_loss: 0.6646 - val_accuracy: 0.6670\n",
            "Epoch 4/100\n",
            "313/313 [==============================] - 3s 10ms/step - loss: 0.6321 - accuracy: 0.7071 - val_loss: 0.6114 - val_accuracy: 0.7100\n",
            "Epoch 5/100\n",
            "313/313 [==============================] - 3s 9ms/step - loss: 0.6010 - accuracy: 0.7211 - val_loss: 0.5925 - val_accuracy: 0.7238\n",
            "Epoch 6/100\n",
            "313/313 [==============================] - 3s 9ms/step - loss: 0.5811 - accuracy: 0.7394 - val_loss: 0.5756 - val_accuracy: 0.7318\n",
            "Epoch 7/100\n",
            "313/313 [==============================] - 3s 9ms/step - loss: 0.5635 - accuracy: 0.7505 - val_loss: 0.5605 - val_accuracy: 0.7450\n",
            "Epoch 8/100\n",
            "313/313 [==============================] - 3s 10ms/step - loss: 0.5480 - accuracy: 0.7602 - val_loss: 0.5481 - val_accuracy: 0.7464\n",
            "Epoch 9/100\n",
            "313/313 [==============================] - 3s 10ms/step - loss: 0.5330 - accuracy: 0.7685 - val_loss: 0.5374 - val_accuracy: 0.7586\n",
            "Epoch 10/100\n",
            "313/313 [==============================] - 3s 9ms/step - loss: 0.5195 - accuracy: 0.7752 - val_loss: 0.5241 - val_accuracy: 0.7554\n",
            "Epoch 11/100\n",
            "313/313 [==============================] - 3s 9ms/step - loss: 0.5059 - accuracy: 0.7818 - val_loss: 0.5102 - val_accuracy: 0.7704\n",
            "Epoch 12/100\n",
            "313/313 [==============================] - 3s 9ms/step - loss: 0.4934 - accuracy: 0.7873 - val_loss: 0.5015 - val_accuracy: 0.7706\n",
            "Epoch 13/100\n",
            "313/313 [==============================] - 3s 9ms/step - loss: 0.4816 - accuracy: 0.7916 - val_loss: 0.4885 - val_accuracy: 0.7804\n",
            "Epoch 14/100\n",
            "313/313 [==============================] - 3s 9ms/step - loss: 0.4708 - accuracy: 0.7977 - val_loss: 0.4790 - val_accuracy: 0.7846\n",
            "Epoch 15/100\n",
            "313/313 [==============================] - 3s 9ms/step - loss: 0.4612 - accuracy: 0.8003 - val_loss: 0.4712 - val_accuracy: 0.7886\n",
            "Epoch 16/100\n",
            "313/313 [==============================] - 3s 9ms/step - loss: 0.4521 - accuracy: 0.8041 - val_loss: 0.4632 - val_accuracy: 0.7938\n",
            "Epoch 17/100\n",
            "313/313 [==============================] - 3s 9ms/step - loss: 0.4452 - accuracy: 0.8062 - val_loss: 0.4569 - val_accuracy: 0.7958\n",
            "Epoch 18/100\n",
            "313/313 [==============================] - 3s 9ms/step - loss: 0.4397 - accuracy: 0.8076 - val_loss: 0.4525 - val_accuracy: 0.7970\n",
            "Epoch 19/100\n",
            "313/313 [==============================] - 3s 9ms/step - loss: 0.4346 - accuracy: 0.8099 - val_loss: 0.4493 - val_accuracy: 0.7954\n",
            "Epoch 20/100\n",
            "313/313 [==============================] - 3s 9ms/step - loss: 0.4307 - accuracy: 0.8108 - val_loss: 0.4471 - val_accuracy: 0.7972\n",
            "Epoch 21/100\n",
            "313/313 [==============================] - 3s 9ms/step - loss: 0.4274 - accuracy: 0.8115 - val_loss: 0.4439 - val_accuracy: 0.7958\n",
            "Epoch 22/100\n",
            "313/313 [==============================] - 3s 9ms/step - loss: 0.4252 - accuracy: 0.8117 - val_loss: 0.4419 - val_accuracy: 0.7988\n",
            "Epoch 23/100\n",
            "313/313 [==============================] - 3s 9ms/step - loss: 0.4226 - accuracy: 0.8134 - val_loss: 0.4426 - val_accuracy: 0.7992\n",
            "Epoch 24/100\n",
            "313/313 [==============================] - 3s 9ms/step - loss: 0.4206 - accuracy: 0.8123 - val_loss: 0.4430 - val_accuracy: 0.7922\n",
            "Epoch 25/100\n",
            "313/313 [==============================] - 3s 9ms/step - loss: 0.4189 - accuracy: 0.8122 - val_loss: 0.4376 - val_accuracy: 0.8000\n",
            "Epoch 26/100\n",
            "313/313 [==============================] - 3s 9ms/step - loss: 0.4175 - accuracy: 0.8148 - val_loss: 0.4371 - val_accuracy: 0.8014\n",
            "Epoch 27/100\n",
            "313/313 [==============================] - 3s 9ms/step - loss: 0.4160 - accuracy: 0.8141 - val_loss: 0.4356 - val_accuracy: 0.8002\n",
            "Epoch 28/100\n",
            "313/313 [==============================] - 3s 9ms/step - loss: 0.4150 - accuracy: 0.8142 - val_loss: 0.4369 - val_accuracy: 0.7932\n",
            "Epoch 29/100\n",
            "313/313 [==============================] - 3s 9ms/step - loss: 0.4136 - accuracy: 0.8140 - val_loss: 0.4350 - val_accuracy: 0.7988\n",
            "Epoch 30/100\n",
            "313/313 [==============================] - 3s 9ms/step - loss: 0.4128 - accuracy: 0.8136 - val_loss: 0.4335 - val_accuracy: 0.8006\n",
            "Epoch 31/100\n",
            "313/313 [==============================] - 3s 10ms/step - loss: 0.4119 - accuracy: 0.8148 - val_loss: 0.4340 - val_accuracy: 0.8042\n",
            "Epoch 32/100\n",
            "313/313 [==============================] - 4s 11ms/step - loss: 0.4107 - accuracy: 0.8161 - val_loss: 0.4324 - val_accuracy: 0.7986\n",
            "Epoch 33/100\n",
            "313/313 [==============================] - 3s 9ms/step - loss: 0.4100 - accuracy: 0.8145 - val_loss: 0.4323 - val_accuracy: 0.8028\n",
            "Epoch 34/100\n",
            "313/313 [==============================] - 3s 9ms/step - loss: 0.4091 - accuracy: 0.8169 - val_loss: 0.4325 - val_accuracy: 0.8036\n",
            "Epoch 35/100\n",
            "313/313 [==============================] - 3s 9ms/step - loss: 0.4082 - accuracy: 0.8166 - val_loss: 0.4323 - val_accuracy: 0.7968\n",
            "Epoch 36/100\n",
            "313/313 [==============================] - 3s 9ms/step - loss: 0.4077 - accuracy: 0.8152 - val_loss: 0.4315 - val_accuracy: 0.7996\n",
            "Epoch 37/100\n",
            "313/313 [==============================] - 3s 9ms/step - loss: 0.4071 - accuracy: 0.8160 - val_loss: 0.4307 - val_accuracy: 0.8040\n",
            "Epoch 38/100\n",
            "313/313 [==============================] - 3s 9ms/step - loss: 0.4065 - accuracy: 0.8169 - val_loss: 0.4298 - val_accuracy: 0.8018\n",
            "Epoch 39/100\n",
            "313/313 [==============================] - 3s 9ms/step - loss: 0.4058 - accuracy: 0.8169 - val_loss: 0.4297 - val_accuracy: 0.8008\n",
            "Epoch 40/100\n",
            "313/313 [==============================] - 3s 9ms/step - loss: 0.4052 - accuracy: 0.8157 - val_loss: 0.4307 - val_accuracy: 0.7990\n",
            "Epoch 41/100\n",
            "313/313 [==============================] - 3s 9ms/step - loss: 0.4044 - accuracy: 0.8179 - val_loss: 0.4291 - val_accuracy: 0.8012\n",
            "Epoch 42/100\n",
            "313/313 [==============================] - 3s 9ms/step - loss: 0.4041 - accuracy: 0.8173 - val_loss: 0.4292 - val_accuracy: 0.8034\n",
            "Epoch 43/100\n",
            "313/313 [==============================] - 3s 9ms/step - loss: 0.4032 - accuracy: 0.8170 - val_loss: 0.4297 - val_accuracy: 0.8040\n",
            "Epoch 44/100\n",
            "313/313 [==============================] - 3s 9ms/step - loss: 0.4027 - accuracy: 0.8184 - val_loss: 0.4280 - val_accuracy: 0.8056\n",
            "Epoch 45/100\n",
            "313/313 [==============================] - 3s 9ms/step - loss: 0.4022 - accuracy: 0.8180 - val_loss: 0.4293 - val_accuracy: 0.8010\n",
            "Epoch 46/100\n",
            "313/313 [==============================] - 3s 9ms/step - loss: 0.4019 - accuracy: 0.8177 - val_loss: 0.4335 - val_accuracy: 0.8034\n",
            "Epoch 47/100\n",
            "313/313 [==============================] - 3s 9ms/step - loss: 0.4013 - accuracy: 0.8179 - val_loss: 0.4276 - val_accuracy: 0.8016\n",
            "Epoch 48/100\n",
            "313/313 [==============================] - 4s 13ms/step - loss: 0.4003 - accuracy: 0.8181 - val_loss: 0.4291 - val_accuracy: 0.8004\n",
            "Epoch 49/100\n",
            "313/313 [==============================] - 3s 9ms/step - loss: 0.4001 - accuracy: 0.8185 - val_loss: 0.4275 - val_accuracy: 0.8024\n",
            "Epoch 50/100\n",
            "313/313 [==============================] - 3s 9ms/step - loss: 0.3998 - accuracy: 0.8181 - val_loss: 0.4292 - val_accuracy: 0.7982\n",
            "Epoch 51/100\n",
            "313/313 [==============================] - 4s 12ms/step - loss: 0.3992 - accuracy: 0.8177 - val_loss: 0.4267 - val_accuracy: 0.8054\n",
            "Epoch 52/100\n",
            "313/313 [==============================] - 5s 15ms/step - loss: 0.3988 - accuracy: 0.8183 - val_loss: 0.4290 - val_accuracy: 0.7976\n",
            "Epoch 53/100\n",
            "313/313 [==============================] - 5s 16ms/step - loss: 0.3981 - accuracy: 0.8192 - val_loss: 0.4267 - val_accuracy: 0.8082\n",
            "Epoch 54/100\n",
            "313/313 [==============================] - 5s 15ms/step - loss: 0.3977 - accuracy: 0.8194 - val_loss: 0.4266 - val_accuracy: 0.8070\n",
            "Epoch 55/100\n",
            "313/313 [==============================] - 4s 14ms/step - loss: 0.3970 - accuracy: 0.8191 - val_loss: 0.4265 - val_accuracy: 0.8020\n",
            "Epoch 56/100\n",
            "313/313 [==============================] - 4s 14ms/step - loss: 0.3967 - accuracy: 0.8188 - val_loss: 0.4285 - val_accuracy: 0.8070\n",
            "Epoch 57/100\n",
            "313/313 [==============================] - 5s 16ms/step - loss: 0.3963 - accuracy: 0.8205 - val_loss: 0.4279 - val_accuracy: 0.7996\n",
            "Epoch 58/100\n",
            "313/313 [==============================] - 4s 14ms/step - loss: 0.3960 - accuracy: 0.8203 - val_loss: 0.4251 - val_accuracy: 0.8068\n",
            "Epoch 59/100\n",
            "313/313 [==============================] - 4s 14ms/step - loss: 0.3954 - accuracy: 0.8198 - val_loss: 0.4265 - val_accuracy: 0.8074\n",
            "Epoch 60/100\n",
            "313/313 [==============================] - 5s 16ms/step - loss: 0.3947 - accuracy: 0.8206 - val_loss: 0.4262 - val_accuracy: 0.8050\n",
            "Epoch 61/100\n",
            "313/313 [==============================] - 4s 14ms/step - loss: 0.3946 - accuracy: 0.8203 - val_loss: 0.4255 - val_accuracy: 0.8072\n"
          ]
        }
      ]
    },
    {
      "cell_type": "code",
      "source": [
        "import matplotlib.pyplot as plt\n",
        "plt.plot(history.history['loss'])\n",
        "plt.plot(history.history['val_loss'])\n",
        "plt.xlabel('epoch')\n",
        "plt.ylabel('loss')\n",
        "plt.legend(['train','val'])\n",
        "plt.show()"
      ],
      "metadata": {
        "colab": {
          "base_uri": "https://localhost:8080/",
          "height": 279
        },
        "id": "iRTScSfzTu3u",
        "outputId": "904f39a8-c7ad-43dc-f3dc-92807f97860a"
      },
      "execution_count": 26,
      "outputs": [
        {
          "output_type": "display_data",
          "data": {
            "text/plain": [
              "<Figure size 432x288 with 1 Axes>"
            ],
            "image/png": "[encoded data removed]"
          },
          "metadata": {
            "needs_background": "light"
          }
        }
      ]
    },
    {
      "cell_type": "markdown",
      "source": [
        "그래프를 보면 기본 순환층보다 LSTM이 과대적합을 억제하면서 훈련을 잘 수행한 것으로 보임 \n",
        "\n",
        "하지만 경우에 따라서는 과대적합을 더 강하게 제어할 필요가 있음 \n",
        "\n",
        "전체적인 모델 구조는 이전과 동일합니다. LSTM클래스에 dropout 매개변수를 0.3으로 지정하여 30%의 드롭아웃"
      ],
      "metadata": {
        "id": "QGO8a2GQVzQw"
      }
    },
    {
      "cell_type": "code",
      "source": [
        "model2= keras.Sequential()\n",
        "model2.add(keras.layers.Embedding(500, 16, input_length=100))\n",
        "model2.add(keras.layers.LSTM(8, dropout=0.3))\n",
        "model2.add(keras.layers.Dense(1, activation='sigmoid'))"
      ],
      "metadata": {
        "id": "a8h416H0Vbt-"
      },
      "execution_count": 27,
      "outputs": []
    },
    {
      "cell_type": "code",
      "source": [
        "rmsprop = keras.optimizers.RMSprop(learning_rate=1e-4)\n",
        "model2.compile(optimizer=rmsprop, loss='binary_crossentropy', \n",
        "               metrics=['accuracy'])\n",
        "\n",
        "checkpoint_cb = keras.callbacks.ModelCheckpoint('best-dropout-model.h5', \n",
        "                                                save_best_only=True)\n",
        "early_stopping_cb = keras.callbacks.EarlyStopping(patience=3,\n",
        "                                                  restore_best_weights=True)\n",
        "\n",
        "history = model2.fit(train_seq, train_target, epochs=100, batch_size=64,\n",
        "                     validation_data=(val_seq, val_target),\n",
        "                     callbacks=[checkpoint_cb, early_stopping_cb])"
      ],
      "metadata": {
        "colab": {
          "base_uri": "https://localhost:8080/"
        },
        "id": "bmo9j2MTXLFk",
        "outputId": "b60c3497-304e-49c0-e5bf-bf4169f29a8a"
      },
      "execution_count": 28,
      "outputs": [
        {
          "output_type": "stream",
          "name": "stdout",
          "text": [
            "Epoch 1/100\n",
            "313/313 [==============================] - 8s 17ms/step - loss: 0.6926 - accuracy: 0.5327 - val_loss: 0.6924 - val_accuracy: 0.5266\n",
            "Epoch 2/100\n",
            "313/313 [==============================] - 4s 13ms/step - loss: 0.6913 - accuracy: 0.5857 - val_loss: 0.6906 - val_accuracy: 0.5868\n",
            "Epoch 3/100\n",
            "313/313 [==============================] - 4s 13ms/step - loss: 0.6881 - accuracy: 0.6172 - val_loss: 0.6859 - val_accuracy: 0.6470\n",
            "Epoch 4/100\n",
            "313/313 [==============================] - 4s 12ms/step - loss: 0.6793 - accuracy: 0.6621 - val_loss: 0.6694 - val_accuracy: 0.6798\n",
            "Epoch 5/100\n",
            "313/313 [==============================] - 4s 11ms/step - loss: 0.6308 - accuracy: 0.7064 - val_loss: 0.5847 - val_accuracy: 0.7186\n",
            "Epoch 6/100\n",
            "313/313 [==============================] - 3s 10ms/step - loss: 0.5724 - accuracy: 0.7220 - val_loss: 0.5573 - val_accuracy: 0.7344\n",
            "Epoch 7/100\n",
            "313/313 [==============================] - 3s 9ms/step - loss: 0.5491 - accuracy: 0.7387 - val_loss: 0.5356 - val_accuracy: 0.7472\n",
            "Epoch 8/100\n",
            "313/313 [==============================] - 3s 9ms/step - loss: 0.5292 - accuracy: 0.7500 - val_loss: 0.5178 - val_accuracy: 0.7610\n",
            "Epoch 9/100\n",
            "313/313 [==============================] - 3s 9ms/step - loss: 0.5114 - accuracy: 0.7633 - val_loss: 0.5022 - val_accuracy: 0.7710\n",
            "Epoch 10/100\n",
            "313/313 [==============================] - 3s 9ms/step - loss: 0.4960 - accuracy: 0.7753 - val_loss: 0.4888 - val_accuracy: 0.7758\n",
            "Epoch 11/100\n",
            "313/313 [==============================] - 3s 9ms/step - loss: 0.4833 - accuracy: 0.7803 - val_loss: 0.4780 - val_accuracy: 0.7810\n",
            "Epoch 12/100\n",
            "313/313 [==============================] - 3s 9ms/step - loss: 0.4714 - accuracy: 0.7865 - val_loss: 0.4680 - val_accuracy: 0.7858\n",
            "Epoch 13/100\n",
            "313/313 [==============================] - 4s 12ms/step - loss: 0.4638 - accuracy: 0.7879 - val_loss: 0.4606 - val_accuracy: 0.7896\n",
            "Epoch 14/100\n",
            "313/313 [==============================] - 4s 11ms/step - loss: 0.4568 - accuracy: 0.7933 - val_loss: 0.4563 - val_accuracy: 0.7886\n",
            "Epoch 15/100\n",
            "313/313 [==============================] - 3s 9ms/step - loss: 0.4496 - accuracy: 0.7940 - val_loss: 0.4506 - val_accuracy: 0.7944\n",
            "Epoch 16/100\n",
            "313/313 [==============================] - 3s 10ms/step - loss: 0.4457 - accuracy: 0.7987 - val_loss: 0.4520 - val_accuracy: 0.7926\n",
            "Epoch 17/100\n",
            "313/313 [==============================] - 3s 9ms/step - loss: 0.4406 - accuracy: 0.7966 - val_loss: 0.4444 - val_accuracy: 0.7980\n",
            "Epoch 18/100\n",
            "313/313 [==============================] - 3s 9ms/step - loss: 0.4383 - accuracy: 0.8021 - val_loss: 0.4446 - val_accuracy: 0.7930\n",
            "Epoch 19/100\n",
            "313/313 [==============================] - 3s 9ms/step - loss: 0.4365 - accuracy: 0.7994 - val_loss: 0.4401 - val_accuracy: 0.8000\n",
            "Epoch 20/100\n",
            "313/313 [==============================] - 3s 9ms/step - loss: 0.4315 - accuracy: 0.8014 - val_loss: 0.4387 - val_accuracy: 0.8008\n",
            "Epoch 21/100\n",
            "313/313 [==============================] - 3s 9ms/step - loss: 0.4287 - accuracy: 0.8043 - val_loss: 0.4380 - val_accuracy: 0.7998\n",
            "Epoch 22/100\n",
            "313/313 [==============================] - 3s 9ms/step - loss: 0.4270 - accuracy: 0.8070 - val_loss: 0.4354 - val_accuracy: 0.8018\n",
            "Epoch 23/100\n",
            "313/313 [==============================] - 3s 9ms/step - loss: 0.4269 - accuracy: 0.8059 - val_loss: 0.4352 - val_accuracy: 0.8038\n",
            "Epoch 24/100\n",
            "313/313 [==============================] - 3s 11ms/step - loss: 0.4261 - accuracy: 0.8051 - val_loss: 0.4349 - val_accuracy: 0.8020\n",
            "Epoch 25/100\n",
            "313/313 [==============================] - 3s 10ms/step - loss: 0.4215 - accuracy: 0.8079 - val_loss: 0.4363 - val_accuracy: 0.7964\n",
            "Epoch 26/100\n",
            "313/313 [==============================] - 3s 9ms/step - loss: 0.4224 - accuracy: 0.8066 - val_loss: 0.4322 - val_accuracy: 0.7994\n",
            "Epoch 27/100\n",
            "313/313 [==============================] - 3s 9ms/step - loss: 0.4180 - accuracy: 0.8092 - val_loss: 0.4313 - val_accuracy: 0.8040\n",
            "Epoch 28/100\n",
            "313/313 [==============================] - 3s 9ms/step - loss: 0.4192 - accuracy: 0.8090 - val_loss: 0.4340 - val_accuracy: 0.8030\n",
            "Epoch 29/100\n",
            "313/313 [==============================] - 3s 9ms/step - loss: 0.4172 - accuracy: 0.8107 - val_loss: 0.4306 - val_accuracy: 0.8042\n",
            "Epoch 30/100\n",
            "313/313 [==============================] - 3s 9ms/step - loss: 0.4165 - accuracy: 0.8082 - val_loss: 0.4298 - val_accuracy: 0.7996\n",
            "Epoch 31/100\n",
            "313/313 [==============================] - 3s 10ms/step - loss: 0.4169 - accuracy: 0.8098 - val_loss: 0.4322 - val_accuracy: 0.8040\n",
            "Epoch 32/100\n",
            "313/313 [==============================] - 3s 9ms/step - loss: 0.4158 - accuracy: 0.8103 - val_loss: 0.4310 - val_accuracy: 0.8020\n",
            "Epoch 33/100\n",
            "313/313 [==============================] - 3s 9ms/step - loss: 0.4159 - accuracy: 0.8088 - val_loss: 0.4283 - val_accuracy: 0.8022\n",
            "Epoch 34/100\n",
            "313/313 [==============================] - 3s 9ms/step - loss: 0.4160 - accuracy: 0.8106 - val_loss: 0.4285 - val_accuracy: 0.8056\n",
            "Epoch 35/100\n",
            "313/313 [==============================] - 3s 9ms/step - loss: 0.4120 - accuracy: 0.8105 - val_loss: 0.4276 - val_accuracy: 0.8026\n",
            "Epoch 36/100\n",
            "313/313 [==============================] - 3s 9ms/step - loss: 0.4121 - accuracy: 0.8120 - val_loss: 0.4275 - val_accuracy: 0.8014\n",
            "Epoch 37/100\n",
            "313/313 [==============================] - 3s 9ms/step - loss: 0.4117 - accuracy: 0.8122 - val_loss: 0.4310 - val_accuracy: 0.8048\n",
            "Epoch 38/100\n",
            "313/313 [==============================] - 3s 9ms/step - loss: 0.4108 - accuracy: 0.8133 - val_loss: 0.4295 - val_accuracy: 0.8056\n",
            "Epoch 39/100\n",
            "313/313 [==============================] - 3s 9ms/step - loss: 0.4107 - accuracy: 0.8118 - val_loss: 0.4266 - val_accuracy: 0.8048\n",
            "Epoch 40/100\n",
            "313/313 [==============================] - 3s 9ms/step - loss: 0.4109 - accuracy: 0.8116 - val_loss: 0.4264 - val_accuracy: 0.8056\n",
            "Epoch 41/100\n",
            "313/313 [==============================] - 3s 9ms/step - loss: 0.4089 - accuracy: 0.8140 - val_loss: 0.4265 - val_accuracy: 0.8048\n",
            "Epoch 42/100\n",
            "313/313 [==============================] - 3s 9ms/step - loss: 0.4094 - accuracy: 0.8143 - val_loss: 0.4282 - val_accuracy: 0.7996\n",
            "Epoch 43/100\n",
            "313/313 [==============================] - 3s 9ms/step - loss: 0.4096 - accuracy: 0.8120 - val_loss: 0.4266 - val_accuracy: 0.8052\n"
          ]
        }
      ]
    },
    {
      "cell_type": "markdown",
      "source": [
        "검증 손실이 약간 향상된 것 같음, 훈련 손실과 검증 손실 그래프를 그려 보겠습니다."
      ],
      "metadata": {
        "id": "jNNrOqmNXT_k"
      }
    },
    {
      "cell_type": "code",
      "source": [
        "plt.plot(history.history['loss'])\n",
        "plt.plot(history.history['val_loss'])\n",
        "plt.xlabel('epoch')\n",
        "plt.ylabel('loss')\n",
        "plt.legend(['train','val'])\n",
        "plt.show()"
      ],
      "metadata": {
        "colab": {
          "base_uri": "https://localhost:8080/",
          "height": 279
        },
        "id": "PwQtYKJ_XQjW",
        "outputId": "f9e9b84f-1b86-48c3-b5cb-c2bba6944392"
      },
      "execution_count": 29,
      "outputs": [
        {
          "output_type": "display_data",
          "data": {
            "text/plain": [
              "<Figure size 432x288 with 1 Axes>"
            ],
            "image/png": "[encoded data removed]"
          },
          "metadata": {
            "needs_background": "light"
          }
        }
      ]
    },
    {
      "cell_type": "markdown",
      "source": [
        "LSTM 층에 적용한 드롭아웃이 효과를 발휘한 것 같음, 훈련 손실과 검증 손실 간의 차이가 좁혀진 것을 확인할 수 있음 "
      ],
      "metadata": {
        "id": "D1oLeouHX3-o"
      }
    },
    {
      "cell_type": "code",
      "source": [
        "model3 = keras.Sequential()\n",
        "model3.add(keras.layers.Embedding(500, 16, input_length=100))\n",
        "model3.add(keras.layers.LSTM(8, dropout=0.3, return_sequences=True))\n",
        "model3.add(keras.layers.LSTM(8, dropout=0.3))\n",
        "model3.add(keras.layers.Dense(1, activation='sigmoid'))"
      ],
      "metadata": {
        "id": "EzWa7gr9YZNs"
      },
      "execution_count": 30,
      "outputs": []
    },
    {
      "cell_type": "markdown",
      "source": [
        "2개의 LSTM 층을 쌓았고 모두 드롭아웃을 0.3으로 지정, 그리고 첫 번째 LSTM 클래스에 return_sequences 매개변수를 True로 지정 "
      ],
      "metadata": {
        "id": "8CPpz30UZ0Rv"
      }
    },
    {
      "cell_type": "code",
      "source": [
        "model3.summary()"
      ],
      "metadata": {
        "colab": {
          "base_uri": "https://localhost:8080/"
        },
        "id": "EBWnMjc0Zyin",
        "outputId": "1a8e066e-445f-4fb7-e224-64cddc82fcc1"
      },
      "execution_count": 31,
      "outputs": [
        {
          "output_type": "stream",
          "name": "stdout",
          "text": [
            "Model: \"sequential_6\"\n",
            "_________________________________________________________________\n",
            " Layer (type)                Output Shape              Param #   \n",
            "=================================================================\n",
            " embedding_6 (Embedding)     (None, 100, 16)           8000      \n",
            "                                                                 \n",
            " lstm_7 (LSTM)               (None, 100, 8)            800       \n",
            "                                                                 \n",
            " lstm_8 (LSTM)               (None, 8)                 544       \n",
            "                                                                 \n",
            " dense_6 (Dense)             (None, 1)                 9         \n",
            "                                                                 \n",
            "=================================================================\n",
            "Total params: 9,353\n",
            "Trainable params: 9,353\n",
            "Non-trainable params: 0\n",
            "_________________________________________________________________\n"
          ]
        }
      ]
    },
    {
      "cell_type": "markdown",
      "source": [
        "첫 번째 LSTM 층이 모든 타임스텝(100개)의 은닉 상태를 출력하기 때문에 출력 크기가 (None, 100, 8)로 표시됨, 이에 반해 두 번째 LSTM 층의 출력 크기는 마지막 타임스텝의 은닉 상태만 출력하기 때문에 (None,8)입니다. "
      ],
      "metadata": {
        "id": "BNlvTw3aaHd1"
      }
    },
    {
      "cell_type": "code",
      "source": [
        "rmsprop = keras.optimizers.RMSprop(learning_rate=1e-4)\n",
        "model3.compile(optimizer=rmsprop, loss='binary_crossentropy', \n",
        "               metrics=['accuracy'])\n",
        "\n",
        "checkpoint_cb = keras.callbacks.ModelCheckpoint('best-2rnn-model.h5', \n",
        "                                                save_best_only=True)\n",
        "early_stopping_cb = keras.callbacks.EarlyStopping(patience=3,\n",
        "                                                  restore_best_weights=True)\n",
        "\n",
        "history = model3.fit(train_seq, train_target, epochs=100, batch_size=64,\n",
        "                     validation_data=(val_seq, val_target),\n",
        "                     callbacks=[checkpoint_cb, early_stopping_cb])"
      ],
      "metadata": {
        "colab": {
          "base_uri": "https://localhost:8080/"
        },
        "id": "uulHQXu9aFW1",
        "outputId": "dc3a6e96-eb0e-4e1c-f6e0-85588eec9e45"
      },
      "execution_count": 32,
      "outputs": [
        {
          "output_type": "stream",
          "name": "stdout",
          "text": [
            "Epoch 1/100\n",
            "313/313 [==============================] - 8s 16ms/step - loss: 0.6921 - accuracy: 0.5522 - val_loss: 0.6905 - val_accuracy: 0.5584\n",
            "Epoch 2/100\n",
            "313/313 [==============================] - 4s 14ms/step - loss: 0.6775 - accuracy: 0.6469 - val_loss: 0.6547 - val_accuracy: 0.6738\n",
            "Epoch 3/100\n",
            "313/313 [==============================] - 5s 14ms/step - loss: 0.6376 - accuracy: 0.6809 - val_loss: 0.6224 - val_accuracy: 0.6964\n",
            "Epoch 4/100\n",
            "313/313 [==============================] - 4s 14ms/step - loss: 0.6047 - accuracy: 0.7136 - val_loss: 0.5890 - val_accuracy: 0.7238\n",
            "Epoch 5/100\n",
            "313/313 [==============================] - 4s 14ms/step - loss: 0.5711 - accuracy: 0.7346 - val_loss: 0.5563 - val_accuracy: 0.7360\n",
            "Epoch 6/100\n",
            "313/313 [==============================] - 4s 14ms/step - loss: 0.5444 - accuracy: 0.7474 - val_loss: 0.5363 - val_accuracy: 0.7498\n",
            "Epoch 7/100\n",
            "313/313 [==============================] - 4s 14ms/step - loss: 0.5256 - accuracy: 0.7571 - val_loss: 0.5171 - val_accuracy: 0.7608\n",
            "Epoch 8/100\n",
            "313/313 [==============================] - 5s 16ms/step - loss: 0.5098 - accuracy: 0.7671 - val_loss: 0.5087 - val_accuracy: 0.7612\n",
            "Epoch 9/100\n",
            "313/313 [==============================] - 4s 14ms/step - loss: 0.4973 - accuracy: 0.7720 - val_loss: 0.4921 - val_accuracy: 0.7752\n",
            "Epoch 10/100\n",
            "313/313 [==============================] - 4s 14ms/step - loss: 0.4860 - accuracy: 0.7790 - val_loss: 0.4831 - val_accuracy: 0.7792\n",
            "Epoch 11/100\n",
            "313/313 [==============================] - 4s 14ms/step - loss: 0.4788 - accuracy: 0.7817 - val_loss: 0.4823 - val_accuracy: 0.7766\n",
            "Epoch 12/100\n",
            "313/313 [==============================] - 4s 14ms/step - loss: 0.4709 - accuracy: 0.7862 - val_loss: 0.4708 - val_accuracy: 0.7806\n",
            "Epoch 13/100\n",
            "313/313 [==============================] - 4s 14ms/step - loss: 0.4663 - accuracy: 0.7876 - val_loss: 0.4660 - val_accuracy: 0.7808\n",
            "Epoch 14/100\n",
            "313/313 [==============================] - 4s 14ms/step - loss: 0.4628 - accuracy: 0.7886 - val_loss: 0.4628 - val_accuracy: 0.7846\n",
            "Epoch 15/100\n",
            "313/313 [==============================] - 4s 14ms/step - loss: 0.4588 - accuracy: 0.7912 - val_loss: 0.4614 - val_accuracy: 0.7832\n",
            "Epoch 16/100\n",
            "313/313 [==============================] - 4s 14ms/step - loss: 0.4553 - accuracy: 0.7929 - val_loss: 0.4571 - val_accuracy: 0.7898\n",
            "Epoch 17/100\n",
            "313/313 [==============================] - 5s 15ms/step - loss: 0.4541 - accuracy: 0.7929 - val_loss: 0.4560 - val_accuracy: 0.7894\n",
            "Epoch 18/100\n",
            "313/313 [==============================] - 4s 14ms/step - loss: 0.4492 - accuracy: 0.7954 - val_loss: 0.4537 - val_accuracy: 0.7900\n",
            "Epoch 19/100\n",
            "313/313 [==============================] - 4s 14ms/step - loss: 0.4457 - accuracy: 0.7966 - val_loss: 0.4521 - val_accuracy: 0.7900\n",
            "Epoch 20/100\n",
            "313/313 [==============================] - 4s 14ms/step - loss: 0.4443 - accuracy: 0.7955 - val_loss: 0.4512 - val_accuracy: 0.7908\n",
            "Epoch 21/100\n",
            "313/313 [==============================] - 4s 14ms/step - loss: 0.4423 - accuracy: 0.7976 - val_loss: 0.4487 - val_accuracy: 0.7916\n",
            "Epoch 22/100\n",
            "313/313 [==============================] - 4s 14ms/step - loss: 0.4433 - accuracy: 0.7969 - val_loss: 0.4490 - val_accuracy: 0.7936\n",
            "Epoch 23/100\n",
            "313/313 [==============================] - 4s 14ms/step - loss: 0.4397 - accuracy: 0.7984 - val_loss: 0.4517 - val_accuracy: 0.7914\n",
            "Epoch 24/100\n",
            "313/313 [==============================] - 4s 14ms/step - loss: 0.4379 - accuracy: 0.8018 - val_loss: 0.4452 - val_accuracy: 0.7940\n",
            "Epoch 25/100\n",
            "313/313 [==============================] - 4s 14ms/step - loss: 0.4369 - accuracy: 0.8020 - val_loss: 0.4465 - val_accuracy: 0.7952\n",
            "Epoch 26/100\n",
            "313/313 [==============================] - 5s 17ms/step - loss: 0.4373 - accuracy: 0.8017 - val_loss: 0.4449 - val_accuracy: 0.7936\n",
            "Epoch 27/100\n",
            "313/313 [==============================] - 5s 16ms/step - loss: 0.4346 - accuracy: 0.8017 - val_loss: 0.4447 - val_accuracy: 0.7908\n",
            "Epoch 28/100\n",
            "313/313 [==============================] - 4s 14ms/step - loss: 0.4339 - accuracy: 0.8008 - val_loss: 0.4428 - val_accuracy: 0.7934\n",
            "Epoch 29/100\n",
            "313/313 [==============================] - 4s 14ms/step - loss: 0.4333 - accuracy: 0.8023 - val_loss: 0.4423 - val_accuracy: 0.7920\n",
            "Epoch 30/100\n",
            "313/313 [==============================] - 4s 14ms/step - loss: 0.4313 - accuracy: 0.8028 - val_loss: 0.4431 - val_accuracy: 0.7916\n",
            "Epoch 31/100\n",
            "313/313 [==============================] - 4s 14ms/step - loss: 0.4313 - accuracy: 0.8040 - val_loss: 0.4411 - val_accuracy: 0.7940\n",
            "Epoch 32/100\n",
            "313/313 [==============================] - 4s 14ms/step - loss: 0.4298 - accuracy: 0.8023 - val_loss: 0.4420 - val_accuracy: 0.7980\n",
            "Epoch 33/100\n",
            "313/313 [==============================] - 4s 14ms/step - loss: 0.4313 - accuracy: 0.8010 - val_loss: 0.4404 - val_accuracy: 0.7964\n",
            "Epoch 34/100\n",
            "313/313 [==============================] - 4s 14ms/step - loss: 0.4281 - accuracy: 0.8040 - val_loss: 0.4408 - val_accuracy: 0.7960\n",
            "Epoch 35/100\n",
            "313/313 [==============================] - 4s 14ms/step - loss: 0.4290 - accuracy: 0.8032 - val_loss: 0.4391 - val_accuracy: 0.7958\n",
            "Epoch 36/100\n",
            "313/313 [==============================] - 4s 14ms/step - loss: 0.4279 - accuracy: 0.8051 - val_loss: 0.4392 - val_accuracy: 0.7976\n",
            "Epoch 37/100\n",
            "313/313 [==============================] - 4s 14ms/step - loss: 0.4274 - accuracy: 0.8036 - val_loss: 0.4379 - val_accuracy: 0.7974\n",
            "Epoch 38/100\n",
            "313/313 [==============================] - 4s 14ms/step - loss: 0.4278 - accuracy: 0.8048 - val_loss: 0.4376 - val_accuracy: 0.7974\n",
            "Epoch 39/100\n",
            "313/313 [==============================] - 4s 14ms/step - loss: 0.4247 - accuracy: 0.8061 - val_loss: 0.4393 - val_accuracy: 0.7916\n",
            "Epoch 40/100\n",
            "313/313 [==============================] - 4s 13ms/step - loss: 0.4257 - accuracy: 0.8065 - val_loss: 0.4383 - val_accuracy: 0.7958\n",
            "Epoch 41/100\n",
            "313/313 [==============================] - 4s 14ms/step - loss: 0.4241 - accuracy: 0.8065 - val_loss: 0.4366 - val_accuracy: 0.7974\n",
            "Epoch 42/100\n",
            "313/313 [==============================] - 4s 14ms/step - loss: 0.4237 - accuracy: 0.8073 - val_loss: 0.4362 - val_accuracy: 0.8006\n",
            "Epoch 43/100\n",
            "313/313 [==============================] - 4s 14ms/step - loss: 0.4222 - accuracy: 0.8070 - val_loss: 0.4359 - val_accuracy: 0.8012\n",
            "Epoch 44/100\n",
            "313/313 [==============================] - 4s 14ms/step - loss: 0.4223 - accuracy: 0.8062 - val_loss: 0.4358 - val_accuracy: 0.8012\n",
            "Epoch 45/100\n",
            "313/313 [==============================] - 4s 14ms/step - loss: 0.4235 - accuracy: 0.8072 - val_loss: 0.4355 - val_accuracy: 0.7998\n",
            "Epoch 46/100\n",
            "313/313 [==============================] - 4s 14ms/step - loss: 0.4217 - accuracy: 0.8070 - val_loss: 0.4346 - val_accuracy: 0.8000\n",
            "Epoch 47/100\n",
            "313/313 [==============================] - 4s 14ms/step - loss: 0.4215 - accuracy: 0.8051 - val_loss: 0.4354 - val_accuracy: 0.8018\n",
            "Epoch 48/100\n",
            "313/313 [==============================] - 4s 14ms/step - loss: 0.4226 - accuracy: 0.8078 - val_loss: 0.4369 - val_accuracy: 0.8014\n",
            "Epoch 49/100\n",
            "313/313 [==============================] - 4s 14ms/step - loss: 0.4207 - accuracy: 0.8080 - val_loss: 0.4334 - val_accuracy: 0.8012\n",
            "Epoch 50/100\n",
            "313/313 [==============================] - 4s 14ms/step - loss: 0.4190 - accuracy: 0.8097 - val_loss: 0.4335 - val_accuracy: 0.8038\n",
            "Epoch 51/100\n",
            "313/313 [==============================] - 4s 14ms/step - loss: 0.4208 - accuracy: 0.8074 - val_loss: 0.4334 - val_accuracy: 0.8024\n",
            "Epoch 52/100\n",
            "313/313 [==============================] - 4s 14ms/step - loss: 0.4183 - accuracy: 0.8091 - val_loss: 0.4351 - val_accuracy: 0.8010\n",
            "Epoch 53/100\n",
            "313/313 [==============================] - 4s 14ms/step - loss: 0.4180 - accuracy: 0.8097 - val_loss: 0.4330 - val_accuracy: 0.8036\n",
            "Epoch 54/100\n",
            "313/313 [==============================] - 4s 14ms/step - loss: 0.4181 - accuracy: 0.8080 - val_loss: 0.4325 - val_accuracy: 0.8000\n",
            "Epoch 55/100\n",
            "313/313 [==============================] - 4s 14ms/step - loss: 0.4191 - accuracy: 0.8113 - val_loss: 0.4327 - val_accuracy: 0.8000\n",
            "Epoch 56/100\n",
            "313/313 [==============================] - 4s 14ms/step - loss: 0.4180 - accuracy: 0.8086 - val_loss: 0.4316 - val_accuracy: 0.8022\n",
            "Epoch 57/100\n",
            "313/313 [==============================] - 6s 20ms/step - loss: 0.4169 - accuracy: 0.8111 - val_loss: 0.4315 - val_accuracy: 0.8038\n",
            "Epoch 58/100\n",
            "313/313 [==============================] - 7s 21ms/step - loss: 0.4163 - accuracy: 0.8102 - val_loss: 0.4316 - val_accuracy: 0.8044\n",
            "Epoch 59/100\n",
            "313/313 [==============================] - 6s 19ms/step - loss: 0.4143 - accuracy: 0.8109 - val_loss: 0.4314 - val_accuracy: 0.8030\n",
            "Epoch 60/100\n",
            "313/313 [==============================] - 6s 18ms/step - loss: 0.4168 - accuracy: 0.8099 - val_loss: 0.4319 - val_accuracy: 0.8036\n",
            "Epoch 61/100\n",
            "313/313 [==============================] - 4s 14ms/step - loss: 0.4158 - accuracy: 0.8123 - val_loss: 0.4306 - val_accuracy: 0.8024\n",
            "Epoch 62/100\n",
            "313/313 [==============================] - 4s 14ms/step - loss: 0.4160 - accuracy: 0.8110 - val_loss: 0.4311 - val_accuracy: 0.8024\n",
            "Epoch 63/100\n",
            "313/313 [==============================] - 5s 16ms/step - loss: 0.4148 - accuracy: 0.8113 - val_loss: 0.4325 - val_accuracy: 0.8054\n",
            "Epoch 64/100\n",
            "313/313 [==============================] - 4s 14ms/step - loss: 0.4143 - accuracy: 0.8102 - val_loss: 0.4294 - val_accuracy: 0.8060\n",
            "Epoch 65/100\n",
            "313/313 [==============================] - 4s 14ms/step - loss: 0.4138 - accuracy: 0.8119 - val_loss: 0.4300 - val_accuracy: 0.8048\n",
            "Epoch 66/100\n",
            "313/313 [==============================] - 4s 14ms/step - loss: 0.4131 - accuracy: 0.8126 - val_loss: 0.4352 - val_accuracy: 0.8024\n",
            "Epoch 67/100\n",
            "313/313 [==============================] - 4s 14ms/step - loss: 0.4140 - accuracy: 0.8143 - val_loss: 0.4285 - val_accuracy: 0.8042\n",
            "Epoch 68/100\n",
            "313/313 [==============================] - 5s 16ms/step - loss: 0.4138 - accuracy: 0.8125 - val_loss: 0.4309 - val_accuracy: 0.8036\n",
            "Epoch 69/100\n",
            "313/313 [==============================] - 5s 15ms/step - loss: 0.4129 - accuracy: 0.8117 - val_loss: 0.4337 - val_accuracy: 0.8042\n",
            "Epoch 70/100\n",
            "313/313 [==============================] - 4s 14ms/step - loss: 0.4129 - accuracy: 0.8110 - val_loss: 0.4285 - val_accuracy: 0.8060\n"
          ]
        }
      ]
    },
    {
      "cell_type": "markdown",
      "source": [
        "모델이 잘 훈련됨, 일반적으로 순환층을 쌓으면 성능이 높아짐"
      ],
      "metadata": {
        "id": "jng43Bjkbisw"
      }
    },
    {
      "cell_type": "code",
      "source": [
        "plt.plot(history.history['loss']) \n",
        "plt.plot(history.history['val_loss']) \n",
        "plt.xlabel('epoch') \n",
        "plt.ylabel('loss') \n",
        "plt.legend(['train', 'val']) \n",
        "plt.show()"
      ],
      "metadata": {
        "colab": {
          "base_uri": "https://localhost:8080/",
          "height": 279
        },
        "id": "xPPIZPh-a1to",
        "outputId": "fb5f0dcf-5953-493a-e3a7-c561124b584d"
      },
      "execution_count": 33,
      "outputs": [
        {
          "output_type": "display_data",
          "data": {
            "text/plain": [
              "<Figure size 432x288 with 1 Axes>"
            ],
            "image/png": "[encoded data removed]"
          },
          "metadata": {
            "needs_background": "light"
          }
        }
      ]
    },
    {
      "cell_type": "markdown",
      "source": [
        "그래프를 보면 과대적합을 제어하면서 손실을 최대한 낮춘 것 같음 "
      ],
      "metadata": {
        "id": "qif-vk1WcAmt"
      }
    },
    {
      "cell_type": "markdown",
      "source": [
        "### GRU 신경망 훈련하기 "
      ],
      "metadata": {
        "id": "RbESWJyEjkiZ"
      }
    },
    {
      "cell_type": "code",
      "source": [
        "model4 = keras.Sequential()\n",
        "model4.add(keras.layers.Embedding(500, 16, input_length=100))\n",
        "model4.add(keras.layers.GRU(8))\n",
        "model4.add(keras.layers.Dense(1, activation='sigmoid'))"
      ],
      "metadata": {
        "id": "X9L6nZtGb-Ww"
      },
      "execution_count": 39,
      "outputs": []
    },
    {
      "cell_type": "markdown",
      "source": [
        "LSTM 클래스를 GRU 클래스로 바뀐 것 외에는 이전 모델과 동일함 "
      ],
      "metadata": {
        "id": "N0Hs_QcTj5Ne"
      }
    },
    {
      "cell_type": "code",
      "source": [
        "model4.summary()"
      ],
      "metadata": {
        "colab": {
          "base_uri": "https://localhost:8080/"
        },
        "id": "oZFa9PZsj4XP",
        "outputId": "0100864a-c128-4ec9-f326-8af48d92feee"
      },
      "execution_count": 40,
      "outputs": [
        {
          "output_type": "stream",
          "name": "stdout",
          "text": [
            "Model: \"sequential_7\"\n",
            "_________________________________________________________________\n",
            " Layer (type)                Output Shape              Param #   \n",
            "=================================================================\n",
            " embedding_7 (Embedding)     (None, 100, 16)           8000      \n",
            "                                                                 \n",
            " gru (GRU)                   (None, 8)                 624       \n",
            "                                                                 \n",
            " dense_7 (Dense)             (None, 1)                 9         \n",
            "                                                                 \n",
            "=================================================================\n",
            "Total params: 8,633\n",
            "Trainable params: 8,633\n",
            "Non-trainable params: 0\n",
            "_________________________________________________________________\n"
          ]
        }
      ]
    },
    {
      "cell_type": "markdown",
      "source": [
        "GRU층의 모델파라미터 개수를 계산하기 \n",
        "\n",
        "GRU 셀에는 3개의 작은 셀이 있고 작은 셀에는 입력과 은닉 상태에 곱하는 가중치와 절편이 있음 \n",
        "\n",
        "입력에 곱하는 가중치는 16 x 8 = 128 개, 은닉 상태에 곱하는 가중치는 8 x 8 = 64개입니다. \n",
        "그리고 절편은 뉴런마다 하나씩이므로 8개입니다. 모두 더하면 128 + 64 + 8 = 200개 입니다. 이런 작은 셀이 3개이므로 모두 600개의 모델 파라미터가 필요합니다. 하지만 summary() 메서드의 출력은 624개![화면 캡처 2022-08-31 012547.gif](data:image/gif;base64,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)"
      ],
      "metadata": {
        "id": "L_tSNrFjkAU6"
      }
    },
    {
      "cell_type": "markdown",
      "source": [
        "G로 표시된 작은 셀에 들어가는 입력부분이 다르다, 은닉 상태가 먼저 가중치와 곱해진 다음 가운데 셀 출력과 곱해진다, 그래서 이전에는 입력과 은닉상태에 곱해지는 가중치를 Wg로 별도 표기, 그림에서는 Wx와 Wh로 나누었음 \n",
        "\n",
        "이렇게 나누어 계산하면 은닉 상태에 곱해지는 가중치 외에 절편이 별도로 필요함 \n",
        "따라서 작은 셀마다 하나씩 절편이 추가되고 8개의 뉴런이 있으므로 총 24개의 모델 파라미터가 더해진다. 따라서 GRU 층의 총 모델 파라미터 개수는 624개가 된다. "
      ],
      "metadata": {
        "id": "Hqj2xcJdkzYT"
      }
    },
    {
      "cell_type": "code",
      "source": [
        "rmsprop = keras.optimizers.RMSprop(learning_rate=1e-4)\n",
        "model4.compile(optimizer=rmsprop, loss='binary_crossentropy', \n",
        "               metrics=['accuracy'])\n",
        "\n",
        "checkpoint_cb = keras.callbacks.ModelCheckpoint('best-gru-model.h5', \n",
        "                                                save_best_only=True)\n",
        "early_stopping_cb = keras.callbacks.EarlyStopping(patience=3,\n",
        "                                                  restore_best_weights=True)\n",
        "\n",
        "history = model4.fit(train_seq, train_target, epochs=100, batch_size=64,\n",
        "                     validation_data=(val_seq, val_target),\n",
        "                     callbacks=[checkpoint_cb, early_stopping_cb])"
      ],
      "metadata": {
        "colab": {
          "base_uri": "https://localhost:8080/"
        },
        "id": "Ag41zxF7kygn",
        "outputId": "9b83e335-c825-4120-bfeb-0513d73d8e55"
      },
      "execution_count": 41,
      "outputs": [
        {
          "output_type": "stream",
          "name": "stdout",
          "text": [
            "Epoch 1/100\n",
            "313/313 [==============================] - 5s 12ms/step - loss: 0.6928 - accuracy: 0.5242 - val_loss: 0.6925 - val_accuracy: 0.5344\n",
            "Epoch 2/100\n",
            "313/313 [==============================] - 3s 9ms/step - loss: 0.6917 - accuracy: 0.5533 - val_loss: 0.6912 - val_accuracy: 0.5486\n",
            "Epoch 3/100\n",
            "313/313 [==============================] - 3s 9ms/step - loss: 0.6897 - accuracy: 0.5743 - val_loss: 0.6887 - val_accuracy: 0.5734\n",
            "Epoch 4/100\n",
            "313/313 [==============================] - 3s 10ms/step - loss: 0.6862 - accuracy: 0.6008 - val_loss: 0.6843 - val_accuracy: 0.6052\n",
            "Epoch 5/100\n",
            "313/313 [==============================] - 3s 9ms/step - loss: 0.6803 - accuracy: 0.6186 - val_loss: 0.6776 - val_accuracy: 0.6106\n",
            "Epoch 6/100\n",
            "313/313 [==============================] - 3s 9ms/step - loss: 0.6712 - accuracy: 0.6297 - val_loss: 0.6675 - val_accuracy: 0.6222\n",
            "Epoch 7/100\n",
            "313/313 [==============================] - 3s 9ms/step - loss: 0.6576 - accuracy: 0.6446 - val_loss: 0.6521 - val_accuracy: 0.6384\n",
            "Epoch 8/100\n",
            "313/313 [==============================] - 3s 9ms/step - loss: 0.6374 - accuracy: 0.6617 - val_loss: 0.6292 - val_accuracy: 0.6576\n",
            "Epoch 9/100\n",
            "313/313 [==============================] - 3s 9ms/step - loss: 0.6051 - accuracy: 0.6830 - val_loss: 0.5911 - val_accuracy: 0.6960\n",
            "Epoch 10/100\n",
            "313/313 [==============================] - 3s 9ms/step - loss: 0.5516 - accuracy: 0.7216 - val_loss: 0.5358 - val_accuracy: 0.7374\n",
            "Epoch 11/100\n",
            "313/313 [==============================] - 3s 10ms/step - loss: 0.5080 - accuracy: 0.7549 - val_loss: 0.5106 - val_accuracy: 0.7554\n",
            "Epoch 12/100\n",
            "313/313 [==============================] - 3s 9ms/step - loss: 0.4906 - accuracy: 0.7677 - val_loss: 0.4969 - val_accuracy: 0.7644\n",
            "Epoch 13/100\n",
            "313/313 [==============================] - 3s 9ms/step - loss: 0.4783 - accuracy: 0.7770 - val_loss: 0.4874 - val_accuracy: 0.7700\n",
            "Epoch 14/100\n",
            "313/313 [==============================] - 3s 9ms/step - loss: 0.4687 - accuracy: 0.7828 - val_loss: 0.4803 - val_accuracy: 0.7732\n",
            "Epoch 15/100\n",
            "313/313 [==============================] - 3s 9ms/step - loss: 0.4601 - accuracy: 0.7882 - val_loss: 0.4753 - val_accuracy: 0.7774\n",
            "Epoch 16/100\n",
            "313/313 [==============================] - 3s 9ms/step - loss: 0.4540 - accuracy: 0.7931 - val_loss: 0.4699 - val_accuracy: 0.7818\n",
            "Epoch 17/100\n",
            "313/313 [==============================] - 3s 9ms/step - loss: 0.4485 - accuracy: 0.7974 - val_loss: 0.4660 - val_accuracy: 0.7820\n",
            "Epoch 18/100\n",
            "313/313 [==============================] - 3s 9ms/step - loss: 0.4441 - accuracy: 0.7994 - val_loss: 0.4619 - val_accuracy: 0.7872\n",
            "Epoch 19/100\n",
            "313/313 [==============================] - 3s 9ms/step - loss: 0.4401 - accuracy: 0.8027 - val_loss: 0.4617 - val_accuracy: 0.7884\n",
            "Epoch 20/100\n",
            "313/313 [==============================] - 3s 9ms/step - loss: 0.4370 - accuracy: 0.8041 - val_loss: 0.4585 - val_accuracy: 0.7898\n",
            "Epoch 21/100\n",
            "313/313 [==============================] - 3s 10ms/step - loss: 0.4344 - accuracy: 0.8066 - val_loss: 0.4559 - val_accuracy: 0.7886\n",
            "Epoch 22/100\n",
            "313/313 [==============================] - 3s 9ms/step - loss: 0.4312 - accuracy: 0.8080 - val_loss: 0.4560 - val_accuracy: 0.7856\n",
            "Epoch 23/100\n",
            "313/313 [==============================] - 3s 9ms/step - loss: 0.4297 - accuracy: 0.8083 - val_loss: 0.4537 - val_accuracy: 0.7922\n",
            "Epoch 24/100\n",
            "313/313 [==============================] - 3s 10ms/step - loss: 0.4279 - accuracy: 0.8105 - val_loss: 0.4521 - val_accuracy: 0.7914\n",
            "Epoch 25/100\n",
            "313/313 [==============================] - 3s 9ms/step - loss: 0.4263 - accuracy: 0.8097 - val_loss: 0.4525 - val_accuracy: 0.7894\n",
            "Epoch 26/100\n",
            "313/313 [==============================] - 3s 9ms/step - loss: 0.4250 - accuracy: 0.8128 - val_loss: 0.4509 - val_accuracy: 0.7912\n",
            "Epoch 27/100\n",
            "313/313 [==============================] - 3s 9ms/step - loss: 0.4236 - accuracy: 0.8114 - val_loss: 0.4500 - val_accuracy: 0.7918\n",
            "Epoch 28/100\n",
            "313/313 [==============================] - 3s 9ms/step - loss: 0.4229 - accuracy: 0.8128 - val_loss: 0.4492 - val_accuracy: 0.7908\n",
            "Epoch 29/100\n",
            "313/313 [==============================] - 3s 9ms/step - loss: 0.4214 - accuracy: 0.8135 - val_loss: 0.4515 - val_accuracy: 0.7878\n",
            "Epoch 30/100\n",
            "313/313 [==============================] - 3s 9ms/step - loss: 0.4204 - accuracy: 0.8141 - val_loss: 0.4490 - val_accuracy: 0.7902\n",
            "Epoch 31/100\n",
            "313/313 [==============================] - 3s 9ms/step - loss: 0.4196 - accuracy: 0.8142 - val_loss: 0.4511 - val_accuracy: 0.7880\n",
            "Epoch 32/100\n",
            "313/313 [==============================] - 3s 9ms/step - loss: 0.4191 - accuracy: 0.8148 - val_loss: 0.4530 - val_accuracy: 0.7868\n",
            "Epoch 33/100\n",
            "313/313 [==============================] - 3s 9ms/step - loss: 0.4182 - accuracy: 0.8155 - val_loss: 0.4463 - val_accuracy: 0.7932\n",
            "Epoch 34/100\n",
            "313/313 [==============================] - 4s 12ms/step - loss: 0.4177 - accuracy: 0.8155 - val_loss: 0.4467 - val_accuracy: 0.7946\n",
            "Epoch 35/100\n",
            "313/313 [==============================] - 4s 13ms/step - loss: 0.4174 - accuracy: 0.8152 - val_loss: 0.4461 - val_accuracy: 0.7902\n",
            "Epoch 36/100\n",
            "313/313 [==============================] - 4s 14ms/step - loss: 0.4164 - accuracy: 0.8171 - val_loss: 0.4455 - val_accuracy: 0.7942\n",
            "Epoch 37/100\n",
            "313/313 [==============================] - 4s 13ms/step - loss: 0.4162 - accuracy: 0.8156 - val_loss: 0.4446 - val_accuracy: 0.7918\n",
            "Epoch 38/100\n",
            "313/313 [==============================] - 4s 13ms/step - loss: 0.4155 - accuracy: 0.8146 - val_loss: 0.4448 - val_accuracy: 0.7908\n",
            "Epoch 39/100\n",
            "313/313 [==============================] - 4s 13ms/step - loss: 0.4148 - accuracy: 0.8179 - val_loss: 0.4483 - val_accuracy: 0.7872\n",
            "Epoch 40/100\n",
            "313/313 [==============================] - 4s 11ms/step - loss: 0.4141 - accuracy: 0.8166 - val_loss: 0.4432 - val_accuracy: 0.7950\n",
            "Epoch 41/100\n",
            "313/313 [==============================] - 3s 11ms/step - loss: 0.4139 - accuracy: 0.8168 - val_loss: 0.4439 - val_accuracy: 0.7940\n",
            "Epoch 42/100\n",
            "313/313 [==============================] - 4s 12ms/step - loss: 0.4138 - accuracy: 0.8157 - val_loss: 0.4426 - val_accuracy: 0.7928\n",
            "Epoch 43/100\n",
            "313/313 [==============================] - 3s 11ms/step - loss: 0.4134 - accuracy: 0.8161 - val_loss: 0.4426 - val_accuracy: 0.7948\n",
            "Epoch 44/100\n",
            "313/313 [==============================] - 3s 11ms/step - loss: 0.4129 - accuracy: 0.8159 - val_loss: 0.4454 - val_accuracy: 0.7916\n",
            "Epoch 45/100\n",
            "313/313 [==============================] - 4s 11ms/step - loss: 0.4127 - accuracy: 0.8172 - val_loss: 0.4447 - val_accuracy: 0.7908\n",
            "Epoch 46/100\n",
            "313/313 [==============================] - 3s 11ms/step - loss: 0.4122 - accuracy: 0.8161 - val_loss: 0.4428 - val_accuracy: 0.7972\n"
          ]
        }
      ]
    },
    {
      "cell_type": "markdown",
      "source": [
        "LSTM와 거의 비슷한 성능을 냄 \n"
      ],
      "metadata": {
        "id": "B8XQCxAllk1t"
      }
    },
    {
      "cell_type": "code",
      "source": [
        "plt.plot(history.history['loss'])\n",
        "plt.plot(history.history['val_loss'])\n",
        "plt.xlabel('epoch')\n",
        "plt.ylabel('loss')\n",
        "plt.legend(['train', 'val'])\n",
        "plt.show()"
      ],
      "metadata": {
        "colab": {
          "base_uri": "https://localhost:8080/",
          "height": 279
        },
        "id": "IKRx6SvTlcR2",
        "outputId": "4c346e52-08d8-4718-f073-290eee6bc433"
      },
      "execution_count": 42,
      "outputs": [
        {
          "output_type": "display_data",
          "data": {
            "text/plain": [
              "<Figure size 432x288 with 1 Axes>"
            ],
            "image/png": "[encoded data removed]"
          },
          "metadata": {
            "needs_background": "light"
          }
        }
      ]
    },
    {
      "cell_type": "markdown",
      "source": [
        "드롭아웃을 사용하지 않았기 때문에 이전보다 훈련 손실과 검증 손실 사이에 차이가 있지만 훈련과정이 잘 수렴되고 있는 것을 확인할 수 있다."
      ],
      "metadata": {
        "id": "jcM78XJcmC7F"
      }
    },
    {
      "cell_type": "markdown",
      "source": [
        "### 가장 좋았던 2개의 순환층을 쌓은 모델을 다시 로드하여 테스트 세트에 대한 성능을 확인하자"
      ],
      "metadata": {
        "id": "A7bpBxjGmMLs"
      }
    },
    {
      "cell_type": "code",
      "source": [
        "test_seq= pad_sequences(test_input, maxlen=100)\n",
        "rnn_model= keras.models.load_model('best-2rnn-model.h5')\n",
        "rnn_model.evaluate(test_seq, test_target)"
      ],
      "metadata": {
        "colab": {
          "base_uri": "https://localhost:8080/"
        },
        "id": "xh0U_DOKmS26",
        "outputId": "f8fb0b4c-85d5-4477-a646-ea1bb93ecb1d"
      },
      "execution_count": 43,
      "outputs": [
        {
          "output_type": "stream",
          "name": "stdout",
          "text": [
            "782/782 [==============================] - 5s 6ms/step - loss: 0.4240 - accuracy: 0.8023\n"
          ]
        },
        {
          "output_type": "execute_result",
          "data": {
            "text/plain": [
              "[0.4240121841430664, 0.8022800087928772]"
            ]
          },
          "metadata": {},
          "execution_count": 43
        }
      ]
    }
  ]
}