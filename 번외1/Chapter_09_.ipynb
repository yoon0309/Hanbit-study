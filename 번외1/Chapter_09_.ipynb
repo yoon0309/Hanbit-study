{
  "nbformat": 4,
  "nbformat_minor": 0,
  "metadata": {
    "colab": {
      "name": "Chapter 09 .ipynb",
      "provenance": []
    },
    "kernelspec": {
      "name": "python3",
      "display_name": "Python 3"
    },
    "language_info": {
      "name": "python"
    }
  },
  "cells": [
    {
      "cell_type": "markdown",
      "source": [
        "IMDB 리뷰데이터셋 \n",
        "\n",
        "영어로 된 문장이지만 텐서플로에는 이미 정수로 바꾼 데이터가 포함되어 있음 "
      ],
      "metadata": {
        "id": "kGoNnIm8wKMT"
      }
    },
    {
      "cell_type": "code",
      "execution_count": 1,
      "metadata": {
        "colab": {
          "base_uri": "https://localhost:8080/"
        },
        "id": "z0PGcX79eaNV",
        "outputId": "616fbf5a-4f3b-4bbf-e7ee-3816aa915b27"
      },
      "outputs": [
        {
          "output_type": "stream",
          "name": "stdout",
          "text": [
            "Downloading data from https://storage.googleapis.com/tensorflow/tf-keras-datasets/imdb.npz\n",
            "17465344/17464789 [==============================] - 0s 0us/step\n",
            "17473536/17464789 [==============================] - 0s 0us/step\n"
          ]
        }
      ],
      "source": [
        "from tensorflow.keras.datasets import imdb\n",
        "(train_input, train_target), (test_input, test_target) = imdb.load_data(num_words=500)"
      ]
    },
    {
      "cell_type": "markdown",
      "source": [
        "훈련세트와 테스트 세트의 크기를 확인 "
      ],
      "metadata": {
        "id": "x3vHM1MFwUaR"
      }
    },
    {
      "cell_type": "code",
      "source": [
        "print(train_input.shape, test_input.shape)"
      ],
      "metadata": {
        "colab": {
          "base_uri": "https://localhost:8080/"
        },
        "id": "69hNwsRXwHfh",
        "outputId": "3c98dcdd-b8d9-46b3-a92b-49516e63e8c1"
      },
      "execution_count": 2,
      "outputs": [
        {
          "output_type": "stream",
          "name": "stdout",
          "text": [
            "(25000,) (25000,)\n"
          ]
        }
      ]
    },
    {
      "cell_type": "markdown",
      "source": [
        "첫 번째 리뷰의 길이 확인 "
      ],
      "metadata": {
        "id": "2jEr97TOw4Zx"
      }
    },
    {
      "cell_type": "code",
      "source": [
        "print(len(train_input[0]))"
      ],
      "metadata": {
        "colab": {
          "base_uri": "https://localhost:8080/"
        },
        "id": "CO7ht-LtwbR5",
        "outputId": "d243a2ba-a789-4d51-e88b-b702da6e5f8f"
      },
      "execution_count": 3,
      "outputs": [
        {
          "output_type": "stream",
          "name": "stdout",
          "text": [
            "218\n"
          ]
        }
      ]
    },
    {
      "cell_type": "markdown",
      "source": [
        "두 번째 리뷰의 길이 확인 "
      ],
      "metadata": {
        "id": "r-mMLIVOw-x0"
      }
    },
    {
      "cell_type": "code",
      "source": [
        "print(len(train_input[1]))"
      ],
      "metadata": {
        "colab": {
          "base_uri": "https://localhost:8080/"
        },
        "id": "wN-EhVXfwzDA",
        "outputId": "2ad3ef1c-1b76-42eb-c4dc-0db5f3191afe"
      },
      "execution_count": 4,
      "outputs": [
        {
          "output_type": "stream",
          "name": "stdout",
          "text": [
            "189\n"
          ]
        }
      ]
    },
    {
      "cell_type": "markdown",
      "source": [
        "첫 번째 리뷰에 담긴 내용을 출력 "
      ],
      "metadata": {
        "id": "M5epz3p-xBto"
      }
    },
    {
      "cell_type": "code",
      "source": [
        "print(train_input[0])"
      ],
      "metadata": {
        "colab": {
          "base_uri": "https://localhost:8080/"
        },
        "id": "S3VLohWpw2Ob",
        "outputId": "2dcd2294-64cd-41ff-f56e-ed5741b58708"
      },
      "execution_count": 5,
      "outputs": [
        {
          "output_type": "stream",
          "name": "stdout",
          "text": [
            "[1, 14, 22, 16, 43, 2, 2, 2, 2, 65, 458, 2, 66, 2, 4, 173, 36, 256, 5, 25, 100, 43, 2, 112, 50, 2, 2, 9, 35, 480, 284, 5, 150, 4, 172, 112, 167, 2, 336, 385, 39, 4, 172, 2, 2, 17, 2, 38, 13, 447, 4, 192, 50, 16, 6, 147, 2, 19, 14, 22, 4, 2, 2, 469, 4, 22, 71, 87, 12, 16, 43, 2, 38, 76, 15, 13, 2, 4, 22, 17, 2, 17, 12, 16, 2, 18, 2, 5, 62, 386, 12, 8, 316, 8, 106, 5, 4, 2, 2, 16, 480, 66, 2, 33, 4, 130, 12, 16, 38, 2, 5, 25, 124, 51, 36, 135, 48, 25, 2, 33, 6, 22, 12, 215, 28, 77, 52, 5, 14, 407, 16, 82, 2, 8, 4, 107, 117, 2, 15, 256, 4, 2, 7, 2, 5, 2, 36, 71, 43, 2, 476, 26, 400, 317, 46, 7, 4, 2, 2, 13, 104, 88, 4, 381, 15, 297, 98, 32, 2, 56, 26, 141, 6, 194, 2, 18, 4, 226, 22, 21, 134, 476, 26, 480, 5, 144, 30, 2, 18, 51, 36, 28, 224, 92, 25, 104, 4, 226, 65, 16, 38, 2, 88, 12, 16, 283, 5, 16, 2, 113, 103, 32, 15, 16, 2, 19, 178, 32]\n"
          ]
        }
      ]
    },
    {
      "cell_type": "markdown",
      "source": [
        "IMDB 리뷰데이터는 이미 정수로 변환, num_word=500으로 지정했기 때문에 어휘 사전에는 500개의 단어만 들어가 있음\n",
        "\n",
        "->imdb.load_data()는 전체 어휘 사전에 있는 단어를 등장 횟수 순서대로 나열한 다음 가장 많이 등장한 500개의 단어를 선택 "
      ],
      "metadata": {
        "id": "cx9QdhbjxUkS"
      }
    },
    {
      "cell_type": "markdown",
      "source": [
        "타깃 데이터 출력 "
      ],
      "metadata": {
        "id": "4AconwTqxwHR"
      }
    },
    {
      "cell_type": "code",
      "source": [
        "print(train_target[:20])"
      ],
      "metadata": {
        "colab": {
          "base_uri": "https://localhost:8080/"
        },
        "id": "FqtT5YJjxG7M",
        "outputId": "8bb7753f-bfd4-4dc9-9246-e65cceefc201"
      },
      "execution_count": 6,
      "outputs": [
        {
          "output_type": "stream",
          "name": "stdout",
          "text": [
            "[1 0 0 1 0 0 1 0 1 0 1 0 0 0 0 0 1 1 0 1]\n"
          ]
        }
      ]
    },
    {
      "cell_type": "markdown",
      "source": [
        "해결해야할 문제? 리뷰가 긍정인지 부정인지 판단 , 이진 분류 문제로 볼 수 있으므로 타깃값이 0(부정) 또는 1(긍정)로 나누어짐 "
      ],
      "metadata": {
        "id": "SeDEiXHMxz7h"
      }
    },
    {
      "cell_type": "code",
      "source": [
        "from sklearn.model_selection import train_test_split \n",
        "train_input, val_input, train_target, val_target  = train_test_split(\n",
        "    train_input, train_target, test_size=0.2, random_state=42\n",
        ")"
      ],
      "metadata": {
        "id": "yW4WbSzKxsQA"
      },
      "execution_count": 7,
      "outputs": []
    },
    {
      "cell_type": "markdown",
      "source": [
        "각 리뷰의 길이 계산해 넘파이배열에 담는다 \n",
        "\n",
        "-? 평균적인 리뷰의 길이와 가장 짧은 리뷰의 길이 그리고 가장 긴 리뷰의 길이를 확인하고 싶기 때문  "
      ],
      "metadata": {
        "id": "oIBqSKyFyNqe"
      }
    },
    {
      "cell_type": "code",
      "source": [
        "import numpy as np\n",
        "lengths= np.array([len(x) for x in train_input])"
      ],
      "metadata": {
        "id": "hm0x_PHGyK6P"
      },
      "execution_count": 8,
      "outputs": []
    },
    {
      "cell_type": "markdown",
      "source": [
        "lenghts 배열이 준비, 넘파이 mean() 함수와 median()함수를 사용해 리뷰 길이의 평균과 중간값 구해보기 "
      ],
      "metadata": {
        "id": "ee0ewYYRygHn"
      }
    },
    {
      "cell_type": "code",
      "source": [
        "print(np.mean(lengths), np.median(lengths))"
      ],
      "metadata": {
        "colab": {
          "base_uri": "https://localhost:8080/"
        },
        "id": "s8GriVuLyfJ3",
        "outputId": "cf959596-eb39-4ff6-935f-33004142adc4"
      },
      "execution_count": 9,
      "outputs": [
        {
          "output_type": "stream",
          "name": "stdout",
          "text": [
            "239.00925 178.0\n"
          ]
        }
      ]
    },
    {
      "cell_type": "markdown",
      "source": [
        "리뷰의 평균 단어 개수는 239개이고, 중간값이 178인 것으로 보아 이 리뷰의 길이 데이터는 한쪽에 치우친 분포를 보일 것 같지만 히스토그램으로 확인! "
      ],
      "metadata": {
        "id": "te_Tnve8ysQ3"
      }
    },
    {
      "cell_type": "code",
      "source": [
        "import matplotlib.pyplot as plt\n",
        "plt.hist(lengths)\n",
        "plt.xlabel('length')\n",
        "plt.ylabel('frequency')\n",
        "plt.show()"
      ],
      "metadata": {
        "colab": {
          "base_uri": "https://localhost:8080/",
          "height": 279
        },
        "id": "-IyVxQWNyrUa",
        "outputId": "25bb1e36-e993-440b-9dd7-7716b4c56d63"
      },
      "execution_count": 10,
      "outputs": [
        {
          "output_type": "display_data",
          "data": {
            "text/plain": [
              "<Figure size 432x288 with 1 Axes>"
            ],
            "image/png": "[encoded data removed]"
          },
          "metadata": {
            "needs_background": "light"
          }
        }
      ]
    },
    {
      "cell_type": "markdown",
      "source": [
        "대부분의 리뷰는 300 미만, 평균이 중간값보다 높은 이유는 오른쪽 끝에 큰 데이터가 있기 때문이다. \n",
        "\n",
        "리뷰는 대부분 짧아서 이 예제에서는 중간값보다 훨씬 짧은 100개의 단어만 사용할것임\n",
        "\n",
        "100개의 단어보다 작은 리뷰들의 길이를 100으로 맞추기 위해 패딩을 사용한다 "
      ],
      "metadata": {
        "id": "AsrQ_wCPzFHi"
      }
    },
    {
      "cell_type": "code",
      "source": [
        "from tensorflow.keras.preprocessing.sequence import pad_sequences\n",
        "train_seq = pad_sequences(train_input, maxlen=100)"
      ],
      "metadata": {
        "id": "XsRUz4lyzBea"
      },
      "execution_count": 11,
      "outputs": []
    },
    {
      "cell_type": "markdown",
      "source": [
        "maxlen에 원하는 길이를 지정하면 이보다 긴 경우는 잘라내고 짧은 경우는 0으로 패딩\n",
        "\n",
        "train_seq의 크기를 확인 "
      ],
      "metadata": {
        "id": "yX2PjG0xzxkR"
      }
    },
    {
      "cell_type": "code",
      "source": [
        "print(train_seq.shape)"
      ],
      "metadata": {
        "colab": {
          "base_uri": "https://localhost:8080/"
        },
        "id": "gs0ZX6y8zxX8",
        "outputId": "2bbee84f-0986-43b3-d180-ef87c4fb136f"
      },
      "execution_count": 12,
      "outputs": [
        {
          "output_type": "stream",
          "name": "stdout",
          "text": [
            "(20000, 100)\n"
          ]
        }
      ]
    },
    {
      "cell_type": "markdown",
      "source": [
        "train_input은 파이썬의 리스트 배열이였지만 길이를 100으로 맞춘 train_seq는 (20000, 100) 크기의 2차원 배열이 되었음 "
      ],
      "metadata": {
        "id": "q0F5URoez_E_"
      }
    },
    {
      "cell_type": "markdown",
      "source": [
        "train_seq의 첫 번째 샘플 출력 "
      ],
      "metadata": {
        "id": "X5vZ1GH90LEy"
      }
    },
    {
      "cell_type": "code",
      "source": [
        "print(train_seq[0])"
      ],
      "metadata": {
        "colab": {
          "base_uri": "https://localhost:8080/"
        },
        "id": "nlSyKY3Bz93x",
        "outputId": "0a6d1118-f2ef-48dd-c015-65cac2073b1e"
      },
      "execution_count": 13,
      "outputs": [
        {
          "output_type": "stream",
          "name": "stdout",
          "text": [
            "[ 10   4  20   9   2 364 352   5  45   6   2   2  33 269   8   2 142   2\n",
            "   5   2  17  73  17 204   5   2  19  55   2   2  92  66 104  14  20  93\n",
            "  76   2 151  33   4  58  12 188   2 151  12 215  69 224 142  73 237   6\n",
            "   2   7   2   2 188   2 103  14  31  10  10 451   7   2   5   2  80  91\n",
            "   2  30   2  34  14  20 151  50  26 131  49   2  84  46  50  37  80  79\n",
            "   6   2  46   7  14  20  10  10 470 158]\n"
          ]
        }
      ]
    },
    {
      "cell_type": "markdown",
      "source": [
        "샘플의 앞뒤에 패딩값 0이 없는 것으로 보아 100보다는 길었을 것, train_input에 있는 원본 샘플의 끝을 확인하기 "
      ],
      "metadata": {
        "id": "36OllC230Q_1"
      }
    },
    {
      "cell_type": "code",
      "source": [
        "print(train_input[0][-10:])"
      ],
      "metadata": {
        "colab": {
          "base_uri": "https://localhost:8080/"
        },
        "id": "kmJfPCM20P_8",
        "outputId": "62e189eb-e2c9-4d42-d1d5-637b85c79904"
      },
      "execution_count": 14,
      "outputs": [
        {
          "output_type": "stream",
          "name": "stdout",
          "text": [
            "[6, 2, 46, 7, 14, 20, 10, 10, 470, 158]\n"
          ]
        }
      ]
    },
    {
      "cell_type": "markdown",
      "source": [
        "train_input[0]에 있는 마지막 10개의 토큰을 출력, train_seq[0]의 출력값과 비교하면 정확히 일치함 -> 샘플의 앞부분이 잘렸다는 것을 짐작할 수 있음 \n",
        "\n",
        "\n",
        "pad_sequence() 함수는 기본으로 maxlen보다 긴 시퀀스의 앞 부분을 자름 -> 시퀀스의 뒷부분의 정보가 더 유용하리라 기대하기 때문 \n",
        "\n",
        "시퀀스의 뒷부분을 잘라내고 싶다면 pad_sequence() 함수의 truncating 매개변수의 값을 기본값이 'pre'가 아닌 'post'로 바꾸어라\n",
        "\n",
        "\n",
        "train_seq에 있는 여섯번째 샘플출력 "
      ],
      "metadata": {
        "id": "zriaQySV0rVy"
      }
    },
    {
      "cell_type": "code",
      "source": [
        "print(train_seq[5])"
      ],
      "metadata": {
        "colab": {
          "base_uri": "https://localhost:8080/"
        },
        "id": "pPlw9As-0c_B",
        "outputId": "b7553d22-2371-4c3d-efd6-8c7fdc192d65"
      },
      "execution_count": 15,
      "outputs": [
        {
          "output_type": "stream",
          "name": "stdout",
          "text": [
            "[  0   0   0   0   1   2 195  19  49   2   2 190   4   2 352   2 183  10\n",
            "  10  13  82  79   4   2  36  71 269   8   2  25  19  49   7   4   2   2\n",
            "   2   2   2  10  10  48  25  40   2  11   2   2  40   2   2   5   4   2\n",
            "   2  95  14 238  56 129   2  10  10  21   2  94 364 352   2   2  11 190\n",
            "  24 484   2   7  94 205 405  10  10  87   2  34  49   2   7   2   2   2\n",
            "   2   2 290   2  46  48  64  18   4   2]\n"
          ]
        }
      ]
    },
    {
      "cell_type": "markdown",
      "source": [
        "앞부분에 0이 있는 것으로 보아 샘플의 길이는 100이 안됨\n",
        "\n",
        "같은 이유로 패딩 토큰은 시퀀스의 뒷부분이 아니라 앞부분에 추가되면 시퀀스의 마지막에 있는 단어가 셀의 은닉 상태에 가장 큰 영향을 미치게 되므로 마지막에 패딩을 추가하는 것은 일반적으로 선호하지 않음 \n",
        "\n"
      ],
      "metadata": {
        "id": "Nb1QHYPv1UQj"
      }
    },
    {
      "cell_type": "markdown",
      "source": [
        "검증 세트의 길이도 100으로 맞추기 "
      ],
      "metadata": {
        "id": "43OfxtSM1lY-"
      }
    },
    {
      "cell_type": "code",
      "source": [
        "val_seq= pad_sequences(val_input, maxlen=100)"
      ],
      "metadata": {
        "id": "f6FWVMff1TUR"
      },
      "execution_count": 19,
      "outputs": []
    },
    {
      "cell_type": "markdown",
      "source": [
        "### 순환신경망 만들기 \n",
        "\n",
        "IMDB 리뷰 분류 문제는 이진 분류이므로 마지막 출력층은 1개의 뉴런을 가지고 시그모이드 활성화 함수를 사용해야한다 "
      ],
      "metadata": {
        "id": "d91xhE5b15Ja"
      }
    },
    {
      "cell_type": "code",
      "source": [
        "from tensorflow import keras \n",
        "model = keras.Sequential()\n",
        "model.add(keras.layers.SimpleRNN(8, input_shape=(100,500)))\n",
        "model.add(keras.layers.Dense(1, activation='sigmoid'))"
      ],
      "metadata": {
        "id": "qRhy9ac_1sMN"
      },
      "execution_count": 21,
      "outputs": []
    },
    {
      "cell_type": "markdown",
      "source": [
        "SimpleRNN 클래스를 사용하였고, 첫 번째 매개변수로 input_shape 입력 차원을 (100,500)으로 지정한 것은 첫 번째 차원이 100인 이유는 샘플의 길이를 100으로 지정했기 때문이고 이전 섹션에서의 imdb.load_data()함수에서 500개의 단어만 사용하도록 지정했기에 500, \n",
        "\n",
        "순환층은 활성화 함수로 activation 매개변수의 기본값으로 'tanh'함수를 사용 \n",
        "\n",
        "\n"
      ],
      "metadata": {
        "id": "rrqEUlJo2YpR"
      }
    },
    {
      "cell_type": "markdown",
      "source": [
        "원핫 인코딩 배열로 반환하기 "
      ],
      "metadata": {
        "id": "Zl7QFQSG3lVV"
      }
    },
    {
      "cell_type": "code",
      "source": [
        "train_oh= keras.utils.to_categorical(train_seq)"
      ],
      "metadata": {
        "id": "KF1JC5xg2QTH"
      },
      "execution_count": 22,
      "outputs": []
    },
    {
      "cell_type": "markdown",
      "source": [
        "배열의 크기 출력"
      ],
      "metadata": {
        "id": "jw4OD9Lt3t7g"
      }
    },
    {
      "cell_type": "code",
      "source": [
        "print(train_oh.shape)"
      ],
      "metadata": {
        "colab": {
          "base_uri": "https://localhost:8080/"
        },
        "id": "rUeJpr-Y3s0B",
        "outputId": "81d36d9d-5e57-44b7-ddd8-d7dd779bdb8c"
      },
      "execution_count": 23,
      "outputs": [
        {
          "output_type": "stream",
          "name": "stdout",
          "text": [
            "(20000, 100, 500)\n"
          ]
        }
      ]
    },
    {
      "cell_type": "markdown",
      "source": [
        "정수 하나마다 모두 500차원의 배열로 변경, (20000, 100) 크기의 train_seq가 (20000, 100, 500) 크기의 train_oh로 바뀜 \n",
        "\n",
        "샘플 데이터의 크기가 1차원인 정수 배열(100,)에서 2차원 배열(100, 500)으로 바꾸어야하므로 SimpleRNN 클래스의 input_shape 매개변수 값을 (100, 500)으로 지정한 것 \n",
        "\n",
        "train_oh의 첫번째 샘플의 첫번째 토큰 10이 잘 인코딩되었는지 출력"
      ],
      "metadata": {
        "id": "d9rDbAV841a0"
      }
    },
    {
      "cell_type": "code",
      "source": [
        "print(train_oh[0][0][:12])"
      ],
      "metadata": {
        "colab": {
          "base_uri": "https://localhost:8080/"
        },
        "id": "dGoUzcIe3vOi",
        "outputId": "ba013038-dcbc-4a17-efb3-c64c215bb2df"
      },
      "execution_count": 24,
      "outputs": [
        {
          "output_type": "stream",
          "name": "stdout",
          "text": [
            "[0. 0. 0. 0. 0. 0. 0. 0. 0. 0. 1. 0.]\n"
          ]
        }
      ]
    },
    {
      "cell_type": "markdown",
      "source": [
        "처음 12개 원소를 출력해보면 11번째 원소가 1인 것을 확인, 나머지 원소는 모두 0인지 넘파이 sum()함수로 모든 원소의 값을 더해서 1이 되는지 확인 "
      ],
      "metadata": {
        "id": "X3RFUfz05dWu"
      }
    },
    {
      "cell_type": "code",
      "source": [
        "print(np.sum(train_oh[0][0]))"
      ],
      "metadata": {
        "colab": {
          "base_uri": "https://localhost:8080/"
        },
        "id": "S5UfBFIJ5cHt",
        "outputId": "bdde8d61-458c-47e0-e570-5245f592b651"
      },
      "execution_count": 25,
      "outputs": [
        {
          "output_type": "stream",
          "name": "stdout",
          "text": [
            "1.0\n"
          ]
        }
      ]
    },
    {
      "cell_type": "markdown",
      "source": [
        "토큰 10이 잘 인코딩 되었음을 확인하였음 \n",
        "열한 번째 원소만 1이고 나머지는 0이여서 원핫 인코딩을 더한 값이 1이 됨 \n",
        "\n",
        "val_seq도 원-핫 인코딩 "
      ],
      "metadata": {
        "id": "BUzpIljs5siX"
      }
    },
    {
      "cell_type": "code",
      "source": [
        "val_oh = keras.utils.to_categorical(val_seq)"
      ],
      "metadata": {
        "id": "LJ-cuxmv5rcx"
      },
      "execution_count": 26,
      "outputs": []
    },
    {
      "cell_type": "markdown",
      "source": [
        "만든 모델의 구조를 출력 "
      ],
      "metadata": {
        "id": "f7HCKxx-6UK_"
      }
    },
    {
      "cell_type": "code",
      "source": [
        "model.summary()"
      ],
      "metadata": {
        "colab": {
          "base_uri": "https://localhost:8080/"
        },
        "id": "fSR2HY7V6THl",
        "outputId": "96efc849-ab2b-4adb-9e34-c933c6f450d9"
      },
      "execution_count": 27,
      "outputs": [
        {
          "output_type": "stream",
          "name": "stdout",
          "text": [
            "Model: \"sequential_1\"\n",
            "_________________________________________________________________\n",
            " Layer (type)                Output Shape              Param #   \n",
            "=================================================================\n",
            " simple_rnn_1 (SimpleRNN)    (None, 8)                 4072      \n",
            "                                                                 \n",
            " dense (Dense)               (None, 1)                 9         \n",
            "                                                                 \n",
            "=================================================================\n",
            "Total params: 4,081\n",
            "Trainable params: 4,081\n",
            "Non-trainable params: 0\n",
            "_________________________________________________________________\n"
          ]
        }
      ]
    },
    {
      "cell_type": "markdown",
      "source": [
        "SimpleRNN에 전달한 샘플의 크기는 (100, 500) 이지만 순환층은 마지막 타임스텝의 은닉상태만 출력함, 그래서 출력크기가 뉴런개수와 동일한 8임을 알 수 있음 \n",
        "\n",
        "모델 파라미터의 개수를 계산해보면 \n",
        "입력토큰은 500차원의 원-핫인코딩 배열, 이 배열이 순환층의 뉴런 8개와 완전히 연결되기 때문, 총 500 x 8 = 4000개의 가중치가 있다 \n",
        "순환층의 은닉 상태는 다시 다음 타임스텝에 사용되기 위해 또 다른 가중치와 곱햊ㄴ다 \n",
        "이 은닉 상태도 순환층의 뉴런과 완전히 연결되기 때문에 8(은닉 상태 크기) x 8(뉴런개수) = 64개의 가중치가 필요함 \n",
        "\n",
        "마지막으로 뉴런마다 하나의 절편이 있으므로 \n",
        "4000 + 64 + 8 = 4072개의 모델 파라미터가 필요 "
      ],
      "metadata": {
        "id": "_sIzfIAZ6Y10"
      }
    },
    {
      "cell_type": "markdown",
      "source": [
        "### 순환신경망 훈련하기\n",
        "\n",
        "\n",
        "기본 RMSprop의 학습률 0.0001을 사용하지 않기 위해 별도의 RMSprop 객체를 만들어 학습률을 0.0001로 지정, 그 다음 에포크의 횟수를 100으로 늘리고 배치 크기는 64개로 설정, 그 밖에 체크포인트와 조기 종료를 구성하는 코드는 거의 동일 "
      ],
      "metadata": {
        "id": "Wwb8sGC58Cai"
      }
    },
    {
      "cell_type": "code",
      "source": [
        "rmsprop = keras.optimizers.RMSprop(learning_rate=1e-4)\n",
        "model.compile(optimizer=rmsprop, loss='binary_crossentropy', \n",
        "              metrics=['accuracy'])\n",
        "checkpoint_cb = keras.callbacks.ModelCheckpoint('best-simpernn-model.h5', \n",
        "                                                save_best_only=True)\n",
        "early_stopping_cb = keras.callbacks.EarlyStopping(patience=3, \n",
        "                                                restore_best_weights=True)\n",
        "history= model.fit(train_oh, train_target, epochs=100, batch_size=64, \n",
        "                   validation_data=(val_oh, val_target),\n",
        "                   callbacks=[checkpoint_cb, early_stopping_cb])"
      ],
      "metadata": {
        "colab": {
          "base_uri": "https://localhost:8080/"
        },
        "id": "e3z6mYjt6W64",
        "outputId": "41554703-a779-4de8-9f73-df962f9c3491"
      },
      "execution_count": 29,
      "outputs": [
        {
          "output_type": "stream",
          "name": "stdout",
          "text": [
            "Epoch 1/100\n",
            "313/313 [==============================] - 16s 44ms/step - loss: 0.7003 - accuracy: 0.4961 - val_loss: 0.6978 - val_accuracy: 0.5020\n",
            "Epoch 2/100\n",
            "313/313 [==============================] - 14s 44ms/step - loss: 0.6969 - accuracy: 0.5005 - val_loss: 0.6959 - val_accuracy: 0.5082\n",
            "Epoch 3/100\n",
            "313/313 [==============================] - 13s 41ms/step - loss: 0.6943 - accuracy: 0.5088 - val_loss: 0.6943 - val_accuracy: 0.5154\n",
            "Epoch 4/100\n",
            "313/313 [==============================] - 13s 41ms/step - loss: 0.6921 - accuracy: 0.5177 - val_loss: 0.6929 - val_accuracy: 0.5226\n",
            "Epoch 5/100\n",
            "313/313 [==============================] - 13s 40ms/step - loss: 0.6901 - accuracy: 0.5282 - val_loss: 0.6918 - val_accuracy: 0.5258\n",
            "Epoch 6/100\n",
            "313/313 [==============================] - 14s 46ms/step - loss: 0.6882 - accuracy: 0.5375 - val_loss: 0.6906 - val_accuracy: 0.5302\n",
            "Epoch 7/100\n",
            "313/313 [==============================] - 13s 42ms/step - loss: 0.6863 - accuracy: 0.5466 - val_loss: 0.6894 - val_accuracy: 0.5340\n",
            "Epoch 8/100\n",
            "313/313 [==============================] - 14s 44ms/step - loss: 0.6844 - accuracy: 0.5536 - val_loss: 0.6882 - val_accuracy: 0.5392\n",
            "Epoch 9/100\n",
            "313/313 [==============================] - 13s 41ms/step - loss: 0.6824 - accuracy: 0.5625 - val_loss: 0.6871 - val_accuracy: 0.5410\n",
            "Epoch 10/100\n",
            "313/313 [==============================] - 13s 41ms/step - loss: 0.6803 - accuracy: 0.5707 - val_loss: 0.6859 - val_accuracy: 0.5456\n",
            "Epoch 11/100\n",
            "313/313 [==============================] - 13s 41ms/step - loss: 0.6781 - accuracy: 0.5781 - val_loss: 0.6848 - val_accuracy: 0.5504\n",
            "Epoch 12/100\n",
            "313/313 [==============================] - 13s 41ms/step - loss: 0.6757 - accuracy: 0.5845 - val_loss: 0.6836 - val_accuracy: 0.5548\n",
            "Epoch 13/100\n",
            "313/313 [==============================] - 13s 41ms/step - loss: 0.6732 - accuracy: 0.5902 - val_loss: 0.6824 - val_accuracy: 0.5580\n",
            "Epoch 14/100\n",
            "313/313 [==============================] - 13s 41ms/step - loss: 0.6706 - accuracy: 0.5958 - val_loss: 0.6811 - val_accuracy: 0.5622\n",
            "Epoch 15/100\n",
            "313/313 [==============================] - 13s 41ms/step - loss: 0.6678 - accuracy: 0.6003 - val_loss: 0.6798 - val_accuracy: 0.5650\n",
            "Epoch 16/100\n",
            "313/313 [==============================] - 13s 41ms/step - loss: 0.6648 - accuracy: 0.6076 - val_loss: 0.6783 - val_accuracy: 0.5666\n",
            "Epoch 17/100\n",
            "313/313 [==============================] - 13s 41ms/step - loss: 0.6616 - accuracy: 0.6102 - val_loss: 0.6765 - val_accuracy: 0.5678\n",
            "Epoch 18/100\n",
            "313/313 [==============================] - 13s 41ms/step - loss: 0.6582 - accuracy: 0.6166 - val_loss: 0.6744 - val_accuracy: 0.5716\n",
            "Epoch 19/100\n",
            "313/313 [==============================] - 13s 41ms/step - loss: 0.6543 - accuracy: 0.6233 - val_loss: 0.6716 - val_accuracy: 0.5804\n",
            "Epoch 20/100\n",
            "313/313 [==============================] - 13s 41ms/step - loss: 0.6499 - accuracy: 0.6309 - val_loss: 0.6673 - val_accuracy: 0.5924\n",
            "Epoch 21/100\n",
            "313/313 [==============================] - 14s 44ms/step - loss: 0.6445 - accuracy: 0.6366 - val_loss: 0.6606 - val_accuracy: 0.5956\n",
            "Epoch 22/100\n",
            "313/313 [==============================] - 13s 40ms/step - loss: 0.6369 - accuracy: 0.6481 - val_loss: 0.6471 - val_accuracy: 0.6182\n",
            "Epoch 23/100\n",
            "313/313 [==============================] - 13s 41ms/step - loss: 0.5994 - accuracy: 0.6835 - val_loss: 0.5709 - val_accuracy: 0.7070\n",
            "Epoch 24/100\n",
            "313/313 [==============================] - 13s 40ms/step - loss: 0.5488 - accuracy: 0.7242 - val_loss: 0.5510 - val_accuracy: 0.7214\n",
            "Epoch 25/100\n",
            "313/313 [==============================] - 13s 41ms/step - loss: 0.5287 - accuracy: 0.7426 - val_loss: 0.5339 - val_accuracy: 0.7324\n",
            "Epoch 26/100\n",
            "313/313 [==============================] - 13s 40ms/step - loss: 0.5133 - accuracy: 0.7548 - val_loss: 0.5230 - val_accuracy: 0.7434\n",
            "Epoch 27/100\n",
            "313/313 [==============================] - 13s 41ms/step - loss: 0.4999 - accuracy: 0.7667 - val_loss: 0.5169 - val_accuracy: 0.7474\n",
            "Epoch 28/100\n",
            "313/313 [==============================] - 13s 41ms/step - loss: 0.4894 - accuracy: 0.7746 - val_loss: 0.5035 - val_accuracy: 0.7570\n",
            "Epoch 29/100\n",
            "313/313 [==============================] - 13s 40ms/step - loss: 0.4803 - accuracy: 0.7810 - val_loss: 0.4971 - val_accuracy: 0.7590\n",
            "Epoch 30/100\n",
            "313/313 [==============================] - 13s 40ms/step - loss: 0.4720 - accuracy: 0.7859 - val_loss: 0.4911 - val_accuracy: 0.7660\n",
            "Epoch 31/100\n",
            "313/313 [==============================] - 13s 40ms/step - loss: 0.4651 - accuracy: 0.7901 - val_loss: 0.4871 - val_accuracy: 0.7686\n",
            "Epoch 32/100\n",
            "313/313 [==============================] - 13s 40ms/step - loss: 0.4589 - accuracy: 0.7925 - val_loss: 0.4834 - val_accuracy: 0.7670\n",
            "Epoch 33/100\n",
            "313/313 [==============================] - 14s 44ms/step - loss: 0.4535 - accuracy: 0.7953 - val_loss: 0.4812 - val_accuracy: 0.7720\n",
            "Epoch 34/100\n",
            "313/313 [==============================] - 13s 40ms/step - loss: 0.4486 - accuracy: 0.7982 - val_loss: 0.4747 - val_accuracy: 0.7736\n",
            "Epoch 35/100\n",
            "313/313 [==============================] - 13s 41ms/step - loss: 0.4439 - accuracy: 0.8026 - val_loss: 0.4727 - val_accuracy: 0.7738\n",
            "Epoch 36/100\n",
            "313/313 [==============================] - 13s 41ms/step - loss: 0.4402 - accuracy: 0.8048 - val_loss: 0.4699 - val_accuracy: 0.7756\n",
            "Epoch 37/100\n",
            "313/313 [==============================] - 13s 41ms/step - loss: 0.4365 - accuracy: 0.8069 - val_loss: 0.4684 - val_accuracy: 0.7766\n",
            "Epoch 38/100\n",
            "313/313 [==============================] - 13s 41ms/step - loss: 0.4332 - accuracy: 0.8083 - val_loss: 0.4664 - val_accuracy: 0.7792\n",
            "Epoch 39/100\n",
            "313/313 [==============================] - 13s 41ms/step - loss: 0.4301 - accuracy: 0.8092 - val_loss: 0.4672 - val_accuracy: 0.7758\n",
            "Epoch 40/100\n",
            "313/313 [==============================] - 13s 40ms/step - loss: 0.4276 - accuracy: 0.8116 - val_loss: 0.4635 - val_accuracy: 0.7780\n",
            "Epoch 41/100\n",
            "313/313 [==============================] - 13s 41ms/step - loss: 0.4246 - accuracy: 0.8121 - val_loss: 0.4632 - val_accuracy: 0.7768\n",
            "Epoch 42/100\n",
            "313/313 [==============================] - 13s 40ms/step - loss: 0.4221 - accuracy: 0.8128 - val_loss: 0.4662 - val_accuracy: 0.7796\n",
            "Epoch 43/100\n",
            "313/313 [==============================] - 13s 41ms/step - loss: 0.4199 - accuracy: 0.8152 - val_loss: 0.4611 - val_accuracy: 0.7792\n",
            "Epoch 44/100\n",
            "313/313 [==============================] - 13s 41ms/step - loss: 0.4177 - accuracy: 0.8169 - val_loss: 0.4609 - val_accuracy: 0.7808\n",
            "Epoch 45/100\n",
            "313/313 [==============================] - 13s 42ms/step - loss: 0.4150 - accuracy: 0.8184 - val_loss: 0.4617 - val_accuracy: 0.7792\n",
            "Epoch 46/100\n",
            "313/313 [==============================] - 14s 43ms/step - loss: 0.4134 - accuracy: 0.8177 - val_loss: 0.4605 - val_accuracy: 0.7870\n",
            "Epoch 47/100\n",
            "313/313 [==============================] - 13s 41ms/step - loss: 0.4113 - accuracy: 0.8196 - val_loss: 0.4596 - val_accuracy: 0.7866\n",
            "Epoch 48/100\n",
            "313/313 [==============================] - 13s 41ms/step - loss: 0.4095 - accuracy: 0.8213 - val_loss: 0.4573 - val_accuracy: 0.7844\n",
            "Epoch 49/100\n",
            "313/313 [==============================] - 13s 41ms/step - loss: 0.4074 - accuracy: 0.8211 - val_loss: 0.4601 - val_accuracy: 0.7876\n",
            "Epoch 50/100\n",
            "313/313 [==============================] - 13s 41ms/step - loss: 0.4060 - accuracy: 0.8223 - val_loss: 0.4585 - val_accuracy: 0.7858\n",
            "Epoch 51/100\n",
            "313/313 [==============================] - 13s 41ms/step - loss: 0.4044 - accuracy: 0.8234 - val_loss: 0.4561 - val_accuracy: 0.7830\n",
            "Epoch 52/100\n",
            "313/313 [==============================] - 13s 41ms/step - loss: 0.4030 - accuracy: 0.8249 - val_loss: 0.4613 - val_accuracy: 0.7878\n",
            "Epoch 53/100\n",
            "313/313 [==============================] - 13s 40ms/step - loss: 0.4011 - accuracy: 0.8255 - val_loss: 0.4594 - val_accuracy: 0.7882\n",
            "Epoch 54/100\n",
            "313/313 [==============================] - 13s 41ms/step - loss: 0.4000 - accuracy: 0.8259 - val_loss: 0.4596 - val_accuracy: 0.7864\n"
          ]
        }
      ]
    },
    {
      "cell_type": "code",
      "source": [
        "plt.plot(history.history['loss'])\n",
        "plt.plot(history.history['val_loss'])\n",
        "plt.xlabel('epoch')\n",
        "plt.ylabel('loss')\n",
        "plt.legend(['train', 'val'])\n",
        "plt.show()"
      ],
      "metadata": {
        "colab": {
          "base_uri": "https://localhost:8080/",
          "height": 279
        },
        "id": "YxGexLUH9S-M",
        "outputId": "45171214-b33b-4af1-8125-b9e01af1d47d"
      },
      "execution_count": 30,
      "outputs": [
        {
          "output_type": "display_data",
          "data": {
            "text/plain": [
              "<Figure size 432x288 with 1 Axes>"
            ],
            "image/png": "[encoded data removed]"
          },
          "metadata": {
            "needs_background": "light"
          }
        }
      ]
    }
  ]
}