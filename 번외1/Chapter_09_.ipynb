{
  "nbformat": 4,
  "nbformat_minor": 0,
  "metadata": {
    "colab": {
      "name": "Chapter 09 .ipynb",
      "provenance": []
    },
    "kernelspec": {
      "name": "python3",
      "display_name": "Python 3"
    },
    "language_info": {
      "name": "python"
    },
    "accelerator": "GPU",
    "gpuClass": "standard"
  },
  "cells": [
    {
      "cell_type": "markdown",
      "source": [
        "IMDB 리뷰데이터셋 \n",
        "\n",
        "영어로 된 문장이지만 텐서플로에는 이미 정수로 바꾼 데이터가 포함되어 있음 "
      ],
      "metadata": {
        "id": "kGoNnIm8wKMT"
      }
    },
    {
      "cell_type": "code",
      "execution_count": 1,
      "metadata": {
        "colab": {
          "base_uri": "https://localhost:8080/"
        },
        "id": "z0PGcX79eaNV",
        "outputId": "01f97586-374a-41c7-fa0e-0f33b847607b"
      },
      "outputs": [
        {
          "output_type": "stream",
          "name": "stdout",
          "text": [
            "Downloading data from https://storage.googleapis.com/tensorflow/tf-keras-datasets/imdb.npz\n",
            "17465344/17464789 [==============================] - 0s 0us/step\n",
            "17473536/17464789 [==============================] - 0s 0us/step\n"
          ]
        }
      ],
      "source": [
        "from tensorflow.keras.datasets import imdb\n",
        "(train_input, train_target), (test_input, test_target) = imdb.load_data(num_words=500)"
      ]
    },
    {
      "cell_type": "markdown",
      "source": [
        "훈련세트와 테스트 세트의 크기를 확인 "
      ],
      "metadata": {
        "id": "x3vHM1MFwUaR"
      }
    },
    {
      "cell_type": "code",
      "source": [
        "print(train_input.shape, test_input.shape)"
      ],
      "metadata": {
        "colab": {
          "base_uri": "https://localhost:8080/"
        },
        "id": "69hNwsRXwHfh",
        "outputId": "ffe8d5d7-36ef-4e45-cbc5-53323cba2b62"
      },
      "execution_count": 2,
      "outputs": [
        {
          "output_type": "stream",
          "name": "stdout",
          "text": [
            "(25000,) (25000,)\n"
          ]
        }
      ]
    },
    {
      "cell_type": "markdown",
      "source": [
        "첫 번째 리뷰의 길이 확인 "
      ],
      "metadata": {
        "id": "2jEr97TOw4Zx"
      }
    },
    {
      "cell_type": "code",
      "source": [
        "print(len(train_input[0]))"
      ],
      "metadata": {
        "colab": {
          "base_uri": "https://localhost:8080/"
        },
        "id": "CO7ht-LtwbR5",
        "outputId": "58b27dea-55d7-4f99-fe70-b0c38c2dc031"
      },
      "execution_count": 3,
      "outputs": [
        {
          "output_type": "stream",
          "name": "stdout",
          "text": [
            "218\n"
          ]
        }
      ]
    },
    {
      "cell_type": "markdown",
      "source": [
        "두 번째 리뷰의 길이 확인 "
      ],
      "metadata": {
        "id": "r-mMLIVOw-x0"
      }
    },
    {
      "cell_type": "code",
      "source": [
        "print(len(train_input[1]))"
      ],
      "metadata": {
        "colab": {
          "base_uri": "https://localhost:8080/"
        },
        "id": "wN-EhVXfwzDA",
        "outputId": "ac78245e-e1f3-4c81-acb0-a686ccae0299"
      },
      "execution_count": 4,
      "outputs": [
        {
          "output_type": "stream",
          "name": "stdout",
          "text": [
            "189\n"
          ]
        }
      ]
    },
    {
      "cell_type": "markdown",
      "source": [
        "첫 번째 리뷰에 담긴 내용을 출력 "
      ],
      "metadata": {
        "id": "M5epz3p-xBto"
      }
    },
    {
      "cell_type": "code",
      "source": [
        "print(train_input[0])"
      ],
      "metadata": {
        "colab": {
          "base_uri": "https://localhost:8080/"
        },
        "id": "S3VLohWpw2Ob",
        "outputId": "333eb056-1378-4f95-8cc2-3f081d162484"
      },
      "execution_count": 5,
      "outputs": [
        {
          "output_type": "stream",
          "name": "stdout",
          "text": [
            "[1, 14, 22, 16, 43, 2, 2, 2, 2, 65, 458, 2, 66, 2, 4, 173, 36, 256, 5, 25, 100, 43, 2, 112, 50, 2, 2, 9, 35, 480, 284, 5, 150, 4, 172, 112, 167, 2, 336, 385, 39, 4, 172, 2, 2, 17, 2, 38, 13, 447, 4, 192, 50, 16, 6, 147, 2, 19, 14, 22, 4, 2, 2, 469, 4, 22, 71, 87, 12, 16, 43, 2, 38, 76, 15, 13, 2, 4, 22, 17, 2, 17, 12, 16, 2, 18, 2, 5, 62, 386, 12, 8, 316, 8, 106, 5, 4, 2, 2, 16, 480, 66, 2, 33, 4, 130, 12, 16, 38, 2, 5, 25, 124, 51, 36, 135, 48, 25, 2, 33, 6, 22, 12, 215, 28, 77, 52, 5, 14, 407, 16, 82, 2, 8, 4, 107, 117, 2, 15, 256, 4, 2, 7, 2, 5, 2, 36, 71, 43, 2, 476, 26, 400, 317, 46, 7, 4, 2, 2, 13, 104, 88, 4, 381, 15, 297, 98, 32, 2, 56, 26, 141, 6, 194, 2, 18, 4, 226, 22, 21, 134, 476, 26, 480, 5, 144, 30, 2, 18, 51, 36, 28, 224, 92, 25, 104, 4, 226, 65, 16, 38, 2, 88, 12, 16, 283, 5, 16, 2, 113, 103, 32, 15, 16, 2, 19, 178, 32]\n"
          ]
        }
      ]
    },
    {
      "cell_type": "markdown",
      "source": [
        "IMDB 리뷰데이터는 이미 정수로 변환, num_word=500으로 지정했기 때문에 어휘 사전에는 500개의 단어만 들어가 있음\n",
        "\n",
        "->imdb.load_data()는 전체 어휘 사전에 있는 단어를 등장 횟수 순서대로 나열한 다음 가장 많이 등장한 500개의 단어를 선택 "
      ],
      "metadata": {
        "id": "cx9QdhbjxUkS"
      }
    },
    {
      "cell_type": "markdown",
      "source": [
        "타깃 데이터 출력 "
      ],
      "metadata": {
        "id": "4AconwTqxwHR"
      }
    },
    {
      "cell_type": "code",
      "source": [
        "print(train_target[:20])"
      ],
      "metadata": {
        "colab": {
          "base_uri": "https://localhost:8080/"
        },
        "id": "FqtT5YJjxG7M",
        "outputId": "e92e2364-9075-4e87-d46a-c738b5a05d85"
      },
      "execution_count": 6,
      "outputs": [
        {
          "output_type": "stream",
          "name": "stdout",
          "text": [
            "[1 0 0 1 0 0 1 0 1 0 1 0 0 0 0 0 1 1 0 1]\n"
          ]
        }
      ]
    },
    {
      "cell_type": "markdown",
      "source": [
        "해결해야할 문제? 리뷰가 긍정인지 부정인지 판단 , 이진 분류 문제로 볼 수 있으므로 타깃값이 0(부정) 또는 1(긍정)로 나누어짐 "
      ],
      "metadata": {
        "id": "SeDEiXHMxz7h"
      }
    },
    {
      "cell_type": "code",
      "source": [
        "from sklearn.model_selection import train_test_split \n",
        "train_input, val_input, train_target, val_target  = train_test_split(\n",
        "    train_input, train_target, test_size=0.2, random_state=42\n",
        ")"
      ],
      "metadata": {
        "id": "yW4WbSzKxsQA"
      },
      "execution_count": 7,
      "outputs": []
    },
    {
      "cell_type": "markdown",
      "source": [
        "각 리뷰의 길이 계산해 넘파이배열에 담는다 \n",
        "\n",
        "-? 평균적인 리뷰의 길이와 가장 짧은 리뷰의 길이 그리고 가장 긴 리뷰의 길이를 확인하고 싶기 때문  "
      ],
      "metadata": {
        "id": "oIBqSKyFyNqe"
      }
    },
    {
      "cell_type": "code",
      "source": [
        "import numpy as np\n",
        "lengths= np.array([len(x) for x in train_input])"
      ],
      "metadata": {
        "id": "hm0x_PHGyK6P"
      },
      "execution_count": 8,
      "outputs": []
    },
    {
      "cell_type": "markdown",
      "source": [
        "lenghts 배열이 준비, 넘파이 mean() 함수와 median()함수를 사용해 리뷰 길이의 평균과 중간값 구해보기 "
      ],
      "metadata": {
        "id": "ee0ewYYRygHn"
      }
    },
    {
      "cell_type": "code",
      "source": [
        "print(np.mean(lengths), np.median(lengths))"
      ],
      "metadata": {
        "colab": {
          "base_uri": "https://localhost:8080/"
        },
        "id": "s8GriVuLyfJ3",
        "outputId": "42333a8d-9f01-4eb4-f603-a6960a4708b1"
      },
      "execution_count": 9,
      "outputs": [
        {
          "output_type": "stream",
          "name": "stdout",
          "text": [
            "239.00925 178.0\n"
          ]
        }
      ]
    },
    {
      "cell_type": "markdown",
      "source": [
        "리뷰의 평균 단어 개수는 239개이고, 중간값이 178인 것으로 보아 이 리뷰의 길이 데이터는 한쪽에 치우친 분포를 보일 것 같지만 히스토그램으로 확인! "
      ],
      "metadata": {
        "id": "te_Tnve8ysQ3"
      }
    },
    {
      "cell_type": "code",
      "source": [
        "import matplotlib.pyplot as plt\n",
        "plt.hist(lengths)\n",
        "plt.xlabel('length')\n",
        "plt.ylabel('frequency')\n",
        "plt.show()"
      ],
      "metadata": {
        "colab": {
          "base_uri": "https://localhost:8080/",
          "height": 279
        },
        "id": "-IyVxQWNyrUa",
        "outputId": "22c8afbe-9be3-40b6-fd7c-9b6b5e743201"
      },
      "execution_count": 10,
      "outputs": [
        {
          "output_type": "display_data",
          "data": {
            "text/plain": [
              "<Figure size 432x288 with 1 Axes>"
            ],
            "image/png": "[encoded data removed]"
          },
          "metadata": {
            "needs_background": "light"
          }
        }
      ]
    },
    {
      "cell_type": "markdown",
      "source": [
        "대부분의 리뷰는 300 미만, 평균이 중간값보다 높은 이유는 오른쪽 끝에 큰 데이터가 있기 때문이다. \n",
        "\n",
        "리뷰는 대부분 짧아서 이 예제에서는 중간값보다 훨씬 짧은 100개의 단어만 사용할것임\n",
        "\n",
        "100개의 단어보다 작은 리뷰들의 길이를 100으로 맞추기 위해 패딩을 사용한다 "
      ],
      "metadata": {
        "id": "AsrQ_wCPzFHi"
      }
    },
    {
      "cell_type": "code",
      "source": [
        "from tensorflow.keras.preprocessing.sequence import pad_sequences\n",
        "train_seq = pad_sequences(train_input, maxlen=100)"
      ],
      "metadata": {
        "id": "XsRUz4lyzBea"
      },
      "execution_count": 11,
      "outputs": []
    },
    {
      "cell_type": "markdown",
      "source": [
        "maxlen에 원하는 길이를 지정하면 이보다 긴 경우는 잘라내고 짧은 경우는 0으로 패딩\n",
        "\n",
        "train_seq의 크기를 확인 "
      ],
      "metadata": {
        "id": "yX2PjG0xzxkR"
      }
    },
    {
      "cell_type": "code",
      "source": [
        "print(train_seq.shape)"
      ],
      "metadata": {
        "colab": {
          "base_uri": "https://localhost:8080/"
        },
        "id": "gs0ZX6y8zxX8",
        "outputId": "484d6992-d298-4990-e490-fe4fc08a6a28"
      },
      "execution_count": 12,
      "outputs": [
        {
          "output_type": "stream",
          "name": "stdout",
          "text": [
            "(20000, 100)\n"
          ]
        }
      ]
    },
    {
      "cell_type": "markdown",
      "source": [
        "train_input은 파이썬의 리스트 배열이였지만 길이를 100으로 맞춘 train_seq는 (20000, 100) 크기의 2차원 배열이 되었음 "
      ],
      "metadata": {
        "id": "q0F5URoez_E_"
      }
    },
    {
      "cell_type": "markdown",
      "source": [
        "train_seq의 첫 번째 샘플 출력 "
      ],
      "metadata": {
        "id": "X5vZ1GH90LEy"
      }
    },
    {
      "cell_type": "code",
      "source": [
        "print(train_seq[0])"
      ],
      "metadata": {
        "colab": {
          "base_uri": "https://localhost:8080/"
        },
        "id": "nlSyKY3Bz93x",
        "outputId": "3b5d6112-cbe6-4f2a-f731-02b551817d3c"
      },
      "execution_count": 13,
      "outputs": [
        {
          "output_type": "stream",
          "name": "stdout",
          "text": [
            "[ 10   4  20   9   2 364 352   5  45   6   2   2  33 269   8   2 142   2\n",
            "   5   2  17  73  17 204   5   2  19  55   2   2  92  66 104  14  20  93\n",
            "  76   2 151  33   4  58  12 188   2 151  12 215  69 224 142  73 237   6\n",
            "   2   7   2   2 188   2 103  14  31  10  10 451   7   2   5   2  80  91\n",
            "   2  30   2  34  14  20 151  50  26 131  49   2  84  46  50  37  80  79\n",
            "   6   2  46   7  14  20  10  10 470 158]\n"
          ]
        }
      ]
    },
    {
      "cell_type": "markdown",
      "source": [
        "샘플의 앞뒤에 패딩값 0이 없는 것으로 보아 100보다는 길었을 것, train_input에 있는 원본 샘플의 끝을 확인하기 "
      ],
      "metadata": {
        "id": "36OllC230Q_1"
      }
    },
    {
      "cell_type": "code",
      "source": [
        "print(train_input[0][-10:])"
      ],
      "metadata": {
        "colab": {
          "base_uri": "https://localhost:8080/"
        },
        "id": "kmJfPCM20P_8",
        "outputId": "15e48dd1-5676-4631-80d5-508fc0c95a28"
      },
      "execution_count": 14,
      "outputs": [
        {
          "output_type": "stream",
          "name": "stdout",
          "text": [
            "[6, 2, 46, 7, 14, 20, 10, 10, 470, 158]\n"
          ]
        }
      ]
    },
    {
      "cell_type": "markdown",
      "source": [
        "train_input[0]에 있는 마지막 10개의 토큰을 출력, train_seq[0]의 출력값과 비교하면 정확히 일치함 -> 샘플의 앞부분이 잘렸다는 것을 짐작할 수 있음 \n",
        "\n",
        "\n",
        "pad_sequence() 함수는 기본으로 maxlen보다 긴 시퀀스의 앞 부분을 자름 -> 시퀀스의 뒷부분의 정보가 더 유용하리라 기대하기 때문 \n",
        "\n",
        "시퀀스의 뒷부분을 잘라내고 싶다면 pad_sequence() 함수의 truncating 매개변수의 값을 기본값이 'pre'가 아닌 'post'로 바꾸어라\n",
        "\n",
        "\n",
        "train_seq에 있는 여섯번째 샘플출력 "
      ],
      "metadata": {
        "id": "zriaQySV0rVy"
      }
    },
    {
      "cell_type": "code",
      "source": [
        "print(train_seq[5])"
      ],
      "metadata": {
        "colab": {
          "base_uri": "https://localhost:8080/"
        },
        "id": "pPlw9As-0c_B",
        "outputId": "7b890812-2e14-4d1d-922b-87356cd99861"
      },
      "execution_count": 15,
      "outputs": [
        {
          "output_type": "stream",
          "name": "stdout",
          "text": [
            "[  0   0   0   0   1   2 195  19  49   2   2 190   4   2 352   2 183  10\n",
            "  10  13  82  79   4   2  36  71 269   8   2  25  19  49   7   4   2   2\n",
            "   2   2   2  10  10  48  25  40   2  11   2   2  40   2   2   5   4   2\n",
            "   2  95  14 238  56 129   2  10  10  21   2  94 364 352   2   2  11 190\n",
            "  24 484   2   7  94 205 405  10  10  87   2  34  49   2   7   2   2   2\n",
            "   2   2 290   2  46  48  64  18   4   2]\n"
          ]
        }
      ]
    },
    {
      "cell_type": "markdown",
      "source": [
        "앞부분에 0이 있는 것으로 보아 샘플의 길이는 100이 안됨\n",
        "\n",
        "같은 이유로 패딩 토큰은 시퀀스의 뒷부분이 아니라 앞부분에 추가되면 시퀀스의 마지막에 있는 단어가 셀의 은닉 상태에 가장 큰 영향을 미치게 되므로 마지막에 패딩을 추가하는 것은 일반적으로 선호하지 않음 \n",
        "\n"
      ],
      "metadata": {
        "id": "Nb1QHYPv1UQj"
      }
    },
    {
      "cell_type": "markdown",
      "source": [
        "검증 세트의 길이도 100으로 맞추기 "
      ],
      "metadata": {
        "id": "43OfxtSM1lY-"
      }
    },
    {
      "cell_type": "code",
      "source": [
        "val_seq= pad_sequences(val_input, maxlen=100)"
      ],
      "metadata": {
        "id": "f6FWVMff1TUR"
      },
      "execution_count": 16,
      "outputs": []
    },
    {
      "cell_type": "markdown",
      "source": [
        "### 순환신경망 만들기 \n",
        "\n",
        "IMDB 리뷰 분류 문제는 이진 분류이므로 마지막 출력층은 1개의 뉴런을 가지고 시그모이드 활성화 함수를 사용해야한다 "
      ],
      "metadata": {
        "id": "d91xhE5b15Ja"
      }
    },
    {
      "cell_type": "code",
      "source": [
        "from tensorflow import keras \n",
        "model = keras.Sequential()\n",
        "model.add(keras.layers.SimpleRNN(8, input_shape=(100,500)))\n",
        "model.add(keras.layers.Dense(1, activation='sigmoid'))"
      ],
      "metadata": {
        "id": "qRhy9ac_1sMN"
      },
      "execution_count": 17,
      "outputs": []
    },
    {
      "cell_type": "markdown",
      "source": [
        "SimpleRNN 클래스를 사용하였고, 첫 번째 매개변수로 input_shape 입력 차원을 (100,500)으로 지정한 것은 첫 번째 차원이 100인 이유는 샘플의 길이를 100으로 지정했기 때문이고 이전 섹션에서의 imdb.load_data()함수에서 500개의 단어만 사용하도록 지정했기에 500, \n",
        "\n",
        "순환층은 활성화 함수로 activation 매개변수의 기본값으로 'tanh'함수를 사용 \n",
        "\n",
        "\n"
      ],
      "metadata": {
        "id": "rrqEUlJo2YpR"
      }
    },
    {
      "cell_type": "markdown",
      "source": [
        "원핫 인코딩 배열로 반환하기 "
      ],
      "metadata": {
        "id": "Zl7QFQSG3lVV"
      }
    },
    {
      "cell_type": "code",
      "source": [
        "train_oh= keras.utils.to_categorical(train_seq)"
      ],
      "metadata": {
        "id": "KF1JC5xg2QTH"
      },
      "execution_count": 18,
      "outputs": []
    },
    {
      "cell_type": "markdown",
      "source": [
        "배열의 크기 출력"
      ],
      "metadata": {
        "id": "jw4OD9Lt3t7g"
      }
    },
    {
      "cell_type": "code",
      "source": [
        "print(train_oh.shape)"
      ],
      "metadata": {
        "colab": {
          "base_uri": "https://localhost:8080/"
        },
        "id": "rUeJpr-Y3s0B",
        "outputId": "8dd47ec4-eaaf-4263-b7bf-5faa6d60ab1f"
      },
      "execution_count": 19,
      "outputs": [
        {
          "output_type": "stream",
          "name": "stdout",
          "text": [
            "(20000, 100, 500)\n"
          ]
        }
      ]
    },
    {
      "cell_type": "markdown",
      "source": [
        "정수 하나마다 모두 500차원의 배열로 변경, (20000, 100) 크기의 train_seq가 (20000, 100, 500) 크기의 train_oh로 바뀜 \n",
        "\n",
        "샘플 데이터의 크기가 1차원인 정수 배열(100,)에서 2차원 배열(100, 500)으로 바꾸어야하므로 SimpleRNN 클래스의 input_shape 매개변수 값을 (100, 500)으로 지정한 것 \n",
        "\n",
        "train_oh의 첫번째 샘플의 첫번째 토큰 10이 잘 인코딩되었는지 출력"
      ],
      "metadata": {
        "id": "d9rDbAV841a0"
      }
    },
    {
      "cell_type": "code",
      "source": [
        "print(train_oh[0][0][:12])"
      ],
      "metadata": {
        "colab": {
          "base_uri": "https://localhost:8080/"
        },
        "id": "dGoUzcIe3vOi",
        "outputId": "027eea3d-bff2-4746-ba1b-6374d3b7b408"
      },
      "execution_count": 20,
      "outputs": [
        {
          "output_type": "stream",
          "name": "stdout",
          "text": [
            "[0. 0. 0. 0. 0. 0. 0. 0. 0. 0. 1. 0.]\n"
          ]
        }
      ]
    },
    {
      "cell_type": "markdown",
      "source": [
        "처음 12개 원소를 출력해보면 11번째 원소가 1인 것을 확인, 나머지 원소는 모두 0인지 넘파이 sum()함수로 모든 원소의 값을 더해서 1이 되는지 확인 "
      ],
      "metadata": {
        "id": "X3RFUfz05dWu"
      }
    },
    {
      "cell_type": "code",
      "source": [
        "print(np.sum(train_oh[0][0]))"
      ],
      "metadata": {
        "colab": {
          "base_uri": "https://localhost:8080/"
        },
        "id": "S5UfBFIJ5cHt",
        "outputId": "c12253df-7a3f-48d1-a108-7c0d4e98b14a"
      },
      "execution_count": 21,
      "outputs": [
        {
          "output_type": "stream",
          "name": "stdout",
          "text": [
            "1.0\n"
          ]
        }
      ]
    },
    {
      "cell_type": "markdown",
      "source": [
        "토큰 10이 잘 인코딩 되었음을 확인하였음 \n",
        "열한 번째 원소만 1이고 나머지는 0이여서 원핫 인코딩을 더한 값이 1이 됨 \n",
        "\n",
        "val_seq도 원-핫 인코딩 "
      ],
      "metadata": {
        "id": "BUzpIljs5siX"
      }
    },
    {
      "cell_type": "code",
      "source": [
        "val_oh = keras.utils.to_categorical(val_seq)"
      ],
      "metadata": {
        "id": "LJ-cuxmv5rcx"
      },
      "execution_count": 22,
      "outputs": []
    },
    {
      "cell_type": "markdown",
      "source": [
        "만든 모델의 구조를 출력 "
      ],
      "metadata": {
        "id": "f7HCKxx-6UK_"
      }
    },
    {
      "cell_type": "code",
      "source": [
        "model.summary()"
      ],
      "metadata": {
        "colab": {
          "base_uri": "https://localhost:8080/"
        },
        "id": "fSR2HY7V6THl",
        "outputId": "e4662f3e-f39e-4195-af53-9b401a14d1dd"
      },
      "execution_count": 23,
      "outputs": [
        {
          "output_type": "stream",
          "name": "stdout",
          "text": [
            "Model: \"sequential\"\n",
            "_________________________________________________________________\n",
            " Layer (type)                Output Shape              Param #   \n",
            "=================================================================\n",
            " simple_rnn (SimpleRNN)      (None, 8)                 4072      \n",
            "                                                                 \n",
            " dense (Dense)               (None, 1)                 9         \n",
            "                                                                 \n",
            "=================================================================\n",
            "Total params: 4,081\n",
            "Trainable params: 4,081\n",
            "Non-trainable params: 0\n",
            "_________________________________________________________________\n"
          ]
        }
      ]
    },
    {
      "cell_type": "markdown",
      "source": [
        "SimpleRNN에 전달한 샘플의 크기는 (100, 500) 이지만 순환층은 마지막 타임스텝의 은닉상태만 출력함, 그래서 출력크기가 뉴런개수와 동일한 8임을 알 수 있음 \n",
        "\n",
        "모델 파라미터의 개수를 계산해보면 \n",
        "입력토큰은 500차원의 원-핫인코딩 배열, 이 배열이 순환층의 뉴런 8개와 완전히 연결되기 때문, 총 500 x 8 = 4000개의 가중치가 있다 \n",
        "순환층의 은닉 상태는 다시 다음 타임스텝에 사용되기 위해 또 다른 가중치와 곱햊ㄴ다 \n",
        "이 은닉 상태도 순환층의 뉴런과 완전히 연결되기 때문에 8(은닉 상태 크기) x 8(뉴런개수) = 64개의 가중치가 필요함 \n",
        "\n",
        "마지막으로 뉴런마다 하나의 절편이 있으므로 \n",
        "4000 + 64 + 8 = 4072개의 모델 파라미터가 필요 "
      ],
      "metadata": {
        "id": "_sIzfIAZ6Y10"
      }
    },
    {
      "cell_type": "markdown",
      "source": [
        "### 순환신경망 훈련하기\n",
        "\n",
        "\n",
        "기본 RMSprop의 학습률 0.0001을 사용하지 않기 위해 별도의 RMSprop 객체를 만들어 학습률을 0.0001로 지정, 그 다음 에포크의 횟수를 100으로 늘리고 배치 크기는 64개로 설정, 그 밖에 체크포인트와 조기 종료를 구성하는 코드는 거의 동일 "
      ],
      "metadata": {
        "id": "Wwb8sGC58Cai"
      }
    },
    {
      "cell_type": "code",
      "source": [
        "rmsprop = keras.optimizers.RMSprop(learning_rate=1e-4)\n",
        "model.compile(optimizer=rmsprop, loss='binary_crossentropy', \n",
        "              metrics=['accuracy'])\n",
        "checkpoint_cb = keras.callbacks.ModelCheckpoint('best-simpernn-model.h5', \n",
        "                                                save_best_only=True)\n",
        "early_stopping_cb = keras.callbacks.EarlyStopping(patience=3, \n",
        "                                                restore_best_weights=True)\n",
        "history= model.fit(train_oh, train_target, epochs=100, batch_size=64, \n",
        "                   validation_data=(val_oh, val_target),\n",
        "                   callbacks=[checkpoint_cb, early_stopping_cb])"
      ],
      "metadata": {
        "colab": {
          "base_uri": "https://localhost:8080/"
        },
        "id": "e3z6mYjt6W64",
        "outputId": "85cac09b-412b-4d4f-fa6d-412ebd768159"
      },
      "execution_count": 24,
      "outputs": [
        {
          "output_type": "stream",
          "name": "stdout",
          "text": [
            "Epoch 1/100\n",
            "313/313 [==============================] - 31s 86ms/step - loss: 0.7000 - accuracy: 0.4938 - val_loss: 0.6978 - val_accuracy: 0.4986\n",
            "Epoch 2/100\n",
            "313/313 [==============================] - 25s 79ms/step - loss: 0.6934 - accuracy: 0.5128 - val_loss: 0.6933 - val_accuracy: 0.5196\n",
            "Epoch 3/100\n",
            "313/313 [==============================] - 25s 79ms/step - loss: 0.6835 - accuracy: 0.5595 - val_loss: 0.6716 - val_accuracy: 0.5976\n",
            "Epoch 4/100\n",
            "313/313 [==============================] - 25s 78ms/step - loss: 0.6529 - accuracy: 0.6347 - val_loss: 0.6466 - val_accuracy: 0.6476\n",
            "Epoch 5/100\n",
            "313/313 [==============================] - 25s 81ms/step - loss: 0.6289 - accuracy: 0.6751 - val_loss: 0.6243 - val_accuracy: 0.6794\n",
            "Epoch 6/100\n",
            "313/313 [==============================] - 25s 79ms/step - loss: 0.6090 - accuracy: 0.6985 - val_loss: 0.6027 - val_accuracy: 0.7164\n",
            "Epoch 7/100\n",
            "313/313 [==============================] - 25s 79ms/step - loss: 0.5888 - accuracy: 0.7228 - val_loss: 0.5829 - val_accuracy: 0.7292\n",
            "Epoch 8/100\n",
            "313/313 [==============================] - 24s 78ms/step - loss: 0.5716 - accuracy: 0.7362 - val_loss: 0.5708 - val_accuracy: 0.7396\n",
            "Epoch 9/100\n",
            "313/313 [==============================] - 26s 82ms/step - loss: 0.5565 - accuracy: 0.7501 - val_loss: 0.5585 - val_accuracy: 0.7412\n",
            "Epoch 10/100\n",
            "313/313 [==============================] - 25s 80ms/step - loss: 0.5433 - accuracy: 0.7563 - val_loss: 0.5450 - val_accuracy: 0.7550\n",
            "Epoch 11/100\n",
            "313/313 [==============================] - 25s 79ms/step - loss: 0.5310 - accuracy: 0.7630 - val_loss: 0.5345 - val_accuracy: 0.7600\n",
            "Epoch 12/100\n",
            "313/313 [==============================] - 24s 78ms/step - loss: 0.5198 - accuracy: 0.7696 - val_loss: 0.5264 - val_accuracy: 0.7620\n",
            "Epoch 13/100\n",
            "313/313 [==============================] - 25s 79ms/step - loss: 0.5094 - accuracy: 0.7756 - val_loss: 0.5206 - val_accuracy: 0.7662\n",
            "Epoch 14/100\n",
            "313/313 [==============================] - 25s 78ms/step - loss: 0.4995 - accuracy: 0.7804 - val_loss: 0.5094 - val_accuracy: 0.7698\n",
            "Epoch 15/100\n",
            "313/313 [==============================] - 25s 81ms/step - loss: 0.4903 - accuracy: 0.7865 - val_loss: 0.5040 - val_accuracy: 0.7716\n",
            "Epoch 16/100\n",
            "313/313 [==============================] - 25s 80ms/step - loss: 0.4822 - accuracy: 0.7893 - val_loss: 0.4974 - val_accuracy: 0.7770\n",
            "Epoch 17/100\n",
            "313/313 [==============================] - 25s 80ms/step - loss: 0.4746 - accuracy: 0.7930 - val_loss: 0.4914 - val_accuracy: 0.7758\n",
            "Epoch 18/100\n",
            "313/313 [==============================] - 25s 80ms/step - loss: 0.4686 - accuracy: 0.7968 - val_loss: 0.4876 - val_accuracy: 0.7774\n",
            "Epoch 19/100\n",
            "313/313 [==============================] - 25s 80ms/step - loss: 0.4621 - accuracy: 0.7988 - val_loss: 0.4810 - val_accuracy: 0.7782\n",
            "Epoch 20/100\n",
            "313/313 [==============================] - 25s 81ms/step - loss: 0.4565 - accuracy: 0.8011 - val_loss: 0.4815 - val_accuracy: 0.7770\n",
            "Epoch 21/100\n",
            "313/313 [==============================] - 26s 83ms/step - loss: 0.4514 - accuracy: 0.8052 - val_loss: 0.4745 - val_accuracy: 0.7806\n",
            "Epoch 22/100\n",
            "313/313 [==============================] - 25s 80ms/step - loss: 0.4466 - accuracy: 0.8065 - val_loss: 0.4706 - val_accuracy: 0.7828\n",
            "Epoch 23/100\n",
            "313/313 [==============================] - 25s 79ms/step - loss: 0.4428 - accuracy: 0.8069 - val_loss: 0.4701 - val_accuracy: 0.7830\n",
            "Epoch 24/100\n",
            "313/313 [==============================] - 25s 79ms/step - loss: 0.4389 - accuracy: 0.8085 - val_loss: 0.4659 - val_accuracy: 0.7882\n",
            "Epoch 25/100\n",
            "313/313 [==============================] - 24s 78ms/step - loss: 0.4352 - accuracy: 0.8085 - val_loss: 0.4655 - val_accuracy: 0.7862\n",
            "Epoch 26/100\n",
            "313/313 [==============================] - 25s 81ms/step - loss: 0.4327 - accuracy: 0.8095 - val_loss: 0.4642 - val_accuracy: 0.7820\n",
            "Epoch 27/100\n",
            "313/313 [==============================] - 24s 78ms/step - loss: 0.4294 - accuracy: 0.8104 - val_loss: 0.4607 - val_accuracy: 0.7874\n",
            "Epoch 28/100\n",
            "313/313 [==============================] - 25s 79ms/step - loss: 0.4268 - accuracy: 0.8117 - val_loss: 0.4611 - val_accuracy: 0.7870\n",
            "Epoch 29/100\n",
            "313/313 [==============================] - 24s 78ms/step - loss: 0.4244 - accuracy: 0.8127 - val_loss: 0.4598 - val_accuracy: 0.7852\n",
            "Epoch 30/100\n",
            "313/313 [==============================] - 24s 78ms/step - loss: 0.4220 - accuracy: 0.8138 - val_loss: 0.4595 - val_accuracy: 0.7844\n",
            "Epoch 31/100\n",
            "313/313 [==============================] - 25s 80ms/step - loss: 0.4196 - accuracy: 0.8150 - val_loss: 0.4567 - val_accuracy: 0.7888\n",
            "Epoch 32/100\n",
            "313/313 [==============================] - 25s 79ms/step - loss: 0.4171 - accuracy: 0.8160 - val_loss: 0.4641 - val_accuracy: 0.7876\n",
            "Epoch 33/100\n",
            "313/313 [==============================] - 25s 79ms/step - loss: 0.4152 - accuracy: 0.8170 - val_loss: 0.4569 - val_accuracy: 0.7874\n",
            "Epoch 34/100\n",
            "313/313 [==============================] - 25s 81ms/step - loss: 0.4137 - accuracy: 0.8172 - val_loss: 0.4549 - val_accuracy: 0.7902\n",
            "Epoch 35/100\n",
            "313/313 [==============================] - 25s 78ms/step - loss: 0.4120 - accuracy: 0.8188 - val_loss: 0.4555 - val_accuracy: 0.7872\n",
            "Epoch 36/100\n",
            "313/313 [==============================] - 24s 78ms/step - loss: 0.4108 - accuracy: 0.8198 - val_loss: 0.4575 - val_accuracy: 0.7874\n",
            "Epoch 37/100\n",
            "313/313 [==============================] - 25s 81ms/step - loss: 0.4090 - accuracy: 0.8199 - val_loss: 0.4577 - val_accuracy: 0.7872\n"
          ]
        }
      ]
    },
    {
      "cell_type": "code",
      "source": [
        "plt.plot(history.history['loss'])\n",
        "plt.plot(history.history['val_loss'])\n",
        "plt.xlabel('epoch')\n",
        "plt.ylabel('loss')\n",
        "plt.legend(['train', 'val'])\n",
        "plt.show()"
      ],
      "metadata": {
        "colab": {
          "base_uri": "https://localhost:8080/",
          "height": 279
        },
        "id": "YxGexLUH9S-M",
        "outputId": "5de2f72b-1407-4f62-ab67-92cff22346bd"
      },
      "execution_count": 25,
      "outputs": [
        {
          "output_type": "display_data",
          "data": {
            "text/plain": [
              "<Figure size 432x288 with 1 Axes>"
            ],
            "image/png": "[encoded data removed]"
          },
          "metadata": {
            "needs_background": "light"
          }
        }
      ]
    },
    {
      "cell_type": "markdown",
      "source": [
        "손실은 꾸준히 감소하고 있지만 검증 손실은 대략 스무 번째 에포크에서 감소가 둔해지고 있다."
      ],
      "metadata": {
        "id": "0BQNF666mxSI"
      }
    },
    {
      "cell_type": "code",
      "source": [
        "model2 = keras.Sequential()\n",
        "model2.add(keras.layers.Embedding(500, 16, input_length=100))\n",
        "model2.add(keras.layers.SimpleRNN(8))\n",
        "model2.add(keras.layers.Dense(1, activation='sigmoid'))"
      ],
      "metadata": {
        "id": "dNBVo0Psi4CM"
      },
      "execution_count": 26,
      "outputs": []
    },
    {
      "cell_type": "markdown",
      "source": [
        "Embedding 클래스의 첫 번째 매개변수(500)는 어휘 사전의 크기이다. imdb.load_data(num_words=500)과 같이 설정했기 때문에 매개변수의 값을 500으로 지정 \n",
        "\n",
        "두 번째 매개변수(16)는 임베딩 벡터의 크기, 여기에서는 원-핫 인코딩 보다 훨씬 작은 크기(16)의 벡터를 사용했음 \n",
        "\n",
        "세 번째 input_length 매개변수는 입력 시퀀스의 길이로 앞서 샘플의 길이를 100으로 맞추어 train_seq를 만들었고 따라서 이 값을 100으로 지정하였음 \n",
        "\n",
        "그 다음 SimpleRNN 층과 Dense 층은 이전과 동일 "
      ],
      "metadata": {
        "id": "L90Hl7wqnbxZ"
      }
    },
    {
      "cell_type": "code",
      "source": [
        "model2.summary()"
      ],
      "metadata": {
        "colab": {
          "base_uri": "https://localhost:8080/"
        },
        "id": "sZABr1u7namE",
        "outputId": "4f1f3b1b-50bc-4583-aab2-f441fcb5e020"
      },
      "execution_count": 27,
      "outputs": [
        {
          "output_type": "stream",
          "name": "stdout",
          "text": [
            "Model: \"sequential_1\"\n",
            "_________________________________________________________________\n",
            " Layer (type)                Output Shape              Param #   \n",
            "=================================================================\n",
            " embedding (Embedding)       (None, 100, 16)           8000      \n",
            "                                                                 \n",
            " simple_rnn_1 (SimpleRNN)    (None, 8)                 200       \n",
            "                                                                 \n",
            " dense_1 (Dense)             (None, 1)                 9         \n",
            "                                                                 \n",
            "=================================================================\n",
            "Total params: 8,209\n",
            "Trainable params: 8,209\n",
            "Non-trainable params: 0\n",
            "_________________________________________________________________\n"
          ]
        }
      ]
    },
    {
      "cell_type": "markdown",
      "source": [
        "summary() 메서드의 출력에서 알 수 있듯, 모델은 (100,) 크기의 입력을 받아 (100, 16)크기의 출력을 만든다. 이 모델에서 사용되는 모델 파라미터 개수를 계산 \n",
        "\n",
        "Embedding 클래스는 500개의 각 토큰의 크기가 16인 벡터로 변경하기 때문에 500 x 16= 8,000개의 모델 파라미터를 가짐, 그 다음 SimpleRNN 층은 임베딩 벡터의 크기가 16이므로 8개의 뉴런과 곱하기 위해 필요한 가중치가 16 x 8 = 128개를 가짐, 또한 은닉 상태에 곱해지는 가중치 8 x 8 = 64개가 있음 \n",
        "마지막으로 8개의 절편이 있으므로 이 순환층에 있는 전체 모델 파라미터 개수는 128 + 64 + 8 = 200개입니다. \n",
        "\n",
        "마지막 Dense 층의 가중치 개수는 이전과 동일하게 9개 입니다. "
      ],
      "metadata": {
        "id": "nNmBHWHioM1C"
      }
    },
    {
      "cell_type": "code",
      "source": [
        "rmsprop = keras.optimizers.RMSprop(learning_rate=1e-4)\n",
        "model2.compile(optimizer=rmsprop, loss='binary_crossentropy', \n",
        "               metrics=['accuracy'])\n",
        "\n",
        "checkpoint_cb = keras.callbacks.ModelCheckpoint('best-embedding-model.h5', \n",
        "                                                save_best_only=True)\n",
        "early_stopping_cb = keras.callbacks.EarlyStopping(patience=3,\n",
        "                                                  restore_best_weights=True)\n",
        "\n",
        "history = model2.fit(train_seq, train_target, epochs=100, batch_size=64,\n",
        "                     validation_data=(val_seq, val_target),\n",
        "                     callbacks=[checkpoint_cb, early_stopping_cb])"
      ],
      "metadata": {
        "colab": {
          "base_uri": "https://localhost:8080/"
        },
        "id": "10H-t_AZoLWI",
        "outputId": "b58ae582-3131-4d99-f88c-c6190806f08a"
      },
      "execution_count": 28,
      "outputs": [
        {
          "output_type": "stream",
          "name": "stdout",
          "text": [
            "Epoch 1/100\n",
            "313/313 [==============================] - 32s 99ms/step - loss: 0.6972 - accuracy: 0.5092 - val_loss: 0.6939 - val_accuracy: 0.5186\n",
            "Epoch 2/100\n",
            "313/313 [==============================] - 31s 100ms/step - loss: 0.6815 - accuracy: 0.5670 - val_loss: 0.6635 - val_accuracy: 0.6250\n",
            "Epoch 3/100\n",
            "313/313 [==============================] - 30s 96ms/step - loss: 0.6387 - accuracy: 0.6775 - val_loss: 0.6246 - val_accuracy: 0.6970\n",
            "Epoch 4/100\n",
            "313/313 [==============================] - 30s 97ms/step - loss: 0.6063 - accuracy: 0.7204 - val_loss: 0.5984 - val_accuracy: 0.7336\n",
            "Epoch 5/100\n",
            "313/313 [==============================] - 31s 98ms/step - loss: 0.5793 - accuracy: 0.7479 - val_loss: 0.5751 - val_accuracy: 0.7480\n",
            "Epoch 6/100\n",
            "313/313 [==============================] - 30s 95ms/step - loss: 0.5561 - accuracy: 0.7633 - val_loss: 0.5574 - val_accuracy: 0.7590\n",
            "Epoch 7/100\n",
            "313/313 [==============================] - 31s 98ms/step - loss: 0.5364 - accuracy: 0.7735 - val_loss: 0.5418 - val_accuracy: 0.7580\n",
            "Epoch 8/100\n",
            "313/313 [==============================] - 31s 98ms/step - loss: 0.5194 - accuracy: 0.7789 - val_loss: 0.5264 - val_accuracy: 0.7762\n",
            "Epoch 9/100\n",
            "313/313 [==============================] - 30s 97ms/step - loss: 0.5043 - accuracy: 0.7885 - val_loss: 0.5140 - val_accuracy: 0.7762\n",
            "Epoch 10/100\n",
            "313/313 [==============================] - 30s 96ms/step - loss: 0.4912 - accuracy: 0.7939 - val_loss: 0.5065 - val_accuracy: 0.7732\n",
            "Epoch 11/100\n",
            "313/313 [==============================] - 31s 99ms/step - loss: 0.4793 - accuracy: 0.7982 - val_loss: 0.4959 - val_accuracy: 0.7834\n",
            "Epoch 12/100\n",
            "313/313 [==============================] - 30s 96ms/step - loss: 0.4690 - accuracy: 0.8019 - val_loss: 0.4914 - val_accuracy: 0.7842\n",
            "Epoch 13/100\n",
            "313/313 [==============================] - 30s 95ms/step - loss: 0.4598 - accuracy: 0.8022 - val_loss: 0.4814 - val_accuracy: 0.7866\n",
            "Epoch 14/100\n",
            "313/313 [==============================] - 31s 100ms/step - loss: 0.4522 - accuracy: 0.8063 - val_loss: 0.4786 - val_accuracy: 0.7846\n",
            "Epoch 15/100\n",
            "313/313 [==============================] - 31s 98ms/step - loss: 0.4451 - accuracy: 0.8084 - val_loss: 0.4752 - val_accuracy: 0.7834\n",
            "Epoch 16/100\n",
            "313/313 [==============================] - 30s 96ms/step - loss: 0.4382 - accuracy: 0.8106 - val_loss: 0.4729 - val_accuracy: 0.7830\n",
            "Epoch 17/100\n",
            "313/313 [==============================] - 30s 95ms/step - loss: 0.4336 - accuracy: 0.8117 - val_loss: 0.4645 - val_accuracy: 0.7896\n",
            "Epoch 18/100\n",
            "313/313 [==============================] - 30s 97ms/step - loss: 0.4290 - accuracy: 0.8128 - val_loss: 0.4615 - val_accuracy: 0.7918\n",
            "Epoch 19/100\n",
            "313/313 [==============================] - 30s 96ms/step - loss: 0.4244 - accuracy: 0.8158 - val_loss: 0.4594 - val_accuracy: 0.7948\n",
            "Epoch 20/100\n",
            "313/313 [==============================] - 31s 100ms/step - loss: 0.4203 - accuracy: 0.8170 - val_loss: 0.4736 - val_accuracy: 0.7796\n",
            "Epoch 21/100\n",
            "313/313 [==============================] - 30s 95ms/step - loss: 0.4170 - accuracy: 0.8188 - val_loss: 0.4612 - val_accuracy: 0.7914\n",
            "Epoch 22/100\n",
            "313/313 [==============================] - 30s 95ms/step - loss: 0.4134 - accuracy: 0.8211 - val_loss: 0.4772 - val_accuracy: 0.7776\n"
          ]
        }
      ]
    },
    {
      "cell_type": "markdown",
      "source": [
        "출력 결과를 보면 원-핫 인코딩을 사용한 모델과 비슷한 성능을 냈음, 반면 순환층의 가중치 개수는 훨씬 작고 훈련 세트 크기도 훨씬 줄어듦"
      ],
      "metadata": {
        "id": "fnjDXpZzqXm4"
      }
    },
    {
      "cell_type": "code",
      "source": [
        "plt.plot(history.history['loss'])\n",
        "plt.plot(history.history['val_loss'])\n",
        "plt.xlabel('epoch')\n",
        "plt.ylabel('loss')\n",
        "plt.legend(['train','val'])\n",
        "plt.show()"
      ],
      "metadata": {
        "colab": {
          "base_uri": "https://localhost:8080/",
          "height": 279
        },
        "id": "pcbyDc1rpyoc",
        "outputId": "a4116b6a-d61d-4459-dd35-a4915c2e1af8"
      },
      "execution_count": 29,
      "outputs": [
        {
          "output_type": "display_data",
          "data": {
            "text/plain": [
              "<Figure size 432x288 with 1 Axes>"
            ],
            "image/png": "[encoded data removed]"
          },
          "metadata": {
            "needs_background": "light"
          }
        }
      ]
    },
    {
      "cell_type": "markdown",
      "source": [
        "훈련 손실과 검증손실을 그래프로 출력해보았는데 검증 손실이 더 감소하지 않아 훈련이 적절히 조기종료되었음"
      ],
      "metadata": {
        "id": "5x8G4VXmqH6K"
      }
    }
  ]
}