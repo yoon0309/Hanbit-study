{
  "nbformat": 4,
  "nbformat_minor": 0,
  "metadata": {
    "colab": {
      "name": "혼공학습단 1주차 chapter 2.1",
      "provenance": [],
      "authorship_tag": "ABX9TyNpXZMQoy9QGMIoJ4MAec7O",
      "include_colab_link": true
    },
    "kernelspec": {
      "name": "python3",
      "display_name": "Python 3"
    },
    "language_info": {
      "name": "python"
    }
  },
  "cells": [
    {
      "cell_type": "markdown",
      "metadata": {
        "id": "view-in-github",
        "colab_type": "text"
      },
      "source": [
        "<a href=\"https://colab.research.google.com/github/yoon0309/machine-deep-study/blob/main/%ED%98%BC%EA%B3%B5%ED%95%99%EC%8A%B5%EB%8B%A8_1%EC%A3%BC%EC%B0%A8_chapter_2_1.ipynb\" target=\"_parent\"><img src=\"https://colab.research.google.com/assets/colab-badge.svg\" alt=\"Open In Colab\"/></a>"
      ]
    },
    {
      "cell_type": "markdown",
      "source": [
        "#혼공학습단 1주차\n",
        "\n",
        "chapter 2.1"
      ],
      "metadata": {
        "id": "UbWEwn2hlRR6"
      }
    },
    {
      "cell_type": "code",
      "execution_count": 5,
      "metadata": {
        "id": "R7qnvNYIlHZ_"
      },
      "outputs": [],
      "source": [
        "fish_length = [25.4, 26.3, 26.5, 29.0, 29.0, 29.7, 29.7, 30.0, 30.0, 30.7, 31.0, 31.0, \n",
        "                31.5, 32.0, 32.0, 32.0, 33.0, 33.0, 33.5, 33.5, 34.0, 34.0, 34.5, 35.0, \n",
        "                35.0, 35.0, 35.0, 36.0, 36.0, 37.0, 38.5, 38.5, 39.5, 41.0, 41.0, 9.8, \n",
        "                10.5, 10.6, 11.0, 11.2, 11.3, 11.8, 11.8, 12.0, 12.2, 12.4, 13.0, 14.3, 15.0]\n",
        "fish_weight = [242.0, 290.0, 340.0, 363.0, 430.0, 450.0, 500.0, 390.0, 450.0, 500.0, 475.0, 500.0, \n",
        "                500.0, 340.0, 600.0, 600.0, 700.0, 700.0, 610.0, 650.0, 575.0, 685.0, 620.0, 680.0, \n",
        "                700.0, 725.0, 720.0, 714.0, 850.0, 1000.0, 920.0, 955.0, 925.0, 975.0, 950.0, 6.7, \n",
        "                7.5, 7.0, 9.7, 9.8, 8.7, 10.0, 9.9, 9.8, 12.2, 13.4, 12.2, 19.7, 19.9]"
      ]
    },
    {
      "cell_type": "markdown",
      "source": [
        "도미와 빙어는 각각 35마리, 14마리로 전체데이터는 49개의 샘플이 존재"
      ],
      "metadata": {
        "id": "OBltgvXglzg9"
      }
    },
    {
      "cell_type": "code",
      "source": [
        "fish_data= [[l,w] for l, w in zip(fish_length,fish_weight)]\n",
        "fish_target= [1]*35 + [0]*14"
      ],
      "metadata": {
        "id": "384RiKBDlble"
      },
      "execution_count": 6,
      "outputs": []
    },
    {
      "cell_type": "code",
      "source": [
        "#사이킷런의 KNeighborsClassifier 클래스를 임포트 \n",
        "from sklearn.neighbors import KNeighborsClassifier\n",
        "#모델 객체를 만들기 \n",
        "kn= KNeighborsClassifier()"
      ],
      "metadata": {
        "id": "v0N-hG4RmyVE"
      },
      "execution_count": 7,
      "outputs": []
    },
    {
      "cell_type": "code",
      "source": [
        "#fish_data의 다섯 번째 샘플을 출력해보기 \n",
        "print(fish_data[4])"
      ],
      "metadata": {
        "colab": {
          "base_uri": "https://localhost:8080/"
        },
        "id": "y0NjtZvYnIFZ",
        "outputId": "1816ccdb-3bde-405f-e02c-a983194b7239"
      },
      "execution_count": 8,
      "outputs": [
        {
          "output_type": "stream",
          "name": "stdout",
          "text": [
            "[29.0, 430.0]\n"
          ]
        }
      ]
    },
    {
      "cell_type": "code",
      "source": [
        "#슬라이싱을 이용하여 첫번째부터 다섯번째까지의 샘플을 선택 \n",
        "print(fish_data[0:5])"
      ],
      "metadata": {
        "colab": {
          "base_uri": "https://localhost:8080/"
        },
        "id": "-CW4jhtNnQer",
        "outputId": "3b2d440d-9672-42d7-cd83-4cd9d15d56f3"
      },
      "execution_count": 9,
      "outputs": [
        {
          "output_type": "stream",
          "name": "stdout",
          "text": [
            "[[25.4, 242.0], [26.3, 290.0], [26.5, 340.0], [29.0, 363.0], [29.0, 430.0]]\n"
          ]
        }
      ]
    },
    {
      "cell_type": "code",
      "source": [
        "print(fish_data[:5])"
      ],
      "metadata": {
        "colab": {
          "base_uri": "https://localhost:8080/"
        },
        "id": "mk0KSjlBnaw6",
        "outputId": "ec23d5af-5236-4e29-9aaf-d4cf3f8484cd"
      },
      "execution_count": 10,
      "outputs": [
        {
          "output_type": "stream",
          "name": "stdout",
          "text": [
            "[[25.4, 242.0], [26.3, 290.0], [26.5, 340.0], [29.0, 363.0], [29.0, 430.0]]\n"
          ]
        }
      ]
    },
    {
      "cell_type": "code",
      "source": [
        "#fish_data의 44번째부터 마지막 인덱스까지 출력 \n",
        "print(fish_data[44:])"
      ],
      "metadata": {
        "colab": {
          "base_uri": "https://localhost:8080/"
        },
        "id": "uVnn0fqxoTOy",
        "outputId": "71418bec-8c72-490c-e7c8-49fc292447d2"
      },
      "execution_count": 11,
      "outputs": [
        {
          "output_type": "stream",
          "name": "stdout",
          "text": [
            "[[12.2, 12.2], [12.4, 13.4], [13.0, 12.2], [14.3, 19.7], [15.0, 19.9]]\n"
          ]
        }
      ]
    },
    {
      "cell_type": "code",
      "source": [
        "#훈련 세트로 입력값 중 0부터 34번째 인덱스까지 사용 \n",
        "train_input= fish_data[:35]\n",
        "#훈련 세트로 타깃값 중 0부터 34번째 인덱스까지 사용 \n",
        "train_target= fish_target[:35]\n",
        "#테스트 세트로 입력값 중 35번째부터 마지막 인덱스까지 사용 \n",
        "test_input = fish_data[35:]\n",
        "#테스트 세트로 타깃값 중 35번째부터 마지막 인덱스까지 사용 \n",
        "test_target= fish_target[35:]"
      ],
      "metadata": {
        "id": "FqkbqpzWomKo"
      },
      "execution_count": 13,
      "outputs": []
    },
    {
      "cell_type": "code",
      "source": [
        "#훈련세트로 fit()호출하여 모델을 훈련 \n",
        "kn = kn.fit(train_input, train_target)\n",
        "#score()메서드를 통해 평가\n",
        "kn.score(test_input, test_target)"
      ],
      "metadata": {
        "colab": {
          "base_uri": "https://localhost:8080/"
        },
        "id": "WquSjP91pJuz",
        "outputId": "01663d93-6305-4b6a-89f1-f8b5f620476f"
      },
      "execution_count": 14,
      "outputs": [
        {
          "output_type": "execute_result",
          "data": {
            "text/plain": [
              "0.0"
            ]
          },
          "metadata": {},
          "execution_count": 14
        }
      ]
    },
    {
      "cell_type": "markdown",
      "source": [
        "샘플링 편향이 일어났기 때문에 score가 0.0이 출력되었다.\n",
        "\n",
        "> 특정 종류의 샘플이 과도하게 많은 샘플링 편향을 가지고 있었기 때문에 제대로된 지도학습 모델을 만들 수 없었음\n"
      ],
      "metadata": {
        "id": "vXQh06bmpfzd"
      }
    },
    {
      "cell_type": "code",
      "source": [
        "#Numpy를 불러오기 \n",
        "import numpy as np"
      ],
      "metadata": {
        "id": "y_TH8UMPqtDD"
      },
      "execution_count": 15,
      "outputs": []
    },
    {
      "cell_type": "code",
      "source": [
        "#파이썬 리스트를 넘파이 배열로 바꾸기 \n",
        "input_arr= np.array(fish_data)\n",
        "target_arr= np.array(fish_target)\n",
        "\n",
        "#input_arr배열을 출력하기 \n",
        "print(input_arr)"
      ],
      "metadata": {
        "colab": {
          "base_uri": "https://localhost:8080/"
        },
        "id": "cOO3QQ-tqzXn",
        "outputId": "944b09eb-a950-4b4a-8a98-ff6094617c85"
      },
      "execution_count": 17,
      "outputs": [
        {
          "output_type": "stream",
          "name": "stdout",
          "text": [
            "[[  25.4  242. ]\n",
            " [  26.3  290. ]\n",
            " [  26.5  340. ]\n",
            " [  29.   363. ]\n",
            " [  29.   430. ]\n",
            " [  29.7  450. ]\n",
            " [  29.7  500. ]\n",
            " [  30.   390. ]\n",
            " [  30.   450. ]\n",
            " [  30.7  500. ]\n",
            " [  31.   475. ]\n",
            " [  31.   500. ]\n",
            " [  31.5  500. ]\n",
            " [  32.   340. ]\n",
            " [  32.   600. ]\n",
            " [  32.   600. ]\n",
            " [  33.   700. ]\n",
            " [  33.   700. ]\n",
            " [  33.5  610. ]\n",
            " [  33.5  650. ]\n",
            " [  34.   575. ]\n",
            " [  34.   685. ]\n",
            " [  34.5  620. ]\n",
            " [  35.   680. ]\n",
            " [  35.   700. ]\n",
            " [  35.   725. ]\n",
            " [  35.   720. ]\n",
            " [  36.   714. ]\n",
            " [  36.   850. ]\n",
            " [  37.  1000. ]\n",
            " [  38.5  920. ]\n",
            " [  38.5  955. ]\n",
            " [  39.5  925. ]\n",
            " [  41.   975. ]\n",
            " [  41.   950. ]\n",
            " [   9.8    6.7]\n",
            " [  10.5    7.5]\n",
            " [  10.6    7. ]\n",
            " [  11.     9.7]\n",
            " [  11.2    9.8]\n",
            " [  11.3    8.7]\n",
            " [  11.8   10. ]\n",
            " [  11.8    9.9]\n",
            " [  12.     9.8]\n",
            " [  12.2   12.2]\n",
            " [  12.4   13.4]\n",
            " [  13.    12.2]\n",
            " [  14.3   19.7]\n",
            " [  15.    19.9]]\n"
          ]
        }
      ]
    },
    {
      "cell_type": "code",
      "source": [
        "#input_arr의 샘플 수, 특성 수를 출력하기 \n",
        "print(input_arr.shape)"
      ],
      "metadata": {
        "colab": {
          "base_uri": "https://localhost:8080/"
        },
        "id": "jUF2nCW1rCoy",
        "outputId": "00344bcf-4a2e-40e7-d26e-ff07442f0054"
      },
      "execution_count": 18,
      "outputs": [
        {
          "output_type": "stream",
          "name": "stdout",
          "text": [
            "(49, 2)\n"
          ]
        }
      ]
    },
    {
      "cell_type": "code",
      "source": [
        "#일정한 결과를 얻기 위하여 랜덤시드를 설정\n",
        "np.random.seed(42)\n",
        "#넘파이 arrange를 통해 0에서부터 49까지 1씩 증가하는 배열 만듦 \n",
        "index = np.arange(49)\n",
        "#shuffle()함수를 통해 배열을 무작위로 섞는다 \n",
        "np.random.shuffle(index)"
      ],
      "metadata": {
        "id": "O3TxhD9rrdLn"
      },
      "execution_count": 21,
      "outputs": []
    },
    {
      "cell_type": "code",
      "source": [
        "#index를 출력하기\n",
        "print(index)"
      ],
      "metadata": {
        "colab": {
          "base_uri": "https://localhost:8080/"
        },
        "id": "2ElH3E7tsDr_",
        "outputId": "3d452cd6-3356-441e-96b9-bdb791f7dc53"
      },
      "execution_count": 22,
      "outputs": [
        {
          "output_type": "stream",
          "name": "stdout",
          "text": [
            "[13 45 47 44 17 27 26 25 31 19 12  4 34  8  3  6 40 41 46 15  9 16 24 33\n",
            " 30  0 43 32  5 29 11 36  1 21  2 37 35 23 39 10 22 18 48 20  7 42 14 28\n",
            " 38]\n"
          ]
        }
      ]
    },
    {
      "cell_type": "code",
      "source": [
        "#배열인덱싱\n",
        "#1개의 인덱스가 아닌 여러개의 인덱스로 한번에 여러 개의 원소를 선택할 수 있음 \n",
        "\n",
        "print(input_arr[[1,3]])"
      ],
      "metadata": {
        "colab": {
          "base_uri": "https://localhost:8080/"
        },
        "id": "kDERW2mdsNqW",
        "outputId": "3176951f-de2f-47d8-8ee3-d2a1ba18fc87"
      },
      "execution_count": 23,
      "outputs": [
        {
          "output_type": "stream",
          "name": "stdout",
          "text": [
            "[[ 26.3 290. ]\n",
            " [ 29.  363. ]]\n"
          ]
        }
      ]
    },
    {
      "cell_type": "code",
      "source": [
        "#리스트 대신 넘파이 배열을 인덱스로 전달하여 랜덤하게 35개의 샘플을 훈련세트로 만듦 \n",
        "\n",
        "train_input= input_arr[index[:35]]\n",
        "train_target= target_arr[index[:35]]"
      ],
      "metadata": {
        "id": "NoVh2UmQsXoz"
      },
      "execution_count": 24,
      "outputs": []
    },
    {
      "cell_type": "code",
      "source": [
        "#만들어진 index의 첫 번째 값은 13, \n",
        "#train_input의 첫 번째 원소는 input_arr의 열 네번째 원소가 들어있다. \n",
        "print(input_arr[13], train_input[0])"
      ],
      "metadata": {
        "colab": {
          "base_uri": "https://localhost:8080/"
        },
        "id": "JJigF5RDsoE5",
        "outputId": "72c65285-07e5-4fbe-c2e5-1f79fe94bf2e"
      },
      "execution_count": 25,
      "outputs": [
        {
          "output_type": "stream",
          "name": "stdout",
          "text": [
            "[ 32. 340.] [ 32. 340.]\n"
          ]
        }
      ]
    },
    {
      "cell_type": "code",
      "source": [
        "test_input= input_arr[index[35:]]\n",
        "test_target=target_arr[index[35:]]"
      ],
      "metadata": {
        "id": "1UfCJizTtNwK"
      },
      "execution_count": 27,
      "outputs": []
    },
    {
      "cell_type": "code",
      "source": [
        "#시각화\n",
        "import matplotlib.pyplot as plt\n",
        "plt.scatter(train_input[:,0], train_input[:,1])\n",
        "plt.scatter(test_input[:,0], test_input[:,1])\n",
        "plt.xlabel('length')\n",
        "plt.ylabel('weight')\n",
        "plt.show()"
      ],
      "metadata": {
        "colab": {
          "base_uri": "https://localhost:8080/",
          "height": 279
        },
        "id": "rbV-GnKCteCP",
        "outputId": "d1084c2c-16b4-451a-894b-bacda0ea5924"
      },
      "execution_count": 28,
      "outputs": [
        {
          "output_type": "display_data",
          "data": {
            "text/plain": [
              "<Figure size 432x288 with 1 Axes>"
            ],
            "image/png": "[encoded data removed]"
          },
          "metadata": {
            "needs_background": "light"
          }
        }
      ]
    },
    {
      "cell_type": "markdown",
      "source": [
        "파란색이 훈련세트, 주황색이 테스트 세트\n",
        "양쪽에 도미와 빙어가 모두 섞여 있음"
      ],
      "metadata": {
        "id": "G0nn75O4t7ab"
      }
    },
    {
      "cell_type": "code",
      "source": [
        "###k-최근접 이웃 모델을 훈련시켜보기 \n",
        "\n",
        "#train_input,target 훈련 \n",
        "kn= kn.fit(train_input, train_target)"
      ],
      "metadata": {
        "id": "ZHeAXOYHuBFk"
      },
      "execution_count": 30,
      "outputs": []
    },
    {
      "cell_type": "code",
      "source": [
        "#score()메서드를 통해 평가\n",
        "kn.score(test_input, test_target)"
      ],
      "metadata": {
        "colab": {
          "base_uri": "https://localhost:8080/"
        },
        "id": "cPOwFS9DuWHe",
        "outputId": "7f4d08d4-65f3-4016-c2cd-c4d7d0da8db5"
      },
      "execution_count": 32,
      "outputs": [
        {
          "output_type": "execute_result",
          "data": {
            "text/plain": [
              "1.0"
            ]
          },
          "metadata": {},
          "execution_count": 32
        }
      ]
    },
    {
      "cell_type": "code",
      "source": [
        "#predict()메서드를 통해 테스트 세트와 예측 결과와 실제 타깃을 확인 \n",
        "kn.predict(test_input)"
      ],
      "metadata": {
        "colab": {
          "base_uri": "https://localhost:8080/"
        },
        "id": "GvBDXeNiuWAt",
        "outputId": "a51aa7b4-df4b-464f-d81c-48244ca8606b"
      },
      "execution_count": 33,
      "outputs": [
        {
          "output_type": "execute_result",
          "data": {
            "text/plain": [
              "array([0, 0, 1, 0, 1, 1, 1, 0, 1, 1, 0, 1, 1, 0])"
            ]
          },
          "metadata": {},
          "execution_count": 33
        }
      ]
    },
    {
      "cell_type": "code",
      "source": [
        "test_target"
      ],
      "metadata": {
        "colab": {
          "base_uri": "https://localhost:8080/"
        },
        "id": "qgNWTsTVuuLi",
        "outputId": "f6436956-9d3a-413f-aca0-09c602069a74"
      },
      "execution_count": 34,
      "outputs": [
        {
          "output_type": "execute_result",
          "data": {
            "text/plain": [
              "array([0, 0, 1, 0, 1, 1, 1, 0, 1, 1, 0, 1, 1, 0])"
            ]
          },
          "metadata": {},
          "execution_count": 34
        }
      ]
    },
    {
      "cell_type": "markdown",
      "source": [
        "테스트 세트에 대한 예측 결과가 정답과 일치하고있기에 잘 된 것을 확인할 수 있음"
      ],
      "metadata": {
        "id": "LVnorc9Ku7Qw"
      }
    }
  ]
}